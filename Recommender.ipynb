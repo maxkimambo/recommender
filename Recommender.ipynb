{
 "cells": [
  {
   "cell_type": "code",
   "execution_count": 1,
   "metadata": {
    "collapsed": false
   },
   "outputs": [],
   "source": [
    "from Worker import Worker"
   ]
  },
  {
   "cell_type": "code",
   "execution_count": 2,
   "metadata": {
    "collapsed": true
   },
   "outputs": [],
   "source": [
    "import pandas as pd"
   ]
  },
  {
   "cell_type": "code",
   "execution_count": 3,
   "metadata": {
    "collapsed": true
   },
   "outputs": [],
   "source": [
    "import matplotlib.pyplot as plt"
   ]
  },
  {
   "cell_type": "code",
   "execution_count": 4,
   "metadata": {
    "collapsed": true
   },
   "outputs": [],
   "source": [
    "import numpy as np"
   ]
  },
  {
   "cell_type": "code",
   "execution_count": 5,
   "metadata": {
    "collapsed": false
   },
   "outputs": [],
   "source": [
    "worker = Worker()"
   ]
  },
  {
   "cell_type": "code",
   "execution_count": 6,
   "metadata": {
    "collapsed": false
   },
   "outputs": [
    {
     "name": "stdout",
     "output_type": "stream",
     "text": [
      "got 100 documents\n"
     ]
    }
   ],
   "source": [
    "worker.process_document_data()"
   ]
  },
  {
   "cell_type": "code",
   "execution_count": 7,
   "metadata": {
    "collapsed": false
   },
   "outputs": [
    {
     "data": {
      "text/plain": [
       "100"
      ]
     },
     "execution_count": 7,
     "metadata": {},
     "output_type": "execute_result"
    }
   ],
   "source": [
    "len(worker.documents)"
   ]
  },
  {
   "cell_type": "code",
   "execution_count": 8,
   "metadata": {
    "collapsed": true
   },
   "outputs": [],
   "source": [
    "docs = worker.documents"
   ]
  },
  {
   "cell_type": "code",
   "execution_count": 9,
   "metadata": {
    "collapsed": false
   },
   "outputs": [],
   "source": [
    "tag_list = worker.get_document_tags()"
   ]
  },
  {
   "cell_type": "code",
   "execution_count": 10,
   "metadata": {
    "collapsed": false
   },
   "outputs": [],
   "source": [
    "schools = worker.get_school_types()"
   ]
  },
  {
   "cell_type": "code",
   "execution_count": 11,
   "metadata": {
    "collapsed": false
   },
   "outputs": [
    {
     "name": "stdout",
     "output_type": "stream",
     "text": [
      " publisher: Auer  class_years: [1, 2, 3, 4]  subtitle: Übungen zur Behebung eines Rechtschreibproblems  issue: ['Schülerinnen und Schüler üben das Rechtschreibphänomen \"Dehungs-h\" anhand eines Gitterrätsels. ']  id: 50464e87b92d2a47a4c938a3  kind: mindItem  school_type: ['Grundschule']  authors: ['Sibylle Schüller']  subject: ['Deutsch']  title: Dehnung mit h  tags: ['Rechtschreibung', 'Wortschatz', 'Dehnungs-h', 'Richtig Schreiben', 'Laut-Buchstaben-Zuordnung', 'Kennzeichnung der langen Vokale'] \n"
     ]
    }
   ],
   "source": [
    "print(docs[33])"
   ]
  },
  {
   "cell_type": "code",
   "execution_count": 12,
   "metadata": {
    "collapsed": false
   },
   "outputs": [
    {
     "data": {
      "text/plain": [
       "{'Förderschule': 3, 'Grundschule': 2, 'Gymnasium': 1}"
      ]
     },
     "execution_count": 12,
     "metadata": {},
     "output_type": "execute_result"
    }
   ],
   "source": [
    "schools"
   ]
  },
  {
   "cell_type": "code",
   "execution_count": 13,
   "metadata": {
    "collapsed": false
   },
   "outputs": [],
   "source": [
    "doc_matrix = worker.build_document_matrix()"
   ]
  },
  {
   "cell_type": "code",
   "execution_count": 14,
   "metadata": {
    "collapsed": false
   },
   "outputs": [
    {
     "data": {
      "text/plain": [
       "[{'class_year': 10,\n",
       "  'id': '50464e87b92d2a47a4c93852',\n",
       "  'school': 'Gymnasium',\n",
       "  'school_code': 1,\n",
       "  'subject': 'Deutsch',\n",
       "  'subject_code': 1,\n",
       "  'tags': 'Sprachliche Strukturen und Begriffe auf der Satzebene Sprache und Sprachgebrauch untersuchen Lösung für Lehrer Adverbiale Bestimmungen Satzglieder Der einfache Satz Satzglieder: Angaben'},\n",
       " {'class_year': 10,\n",
       "  'id': '50464e87b92d2a47a4c93853',\n",
       "  'school': 'Gymnasium',\n",
       "  'school_code': 1,\n",
       "  'subject': 'Deutsch',\n",
       "  'subject_code': 1,\n",
       "  'tags': 'Sprache und Sprachgebrauch untersuchen Lösung für Lehrer Prädikat Satzglieder Sprachliche Strukturen und Begriffe auf der Satzebene Der einfache Satz'},\n",
       " {'class_year': 10,\n",
       "  'id': '50464e87b92d2a47a4c93854',\n",
       "  'school': 'Gymnasium',\n",
       "  'school_code': 1,\n",
       "  'subject': 'Deutsch',\n",
       "  'subject_code': 1,\n",
       "  'tags': 'Sprache und Sprachgebrauch untersuchen Lösung für Lehrer Objekte Satzglieder Sprachliche Strukturen und Begriffe auf der Satzebene Der einfache Satz Satzglieder: Ergänzungen'},\n",
       " {'class_year': 3,\n",
       "  'id': '50464e87b92d2a47a4c9385a',\n",
       "  'school': 'Grundschule',\n",
       "  'school_code': 2,\n",
       "  'subject': 'Deutsch',\n",
       "  'subject_code': 1,\n",
       "  'tags': 'Lösung für Lehrer Adjektive Wortarten Stationenlernen Grammatik Sprache und Sprachgebrauch untersuchen Sprachliche Strukturen und Begriffe auf der Wortebene Wortarten Adjektiv'},\n",
       " {'class_year': 10,\n",
       "  'id': '50464e87b92d2a47a4c9385d',\n",
       "  'school': 'Gymnasium',\n",
       "  'school_code': 1,\n",
       "  'subject': 'Deutsch',\n",
       "  'subject_code': 1,\n",
       "  'tags': 'Präpositionen und Konjunktionen Wortarten Sprache und Sprachgebrauch untersuchen Wortarten Konjunktion und Subjunktion'},\n",
       " {'class_year': 10,\n",
       "  'id': '50464e87b92d2a47a4c9385e',\n",
       "  'school': 'Gymnasium',\n",
       "  'school_code': 1,\n",
       "  'subject': 'Deutsch',\n",
       "  'subject_code': 1,\n",
       "  'tags': 'Promomen Wortarten Grammatik Sprache und Sprachgebrauch untersuchen Wortarten Pronomen'},\n",
       " {'class_year': 10,\n",
       "  'id': '50464e87b92d2a47a4c9385f',\n",
       "  'school': 'Gymnasium',\n",
       "  'school_code': 1,\n",
       "  'subject': 'Deutsch',\n",
       "  'subject_code': 1,\n",
       "  'tags': 'Nomen und Adjektive Wortarten Grammatik Sprache und Sprachgebrauch untersuchen Wortarten Substantiv Adjektiv'},\n",
       " {'class_year': 10,\n",
       "  'id': '50464e87b92d2a47a4c93860',\n",
       "  'school': 'Gymnasium',\n",
       "  'school_code': 1,\n",
       "  'subject': 'Deutsch',\n",
       "  'subject_code': 1,\n",
       "  'tags': 'Sprache und Sprachgebrauch untersuchen Adverbien Wortarten Grammatik Wortarten Adverb'},\n",
       " {'class_year': 10,\n",
       "  'id': '50464e87b92d2a47a4c93861',\n",
       "  'school': 'Gymnasium',\n",
       "  'school_code': 1,\n",
       "  'subject': 'Deutsch',\n",
       "  'subject_code': 1,\n",
       "  'tags': 'Verben Wortarten Grammatik Sprache und Sprachgebrauch untersuchen Wortarten Verb'},\n",
       " {'class_year': 8,\n",
       "  'id': '50464e87b92d2a47a4c93863',\n",
       "  'school': 'Gymnasium',\n",
       "  'school_code': 1,\n",
       "  'subject': 'Deutsch',\n",
       "  'subject_code': 1,\n",
       "  'tags': 'Non-Fiktionale Texte'},\n",
       " {'class_year': 8,\n",
       "  'id': '50464e87b92d2a47a4c93868',\n",
       "  'school': 'Gymnasium',\n",
       "  'school_code': 1,\n",
       "  'subject': 'Deutsch',\n",
       "  'subject_code': 1,\n",
       "  'tags': 'Kreatives Schreiben Schreibverfahren Kreativ schreiben Schreiben nach visuellen Vorlagen'},\n",
       " {'class_year': 1,\n",
       "  'id': '50464e87b92d2a47a4c9386e',\n",
       "  'school': 'Grundschule',\n",
       "  'school_code': 2,\n",
       "  'subject': 'Deutsch',\n",
       "  'subject_code': 1,\n",
       "  'tags': 'Wortbildung Zuhören Reden Sprachbewusstsein'},\n",
       " {'class_year': 2,\n",
       "  'id': '50464e87b92d2a47a4c93875',\n",
       "  'school': 'Grundschule',\n",
       "  'school_code': 2,\n",
       "  'subject': 'Deutsch',\n",
       "  'subject_code': 1,\n",
       "  'tags': 'DaZ/DaF Material Pluralformen Nomen Wortschatz Artikel Präpositionen'},\n",
       " {'class_year': 8,\n",
       "  'id': '50464e87b92d2a47a4c9387e',\n",
       "  'school': 'Gymnasium',\n",
       "  'school_code': 1,\n",
       "  'subject': 'Deutsch',\n",
       "  'subject_code': 1,\n",
       "  'tags': 'Schreibverfahren pragmatisches Schreiben Schreiben Lösung für Lehrer Sprache Berichte schreiben Berichten'},\n",
       " {'class_year': 8,\n",
       "  'id': '50464e87b92d2a47a4c93883',\n",
       "  'school': 'Gymnasium',\n",
       "  'school_code': 1,\n",
       "  'subject': 'Deutsch',\n",
       "  'subject_code': 1,\n",
       "  'tags': 'Schreibverfahren Schreiben Produktion von Sachtexten Berichte schreiben pragmatisches Schreiben Berichten'},\n",
       " {'class_year': 8,\n",
       "  'id': '50464e87b92d2a47a4c93884',\n",
       "  'school': 'Gymnasium',\n",
       "  'school_code': 1,\n",
       "  'subject': 'Deutsch',\n",
       "  'subject_code': 1,\n",
       "  'tags': 'Schreibverfahren pragmatisches Schreiben Schreiben Lösung für Lehrer Produktion von Sachtexten Berichte schreiben Berichten'},\n",
       " {'class_year': 8,\n",
       "  'id': '50464e87b92d2a47a4c93885',\n",
       "  'school': 'Gymnasium',\n",
       "  'school_code': 1,\n",
       "  'subject': 'Deutsch',\n",
       "  'subject_code': 1,\n",
       "  'tags': 'pragmatisches Schreiben Schreiben Schreibverfahren Lösung für Lehrer Produktion von Sachtexten Berichte schreiben Berichten'},\n",
       " {'class_year': 5,\n",
       "  'id': '50464e87b92d2a47a4c9388b',\n",
       "  'school': 'Gymnasium',\n",
       "  'school_code': 1,\n",
       "  'subject': 'Deutsch',\n",
       "  'subject_code': 1,\n",
       "  'tags': 'Verb Wortarten Sprache und Sprachgebrauch untersuchen Lösung zur Selbstkontrolle für SuS Zeitformen Tempus Futur I'},\n",
       " {'class_year': 5,\n",
       "  'id': '50464e87b92d2a47a4c9388d',\n",
       "  'school': 'Gymnasium',\n",
       "  'school_code': 1,\n",
       "  'subject': 'Deutsch',\n",
       "  'subject_code': 1,\n",
       "  'tags': 'Wortarten Sprache und Sprachgebrauch untersuchen Lösung zur Selbstkontrolle für SuS Tempus Präteritum Verb'},\n",
       " {'class_year': 5,\n",
       "  'id': '50464e87b92d2a47a4c9388f',\n",
       "  'school': 'Gymnasium',\n",
       "  'school_code': 1,\n",
       "  'subject': 'Deutsch',\n",
       "  'subject_code': 1,\n",
       "  'tags': 'Kommasetzung Wörtliche Rede Zeichensetzung Satzarten Lösung zur Selbstkontrolle für SuS Richtig Schreiben Interpunktion'},\n",
       " {'class_year': 5,\n",
       "  'id': '50464e87b92d2a47a4c93890',\n",
       "  'school': 'Gymnasium',\n",
       "  'school_code': 1,\n",
       "  'subject': 'Deutsch',\n",
       "  'subject_code': 1,\n",
       "  'tags': 'Lösung zur Selbstkontrolle für SuS Wörtliche Rede Zeichensetzung Richtig Schreiben Interpunktion Anführungszeichen'},\n",
       " {'class_year': 5,\n",
       "  'id': '50464e87b92d2a47a4c93891',\n",
       "  'school': 'Gymnasium',\n",
       "  'school_code': 1,\n",
       "  'subject': 'Deutsch',\n",
       "  'subject_code': 1,\n",
       "  'tags': 'Lösung zur Selbstkontrolle für SuS Kommasetzung Zeichensetzung Richtig Schreiben Interpunktion Kennzeichnung des Schlusses von Ganzsätzen Gliederung innerhalb von Ganzsätzen'},\n",
       " {'class_year': 5,\n",
       "  'id': '50464e87b92d2a47a4c93894',\n",
       "  'school': 'Gymnasium',\n",
       "  'school_code': 1,\n",
       "  'subject': 'Deutsch',\n",
       "  'subject_code': 1,\n",
       "  'tags': 'Lösung zur Selbstkontrolle für SuS Satzarten Satzzeichen Richtig Schreiben Interpunktion Gliederung innerhalb von Ganzsätzen Kennzeichnung des Schlusses von Ganzsätzen'},\n",
       " {'class_year': 8,\n",
       "  'id': '50464e87b92d2a47a4c93895',\n",
       "  'school': 'Gymnasium',\n",
       "  'school_code': 1,\n",
       "  'subject': 'Deutsch',\n",
       "  'subject_code': 1,\n",
       "  'tags': 'Lesen Journalistische Texte erkennen und produzieren Produktion von Sachtexten Lesen und Medien Suchen von Informationen in Medien'},\n",
       " {'class_year': 2,\n",
       "  'id': '50464e87b92d2a47a4c93896',\n",
       "  'school': 'Grundschule',\n",
       "  'school_code': 2,\n",
       "  'subject': 'Deutsch',\n",
       "  'subject_code': 1,\n",
       "  'tags': 'DaZ/DaF Material Wortschatz Nomen Präpositionen Artikel'},\n",
       " {'class_year': 10,\n",
       "  'id': '50464e87b92d2a47a4c93897',\n",
       "  'school': 'Gymnasium',\n",
       "  'school_code': 1,\n",
       "  'subject': 'Deutsch',\n",
       "  'subject_code': 1,\n",
       "  'tags': 'Sprachliche Strukturen und Begriffe auf der Satzebene Sprache und Sprachgebrauch untersuchen Subjekt Satzglieder Der einfache Satz Satzglieder: Ergänzungen'},\n",
       " {'class_year': 10,\n",
       "  'id': '50464e87b92d2a47a4c9389a',\n",
       "  'school': 'Gymnasium',\n",
       "  'school_code': 1,\n",
       "  'subject': 'Deutsch',\n",
       "  'subject_code': 1,\n",
       "  'tags': 'pragmatisches Schreiben Schreibverfahren Schreiben Lösung für Lehrer Erörterung Argumentieren'},\n",
       " {'class_year': 10,\n",
       "  'id': '50464e87b92d2a47a4c9389b',\n",
       "  'school': 'Gymnasium',\n",
       "  'school_code': 1,\n",
       "  'subject': 'Deutsch',\n",
       "  'subject_code': 1,\n",
       "  'tags': 'pragmatisches Schreiben Schreiben Schreibverfahren Lösung für Lehrer Lesekompetenz Schreibprozesse initiieren Erörterung Argumentieren'},\n",
       " {'class_year': 4,\n",
       "  'id': '50464e87b92d2a47a4c9389d',\n",
       "  'school': 'Förderschule',\n",
       "  'school_code': 3,\n",
       "  'subject': 'Deutsch',\n",
       "  'subject_code': 1,\n",
       "  'tags': 'Lesekompetenz Bild-Text-Zuordnung Methoden im Unterricht Leseförderung'},\n",
       " {'class_year': 4,\n",
       "  'id': '50464e87b92d2a47a4c9389e',\n",
       "  'school': 'Förderschule',\n",
       "  'school_code': 3,\n",
       "  'subject': 'Deutsch',\n",
       "  'subject_code': 1,\n",
       "  'tags': 'Leseförderung Bild-Text-Zuordnung Lesekompetenz'},\n",
       " {'class_year': 4,\n",
       "  'id': '50464e87b92d2a47a4c9389f',\n",
       "  'school': 'Förderschule',\n",
       "  'school_code': 3,\n",
       "  'subject': 'Deutsch',\n",
       "  'subject_code': 1,\n",
       "  'tags': 'Leseförderung Bildbeschreibung Lesekompetenz'},\n",
       " {'class_year': 4,\n",
       "  'id': '50464e87b92d2a47a4c938a0',\n",
       "  'school': 'Förderschule',\n",
       "  'school_code': 3,\n",
       "  'subject': 'Deutsch',\n",
       "  'subject_code': 1,\n",
       "  'tags': 'Leseförderung Bild-Text-Zuordnung Lesekompetenz'},\n",
       " {'class_year': 4,\n",
       "  'id': '50464e87b92d2a47a4c938a1',\n",
       "  'school': 'Förderschule',\n",
       "  'school_code': 3,\n",
       "  'subject': 'Deutsch',\n",
       "  'subject_code': 1,\n",
       "  'tags': 'Lesekompetenz Leseförderung Methoden im Unterricht'},\n",
       " {'class_year': 4,\n",
       "  'id': '50464e87b92d2a47a4c938a3',\n",
       "  'school': 'Grundschule',\n",
       "  'school_code': 2,\n",
       "  'subject': 'Deutsch',\n",
       "  'subject_code': 1,\n",
       "  'tags': 'Rechtschreibung Wortschatz Dehnungs-h Richtig Schreiben Laut-Buchstaben-Zuordnung Kennzeichnung der langen Vokale'},\n",
       " {'class_year': 4,\n",
       "  'id': '50464e87b92d2a47a4c938a6',\n",
       "  'school': 'Grundschule',\n",
       "  'school_code': 2,\n",
       "  'subject': 'Deutsch',\n",
       "  'subject_code': 1,\n",
       "  'tags': 'Richtig Schreiben Laut-Buchstaben-Zuordnung Kennzeichnung der langen Vokale'},\n",
       " {'class_year': 4,\n",
       "  'id': '50464e87b92d2a47a4c938a7',\n",
       "  'school': 'Grundschule',\n",
       "  'school_code': 2,\n",
       "  'subject': 'Deutsch',\n",
       "  'subject_code': 1,\n",
       "  'tags': 'Wortschatz Rechtschreibung Dehnungs-h Richtig Schreiben Laut-Buchstaben-Zuordnung Kennzeichnung der langen Vokale'},\n",
       " {'class_year': 6,\n",
       "  'id': '50464e87b92d2a47a4c938ac',\n",
       "  'school': 'Gymnasium',\n",
       "  'school_code': 1,\n",
       "  'subject': 'Deutsch',\n",
       "  'subject_code': 1,\n",
       "  'tags': 'Lösung für Lehrer Sprechen und Zuhören Non-Fiktionale Texte Zuhören Hörkompetenz Zuhören'},\n",
       " {'class_year': 10,\n",
       "  'id': '50464e87b92d2a47a4c938b0',\n",
       "  'school': 'Gymnasium',\n",
       "  'school_code': 1,\n",
       "  'subject': 'Deutsch',\n",
       "  'subject_code': 1,\n",
       "  'tags': 'Funktionales Schreiben Schreibverfahren Schreiben Schreiben Erörternd schreiben Argumentieren'},\n",
       " {'class_year': 5,\n",
       "  'id': '50464e87b92d2a47a4c938b1',\n",
       "  'school': 'Gymnasium',\n",
       "  'school_code': 1,\n",
       "  'subject': 'Deutsch',\n",
       "  'subject_code': 1,\n",
       "  'tags': 'Richtig Schreiben Groß- und Kleinschreibung Grundlagen Groß- und Kleinschreibung'},\n",
       " {'class_year': 5,\n",
       "  'id': '50464e87b92d2a47a4c938b2',\n",
       "  'school': 'Gymnasium',\n",
       "  'school_code': 1,\n",
       "  'subject': 'Deutsch',\n",
       "  'subject_code': 1,\n",
       "  'tags': 'Anregung und Unterstützung von Rechtschreiblernen Grundlagen Richtig Schreiben Lösung zur Selbstkontrolle für SuS Silbentrennung Rechtschreibung Laut-Buchstaben-Zuordnung'},\n",
       " {'class_year': 5,\n",
       "  'id': '50464e87b92d2a47a4c938b3',\n",
       "  'school': 'Gymnasium',\n",
       "  'school_code': 1,\n",
       "  'subject': 'Deutsch',\n",
       "  'subject_code': 1,\n",
       "  'tags': 'Grundlagen Richtig Schreiben Lösung zur Selbstkontrolle für SuS Silbentrennung Rechtschreibung Anregung und Unterstützung von Rechtschreiblernen Laut-Buchstaben-Zuordnung'},\n",
       " {'class_year': 5,\n",
       "  'id': '50464e87b92d2a47a4c938b4',\n",
       "  'school': 'Gymnasium',\n",
       "  'school_code': 1,\n",
       "  'subject': 'Deutsch',\n",
       "  'subject_code': 1,\n",
       "  'tags': 'Lösung zur Selbstkontrolle für SuS Konsonanten Rechtschreibung Richtig Schreiben Laut-Buchstaben-Zuordnung Besonderheiten bei [s] Auslautverhärtung'},\n",
       " {'class_year': 5,\n",
       "  'id': '50464e87b92d2a47a4c938b5',\n",
       "  'school': 'Gymnasium',\n",
       "  'school_code': 1,\n",
       "  'subject': 'Deutsch',\n",
       "  'subject_code': 1,\n",
       "  'tags': 'Rechtschreibung Kurzer Vokal Langer Vokal Lösung zur Selbstkontrolle für SuS Richtig Schreiben Laut-Buchstaben-Zuordnung Kennzeichnung der kurzen Vokale Kennzeichnung der langen Vokale'},\n",
       " {'class_year': 5,\n",
       "  'id': '50464e87b92d2a47a4c938b6',\n",
       "  'school': 'Gymnasium',\n",
       "  'school_code': 1,\n",
       "  'subject': 'Deutsch',\n",
       "  'subject_code': 1,\n",
       "  'tags': 'Lösung zur Selbstkontrolle für SuS Kurzer Vokal Rechtschreibung Richtig Schreiben Laut-Buchstaben-Zuordnung Kennzeichnung der kurzen Vokale Kennzeichnung der langen Vokale'},\n",
       " {'class_year': 5,\n",
       "  'id': '50464e87b92d2a47a4c938b7',\n",
       "  'school': 'Gymnasium',\n",
       "  'school_code': 1,\n",
       "  'subject': 'Deutsch',\n",
       "  'subject_code': 1,\n",
       "  'tags': 'Lösung zur Selbstkontrolle für SuS S-Laute Rechtschreibung Richtig Schreiben Laut-Buchstaben-Zuordnung Kennzeichnung der kurzen Vokale Besonderheiten bei [s]'},\n",
       " {'class_year': 5,\n",
       "  'id': '50464e87b92d2a47a4c938ba',\n",
       "  'school': 'Gymnasium',\n",
       "  'school_code': 1,\n",
       "  'subject': 'Deutsch',\n",
       "  'subject_code': 1,\n",
       "  'tags': 'Lösung zur Selbstkontrolle für SuS Wortfamilien Wortfelder Sprache und Sprachgebrauch untersuchen Wortschatzarbeit Wortfeld'},\n",
       " {'class_year': 4,\n",
       "  'id': '50464e87b92d2a47a4c938bb',\n",
       "  'school': 'Grundschule',\n",
       "  'school_code': 2,\n",
       "  'subject': 'Deutsch',\n",
       "  'subject_code': 1,\n",
       "  'tags': 'Non-Fiktionale Texte Lesen Umgang mit Texten'},\n",
       " {'class_year': 4,\n",
       "  'id': '50464e87b92d2a47a4c938bc',\n",
       "  'school': 'Grundschule',\n",
       "  'school_code': 2,\n",
       "  'subject': 'Deutsch',\n",
       "  'subject_code': 1,\n",
       "  'tags': 'Non-Fiktionale Texte Lesen Umgang mit Texten'},\n",
       " {'class_year': 4,\n",
       "  'id': '50464e87b92d2a47a4c938bd',\n",
       "  'school': 'Grundschule',\n",
       "  'school_code': 2,\n",
       "  'subject': 'Deutsch',\n",
       "  'subject_code': 1,\n",
       "  'tags': 'Non-Fiktionale Texte Umgang mit Texten Lesekompetenz Leseverstehen Lösung zur Selbstkontrolle für SuS'},\n",
       " {'class_year': 4,\n",
       "  'id': '50464e87b92d2a47a4c938be',\n",
       "  'school': 'Grundschule',\n",
       "  'school_code': 2,\n",
       "  'subject': 'Deutsch',\n",
       "  'subject_code': 1,\n",
       "  'tags': 'Lesekompetenz Umgang mit Texten Leseverstehen Lesetest Lösung zur Selbstkontrolle für SuS'},\n",
       " {'class_year': 4,\n",
       "  'id': '50464e87b92d2a47a4c938c0',\n",
       "  'school': 'Grundschule',\n",
       "  'school_code': 2,\n",
       "  'subject': 'Deutsch',\n",
       "  'subject_code': 1,\n",
       "  'tags': 'Umgang mit Texten Lesekompetenz Lesetest Leseverstehen Non-Fiktionale Texte'},\n",
       " {'class_year': 4,\n",
       "  'id': '50464e87b92d2a47a4c938c1',\n",
       "  'school': 'Grundschule',\n",
       "  'school_code': 2,\n",
       "  'subject': 'Deutsch',\n",
       "  'subject_code': 1,\n",
       "  'tags': 'Lesen Lösung für Lehrer Lesen Lesetest Leseverstehen Lesekompetenz Erschließung von Texten'},\n",
       " {'class_year': 4,\n",
       "  'id': '50464e87b92d2a47a4c938c2',\n",
       "  'school': 'Grundschule',\n",
       "  'school_code': 2,\n",
       "  'subject': 'Deutsch',\n",
       "  'subject_code': 1,\n",
       "  'tags': 'Lesetest Lesen Lösung für Lehrer Lesen Leseverstehen Lesekompetenz Erschließung von Texten'},\n",
       " {'class_year': 4,\n",
       "  'id': '50464e87b92d2a47a4c938c4',\n",
       "  'school': 'Grundschule',\n",
       "  'school_code': 2,\n",
       "  'subject': 'Deutsch',\n",
       "  'subject_code': 1,\n",
       "  'tags': 'Lösung für Lehrer Lesen Erschließung von Texten Lesen Lesetest Leseverstehen Lesekompetenz'},\n",
       " {'class_year': 5,\n",
       "  'id': '50464e87b92d2a47a4c938c5',\n",
       "  'school': 'Gymnasium',\n",
       "  'school_code': 1,\n",
       "  'subject': 'Deutsch',\n",
       "  'subject_code': 1,\n",
       "  'tags': 'Lösung für Lehrer Diktat Wortarten Sprache und Sprachgebrauch untersuchen Wortarten Adjektiv Verb'},\n",
       " {'class_year': 5,\n",
       "  'id': '50464e87b92d2a47a4c938c6',\n",
       "  'school': 'Gymnasium',\n",
       "  'school_code': 1,\n",
       "  'subject': 'Deutsch',\n",
       "  'subject_code': 1,\n",
       "  'tags': 'Sprache und Sprachgebrauch untersuchen Nutzung von Arbeitstechniken Richtig Schreiben Lösung für Lehrer Verben Nomen und Adjektive Wortarten Wortarten'},\n",
       " {'class_year': 4,\n",
       "  'id': '50464e87b92d2a47a4c938ca',\n",
       "  'school': 'Grundschule',\n",
       "  'school_code': 2,\n",
       "  'subject': 'Deutsch',\n",
       "  'subject_code': 1,\n",
       "  'tags': 'Literarische Gattungen Kurzgeschichte Epische Kurzformen Literatur Leseverstehen Leseförderung Umgang mit Texten'},\n",
       " {'class_year': 4,\n",
       "  'id': '50464e87b92d2a47a4c938cb',\n",
       "  'school': 'Grundschule',\n",
       "  'school_code': 2,\n",
       "  'subject': 'Deutsch',\n",
       "  'subject_code': 1,\n",
       "  'tags': 'Epische Kurzformen Literarische Gattungen Literatur Lesen Leseförderung Märchen Umgang mit Texten'},\n",
       " {'class_year': 4,\n",
       "  'id': '50464e87b92d2a47a4c938cc',\n",
       "  'school': 'Grundschule',\n",
       "  'school_code': 2,\n",
       "  'subject': 'Deutsch',\n",
       "  'subject_code': 1,\n",
       "  'tags': 'Märchen Leseförderung Lesen Erschließung von Texten Lösung zur Selbstkontrolle für SuS Lesekompetenz Leseverstehen'},\n",
       " {'class_year': 4,\n",
       "  'id': '50464e87b92d2a47a4c938ce',\n",
       "  'school': 'Grundschule',\n",
       "  'school_code': 2,\n",
       "  'subject': 'Deutsch',\n",
       "  'subject_code': 1,\n",
       "  'tags': 'Erschließung von Texten Lösung zur Selbstkontrolle für SuS Leseförderung Lesen Lesekompetenz Leseverstehen'},\n",
       " {'class_year': 4,\n",
       "  'id': '50464e87b92d2a47a4c938cf',\n",
       "  'school': 'Grundschule',\n",
       "  'school_code': 2,\n",
       "  'subject': 'Deutsch',\n",
       "  'subject_code': 1,\n",
       "  'tags': 'Erschließung von Texten Lesen Leseverstehen Lösung zur Selbstkontrolle für SuS Lesetest Leseförderung Bildergeschichte'},\n",
       " {'class_year': 4,\n",
       "  'id': '50464e87b92d2a47a4c938d0',\n",
       "  'school': 'Grundschule',\n",
       "  'school_code': 2,\n",
       "  'subject': 'Deutsch',\n",
       "  'subject_code': 1,\n",
       "  'tags': 'Klassifizierung Visuelle Medien Medien Leseverstehen Leseförderung Bildergeschichte'},\n",
       " {'class_year': 4,\n",
       "  'id': '50464e87b92d2a47a4c938d1',\n",
       "  'school': 'Grundschule',\n",
       "  'school_code': 2,\n",
       "  'subject': 'Deutsch',\n",
       "  'subject_code': 1,\n",
       "  'tags': 'Lösung zur Selbstkontrolle für SuS Leseförderung Leseverstehen Bildergeschichte Lesen Erschließung von Texten'},\n",
       " {'class_year': 4,\n",
       "  'id': '50464e87b92d2a47a4c938d3',\n",
       "  'school': 'Grundschule',\n",
       "  'school_code': 2,\n",
       "  'subject': 'Deutsch',\n",
       "  'subject_code': 1,\n",
       "  'tags': 'Medien Klassifizierung Visuelle Medien Mündliches Erzählen Leseförderung Bildergeschichte'},\n",
       " {'class_year': 4,\n",
       "  'id': '50464e87b92d2a47a4c938d4',\n",
       "  'school': 'Grundschule',\n",
       "  'school_code': 2,\n",
       "  'subject': 'Deutsch',\n",
       "  'subject_code': 1,\n",
       "  'tags': 'Erschließung von Texten Lesen Lösung zur Selbstkontrolle für SuS Lesekompetenz Leseförderung Wortfelder Wortschatz'},\n",
       " {'class_year': 4,\n",
       "  'id': '50464e87b92d2a47a4c938d5',\n",
       "  'school': 'Grundschule',\n",
       "  'school_code': 2,\n",
       "  'subject': 'Deutsch',\n",
       "  'subject_code': 1,\n",
       "  'tags': 'Lesen Lösung zur Selbstkontrolle für SuS Lesekompetenz Wortfelder Leseförderung Wortschatz Erschließung von Texten'},\n",
       " {'class_year': 4,\n",
       "  'id': '50464e87b92d2a47a4c938d7',\n",
       "  'school': 'Grundschule',\n",
       "  'school_code': 2,\n",
       "  'subject': 'Deutsch',\n",
       "  'subject_code': 1,\n",
       "  'tags': 'Erschließung von Texten Wortfelder Lesen Lösung zur Selbstkontrolle für SuS Lesekompetenz Leseförderung Wortschatz'},\n",
       " {'class_year': 2,\n",
       "  'id': '50464e87b92d2a47a4c938d8',\n",
       "  'school': 'Grundschule',\n",
       "  'school_code': 2,\n",
       "  'subject': 'Deutsch',\n",
       "  'subject_code': 1,\n",
       "  'tags': 'Sprachliche Strukturen und Begriffe auf der Wortebene Sprache und Sprachgebrauch untersuchen Lösung für Lehrer Artikel Wortarten Unbestimmte Artikel Wortarten Artikel'},\n",
       " {'class_year': 2,\n",
       "  'id': '50464e87b92d2a47a4c938d9',\n",
       "  'school': 'Grundschule',\n",
       "  'school_code': 2,\n",
       "  'subject': 'Deutsch',\n",
       "  'subject_code': 1,\n",
       "  'tags': 'Sprachliche Strukturen und Begriffe auf der Wortebene Sprache und Sprachgebrauch untersuchen Wortarten Lösung für Lehrer Bestimmte Artikel Artikel Wortarten Artikel'},\n",
       " {'class_year': 2,\n",
       "  'id': '50464e87b92d2a47a4c938da',\n",
       "  'school': 'Grundschule',\n",
       "  'school_code': 2,\n",
       "  'subject': 'Deutsch',\n",
       "  'subject_code': 1,\n",
       "  'tags': 'Wortarten Sprachliche Strukturen und Begriffe auf der Wortebene Sprache und Sprachgebrauch untersuchen Artikel Artikel'},\n",
       " {'class_year': 2,\n",
       "  'id': '50464e87b92d2a47a4c938db',\n",
       "  'school': 'Grundschule',\n",
       "  'school_code': 2,\n",
       "  'subject': 'Deutsch',\n",
       "  'subject_code': 1,\n",
       "  'tags': 'Grundlagen Sprache und Sprachgebrauch untersuchen Methoden im Unterricht Leseführerschein Anregung und Unterstützung von Sprachreflexion'},\n",
       " {'class_year': 2,\n",
       "  'id': '50464e87b92d2a47a4c938dc',\n",
       "  'school': 'Grundschule',\n",
       "  'school_code': 2,\n",
       "  'subject': 'Deutsch',\n",
       "  'subject_code': 1,\n",
       "  'tags': 'Sprache und Sprachgebrauch untersuchen Grundlagen Anregung und Unterstützung von Sprachreflexion'},\n",
       " {'class_year': 4,\n",
       "  'id': '50464e87b92d2a47a4c938df',\n",
       "  'school': 'Grundschule',\n",
       "  'school_code': 2,\n",
       "  'subject': 'Deutsch',\n",
       "  'subject_code': 1,\n",
       "  'tags': 'Textverständnis Lesekompetenz'},\n",
       " {'class_year': 4,\n",
       "  'id': '50464e87b92d2a47a4c938e0',\n",
       "  'school': 'Grundschule',\n",
       "  'school_code': 2,\n",
       "  'subject': 'Deutsch',\n",
       "  'subject_code': 1,\n",
       "  'tags': 'Textverständnis Lesekompetenz'},\n",
       " {'class_year': 4,\n",
       "  'id': '50464e87b92d2a47a4c938e2',\n",
       "  'school': 'Grundschule',\n",
       "  'school_code': 2,\n",
       "  'subject': 'Deutsch',\n",
       "  'subject_code': 1,\n",
       "  'tags': 'Lösung zur Selbstkontrolle für SuS Leseverstehen Lesekompetenz Leseförderung'},\n",
       " {'class_year': 4,\n",
       "  'id': '50464e87b92d2a47a4c938e3',\n",
       "  'school': 'Grundschule',\n",
       "  'school_code': 2,\n",
       "  'subject': 'Deutsch',\n",
       "  'subject_code': 1,\n",
       "  'tags': 'Lösung zur Selbstkontrolle für SuS Leseverstehen Leseförderung Lesekompetenz'},\n",
       " {'class_year': 4,\n",
       "  'id': '50464e87b92d2a47a4c938e4',\n",
       "  'school': 'Grundschule',\n",
       "  'school_code': 2,\n",
       "  'subject': 'Deutsch',\n",
       "  'subject_code': 1,\n",
       "  'tags': 'Lösung zur Selbstkontrolle für SuS Lesekompetenz Leseverstehen Leseförderung'},\n",
       " {'class_year': 4,\n",
       "  'id': '50464e87b92d2a47a4c938e6',\n",
       "  'school': 'Grundschule',\n",
       "  'school_code': 2,\n",
       "  'subject': 'Deutsch',\n",
       "  'subject_code': 1,\n",
       "  'tags': 'Lösung zur Selbstkontrolle für SuS Lesekompetenz Leseverstehen Leseförderung'},\n",
       " {'class_year': 2,\n",
       "  'id': '50464e87b92d2a47a4c938e7',\n",
       "  'school': 'Grundschule',\n",
       "  'school_code': 2,\n",
       "  'subject': 'Deutsch',\n",
       "  'subject_code': 1,\n",
       "  'tags': 'Richtig Schreiben Laut-Buchstaben-Zuordnung Kennzeichnung der kurzen Vokale Leseförderung Lösung zur Selbstkontrolle für SuS Rechtschreibung Auslautverhärtung'},\n",
       " {'class_year': 2,\n",
       "  'id': '50464e87b92d2a47a4c938e8',\n",
       "  'school': 'Grundschule',\n",
       "  'school_code': 2,\n",
       "  'subject': 'Deutsch',\n",
       "  'subject_code': 1,\n",
       "  'tags': 'Laut-Buchstaben-Zuordnung Richtig Schreiben Lösung für Lehrer Reime Rechtschreibung Doppelkonsonanten Kennzeichnung der kurzen Vokale'},\n",
       " {'class_year': 2,\n",
       "  'id': '50464e87b92d2a47a4c938e9',\n",
       "  'school': 'Grundschule',\n",
       "  'school_code': 2,\n",
       "  'subject': 'Deutsch',\n",
       "  'subject_code': 1,\n",
       "  'tags': 'Kennzeichnung der kurzen Vokale Laut-Buchstaben-Zuordnung Richtig Schreiben Lösung für Lehrer Reime Rechtschreibung Doppelkonsonanten'},\n",
       " {'class_year': 2,\n",
       "  'id': '50464e87b92d2a47a4c938ea',\n",
       "  'school': 'Grundschule',\n",
       "  'school_code': 2,\n",
       "  'subject': 'Deutsch',\n",
       "  'subject_code': 1,\n",
       "  'tags': 'Auslautverhärtung Laut-Buchstaben-Zuordnung Richtig Schreiben'},\n",
       " {'class_year': 2,\n",
       "  'id': '50464e88b92d2a47a4c938eb',\n",
       "  'school': 'Grundschule',\n",
       "  'school_code': 2,\n",
       "  'subject': 'Deutsch',\n",
       "  'subject_code': 1,\n",
       "  'tags': 'Kennzeichnung der kurzen Vokale Laut-Buchstaben-Zuordnung Richtig Schreiben'},\n",
       " {'class_year': 2,\n",
       "  'id': '50464e88b92d2a47a4c938ec',\n",
       "  'school': 'Grundschule',\n",
       "  'school_code': 2,\n",
       "  'subject': 'Deutsch',\n",
       "  'subject_code': 1,\n",
       "  'tags': 'Kennzeichnung der kurzen Vokale Auslautverhärtung Laut-Buchstaben-Zuordnung Richtig Schreiben'},\n",
       " {'class_year': 2,\n",
       "  'id': '50464e88b92d2a47a4c938ed',\n",
       "  'school': 'Grundschule',\n",
       "  'school_code': 2,\n",
       "  'subject': 'Deutsch',\n",
       "  'subject_code': 1,\n",
       "  'tags': 'Kennzeichnung der kurzen Vokale Laut-Buchstaben-Zuordnung Richtig Schreiben Doppelkonsonanten Lösung zur Selbstkontrolle für SuS Wörter mit tz/z Wörter mit ck/k Rechtschreibung Auslautverhärtung'},\n",
       " {'class_year': 4,\n",
       "  'id': '50464e88b92d2a47a4c938ee',\n",
       "  'school': 'Grundschule',\n",
       "  'school_code': 2,\n",
       "  'subject': 'Deutsch',\n",
       "  'subject_code': 1,\n",
       "  'tags': 'Lösung zur Selbstkontrolle für SuS Leseverstehen Lesekompetenz Leseförderung'},\n",
       " {'class_year': 4,\n",
       "  'id': '50464e88b92d2a47a4c938ef',\n",
       "  'school': 'Grundschule',\n",
       "  'school_code': 2,\n",
       "  'subject': 'Deutsch',\n",
       "  'subject_code': 1,\n",
       "  'tags': 'Lösung zur Selbstkontrolle für SuS Leseverstehen Lesekompetenz Leseförderung'},\n",
       " {'class_year': 4,\n",
       "  'id': '50464e88b92d2a47a4c938f1',\n",
       "  'school': 'Grundschule',\n",
       "  'school_code': 2,\n",
       "  'subject': 'Deutsch',\n",
       "  'subject_code': 1,\n",
       "  'tags': 'Lösung zur Selbstkontrolle für SuS Lesekompetenz Leseverstehen Leseförderung'},\n",
       " {'class_year': 4,\n",
       "  'id': '50464e88b92d2a47a4c938f2',\n",
       "  'school': 'Grundschule',\n",
       "  'school_code': 2,\n",
       "  'subject': 'Deutsch',\n",
       "  'subject_code': 1,\n",
       "  'tags': 'Lösung zur Selbstkontrolle für SuS Leseverstehen Lesekompetenz Leseförderung'},\n",
       " {'class_year': 4,\n",
       "  'id': '50464e88b92d2a47a4c938f3',\n",
       "  'school': 'Grundschule',\n",
       "  'school_code': 2,\n",
       "  'subject': 'Deutsch',\n",
       "  'subject_code': 1,\n",
       "  'tags': 'Lösung zur Selbstkontrolle für SuS Lesekompetenz Leseförderung Leseverstehen'},\n",
       " {'class_year': 4,\n",
       "  'id': '50464e88b92d2a47a4c938f5',\n",
       "  'school': 'Grundschule',\n",
       "  'school_code': 2,\n",
       "  'subject': 'Deutsch',\n",
       "  'subject_code': 1,\n",
       "  'tags': 'Lösung zur Selbstkontrolle für SuS Leseverstehen Leseförderung Lesekompetenz'},\n",
       " {'class_year': 4,\n",
       "  'id': '50464e88b92d2a47a4c938f6',\n",
       "  'school': 'Grundschule',\n",
       "  'school_code': 2,\n",
       "  'subject': 'Deutsch',\n",
       "  'subject_code': 1,\n",
       "  'tags': 'Lösung zur Selbstkontrolle für SuS Lesekompetenz Leseförderung Leseverstehen'},\n",
       " {'class_year': 4,\n",
       "  'id': '50464e88b92d2a47a4c938f8',\n",
       "  'school': 'Grundschule',\n",
       "  'school_code': 2,\n",
       "  'subject': 'Deutsch',\n",
       "  'subject_code': 1,\n",
       "  'tags': 'Leseverstehen Leseförderung Lesekompetenz Lösung zur Selbstkontrolle für SuS'},\n",
       " {'class_year': 5,\n",
       "  'id': '50464e88b92d2a47a4c938f9',\n",
       "  'school': 'Gymnasium',\n",
       "  'school_code': 1,\n",
       "  'subject': 'Deutsch',\n",
       "  'subject_code': 1,\n",
       "  'tags': 'Schreiben Schreibprozesse initiieren Lesekompetenz Gattungsmerkmale Märchen Schreibverfahren Kreatives Schreiben Literarische Texte als Schreibanregung'},\n",
       " {'class_year': 5,\n",
       "  'id': '50464e88b92d2a47a4c938fa',\n",
       "  'school': 'Gymnasium',\n",
       "  'school_code': 1,\n",
       "  'subject': 'Deutsch',\n",
       "  'subject_code': 1,\n",
       "  'tags': 'Märchen Analyse fiktionaler Texte Leseverstehen Lesekompetenz Epik Lesen Erschließung von Texten'},\n",
       " {'class_year': 4,\n",
       "  'id': '50464e88b92d2a47a4c938fb',\n",
       "  'school': 'Grundschule',\n",
       "  'school_code': 2,\n",
       "  'subject': 'Deutsch',\n",
       "  'subject_code': 1,\n",
       "  'tags': 'Lösung zur Selbstkontrolle für SuS Lesekompetenz Leseförderung Leseverstehen'},\n",
       " {'class_year': 4,\n",
       "  'id': '50464e88b92d2a47a4c938fc',\n",
       "  'school': 'Grundschule',\n",
       "  'school_code': 2,\n",
       "  'subject': 'Deutsch',\n",
       "  'subject_code': 1,\n",
       "  'tags': 'Lösung zur Selbstkontrolle für SuS Lesekompetenz Leseförderung Leseverstehen'},\n",
       " {'class_year': 4,\n",
       "  'id': '50464e88b92d2a47a4c938fe',\n",
       "  'school': 'Grundschule',\n",
       "  'school_code': 2,\n",
       "  'subject': 'Deutsch',\n",
       "  'subject_code': 1,\n",
       "  'tags': 'Lösung zur Selbstkontrolle für SuS Leseverstehen Lesekompetenz Leseförderung'},\n",
       " {'class_year': 2,\n",
       "  'id': '50464e88b92d2a47a4c938ff',\n",
       "  'school': 'Grundschule',\n",
       "  'school_code': 2,\n",
       "  'subject': 'Deutsch',\n",
       "  'subject_code': 1,\n",
       "  'tags': 'Lesen Erschließung von Texten Lösung für Lehrer Leseführerschein Leseverstehen Leseförderung Lesekompetenz'},\n",
       " {'class_year': 2,\n",
       "  'id': '50464e88b92d2a47a4c93900',\n",
       "  'school': 'Grundschule',\n",
       "  'school_code': 2,\n",
       "  'subject': 'Deutsch',\n",
       "  'subject_code': 1,\n",
       "  'tags': 'Lösung für Lehrer Leseführerschein Lesekompetenz Leseverstehen Leseförderung Lesen Erschließung von Texten'}]"
      ]
     },
     "execution_count": 14,
     "metadata": {},
     "output_type": "execute_result"
    }
   ],
   "source": [
    "doc_matrix"
   ]
  },
  {
   "cell_type": "code",
   "execution_count": 15,
   "metadata": {
    "collapsed": false
   },
   "outputs": [],
   "source": [
    "doc_df = pd.DataFrame(doc_matrix)"
   ]
  },
  {
   "cell_type": "code",
   "execution_count": 16,
   "metadata": {
    "collapsed": false
   },
   "outputs": [
    {
     "data": {
      "text/html": [
       "<div>\n",
       "<table border=\"1\" class=\"dataframe\">\n",
       "  <thead>\n",
       "    <tr style=\"text-align: right;\">\n",
       "      <th></th>\n",
       "      <th>class_year</th>\n",
       "      <th>id</th>\n",
       "      <th>school</th>\n",
       "      <th>school_code</th>\n",
       "      <th>subject</th>\n",
       "      <th>subject_code</th>\n",
       "      <th>tags</th>\n",
       "    </tr>\n",
       "  </thead>\n",
       "  <tbody>\n",
       "    <tr>\n",
       "      <th>0</th>\n",
       "      <td>10</td>\n",
       "      <td>50464e87b92d2a47a4c93852</td>\n",
       "      <td>Gymnasium</td>\n",
       "      <td>1</td>\n",
       "      <td>Deutsch</td>\n",
       "      <td>1</td>\n",
       "      <td>Sprachliche Strukturen und Begriffe auf der Sa...</td>\n",
       "    </tr>\n",
       "    <tr>\n",
       "      <th>1</th>\n",
       "      <td>10</td>\n",
       "      <td>50464e87b92d2a47a4c93853</td>\n",
       "      <td>Gymnasium</td>\n",
       "      <td>1</td>\n",
       "      <td>Deutsch</td>\n",
       "      <td>1</td>\n",
       "      <td>Sprache und Sprachgebrauch untersuchen Lösung ...</td>\n",
       "    </tr>\n",
       "    <tr>\n",
       "      <th>2</th>\n",
       "      <td>10</td>\n",
       "      <td>50464e87b92d2a47a4c93854</td>\n",
       "      <td>Gymnasium</td>\n",
       "      <td>1</td>\n",
       "      <td>Deutsch</td>\n",
       "      <td>1</td>\n",
       "      <td>Sprache und Sprachgebrauch untersuchen Lösung ...</td>\n",
       "    </tr>\n",
       "    <tr>\n",
       "      <th>3</th>\n",
       "      <td>3</td>\n",
       "      <td>50464e87b92d2a47a4c9385a</td>\n",
       "      <td>Grundschule</td>\n",
       "      <td>2</td>\n",
       "      <td>Deutsch</td>\n",
       "      <td>1</td>\n",
       "      <td>Lösung für Lehrer Adjektive Wortarten Statione...</td>\n",
       "    </tr>\n",
       "    <tr>\n",
       "      <th>4</th>\n",
       "      <td>10</td>\n",
       "      <td>50464e87b92d2a47a4c9385d</td>\n",
       "      <td>Gymnasium</td>\n",
       "      <td>1</td>\n",
       "      <td>Deutsch</td>\n",
       "      <td>1</td>\n",
       "      <td>Präpositionen und Konjunktionen Wortarten Spra...</td>\n",
       "    </tr>\n",
       "  </tbody>\n",
       "</table>\n",
       "</div>"
      ],
      "text/plain": [
       "   class_year                        id       school  school_code  subject  \\\n",
       "0          10  50464e87b92d2a47a4c93852    Gymnasium            1  Deutsch   \n",
       "1          10  50464e87b92d2a47a4c93853    Gymnasium            1  Deutsch   \n",
       "2          10  50464e87b92d2a47a4c93854    Gymnasium            1  Deutsch   \n",
       "3           3  50464e87b92d2a47a4c9385a  Grundschule            2  Deutsch   \n",
       "4          10  50464e87b92d2a47a4c9385d    Gymnasium            1  Deutsch   \n",
       "\n",
       "   subject_code                                               tags  \n",
       "0             1  Sprachliche Strukturen und Begriffe auf der Sa...  \n",
       "1             1  Sprache und Sprachgebrauch untersuchen Lösung ...  \n",
       "2             1  Sprache und Sprachgebrauch untersuchen Lösung ...  \n",
       "3             1  Lösung für Lehrer Adjektive Wortarten Statione...  \n",
       "4             1  Präpositionen und Konjunktionen Wortarten Spra...  "
      ]
     },
     "execution_count": 16,
     "metadata": {},
     "output_type": "execute_result"
    }
   ],
   "source": [
    "doc_df.head()"
   ]
  },
  {
   "cell_type": "code",
   "execution_count": 17,
   "metadata": {
    "collapsed": false
   },
   "outputs": [],
   "source": [
    "docs_df = doc_df[[\"school\", \"subject_code\", \"class_year\"]]"
   ]
  },
  {
   "cell_type": "code",
   "execution_count": 18,
   "metadata": {
    "collapsed": false
   },
   "outputs": [],
   "source": [
    "# class_years = docs_df[\"class_year\"].count()"
   ]
  },
  {
   "cell_type": "code",
   "execution_count": 19,
   "metadata": {
    "collapsed": false
   },
   "outputs": [],
   "source": [
    "s = docs_df[\"school\"].value_counts()"
   ]
  },
  {
   "cell_type": "code",
   "execution_count": 21,
   "metadata": {
    "collapsed": false
   },
   "outputs": [],
   "source": [
    "cy = s = docs_df[\"class_year\"].value_counts()"
   ]
  },
  {
   "cell_type": "code",
   "execution_count": 22,
   "metadata": {
    "collapsed": false
   },
   "outputs": [
    {
     "data": {
      "text/plain": [
       "4     44\n",
       "5     18\n",
       "2     16\n",
       "10    12\n",
       "8      7\n",
       "6      1\n",
       "3      1\n",
       "1      1\n",
       "Name: class_year, dtype: int64"
      ]
     },
     "execution_count": 22,
     "metadata": {},
     "output_type": "execute_result"
    }
   ],
   "source": [
    "cy"
   ]
  },
  {
   "cell_type": "code",
   "execution_count": null,
   "metadata": {
    "collapsed": true
   },
   "outputs": [],
   "source": []
  },
  {
   "cell_type": "code",
   "execution_count": null,
   "metadata": {
    "collapsed": true
   },
   "outputs": [],
   "source": []
  },
  {
   "cell_type": "code",
   "execution_count": null,
   "metadata": {
    "collapsed": true
   },
   "outputs": [],
   "source": []
  },
  {
   "cell_type": "code",
   "execution_count": null,
   "metadata": {
    "collapsed": true
   },
   "outputs": [],
   "source": []
  },
  {
   "cell_type": "code",
   "execution_count": null,
   "metadata": {
    "collapsed": true
   },
   "outputs": [],
   "source": []
  },
  {
   "cell_type": "code",
   "execution_count": null,
   "metadata": {
    "collapsed": true
   },
   "outputs": [],
   "source": []
  },
  {
   "cell_type": "code",
   "execution_count": null,
   "metadata": {
    "collapsed": true
   },
   "outputs": [],
   "source": []
  },
  {
   "cell_type": "code",
   "execution_count": null,
   "metadata": {
    "collapsed": true
   },
   "outputs": [],
   "source": []
  },
  {
   "cell_type": "code",
   "execution_count": null,
   "metadata": {
    "collapsed": true
   },
   "outputs": [],
   "source": []
  },
  {
   "cell_type": "code",
   "execution_count": null,
   "metadata": {
    "collapsed": true
   },
   "outputs": [],
   "source": []
  },
  {
   "cell_type": "code",
   "execution_count": null,
   "metadata": {
    "collapsed": true
   },
   "outputs": [],
   "source": []
  },
  {
   "cell_type": "code",
   "execution_count": null,
   "metadata": {
    "collapsed": true
   },
   "outputs": [],
   "source": []
  },
  {
   "cell_type": "code",
   "execution_count": null,
   "metadata": {
    "collapsed": true
   },
   "outputs": [],
   "source": []
  },
  {
   "cell_type": "code",
   "execution_count": null,
   "metadata": {
    "collapsed": true
   },
   "outputs": [],
   "source": []
  },
  {
   "cell_type": "code",
   "execution_count": null,
   "metadata": {
    "collapsed": true
   },
   "outputs": [],
   "source": []
  },
  {
   "cell_type": "code",
   "execution_count": null,
   "metadata": {
    "collapsed": false
   },
   "outputs": [],
   "source": []
  },
  {
   "cell_type": "code",
   "execution_count": null,
   "metadata": {
    "collapsed": true
   },
   "outputs": [],
   "source": []
  },
  {
   "cell_type": "code",
   "execution_count": null,
   "metadata": {
    "collapsed": true
   },
   "outputs": [],
   "source": []
  },
  {
   "cell_type": "code",
   "execution_count": null,
   "metadata": {
    "collapsed": true
   },
   "outputs": [],
   "source": []
  },
  {
   "cell_type": "code",
   "execution_count": null,
   "metadata": {
    "collapsed": true
   },
   "outputs": [],
   "source": []
  },
  {
   "cell_type": "code",
   "execution_count": null,
   "metadata": {
    "collapsed": true
   },
   "outputs": [],
   "source": []
  },
  {
   "cell_type": "code",
   "execution_count": null,
   "metadata": {
    "collapsed": false
   },
   "outputs": [],
   "source": []
  },
  {
   "cell_type": "code",
   "execution_count": null,
   "metadata": {
    "collapsed": true
   },
   "outputs": [],
   "source": []
  },
  {
   "cell_type": "code",
   "execution_count": null,
   "metadata": {
    "collapsed": true
   },
   "outputs": [],
   "source": []
  },
  {
   "cell_type": "code",
   "execution_count": null,
   "metadata": {
    "collapsed": true
   },
   "outputs": [],
   "source": []
  },
  {
   "cell_type": "code",
   "execution_count": null,
   "metadata": {
    "collapsed": true
   },
   "outputs": [],
   "source": []
  },
  {
   "cell_type": "code",
   "execution_count": null,
   "metadata": {
    "collapsed": false
   },
   "outputs": [],
   "source": []
  },
  {
   "cell_type": "code",
   "execution_count": null,
   "metadata": {
    "collapsed": true
   },
   "outputs": [],
   "source": []
  },
  {
   "cell_type": "code",
   "execution_count": null,
   "metadata": {
    "collapsed": true
   },
   "outputs": [],
   "source": []
  },
  {
   "cell_type": "code",
   "execution_count": null,
   "metadata": {
    "collapsed": true
   },
   "outputs": [],
   "source": []
  },
  {
   "cell_type": "code",
   "execution_count": null,
   "metadata": {
    "collapsed": true
   },
   "outputs": [],
   "source": []
  },
  {
   "cell_type": "code",
   "execution_count": null,
   "metadata": {
    "collapsed": true
   },
   "outputs": [],
   "source": []
  },
  {
   "cell_type": "code",
   "execution_count": null,
   "metadata": {
    "collapsed": true
   },
   "outputs": [],
   "source": []
  },
  {
   "cell_type": "code",
   "execution_count": null,
   "metadata": {
    "collapsed": true
   },
   "outputs": [],
   "source": []
  },
  {
   "cell_type": "code",
   "execution_count": null,
   "metadata": {
    "collapsed": true
   },
   "outputs": [],
   "source": []
  },
  {
   "cell_type": "code",
   "execution_count": null,
   "metadata": {
    "collapsed": true
   },
   "outputs": [],
   "source": []
  },
  {
   "cell_type": "code",
   "execution_count": null,
   "metadata": {
    "collapsed": true
   },
   "outputs": [],
   "source": []
  },
  {
   "cell_type": "code",
   "execution_count": null,
   "metadata": {
    "collapsed": true
   },
   "outputs": [],
   "source": []
  },
  {
   "cell_type": "code",
   "execution_count": null,
   "metadata": {
    "collapsed": true
   },
   "outputs": [],
   "source": []
  },
  {
   "cell_type": "code",
   "execution_count": null,
   "metadata": {
    "collapsed": true
   },
   "outputs": [],
   "source": []
  },
  {
   "cell_type": "code",
   "execution_count": null,
   "metadata": {
    "collapsed": true
   },
   "outputs": [],
   "source": []
  },
  {
   "cell_type": "code",
   "execution_count": null,
   "metadata": {
    "collapsed": true
   },
   "outputs": [],
   "source": []
  },
  {
   "cell_type": "code",
   "execution_count": null,
   "metadata": {
    "collapsed": true
   },
   "outputs": [],
   "source": []
  },
  {
   "cell_type": "code",
   "execution_count": null,
   "metadata": {
    "collapsed": true
   },
   "outputs": [],
   "source": []
  },
  {
   "cell_type": "code",
   "execution_count": null,
   "metadata": {
    "collapsed": true
   },
   "outputs": [],
   "source": []
  },
  {
   "cell_type": "code",
   "execution_count": null,
   "metadata": {
    "collapsed": true
   },
   "outputs": [],
   "source": []
  },
  {
   "cell_type": "code",
   "execution_count": null,
   "metadata": {
    "collapsed": true
   },
   "outputs": [],
   "source": []
  },
  {
   "cell_type": "code",
   "execution_count": null,
   "metadata": {
    "collapsed": true
   },
   "outputs": [],
   "source": []
  },
  {
   "cell_type": "code",
   "execution_count": null,
   "metadata": {
    "collapsed": true
   },
   "outputs": [],
   "source": []
  },
  {
   "cell_type": "code",
   "execution_count": null,
   "metadata": {
    "collapsed": true
   },
   "outputs": [],
   "source": []
  },
  {
   "cell_type": "code",
   "execution_count": null,
   "metadata": {
    "collapsed": true
   },
   "outputs": [],
   "source": []
  },
  {
   "cell_type": "code",
   "execution_count": null,
   "metadata": {
    "collapsed": true
   },
   "outputs": [],
   "source": []
  },
  {
   "cell_type": "code",
   "execution_count": null,
   "metadata": {
    "collapsed": true
   },
   "outputs": [],
   "source": []
  },
  {
   "cell_type": "code",
   "execution_count": null,
   "metadata": {
    "collapsed": true
   },
   "outputs": [],
   "source": []
  },
  {
   "cell_type": "code",
   "execution_count": null,
   "metadata": {
    "collapsed": true
   },
   "outputs": [],
   "source": []
  },
  {
   "cell_type": "code",
   "execution_count": null,
   "metadata": {
    "collapsed": true
   },
   "outputs": [],
   "source": []
  },
  {
   "cell_type": "code",
   "execution_count": null,
   "metadata": {
    "collapsed": true
   },
   "outputs": [],
   "source": []
  },
  {
   "cell_type": "code",
   "execution_count": null,
   "metadata": {
    "collapsed": true
   },
   "outputs": [],
   "source": []
  },
  {
   "cell_type": "code",
   "execution_count": null,
   "metadata": {
    "collapsed": true
   },
   "outputs": [],
   "source": []
  },
  {
   "cell_type": "code",
   "execution_count": null,
   "metadata": {
    "collapsed": true
   },
   "outputs": [],
   "source": []
  },
  {
   "cell_type": "code",
   "execution_count": null,
   "metadata": {
    "collapsed": true
   },
   "outputs": [],
   "source": []
  },
  {
   "cell_type": "code",
   "execution_count": null,
   "metadata": {
    "collapsed": true
   },
   "outputs": [],
   "source": []
  },
  {
   "cell_type": "code",
   "execution_count": null,
   "metadata": {
    "collapsed": true
   },
   "outputs": [],
   "source": []
  },
  {
   "cell_type": "code",
   "execution_count": null,
   "metadata": {
    "collapsed": true
   },
   "outputs": [],
   "source": []
  },
  {
   "cell_type": "code",
   "execution_count": null,
   "metadata": {
    "collapsed": true
   },
   "outputs": [],
   "source": []
  },
  {
   "cell_type": "code",
   "execution_count": null,
   "metadata": {
    "collapsed": false
   },
   "outputs": [],
   "source": []
  },
  {
   "cell_type": "code",
   "execution_count": null,
   "metadata": {
    "collapsed": false
   },
   "outputs": [],
   "source": []
  },
  {
   "cell_type": "code",
   "execution_count": null,
   "metadata": {
    "collapsed": true
   },
   "outputs": [],
   "source": []
  },
  {
   "cell_type": "code",
   "execution_count": null,
   "metadata": {
    "collapsed": false
   },
   "outputs": [],
   "source": []
  },
  {
   "cell_type": "code",
   "execution_count": null,
   "metadata": {
    "collapsed": false
   },
   "outputs": [],
   "source": []
  },
  {
   "cell_type": "code",
   "execution_count": null,
   "metadata": {
    "collapsed": false
   },
   "outputs": [],
   "source": []
  },
  {
   "cell_type": "code",
   "execution_count": null,
   "metadata": {
    "collapsed": false
   },
   "outputs": [],
   "source": []
  },
  {
   "cell_type": "code",
   "execution_count": null,
   "metadata": {
    "collapsed": false
   },
   "outputs": [],
   "source": []
  },
  {
   "cell_type": "code",
   "execution_count": null,
   "metadata": {
    "collapsed": false
   },
   "outputs": [],
   "source": []
  },
  {
   "cell_type": "code",
   "execution_count": null,
   "metadata": {
    "collapsed": false
   },
   "outputs": [],
   "source": []
  },
  {
   "cell_type": "code",
   "execution_count": null,
   "metadata": {
    "collapsed": false
   },
   "outputs": [],
   "source": []
  },
  {
   "cell_type": "code",
   "execution_count": null,
   "metadata": {
    "collapsed": false
   },
   "outputs": [],
   "source": []
  }
 ],
 "metadata": {
  "kernelspec": {
   "display_name": "Python 3",
   "language": "python",
   "name": "python3"
  },
  "language_info": {
   "codemirror_mode": {
    "name": "ipython",
    "version": 3
   },
   "file_extension": ".py",
   "mimetype": "text/x-python",
   "name": "python",
   "nbconvert_exporter": "python",
   "pygments_lexer": "ipython3",
   "version": "3.4.3"
  }
 },
 "nbformat": 4,
 "nbformat_minor": 0
}
