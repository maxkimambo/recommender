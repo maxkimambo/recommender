{
 "cells": [
  {
   "cell_type": "code",
   "execution_count": 1,
   "metadata": {
    "collapsed": true
   },
   "outputs": [],
   "source": [
    "from Worker import Worker"
   ]
  },
  {
   "cell_type": "code",
   "execution_count": 2,
   "metadata": {
    "collapsed": true
   },
   "outputs": [],
   "source": [
    "import pandas as pd"
   ]
  },
  {
   "cell_type": "code",
   "execution_count": 3,
   "metadata": {
    "collapsed": false
   },
   "outputs": [],
   "source": [
    "worker = Worker()"
   ]
  },
  {
   "cell_type": "code",
   "execution_count": 4,
   "metadata": {
    "collapsed": false
   },
   "outputs": [
    {
     "name": "stdout",
     "output_type": "stream",
     "text": [
      "got 3000 documents\n"
     ]
    }
   ],
   "source": [
    "worker.process_document_data()"
   ]
  },
  {
   "cell_type": "code",
   "execution_count": 5,
   "metadata": {
    "collapsed": false
   },
   "outputs": [
    {
     "data": {
      "text/plain": [
       "3000"
      ]
     },
     "execution_count": 5,
     "metadata": {},
     "output_type": "execute_result"
    }
   ],
   "source": [
    "len(worker.documents)"
   ]
  },
  {
   "cell_type": "code",
   "execution_count": 6,
   "metadata": {
    "collapsed": true
   },
   "outputs": [],
   "source": [
    "docs = worker.documents"
   ]
  },
  {
   "cell_type": "code",
   "execution_count": 7,
   "metadata": {
    "collapsed": false
   },
   "outputs": [],
   "source": [
    "tag_list = worker.get_tags()"
   ]
  },
  {
   "cell_type": "code",
   "execution_count": 8,
   "metadata": {
    "collapsed": true
   },
   "outputs": [],
   "source": [
    "schools = worker.get_school_types()"
   ]
  },
  {
   "cell_type": "code",
   "execution_count": 9,
   "metadata": {
    "collapsed": false
   },
   "outputs": [
    {
     "data": {
      "text/plain": [
       "{'4f396aa38377a89855000860': 'Märchen Hans im Glück Gebrüder Grimm',\n",
       " '4f396aa08377a898550003b3': 'präpositionen nomen artikel daz/daf material wortschatz',\n",
       " '4f396aa48377a89855000964': 'argumentieren produktion von sachtexten leistungsdifferenzierung schreibschrift',\n",
       " '4f396aa38377a8985500075c': '',\n",
       " '4f396aa18377a8985500051f': 'Leseförderung Textverständnis Unterricht vorbereiten Jahreszeiten',\n",
       " '4f396aa28377a89855000656': '',\n",
       " '4f396a9f8377a89855000083': 'alternative diktatformen leistungsdifferenzierung lesekompetenz lösung für lehrer strategien für schüler zur individuellen fehleranalyse',\n",
       " '4f396aa38377a89855000747': 'Leseförderung Wie geht es weiter, Leon? Lesestrategien Textverständnis',\n",
       " '4f396aa48377a89855000889': 'Myron Levoy Der Gelbe Vogel leseförderung lesekompetenz leseverstehen',\n",
       " '4f396a9f8377a898550000c9': 'produktion von sachtexten überarbeiten von texten',\n",
       " '4f396aa38377a8985500071d': 'Reden Zuhören Kreativ schreiben Schreibprozesse initiieren',\n",
       " '4f396a9f8377a89855000026': '',\n",
       " '4f396aa48377a898550009f4': '',\n",
       " '4f396aa18377a89855000473': 'groß- und kleinschreibung rechtschreibung lösung für lehrer',\n",
       " '4f396aa28377a898550005ee': 'Lesestrategien Märchen Gebrüder Grimm',\n",
       " '4f396aa48377a898550008aa': '',\n",
       " '4f396aa28377a898550006f0': 'leseförderung rechtschreibung abc lösung zur selbstkontrolle für sus',\n",
       " '4f396aa08377a89855000259': 'adjektive steigern adjektive wortarten lösung für lehrer',\n",
       " '4f396aa48377a89855000968': 'leistungsdifferenzierung schreibkonferenz tempus präteritum berichte schreiben wortfelder',\n",
       " '4f396aa48377a89855000908': 'ADHS Rechtschreibung',\n",
       " '4f396aa48377a89855000987': 'Berufe kennenlernen',\n",
       " '4f396a9f8377a898550000d5': '',\n",
       " '4f396a9f8377a898550000d0': 'Methodentraining lesestrategien',\n",
       " '4f396aa38377a898550006f5': 'Leseförderung Wortebene Satzebene',\n",
       " '4f396aa18377a898550004bb': 'Lesen Leseförderung Sachtexte Methoden im unterricht Unterricht vorbereiten',\n",
       " '4f396aa38377a8985500073d': 'Lesestrategien Textverständnis',\n",
       " '4f396aa38377a898550007e5': '',\n",
       " '4f396aa08377a89855000281': '',\n",
       " '4f396a9f8377a8985500002c': '',\n",
       " '4f396aa08377a89855000255': 'wortarten grammatische fachbegriffe lösung zur selbstkontrolle für sus',\n",
       " '4f396aa18377a89855000435': '',\n",
       " '4f396aa48377a89855000a7c': 'wortarten ausdruck leistungsdifferenzierung pluralformen nomen lösung für lehrer',\n",
       " '4f396aa08377a898550002a8': 'Standbild umgang mit texten produktionsorientierte methoden methoden im unterricht',\n",
       " '4f396aa28377a89855000673': '',\n",
       " '4f396aa08377a89855000284': '',\n",
       " '4f396aa08377a898550003d3': 'Schriftspracherwerb ABC',\n",
       " '4f396a9f8377a8985500012d': '',\n",
       " '4f396aa28377a89855000603': 'methoden im unterricht schreibprozesse initiieren unterricht vorbereiten hörspiel produzieren Hörkompetenz',\n",
       " '4f396aa28377a89855000609': 'hörspiel produzieren schreibprozesse initiieren lösung zur selbstkontrolle für sus kreativ schreiben Hörkompetenz',\n",
       " '4f396aa38377a89855000839': '',\n",
       " '4f396aa38377a89855000792': 'verben groß- und kleinschreibung leseförderung satzglieder tempus präsens',\n",
       " '4f396aa18377a898550004ea': 'arbeit mit dem wörterbuch strategien für schüler zur individuellen fehleranalyse leistungskontrolle',\n",
       " '4f396aa58377a89855000b22': 'umgang mit texten analyse fiktionaler texte lesen kinder- & jugendbuchliteratur leseförderung',\n",
       " '4f396aa48377a89855000994': 'LRS (umgang mit lrs) zusammengesetzte Substantive',\n",
       " '4f396a9f8377a89855000171': 'zeichensetzung wörtliche rede lösung zur selbstkontrolle für sus',\n",
       " '4f396aa08377a8985500029b': 'Gesprächsform methoden im unterricht argumentieren',\n",
       " '4f396aa58377a89855000b36': '',\n",
       " '4f396aa08377a89855000337': 'homonyme wortarten lösung zur selbstkontrolle für sus',\n",
       " '4f396aa48377a89855000896': '',\n",
       " '4f396a9f8377a89855000120': '',\n",
       " '4f396a9e8377a8985500000c': 'Schriftspracherwerb Vorgangsbeschreibung',\n",
       " '4f396aa18377a8985500045d': 'lesekompetenz leseförderung leseverstehen lösung zur selbstkontrolle für sus',\n",
       " '4f396aa08377a898550002a5': 'methoden im unterricht sprachspiele umgang mit texten',\n",
       " '4f396aa28377a898550005c5': 'fabeln epik leseförderung',\n",
       " '4f396aa48377a898550008ac': '',\n",
       " '4f396aa28377a8985500063a': 'reime phonologische bewusstheit',\n",
       " '4f396aa48377a89855000960': 'leistungsdifferenzierung briefe schreiben schreibkompetenz produktion von sachtexten',\n",
       " '4f396aa48377a89855000a32': 'Numerus Artikel Nomen Stationenlernen lösung für lehrer',\n",
       " '4f396aa58377a89855000b49': 'bewertung didaktik',\n",
       " '4f396aa08377a89855000348': 'wortfelder wortschatz',\n",
       " '4f396aa08377a898550002ae': 'umgang mit texten argumentieren methoden im unterricht',\n",
       " '4f396a9f8377a89855000029': 'Lesetagebuch Leseförderung',\n",
       " '4f396aa18377a898550004de': 'rechtschreibung methoden im unterricht schriftspracherwerb',\n",
       " '4f396aa38377a89855000761': 'Leseförderung Textverständnis',\n",
       " '4f396aa48377a898550009d7': 'non-fiktionale texte (sachtexte) umgang mit texten leseförderung',\n",
       " '4f396aa28377a89855000669': 'grammatik Konjunktiv I daz/daf material zeitformen gemischt lösung für lehrer',\n",
       " '4f396aa18377a898550003fd': 'Textverständnis Kurzgeschichte An diesem Sonntag',\n",
       " '4f396aa08377a8985500020b': '',\n",
       " '4f396a9f8377a898550000d3': 'lesestrategien methodentraining',\n",
       " '4f396a9e8377a8985500001c': 'inszenierungsanweisungen theaterstück theaterstück inszenieren',\n",
       " '4f396aa18377a898550004cf': 'Rechtschreibung',\n",
       " '4f396aa28377a898550006ca': 'leseverstehen lesekompetenz leseförderung lösung zur selbstkontrolle für sus',\n",
       " '4f396a9f8377a8985500012b': '',\n",
       " '4f396aa48377a8985500097f': 'beschreibungen lösung zur selbstkontrolle für sus berufe kennenlernen',\n",
       " '4f396aa48377a89855000aa5': 'lautpositionbestimmung Hörkompetenz',\n",
       " '4f396aa18377a89855000485': 'wochenplanarbeit abc sprachrätsel lösung für lehrer',\n",
       " '4f396aa08377a898550002b3': '',\n",
       " '4f396a9f8377a8985500005d': 'Lesen Leseverstehen Lesetest Lesekompetenz',\n",
       " '4f396aa48377a8985500094d': 'tempus präteritum Zeitformen lösung zur selbstkontrolle für sus',\n",
       " '4f396aa48377a89855000a34': 'Lerntagebuch lesetagebuch leseförderung',\n",
       " '4f396aa28377a898550005be': 'fabeln Nacherzählen schreibprozesse initiieren produktion von literarischen formen mündliches erzählen',\n",
       " '4f396aa38377a898550007ba': 'grammatik Adjektiv und Adverb Adverbien wortarten',\n",
       " '4f396aa08377a8985500036c': 'Grammatik Wortarten Nomen',\n",
       " '4f396aa18377a8985500044f': 'Lesekompetenz Textverständnis',\n",
       " '4f396aa48377a89855000a33': 'Stationenlernen',\n",
       " '4f396a9f8377a8985500019a': 'diktat langer vokal kurzer vokal rechtschreibung',\n",
       " '4f396aa08377a8985500032c': 'präpositionen adverbiale bestimmungen kasus lösung zur selbstkontrolle für sus',\n",
       " '4f396aa28377a898550006af': 'sinnentnehmendes lesen leseförderung',\n",
       " '4f396aa18377a898550004f4': 'methoden im unterricht bild-text-zuordnung lesekompetenz leseförderung',\n",
       " '4f396aa08377a8985500039b': 'langer vokal kurzer vokal sprachspiele',\n",
       " '4f396aa18377a898550003e6': '',\n",
       " '4f396aa28377a898550005bd': 'fabeln gattungsmerkmale leseverstehen lesekompetenz leseförderung',\n",
       " '4f396a9f8377a898550000e5': '',\n",
       " '4f396a9f8377a898550001cb': '',\n",
       " '4f396a9f8377a89855000076': 'beobachtungsbogen für lehrer',\n",
       " '4f396aa08377a898550002e0': '',\n",
       " '4f396aa28377a8985500068b': 'bildbeschreibung daz/daf material präpositionen lösung für lehrer ausdruck',\n",
       " '4f396aa28377a898550005f2': 'Lesestrategien Märchen Sagen Fabeln Narrengeschichten',\n",
       " '4f396aa18377a8985500048a': 'wochenplanarbeit schreibprozesse initiieren produktion von literarischen formen kreativ schreiben lösung für lehrer',\n",
       " '4f396aa38377a898550007c1': 'zeichensetzung Zeichensetzung Haupt- und Nebensätze lösung zur selbstkontrolle für sus lösung für lehrer',\n",
       " '4f396aa08377a898550003b0': 'daz/daf material artikel präpositionen wortschatz nomen ',\n",
       " '4f396a9f8377a89855000167': 'lösung zur selbstkontrolle für sus wortarten nomen artikel',\n",
       " '4f396aa18377a89855000417': '',\n",
       " '4f396a9f8377a8985500005a': 'Lesekompetenz Lesen Leseverstehen Lesetest',\n",
       " '4f396a9f8377a898550001b5': 'Märchen Gattungsmerkmale lesekompetenz schreibprozesse initiieren',\n",
       " '4f396a9f8377a89855000152': '',\n",
       " '4f396aa48377a89855000a76': '',\n",
       " '4f396a9f8377a898550000a2': '',\n",
       " '4f396a9f8377a89855000074': 'lesekompetenz leistungsdifferenzierung konjugieren zeitformen gemischt wortarten',\n",
       " '4f396a9f8377a89855000156': 'berichte schreiben produktion von sachtexten lösung für lehrer',\n",
       " '4f396aa18377a89855000510': 'Leseförderung Unterricht vorbereiten Fasching',\n",
       " '4f396aa48377a89855000ade': '',\n",
       " '4f396a9f8377a89855000059': 'Lesekompetenz Lesetest Lesen Leseverstehen',\n",
       " '4f396aa18377a8985500049b': 'wochenplanarbeit kreativ schreiben schreibprozesse initiieren lösung für lehrer',\n",
       " '4f396aa58377a89855000b80': 'kurzgeschichte didaktik',\n",
       " '4f396aa58377a89855000bb5': 'kooperatives Lernen Methoden im Unterricht',\n",
       " '4f396aa48377a89855000aaf': 'sprichwörter formulartexte berufe kennenlernen lösung zur selbstkontrolle für sus',\n",
       " '4f396aa58377a89855000b60': '',\n",
       " '4f396aa58377a89855000b16': '',\n",
       " '4f396aa48377a8985500098d': '',\n",
       " '4f396aa48377a89855000a43': 'Leseförderung Textverständnis',\n",
       " '4f396aa38377a8985500070e': 'Aussprache daz/daf material wahrnehmungsübungen Zuhören lösung für lehrer',\n",
       " '4f396aa28377a89855000576': 'Schriftspracherwerb Erzählungen Wortarten Synonym',\n",
       " '4f396aa08377a89855000311': 'verben adjektive wortarten lösung für lehrer lösung zur selbstkontrolle für sus',\n",
       " '4f396a9e8377a8985500000d': 'Schriftspracherwerb Vorgangsbeschreibung',\n",
       " '4f396aa38377a89855000847': 'lesen frau holle märchen',\n",
       " '4f396a9e8377a89855000009': 'Schriftspracherwerb Berichte schreiben',\n",
       " '4f396aa08377a89855000292': 'texte strukturieren lösung für lehrer',\n",
       " '4f396a9f8377a898550001b0': 'produktion von sachtexten schreibprozesse initiieren',\n",
       " '4f396aa28377a898550005cb': 'fabeln epik leseförderung',\n",
       " '4f396aa48377a898550008d1': '',\n",
       " '4f396a9f8377a8985500009e': '',\n",
       " '4f396aa08377a89855000375': '',\n",
       " '4f396a9f8377a89855000181': 'wortfelder wortfamilien lösung zur selbstkontrolle für sus',\n",
       " '4f396a9f8377a89855000132': 'Schreiben kreativ schreiben',\n",
       " '4f396aa18377a89855000449': 'wortschatz leseförderung lesekompetenz lösung zur selbstkontrolle für sus wortfelder',\n",
       " '4f396a9f8377a898550001dc': '',\n",
       " '4f396aa18377a89855000410': 'fantasiereise schreibprozesse initiieren wortbildung silbentrennung',\n",
       " '4f396a9e8377a8985500000e': 'Schriftspracherwerb Vorgangsbeschreibung',\n",
       " '4f396aa08377a8985500029f': 'Pantomime methoden im unterricht',\n",
       " '4f396aa08377a89855000244': 'lesekompetenz leseführerschein bildergeschichte leseverstehen lösung für lehrer',\n",
       " '4f396aa18377a89855000474': 'groß- und kleinschreibung rechtschreibung lösung für lehrer',\n",
       " '4f396aa48377a8985500093a': 'Methoden im unterricht',\n",
       " '4f396aa38377a89855000734': 'Leseförderung Textverständnis',\n",
       " '4f396aa48377a898550008e2': '',\n",
       " '4f396a9e8377a89855000022': 'theaterstück theaterstück inszenieren inszenierungsanweisungen',\n",
       " '4f396aa18377a89855000421': 'Kurzgeschichte',\n",
       " '4f396aa38377a8985500076f': 'Rechtschreibung',\n",
       " '4f396aa08377a8985500028f': 'methoden im unterricht leseführerschein',\n",
       " '4f396aa48377a89855000982': 'kommunikation berufe kennenlernen',\n",
       " '4f396aa48377a8985500095a': 'tempus präteritum berichte schreiben wortschatz leistungsdifferenzierung wortfelder',\n",
       " '4f396aa48377a8985500099e': 'LRS (Umgang mit LRS)',\n",
       " '4f396a9f8377a89855000035': 'leseförderung lesekompetenz',\n",
       " '4f396aa08377a898550003ce': 'Schriftspracherwerb ABC',\n",
       " '4f396aa28377a8985500058b': 'phonologische Bewusstheit Anlaute Auslaute',\n",
       " '4f396aa18377a8985500049e': 'wochenplanarbeit schreibprozesse initiieren kreativ schreiben lösung für lehrer',\n",
       " '4f396aa38377a8985500084e': 'Schneewittchen',\n",
       " '4f396aa38377a89855000822': '',\n",
       " '4f396aa08377a898550002de': '',\n",
       " '4f396a9e8377a89855000011': '',\n",
       " '4f396aa28377a898550006bc': 'lesekompetenz leseförderung leseverstehen lösung zur selbstkontrolle für sus',\n",
       " '4f396aa48377a89855000983': '',\n",
       " '4f396a9f8377a898550001b4': 'epik lesekompetenz leseverstehen analyse fiktionaler texte Märchen',\n",
       " '4f396aa08377a89855000297': 'methoden im unterricht argumentieren',\n",
       " '4f396a9f8377a8985500014f': '',\n",
       " '4f396aa08377a8985500035b': '',\n",
       " '4f396aa08377a8985500029a': 'umgang mit texten Meinungsaustausch methoden im unterricht',\n",
       " '4f396aa38377a898550007fe': 'textverständnis kurzgeschichte leseverstehen schreibprozesse initiieren umgang mit texten',\n",
       " '4f396aa48377a8985500086d': 'Textverständnis Märchen Schneeweißchen und Rosenrot',\n",
       " '4f396aa48377a898550009e6': 'non-fiktionale texte (sachtexte) diskontinuierliche texte leseverstehen lesekompetenz lösung für lehrer',\n",
       " '4f396a9f8377a8985500002f': 'leseförderung lesekompetenz',\n",
       " '4f396aa18377a898550004d6': 'Diagnose von Rechtschreibschwierigkeiten',\n",
       " '4f396aa58377a89855000b91': 'lesemotivation Leseförderung didaktik',\n",
       " '4f396a9f8377a898550001c5': 'Erörternd schreiben',\n",
       " '4f396aa28377a89855000555': '',\n",
       " '4f396aa18377a89855000406': '',\n",
       " '4f396aa48377a89855000a75': 'Lesen Schreiben',\n",
       " '4f396a9f8377a89855000061': 'Lesen Lesekompetenz Leseverstehen Lesetest',\n",
       " '4f396aa18377a89855000511': '',\n",
       " '4f396aa18377a898550004ca': 'Sprache Sprachverständnisstörungen',\n",
       " '4f396aa48377a89855000acb': 'mündliches erzählen Zuhören methodik fiktionale texte allgemein methoden im unterricht',\n",
       " '4f396a9f8377a89855000116': '',\n",
       " '4f396aa18377a898550004bd': 'Leseförderung Methoden im unterricht',\n",
       " '4f396aa28377a898550005b8': 'fabeln epik leseförderung',\n",
       " '4f396aa38377a898550007a0': 'arbeit mit dem wörterbuch daz/daf material wortschatz wortarten pluralformen nomen',\n",
       " '4f396a9f8377a8985500004b': '',\n",
       " '4f396aa28377a89855000552': 'Lesestrategien Textwiedergabe Textverständnis',\n",
       " '4f396aa28377a898550006a5': '',\n",
       " '4f396a9f8377a898550000ea': '',\n",
       " '4f396aa38377a89855000739': 'Lesestrategien Textverständnis',\n",
       " '4f396aa18377a898550004e7': 'arbeit mit dem wörterbuch artikel wortarten singular - plural abc',\n",
       " '4f396a9f8377a89855000180': '',\n",
       " '4f396aa08377a89855000258': 'wortarten verben lösung für lehrer',\n",
       " '4f396aa28377a8985500053a': '',\n",
       " '4f396aa08377a898550002d2': 'methoden im unterricht kommunikation argumentieren erörterung',\n",
       " '4f396aa18377a898550004d2': 'Sprachförderung Diagnose von Rechtschreibschwierigkeiten',\n",
       " '4f396aa38377a89855000726': 'Schreibprozesse initiieren Reden Zuhören Produktion von literarischen formen',\n",
       " '4f396aa48377a89855000a4e': 'Rechtschreibung',\n",
       " '4f396aa48377a89855000984': 'Berufe kennenlernen Leseverstehen',\n",
       " '4f396aa58377a89855000b15': 'Alltagskompetenzen',\n",
       " '4f396aa08377a89855000392': '',\n",
       " '4f396aa38377a89855000817': '',\n",
       " '4f396aa08377a898550003cc': 'Schriftspracherwerb ABC',\n",
       " '4f396aa48377a89855000907': 'ADHS Rechtschreibung',\n",
       " '4f396aa48377a89855000915': 'ADHS Rechtschreibung Textverständnis',\n",
       " '4f396aa28377a89855000607': 'aussprache hörspiel produzieren Hörkompetenz kommunikation hörkompetenz',\n",
       " '4f396aa38377a898550006fb': 'wahrnehmungsübungen leseförderung lösung für lehrer',\n",
       " '4f396aa18377a8985500051b': '',\n",
       " '4f396aa48377a898550008a1': '',\n",
       " '4f396a9f8377a8985500003f': 'leseförderung lesekompetenz',\n",
       " '4f396aa58377a89855000aff': 'Lesekompetenz Leseverstehen Lesetest Lesekompetenz',\n",
       " '4f396aa48377a89855000a5d': '',\n",
       " '4f396aa08377a898550002db': '',\n",
       " '4f396aa38377a898550007e7': 'Grammatik Verben',\n",
       " '4f396aa38377a8985500084c': 'frau holle lesen leseverstehen märchen',\n",
       " '4f396aa18377a89855000436': '',\n",
       " '4f396aa48377a89855000a2f': 'Kinder- & Jugendbuchliteratur Stationenlernen lesetest leseförderung Lösung für Lehrer',\n",
       " '4f396a9f8377a8985500012e': 'Schreiben kreativ schreiben',\n",
       " '4f396aa08377a89855000301': 'Grammatik Satzglieder',\n",
       " '4f396aa18377a89855000403': 'Umgang mit Texten',\n",
       " '4f396aa58377a89855000b93': 'leseförderung lesemotivation didaktik',\n",
       " '4f396a9f8377a898550001d7': 'Grammatik Wortarten Pronomen',\n",
       " '4f396aa38377a89855000856': 'märchen schneewittchen lesen leseverstehen',\n",
       " '4f396aa38377a8985500075e': '',\n",
       " '4f396aa58377a89855000b0a': '',\n",
       " '4f396aa08377a898550002c5': 'Sprachrätsel methoden im unterricht rechtschreibung  wortbildung',\n",
       " '4f396aa28377a898550006c1': 'leseverstehen leseförderung lesekompetenz lösung zur selbstkontrolle für sus',\n",
       " '4f396aa48377a898550009e3': '',\n",
       " '4f396a9f8377a89855000096': 'leistungskontrolle beobachtungsbogen für lehrer',\n",
       " '4f396a9f8377a89855000166': '',\n",
       " '4f396aa48377a89855000a1e': '',\n",
       " '4f396aa38377a8985500074b': '',\n",
       " '4f396aa58377a89855000b59': 'reime Stilmittel lyrik unterricht vorbereiten',\n",
       " '4f396aa38377a8985500070a': '',\n",
       " '4f396a9e8377a8985500001a': 'theaterstück theaterstück inszenieren dramatik',\n",
       " '4f396aa08377a8985500025b': 'wortarten verben nomen adjektive lösung zur selbstkontrolle für sus',\n",
       " '4f396aa28377a89855000636': 'Schriftspracherwerb Reime phonologische Bewusstheit',\n",
       " '4f396aa28377a89855000614': 'hörspiel produzieren Hörkompetenz hörkompetenz',\n",
       " '4f396aa38377a898550007f6': 'kurzgeschichte leseverstehen schreibprozesse initiieren textverständnis umgang mit texten',\n",
       " '4f396aa38377a89855000721': 'Reden Zuhören Kreativ schreiben Schreibprozesse initiieren',\n",
       " '4f396aa18377a89855000430': 'lesetest leseverstehen umgang mit texten lesekompetenz lösung zur selbstkontrolle für sus',\n",
       " '4f396aa08377a898550002da': '',\n",
       " '4f396aa28377a8985500053c': '',\n",
       " '4f396aa38377a89855000821': '',\n",
       " '4f396aa18377a8985500051d': '',\n",
       " '4f396aa28377a89855000630': 'phonologische Bewusstheit Silbentrennung',\n",
       " '4f396aa48377a89855000aca': 'mündliches erzählen Zuhören methodik fiktionale texte allgemein methoden im unterricht',\n",
       " '4f396a9f8377a89855000075': 'leistungskontrolle lesekompetenz wortarten reime lösung für lehrer',\n",
       " '4f396aa08377a89855000386': 'Wortarten',\n",
       " '4f396aa48377a89855000a18': '',\n",
       " '4f396aa48377a89855000ad3': '',\n",
       " '4f396a9f8377a898550001c0': '',\n",
       " '4f396aa38377a898550007a9': 'methoden im unterricht mündliches erzählen sprachförderung',\n",
       " '4f396aa08377a89855000276': '',\n",
       " '4f396aa08377a89855000349': 'wortfelder wortschatz',\n",
       " '4f396aa58377a89855000b1e': 'Zeitungsartikel leseverstehen inhaltsangabe lösung für lehrer sachtexte',\n",
       " '4f396a9f8377a898550000aa': 'Texte formal gestalten briefe schreiben überarbeiten von texten produktion von sachtexten lösung für lehrer',\n",
       " '4f396a9f8377a898550001b1': 'schreibprozesse initiieren produktion von literarischen formen non-fiktionale texte (sachtexte)',\n",
       " '4f396aa38377a89855000732': 'Lesekompetenz Textverständnis Leseförderung',\n",
       " '4f396aa08377a89855000362': 'Lesetagebuch',\n",
       " '4f396a9f8377a898550000f3': '',\n",
       " '4f396aa08377a8985500039a': 'langer vokal sprachspiele kurzer vokal',\n",
       " '4f396aa38377a898550007d9': '',\n",
       " '4f396a9f8377a89855000123': 'nationalsozialismus leseverstehen lösung für lehrer',\n",
       " '4f396aa48377a89855000a85': '',\n",
       " '4f396a9f8377a8985500017c': 'rechtschreibung silbentrennung lösung zur selbstkontrolle für sus',\n",
       " '4f396aa48377a89855000a66': 'Daz/Daf material Sprachförderung Textverständnis',\n",
       " '4f396aa08377a898550001f2': '',\n",
       " '4f396a9f8377a8985500010c': 'satzglieder adverbiale bestimmungen lösung für lehrer',\n",
       " '4f396aa38377a898550006ff': '',\n",
       " '4f396aa28377a898550005e7': 'sachtexte methoden im unterricht lesestrategien schlüsselwörter lesekompetenz',\n",
       " '4f396aa08377a89855000335': 'synonym wortarten lösung zur selbstkontrolle für sus',\n",
       " '4f396aa28377a898550006d6': 'leseförderung lesekompetenz leseverstehen lösung zur selbstkontrolle für sus',\n",
       " '4f396aa48377a89855000a93': '',\n",
       " '4f396aa28377a89855000561': 'Lesestrategien Textverständnis',\n",
       " '4f396aa18377a89855000518': '',\n",
       " '4f396aa18377a898550004fb': 'leseförderung leseverstehen bildbeschreibung',\n",
       " '4f396aa18377a898550004c5': 'Schriftspracherwerb Elternarbeit',\n",
       " '4f396aa38377a89855000829': '',\n",
       " '4f396aa08377a8985500031c': 'Adverbiale Bestimmungen satzglieder grammatik lösung zur selbstkontrolle für sus lösung für lehrer',\n",
       " '4f396aa18377a89855000465': '',\n",
       " '4f396aa38377a89855000799': 'wörtliche rede satzzeichen satzglieder schreibprozesse initiieren umgang mit texten',\n",
       " '4f396aa08377a898550003ad': 'präpositionen nomen sprachspiele satzglieder artikel',\n",
       " '4f396aa08377a89855000235': '',\n",
       " '4f396aa58377a89855000b28': '',\n",
       " '4f396aa28377a89855000557': '',\n",
       " '4f396aa28377a8985500063b': '',\n",
       " '4f396aa18377a898550004e2': 'abschreibtechniken abschriftübungen rechtschreibung leistungsdifferenzierung lösung für lehrer',\n",
       " '4f396aa58377a89855000b79': 'kurzgeschichte interpretation bewertung',\n",
       " '4f396aa08377a8985500031f': 'Homonyme wortarten lösung für lehrer lösung zur selbstkontrolle für sus',\n",
       " '4f396aa38377a89855000815': 'kurzgeschichte leseverstehen leseförderung schreibprozesse initiieren erzählungen',\n",
       " '4f396aa08377a8985500028d': '',\n",
       " '4f396aa48377a89855000add': 'Grundwortschatz Rechtschreibung Wortbildung Satzbildung',\n",
       " '4f396aa48377a89855000aa2': 'anlaute phonem-graphem-zuordnung schriftspracherwerb',\n",
       " '4f396a9f8377a898550001a0': 'diktat doppelkonsonanten rechtschreibung',\n",
       " '4f396a9f8377a89855000194': 'zeitformen gemischt tempus lösung für lehrer',\n",
       " '4f396aa08377a898550001fa': 'schreiben schreibprozesse initiieren lösung für lehrer produktion von literarischen formen lösung zur selbstkontrolle für sus',\n",
       " '4f396aa48377a89855000973': '',\n",
       " '4f396a9f8377a89855000149': '',\n",
       " '4f396aa38377a89855000763': 'Leseförderung Textverständnis',\n",
       " '4f396a9f8377a89855000086': 'leistungskontrolle bewertung',\n",
       " '4f396aa08377a898550003e4': 'Schriftspracherwerb ABC',\n",
       " '4f396aa38377a898550007ee': '',\n",
       " '4f396aa38377a8985500080b': 'leseförderung leseverstehen kurzgeschichte schreibprozesse initiieren lesekompetenz',\n",
       " '4f396aa08377a89855000209': 'jahreszeiten lyrik Lesekompetenz Leseverstehen lösung für lehrer',\n",
       " '4f396aa28377a89855000533': '',\n",
       " '4f396aa48377a898550009ed': 'non-fiktionale texte (sachtexte) diskontinuierliche texte leseverstehen lesekompetenz lösung für lehrer',\n",
       " '4f396aa48377a898550009f7': '',\n",
       " '4f396a9f8377a89855000182': 'Wortbedeutung Oberbegriffe lösung zur selbstkontrolle für sus',\n",
       " '4f396aa18377a898550004e1': 'Abschriftübungen schriftspracherwerb schreibkompetenz lösung für lehrer',\n",
       " '4f396aa58377a89855000af5': 'Lesekompetenz Leseverstehen Lesetest',\n",
       " '4f396aa28377a89855000657': 'Ausdruck Sprache',\n",
       " '4f396aa18377a89855000439': 'lesekompetenz leseverstehen lesetest lesen lösung für lehrer',\n",
       " '4f396aa08377a8985500038e': '',\n",
       " '4f396aa08377a89855000388': 'Wortarten',\n",
       " '4f396aa48377a898550009f6': '',\n",
       " '4f396aa28377a898550005d2': 'fabeln gattungsmerkmale sprachspiele',\n",
       " '4f396aa38377a898550007a8': 'methoden im unterricht mündliches erzählen erzählungen',\n",
       " '4f396aa08377a8985500022b': 'methoden im unterricht leseführerschein',\n",
       " '4f396aa58377a89855000b9b': '',\n",
       " '4f396a9f8377a89855000056': '',\n",
       " '4f396a9f8377a89855000063': 'Lesekompetenz Leseverstehen Lesetest',\n",
       " '4f396aa08377a8985500024f': 'artikel wortarten lösung zur selbstkontrolle für sus',\n",
       " '4f396a9f8377a8985500009c': '',\n",
       " '4f396aa48377a8985500098c': 'Berufe kennenlernen Aufbau von Kompetenzen',\n",
       " '4f396aa38377a89855000713': 'Daz/Daf material Artikel',\n",
       " '4f396a9f8377a8985500017e': '',\n",
       " '4f396aa18377a89855000479': 'wochenplanarbeit fabeln produktion von literarischen formen lösung für lehrer schreibprozesse initiieren',\n",
       " '4f396aa18377a898550004ce': 'Lesekompetenz Leseförderung',\n",
       " '4f396aa08377a898550003ba': 'Schriftspracherwerb ABC',\n",
       " '4f396aa28377a89855000681': '',\n",
       " '4f396aa48377a89855000996': 'LRS (umgang mit lrs) Diktat',\n",
       " '4f396aa28377a8985500059d': 'phonologische Bewusstheit Inlaute Vokale',\n",
       " '4f396aa48377a89855000ac7': 'mündliches erzählen Zuhören methodik fiktionale texte allgemein methoden im unterricht',\n",
       " '4f396aa58377a89855000b7f': 'klasse Erholung Fachübergreifender Unterricht',\n",
       " '4f396a9f8377a89855000079': 'unterricht vorbereiten methoden im unterricht alternative diktatformen',\n",
       " '4f396aa48377a898550008cb': 'alltagskompetenzen bildergeschichte argumentieren rollenspiele schreibprozesse initiieren',\n",
       " '4f396aa38377a89855000854': 'märchen schneewittchen lesen leseverstehen',\n",
       " '4f396aa48377a89855000911': 'ADHS Rechtschreibung Textverständnis',\n",
       " '4f396aa28377a8985500062e': 'Phonologische bewusstheit Silbentrennung',\n",
       " '4f396a9f8377a89855000043': 'leseförderung lesekompetenz',\n",
       " '4f396aa08377a89855000399': 'hörkompetenz rechtschreibung s-laute sprachspiele methoden im unterricht',\n",
       " '4f396aa08377a8985500030a': 'nomen und adjektive wortarten sprache lösung für lehrer lösung zur selbstkontrolle für sus',\n",
       " '4f396aa08377a89855000248': '',\n",
       " '4f396aa18377a898550004f5': '',\n",
       " '4f396aa48377a898550008ed': 'Sprachförderung Schreibprozesse initiieren',\n",
       " '4f396aa58377a89855000b83': '',\n",
       " '4f396aa38377a89855000811': 'textverständnis leseverstehen kurzgeschichte leseförderung schreibprozesse initiieren',\n",
       " '4f396a9f8377a89855000190': '',\n",
       " '4f396aa38377a89855000850': '',\n",
       " '4f396a9f8377a89855000095': 'leistungsdifferenzierung leseverstehen gedichte redewendungen wortschatz',\n",
       " '4f396aa18377a89855000446': 'Bildergeschichte leseförderung lesetest leseverstehen lösung zur selbstkontrolle für sus',\n",
       " '4f396aa08377a89855000377': 'Grammatik Wortarten Verben Wortbildung',\n",
       " '4f396a9e8377a89855000019': 'theaterstück inszenierungsanweisungen theaterstück inszenieren',\n",
       " '4f396aa18377a89855000438': 'lesekompetenz leseverstehen lesen lösung für lehrer lesetest',\n",
       " '4f396aa48377a898550009d5': '',\n",
       " '4f396aa08377a89855000273': 'rechtschreibung & zeichensetzung wortendungen lösung zur selbstkontrolle für sus lösung für lehrer',\n",
       " '4f396aa48377a898550009df': 'non-fiktionale texte (sachtexte) tiere leseverstehen lesekompetenz lösung für lehrer',\n",
       " '4f396aa18377a89855000524': '',\n",
       " '4f396aa48377a89855000ad5': 'Methoden im Unterricht',\n",
       " '4f396a9f8377a898550000a4': 'alltagskompetenzen Notizen schreiben aufbau von kompetenzen',\n",
       " '4f396aa58377a89855000b90': 'lesemotivation leseförderung medien didaktik',\n",
       " '4f396aa28377a8985500058e': 'phonologische Bewusstheit Vokale Inlaute',\n",
       " '4f396aa28377a898550005c1': 'fabeln lösung für lehrer leseverstehen',\n",
       " '4f396aa48377a89855000abb': '',\n",
       " '4f396aa08377a898550002d1': 'methoden im unterricht kommunikation schreibprozesse initiieren erörternd schreiben',\n",
       " '4f396aa18377a89855000509': '',\n",
       " '4f396aa08377a8985500024b': 'leseführerschein methoden im unterricht',\n",
       " '4f396aa08377a89855000357': '',\n",
       " '4f396aa38377a898550007d0': 'grammatik lösung für lehrer satzarten',\n",
       " '4f396aa28377a898550005b3': 'fabeln leseverstehen umgang mit texten',\n",
       " '4f396aa48377a898550008f9': '',\n",
       " '4f396aa08377a898550002df': '',\n",
       " '4f396aa48377a89855000abd': '',\n",
       " '4f396aa48377a898550008ee': 'Sprachförderung Schreibprozesse initiieren',\n",
       " '4f396aa08377a898550001fe': '',\n",
       " '4f396aa48377a89855000988': 'Berufe kennenlernen Wortfelder Wortfamilien',\n",
       " '4f396aa18377a89855000440': 'leseverstehen leseförderung lesekompetenz lösung zur selbstkontrolle für sus umgang mit texten',\n",
       " '4f396aa18377a89855000420': 'Hörverstehen Kurzgeschichte',\n",
       " '4f396a9f8377a89855000117': 'Grammatik Wortarten Satzglieder',\n",
       " '4f396aa48377a89855000877': '',\n",
       " '4f396aa48377a898550008f4': 'Sprachförderung Schreibprozesse initiieren',\n",
       " '4f396aa38377a89855000788': '',\n",
       " '4f396aa48377a89855000991': '',\n",
       " '4f396aa28377a8985500064b': 'sprachspiele sprache sprachbewusstsein sprachrätsel',\n",
       " '4f396aa48377a8985500092d': 'Märchen Rumpelstilzchen Gebrüder Grimm',\n",
       " '4f396aa48377a8985500090d': 'ADHS Rechtschreibung Textverständnis',\n",
       " '4f396aa48377a898550008c4': 'bildergeschichte argumentieren produktion von literarischen formen schreibprozesse initiieren rollenspiele',\n",
       " '4f396aa28377a89855000529': 'Leseförderung Unterricht vorbereiten',\n",
       " '4f396aa18377a898550003fb': 'Textverständnis Kurzgeschichte \"Nachts schlafen die Ratten doch\"',\n",
       " '4f396aa08377a89855000206': '',\n",
       " '4f396aa28377a89855000526': '',\n",
       " '4f396aa48377a898550009a4': '',\n",
       " '4f396aa48377a89855000a8b': 'Leseförderung Textverständnis',\n",
       " '4f396aa18377a8985500047d': 'artikel präpositionen nomen wortschatz daz/daf material',\n",
       " '4f396aa28377a898550006e4': '',\n",
       " '4f396aa08377a898550003b9': 'Schriftspracherwerb ABC',\n",
       " '4f396aa18377a898550004c2': '',\n",
       " '4f396aa38377a898550007ab': 'mündliches erzählen spracherziehung methoden im unterricht',\n",
       " '4f396aa18377a898550004b7': 'Lesen Leseförderung Methoden im unterricht Unterricht vorbereiten',\n",
       " '4f396aa48377a89855000a03': '',\n",
       " '4f396aa28377a898550006ae': 'sinnentnehmendes lesen leseförderung bild-text-zuordnung',\n",
       " '4f396aa48377a8985500095f': 'briefe schreiben schreibkompetenz leistungsdifferenzierung produktion von sachtexten',\n",
       " '4f396aa18377a8985500042b': 'Kurzgeschichte',\n",
       " '4f396aa58377a89855000bb0': 'kooperatives Lernen Methoden im Unterricht',\n",
       " '4f396aa48377a8985500096f': 'anleitung schreiben leistungsdifferenzierung rezept produktion von sachtexten lesekompetenz',\n",
       " '4f396aa08377a89855000363': 'Lesetagebuch',\n",
       " '4f396a9f8377a898550001a9': 'Wortkunde ausdruck beschreibungen wortschatz lösung für lehrer',\n",
       " '4f396aa48377a89855000871': 'Sprachförderung Redensarten',\n",
       " '4f396aa08377a89855000347': 'wortschatz wortfelder sprache lösung für lehrer lösung zur selbstkontrolle für sus',\n",
       " '4f396aa38377a8985500082b': 'methoden im unterricht schriftspracherwerb sprachspiele wortspiele',\n",
       " '4f396aa08377a898550002bf': '',\n",
       " '4f396aa08377a89855000268': '',\n",
       " '4f396a9f8377a8985500008f': '',\n",
       " '4f396aa08377a8985500025a': 'wortarten nomen adjektive verben lösung zur selbstkontrolle für sus',\n",
       " '4f396aa18377a8985500043b': '',\n",
       " '4f396a9f8377a898550000c2': '',\n",
       " '4f396aa48377a898550009b2': 'LRS (Umgang mit LRS) Rechtschreibung Leseverstehen',\n",
       " '4f396aa28377a898550006a4': '',\n",
       " '4f396a9f8377a8985500014e': '',\n",
       " '4f396aa48377a89855000998': 'LRS (umgang mit lrs) frei schreiben',\n",
       " '4f396aa08377a89855000215': '',\n",
       " '4f396aa08377a89855000352': '',\n",
       " '4f396aa58377a89855000af6': 'Lesekompetenz Leseverstehen Lesetest',\n",
       " '4f396aa38377a8985500070b': '',\n",
       " '4f396a9f8377a89855000199': '',\n",
       " '4f396aa48377a898550008ab': '',\n",
       " '4f396aa38377a89855000727': '',\n",
       " '4f396aa38377a8985500085a': 'Jorinde und Joringel Leseförderung Märchen Textverständnis',\n",
       " '4f396aa58377a89855000af1': '',\n",
       " '4f396a9f8377a89855000071': 'Informationen zu Bildungsstandards rechtschreibung ',\n",
       " '4f396a9f8377a89855000150': 'Berichte schreiben produktion von sachtexten lösung für lehrer',\n",
       " '4f396a9f8377a89855000050': 'Reden Zuhören Sprachbewusstsein Wortbildung',\n",
       " '4f396aa48377a8985500096d': 'leistungsdifferenzierung anleitung schreiben rezept schreibkonferenz produktion von sachtexten',\n",
       " '4f396aa48377a89855000a10': 'lesestrategien lesen lesetest',\n",
       " '4f396a9f8377a8985500002e': '',\n",
       " '4f396aa28377a898550005f4': '',\n",
       " '4f396aa28377a89855000665': 'daz/daf material präpositionen wortschatz lösung für lehrer',\n",
       " '4f396a9f8377a8985500016a': 'wortarten adjektive lösung zur selbstkontrolle für sus',\n",
       " '4f396aa18377a898550004f2': 'Bild-Text-Zuordnung leseförderung lesekompetenz',\n",
       " '4f396aa38377a89855000835': '',\n",
       " '4f396aa48377a898550008fe': 'Sachtexte Kinderrechte',\n",
       " '4f396aa28377a8985500058d': 'phonologische Bewusstheit Inlaute Konsonanten',\n",
       " '4f396aa38377a8985500071e': 'Schreibprozesse initiieren Reden Zuhören Kreativ schreiben',\n",
       " '4f396aa48377a89855000943': 'Methoden im unterricht',\n",
       " '4f396aa48377a8985500097d': 'berichte schreiben berufe kennenlernen lösung für lehrer',\n",
       " '4f396aa28377a89855000646': 'sprachförderung reime phonologische bewusstheit',\n",
       " '4f396aa18377a89855000494': 'wochenplanarbeit sprachrätsel lösung für lehrer',\n",
       " '4f396aa18377a898550004c8': 'Schriftspracherwerb Schreiben Elternarbeit Linkshänder',\n",
       " '4f396aa48377a89855000a3c': 'Leseförderung Textverständnis',\n",
       " '4f396aa58377a89855000b73': '',\n",
       " '4f396aa28377a89855000566': 'Lesestrategien Textverständnis',\n",
       " '4f396aa18377a898550004c9': 'Unterricht vorbereiten Sitzordnung',\n",
       " '4f396aa48377a89855000a78': '',\n",
       " '4f396aa08377a898550002e9': '',\n",
       " '4f396aa08377a8985500029e': 'aussprache Sprechübungen methoden im unterricht',\n",
       " '4f396aa18377a8985500041a': 'Hörverstehen Kurzgeschichte',\n",
       " '4f396aa08377a89855000325': 'Adjektive und Verben wortarten lösung zur selbstkontrolle für sus arbeit mit dem wörterbuch',\n",
       " '4f396aa38377a89855000834': '',\n",
       " '4f396aa28377a8985500067c': 'methoden im unterricht lesekompetenz umgang mit texten',\n",
       " '4f396aa08377a89855000326': 'verben wortarten lösung zur selbstkontrolle für sus',\n",
       " '4f396aa28377a89855000537': 'Lesekompetenz Textverständnis Erzählungen',\n",
       " '4f396a9e8377a8985500000f': '',\n",
       " '4f396aa38377a8985500085e': '',\n",
       " '4f396aa08377a89855000395': '',\n",
       " '4f396aa38377a89855000718': '',\n",
       " '4f396aa08377a8985500024c': 'artikel wortarten',\n",
       " '4f396aa08377a898550003a6': '',\n",
       " '4f396aa28377a898550006e0': 'lesekompetenz leseförderung leseverstehen lösung zur selbstkontrolle für sus',\n",
       " '4f396aa18377a898550003f6': 'Kurzgeschichte \"Das Fenster-Theater\"',\n",
       " '4f396aa38377a89855000844': '',\n",
       " '4f396aa48377a89855000935': '',\n",
       " '4f396aa08377a898550002cd': '',\n",
       " '4f396a9f8377a8985500017b': 'rechtschreibung doppelkonsonanten konsonanten lösung zur selbstkontrolle für sus',\n",
       " '4f396aa28377a8985500056e': '',\n",
       " '4f396aa28377a898550005dd': 'methoden im unterricht lesekompetenz lesestrategien leseförderung',\n",
       " '4f396aa08377a8985500027f': 'vokale umlaute wortfamilien wortfelder lösung zur selbstkontrolle für sus',\n",
       " '4f396aa38377a8985500076a': '',\n",
       " '4f396aa28377a8985500068e': 'argumentieren ausdruck daz/daf material wortschatz lösung für lehrer',\n",
       " '4f396aa08377a8985500039f': 'langer vokal kurzer vokal sprachspiele',\n",
       " '4f396aa08377a8985500035f': '',\n",
       " '4f396a9f8377a898550001f1': 'rechtschreibung  groß- und kleinschreibung lösung für lehrer',\n",
       " '4f396aa08377a8985500038f': 'adjektive grammatik',\n",
       " '4f396aa38377a898550006fd': 'wahrnehmungsübungen leseförderung lösung für lehrer',\n",
       " '4f396aa48377a898550009b8': '',\n",
       " '4f396aa48377a89855000a19': 'lesen lesestrategien lesetest',\n",
       " '4f396a9f8377a8985500011f': '',\n",
       " '4f396aa58377a89855000b75': '',\n",
       " '4f396aa08377a89855000338': 'sprichwörter lösung zur selbstkontrolle für sus',\n",
       " '4f396a9f8377a89855000103': 'Grammatik Wortarten Adverbien',\n",
       " '4f396aa58377a89855000b40': 'texte überarbeiten schreibprozesse initiieren didaktik',\n",
       " '4f396aa38377a8985500072c': '',\n",
       " '4f396aa48377a89855000a6b': 'Daz/Daf material Sprachförderung Textverständnis',\n",
       " '4f396aa08377a8985500035c': 'Grammatik Wörtliche Rede',\n",
       " '4f396aa08377a89855000356': '',\n",
       " '4f396aa08377a89855000332': 'adverbien wortarten lösung zur selbstkontrolle für sus',\n",
       " '4f396aa38377a898550007ec': 'Verben Modus',\n",
       " '4f396aa08377a89855000217': '',\n",
       " '4f396aa28377a898550006b3': 'leseförderung lesen',\n",
       " '4f396aa28377a898550006bd': 'leseverstehen lesekompetenz leseförderung lösung zur selbstkontrolle für sus',\n",
       " '4f396aa28377a8985500058f': 'phonologische Bewusstheit Vokale Inlaute',\n",
       " '4f396aa48377a898550009e2': '',\n",
       " '4f396aa48377a898550008ca': '',\n",
       " '4f396aa38377a8985500073a': 'Lesestrategien Textverständnis',\n",
       " '4f396aa18377a89855000499': 'wochenplanarbeit satzzeichen leseverstehen satzglieder lösung für lehrer',\n",
       " '4f396aa48377a898550008e0': 'leseförderung lesekompetenz umgang mit texten textverständnis leseverstehen',\n",
       " '4f396aa28377a898550006b6': 'lesekompetenz leseförderung leseverstehen lösung zur selbstkontrolle für sus',\n",
       " '4f396aa28377a898550005c9': 'fabeln epik leseförderung',\n",
       " '4f396aa08377a898550002c9': 'methoden im unterricht sprachrätsel Sprachspiele wortbildung',\n",
       " '4f396aa08377a898550003c2': 'Schriftspracherwerb ABC',\n",
       " '4f396aa58377a89855000b2e': 'märchen Astrid Lindgren unterricht vorbereiten lesen',\n",
       " '4f396aa48377a89855000ab4': 'Silbentrennung LRS (Umgang mit LRS) Rechtschreibung',\n",
       " '4f396aa48377a89855000a95': 'methoden im unterricht unterricht vorbereiten',\n",
       " '4f396aa38377a89855000778': 'Rechtschreibung Verben',\n",
       " '4f396aa18377a898550004ac': 'Leseförderung Methoden im Unterricht Geschichten Ritterzeit',\n",
       " '4f396aa08377a898550003c1': 'Schriftspracherwerb ABC',\n",
       " '4f396aa08377a898550003a2': 'Wörter mit tz/z rechtschreibung sprachspiele',\n",
       " '4f396aa08377a89855000210': '',\n",
       " '4f396aa08377a898550002bc': 'methoden im unterricht strategien für schüler zur individuellen fehleranalyse überarbeiten von texten',\n",
       " '4f396aa58377a89855000b30': 'märchen unterricht vorbereiten',\n",
       " '4f396aa38377a898550007c3': 'rechtschreibung & zeichensetzung Fremdwörter lösung für lehrer lösung zur selbstkontrolle für sus',\n",
       " '4f396aa48377a8985500099d': 'LRS (Umgang mit LRS)',\n",
       " '4f396aa38377a89855000807': 'kurzgeschichte erzählungen leseverstehen leseförderung schreibprozesse initiieren',\n",
       " '4f396a9f8377a89855000048': '',\n",
       " '4f396aa08377a8985500021d': '',\n",
       " '4f396aa08377a898550003af': 'präpositionen wortschatz artikel satzglieder sprachspiele',\n",
       " '4f396aa48377a89855000aea': 'Rechtschreibung Grundwortschatz Wortbildung Satzbildung',\n",
       " '4f396aa58377a89855000b45': 'bewertung umgang mit texten didaktik unterricht vorbereiten',\n",
       " '4f396aa58377a89855000b5a': 'Bewertung Interpretation didaktik lyrik',\n",
       " '4f396aa28377a89855000578': '',\n",
       " '4f396aa58377a89855000b14': '',\n",
       " '4f396aa28377a8985500069e': 'daz/daf material unregelmäßige verben konjugieren tempus perfekt lösung für lehrer',\n",
       " '4f396aa38377a89855000798': 'wörtliche rede satzzeichen satzglieder grammatik',\n",
       " '4f396aa38377a89855000722': 'Reden  Zuhören Kreativ schreiben Schreibprozesse initiieren',\n",
       " '4f396aa18377a898550004c0': '',\n",
       " '4f396aa28377a8985500065a': 'Sprache Ausdruck Unterricht vorbereiten',\n",
       " '4f396aa28377a89855000644': 'sprachförderung reime phonologische bewusstheit',\n",
       " '4f396aa28377a89855000625': 'silbentrennung silbenbogen Zuhören hörkompetenz',\n",
       " '4f396a9f8377a89855000042': 'leseverstehen lesekompetenz leseverstehen textverständnis lösung für lehrer',\n",
       " '4f396aa38377a89855000728': '',\n",
       " '4f396aa08377a8985500020f': '',\n",
       " '4f396aa58377a89855000ba9': 'gedichte lyrik unterricht vorbereiten',\n",
       " '4f396aa48377a89855000970': 'leistungsdifferenzierung anleitung schreiben produktion von sachtexten schreibkonferenz lesekompetenz',\n",
       " '4f396aa38377a89855000764': 'Leseförderung Textverständnis',\n",
       " '4f396a9f8377a89855000198': '',\n",
       " '4f396aa08377a898550002ee': 'Grammatik Nominalisierungen',\n",
       " '4f396aa48377a89855000957': 'schreibprozesse initiieren Leistungsdifferenzierung strategien für schüler zur individuellen fehleranalyse briefe schreiben',\n",
       " '4f396aa38377a898550006f4': '',\n",
       " '4f396aa08377a898550002f1': 'Grammatik Wortbildung Nomen',\n",
       " '4f396aa08377a8985500021b': '',\n",
       " '4f396a9f8377a8985500009b': '',\n",
       " '4f396aa38377a89855000820': '',\n",
       " '4f396aa28377a898550006d0': 'leseverstehen lesekompetenz leseförderung lösung zur selbstkontrolle für sus',\n",
       " '4f396a9f8377a898550000cf': 'methoden im unterricht lesestrategien',\n",
       " '4f396aa28377a898550006f1': 'leseförderung abc lösung zur selbstkontrolle für sus rechtschreibung',\n",
       " '4f396aa48377a898550008dd': 'Lesekompetenz Leseverstehen',\n",
       " '4f396aa28377a898550005c4': 'fabeln epik leseförderung',\n",
       " '4f396aa08377a89855000330': 'objekte kasus lösung zur selbstkontrolle für sus',\n",
       " '4f396aa28377a898550005b0': 'fabeln gattungsmerkmale',\n",
       " '4f396aa38377a89855000736': 'Lesekompetenz Textverständnis',\n",
       " '4f396aa08377a898550002b8': 'methoden im unterricht schreibprozesse initiieren produktion von sachtexten',\n",
       " '4f396aa08377a89855000303': '',\n",
       " '4f396aa18377a89855000468': 'leseverstehen leseförderung lesekompetenz lösung zur selbstkontrolle für sus',\n",
       " '4f396aa48377a89855000a80': '',\n",
       " '4f396a9f8377a8985500013b': '',\n",
       " '4f396aa08377a89855000304': 'grammatik Grammatische Fachbegriffe wortfelder lösung für lehrer lösung zur selbstkontrolle für sus',\n",
       " '4f396aa18377a898550004f0': 'methoden im unterricht leseförderung lesekompetenz',\n",
       " '4f396aa58377a89855000b3d': '',\n",
       " '4f396aa28377a89855000546': '',\n",
       " '4f396aa18377a898550003ff': 'Textverständnis \"Die Kegelbahn\" Kurzgeschichte',\n",
       " '4f396aa08377a89855000314': 'wortarten sprache lösung für lehrer lösung zur selbstkontrolle für sus',\n",
       " '4f396aa18377a89855000512': '',\n",
       " '4f396aa18377a89855000484': 'wochenplanarbeit abc sprachrätsel lösung für lehrer',\n",
       " '4f396aa48377a89855000abc': '',\n",
       " '4f396aa48377a8985500093d': 'Methoden im unterricht',\n",
       " '4f396aa38377a8985500078e': '',\n",
       " '4f396aa38377a89855000756': '',\n",
       " '4f396aa28377a898550006a0': 'daz/daf material leistungskontrolle konjugieren deklinieren strategien für schüler zur individuellen fehleranalyse',\n",
       " '4f396aa28377a89855000695': 'Pluralendungen deklinieren daz/daf material pluralformen nomen lösung für lehrer',\n",
       " '4f396aa28377a898550005fb': 'hörspiel produzieren hörkompetenz Hörkompetenz Zuhören wahrnehmungsübungen',\n",
       " '4f396aa38377a898550007be': '',\n",
       " '4f396a9f8377a898550001aa': 'wortkunde bildergeschichte lösung für lehrer ausdruck',\n",
       " '4f396aa28377a89855000632': '',\n",
       " '4f396aa28377a898550005af': 'fabeln leseverstehen wortschatz lesekompetenz lösung für lehrer',\n",
       " '4f396aa48377a8985500087e': '',\n",
       " '4f396aa48377a89855000913': 'ADHS Rechtschreibung Textverständnis',\n",
       " '4f396aa48377a898550008de': '',\n",
       " '4f396aa08377a898550002ef': 'Grammatik Nominalisierungen',\n",
       " '4f396aa58377a89855000b37': 'Märchen unterricht vorbereiten didaktik',\n",
       " '4f396aa18377a8985500048b': 'wochenplanarbeit ähnliche Konsonanten lösung für lehrer rechtschreibung sprachrätsel',\n",
       " '4f396aa48377a89855000a31': 'wortschatz Stationenlernen wortfelder lösung für lehrer',\n",
       " '4f396aa08377a898550003c0': 'Schriftspracherwerb ABC',\n",
       " '4f396a9f8377a89855000179': 'langer vokal kurzer vokal rechtschreibung lösung zur selbstkontrolle für sus',\n",
       " '4f396aa08377a8985500034b': '',\n",
       " '4f396a9f8377a8985500004d': 'Reden Zuhören Wortbildung',\n",
       " '4f396aa48377a8985500091d': '',\n",
       " '4f396aa08377a898550003bb': 'Schriftspracherwerb ABC',\n",
       " '4f396aa58377a89855000b58': 'lyrik liebe unterricht vorbereiten',\n",
       " '4f396aa38377a8985500072d': '',\n",
       " '4f396aa38377a89855000779': 'Rechtschreibung',\n",
       " '4f396aa48377a898550008a5': '',\n",
       " '4f396aa08377a89855000289': 'lesekompetenz leseverstehen textverständnis leseführerschein lösung zur selbstkontrolle für sus',\n",
       " '4f396aa38377a898550007ad': 'daz/daf material mündliches erzählen spracherziehung methoden im unterricht',\n",
       " '4f396aa18377a8985500049f': 'wochenplanarbeit',\n",
       " '4f396aa08377a898550003db': 'Schriftspracherwerb ABC',\n",
       " '4f396aa58377a89855000b23': 'umgang mit texten analyse fiktionaler texte leseförderung lesen kinder- & jugendbuchliteratur',\n",
       " '4f396aa48377a89855000904': '',\n",
       " '4f396aa38377a89855000783': 'leseförderung satzzeichen satzglieder schreibprozesse initiieren',\n",
       " '4f396a9f8377a89855000193': 'zeitformen gemischt tempus lösung für lehrer',\n",
       " '4f396aa38377a89855000702': 'Lesen Lesekompetenz',\n",
       " '4f396aa48377a89855000925': 'Methoden im unterricht',\n",
       " '4f396aa18377a898550004c4': 'Leseförderung Diagnose von Rechtschreibschwierigkeiten',\n",
       " '4f396aa08377a898550003a1': 'Wörter mit ck/k rechtschreibung sprachspiele',\n",
       " '4f396aa38377a89855000729': '',\n",
       " '4f396aa18377a898550004d1': 'Methoden im Unterricht',\n",
       " '4f396aa58377a89855000b41': 'Texte überarbeiten Schreibkonferenz schreibprozesse initiieren unterricht vorbereiten',\n",
       " '4f396aa08377a89855000359': 'wortfelder wortschatz lösung für lehrer',\n",
       " '4f396aa28377a89855000633': 'phonologische bewusstheit silbentrennung',\n",
       " '4f396a9f8377a8985500017a': 'rechtschreibung konsonanten lösung zur selbstkontrolle für sus',\n",
       " '4f396aa58377a89855000b13': '',\n",
       " '4f396aa28377a898550006e5': '',\n",
       " '4f396aa38377a89855000723': 'Schreibprozesse initiieren Kreativ schreiben Reden Zuhören',\n",
       " '4f396aa18377a898550003f2': '',\n",
       " '4f396a9f8377a89855000092': '',\n",
       " '4f396aa48377a89855000919': 'ADHS Rechtschreibung Textverständnis',\n",
       " '4f396aa18377a89855000422': 'Hörverstehen Kurzgeschichte',\n",
       " '4f396aa38377a89855000749': 'Wie geht es weiter, Leon? Leseförderung Lesestrategien Textverständnis',\n",
       " '4f396a9e8377a89855000007': 'Schriftspracherwerb Einladung schreibung',\n",
       " '4f396aa08377a8985500023b': 'leseförderung leseverstehen lesekompetenz leseführerschein lösung für lehrer',\n",
       " '4f396aa28377a8985500059b': 'phonologische Bewusstheit Auslaute',\n",
       " '4f396aa18377a89855000441': '',\n",
       " '4f396aa08377a898550003b6': '',\n",
       " '4f396a9f8377a89855000105': 'Grammatik Wortarten Präpositionen und Konjunktionen',\n",
       " '4f396aa08377a8985500024e': 'unbestimmte Artikel artikel wortarten lösung für lehrer',\n",
       " '4f396a9f8377a898550001e4': '',\n",
       " '4f396aa48377a898550008b4': 'Produktion von literarischen Formen Bildergeschichte',\n",
       " '4f396a9f8377a898550000af': '',\n",
       " '4f396aa28377a89855000664': 'daz/daf material lösung für lehrer ausdruck satzglieder pronomen',\n",
       " '4f396aa18377a8985500048d': 'rechtschreibung wochenplanarbeit ähnliche konsonanten sprachrätsel lösung für lehrer',\n",
       " '4f396aa08377a89855000369': 'Grammatik Nomen Wortbildung',\n",
       " '4f396aa48377a89855000ac1': 'Zuhören Mündliches Erzählen methoden im unterricht methodik fiktionale texte allgemein',\n",
       " '4f396aa28377a89855000698': 'daz/daf material deklinieren possessivpronomen nomen lösung für lehrer',\n",
       " '4f396a9f8377a898550001d0': '',\n",
       " '4f396aa28377a8985500069f': 'daz/daf material tempus plusquamperfekt konjugieren unregelmäßige verben lösung für lehrer',\n",
       " '4f396a9f8377a89855000051': 'Sprachbewusstsein Reden Zuhören',\n",
       " '4f396aa48377a89855000875': '',\n",
       " '4f396aa38377a8985500074f': 'Umgang mit Texten Gebrauchstexte Produktion von Sachtexten',\n",
       " '4f396aa38377a89855000795': '',\n",
       " '4f396aa28377a89855000569': 'Lesestrategien',\n",
       " '4f396aa38377a898550007b8': '',\n",
       " '4f396a9e8377a89855000020': 'theaterstück theaterstück inszenieren dramatik',\n",
       " '4f396aa48377a89855000ad7': 'Rechtschreibung  Wortbildung Satzbildung',\n",
       " '4f396aa58377a89855000b8b': 'bildergeschichte lesemotivation Leseförderung didaktik',\n",
       " '4f396aa48377a89855000adc': 'Rechtschreibung Wortbildung Satzbildung Farben',\n",
       " '4f396aa48377a898550009de': 'leseförderung tiere non-fiktionale texte (sachtexte)',\n",
       " '4f396a9f8377a89855000098': 'methoden im unterricht',\n",
       " '4f396aa28377a898550006cc': 'leseförderung lesekompetenz leseverstehen lösung zur selbstkontrolle für sus',\n",
       " '4f396aa38377a8985500081b': '',\n",
       " '4f396aa38377a89855000793': 'strategien für schüler zur individuellen fehleranalyse',\n",
       " '4f396aa08377a89855000387': '',\n",
       " '4f396aa38377a898550007fc': 'leseverstehen textverständnis kurzgeschichte schreibprozesse initiieren umgang mit texten',\n",
       " '4f396a9f8377a8985500004e': 'Reden Zuhören Wortbildung Sprachbewusstsein',\n",
       " '4f396aa38377a89855000849': 'märchen frau holle lesen leseverstehen',\n",
       " '4f396aa38377a898550007b7': 'methoden im unterricht mündliches erzählen schreibprozesse initiieren spracherziehung sprachförderung',\n",
       " '4f396aa08377a898550002b7': 'methoden im unterricht schreibprozesse initiieren',\n",
       " '4f396aa18377a8985500040f': 'fantasiereise schreibprozesse initiieren lyrik reime',\n",
       " '4f396aa08377a89855000353': '',\n",
       " '4f396aa38377a8985500081a': '',\n",
       " '4f396aa48377a89855000a98': 'sprachrätsel sprachspiele',\n",
       " '4f396aa08377a8985500031a': 'satzglieder Prädikat lösung für lehrer lösung zur selbstkontrolle für sus grammatik',\n",
       " '4f396aa38377a89855000759': 'Leseförderung Leseführerschein Textverständnis',\n",
       " '4f396aa48377a8985500087f': '',\n",
       " '4f396a9f8377a8985500008e': '',\n",
       " '4f396aa18377a8985500040e': 'fantasiereise schreibprozesse initiieren zeitformen',\n",
       " '4f396aa38377a89855000708': '',\n",
       " '4f396aa18377a898550004ad': 'Leseförderung Sachtexte Methoden im Unterricht',\n",
       " '4f396aa48377a89855000926': 'Methoden im unterricht',\n",
       " '4f396aa28377a89855000572': 'Schriftspracherwerb Erzählungen Verben Synonym',\n",
       " '4f396aa08377a8985500037b': 'Grammatik Wortarten Verben Tempus',\n",
       " '4f396aa18377a898550003f7': 'Kurzgeschichte \"Das Fenster-Theater\"',\n",
       " '4f396a9f8377a89855000134': '',\n",
       " '4f396aa48377a898550009ab': 'LRS (Umgang mit LRS) Rechtschreibung Reden Zuhören',\n",
       " '4f396aa28377a89855000551': 'Lesestrategien Textverständnis Sachtexte',\n",
       " '4f396aa08377a898550002a4': '',\n",
       " '4f396aa38377a898550007da': '',\n",
       " '4f396aa48377a89855000a09': '',\n",
       " '4f396aa48377a8985500093f': 'Methoden im unterricht',\n",
       " '4f396aa28377a89855000581': 'phonologische Bewusstheit Vokale Anlaute',\n",
       " '4f396aa58377a89855000aed': '',\n",
       " '4f396a9f8377a89855000133': '',\n",
       " '4f396aa58377a89855000b9d': 'lyrik gedichte didaktik',\n",
       " '4f396aa18377a89855000475': 'wochenplanarbeit rechtschreibung groß- und kleinschreibung lösung für lehrer',\n",
       " '4f396aa28377a89855000648': 'reime sprachförderung phonologische bewusstheit',\n",
       " '4f396aa48377a898550008e6': '',\n",
       " '4f396a9f8377a898550001d2': 'erörterung strategien für schüler zur individuellen fehleranalyse',\n",
       " '4f396aa48377a89855000a59': 'Rechtschreibung',\n",
       " '4f396aa48377a898550008f6': '',\n",
       " '4f396aa58377a89855000af3': 'Lesekompetenz Lesetest Leseverstehen',\n",
       " '4f396aa08377a898550002ac': 'umgang mit texten methoden im unterricht',\n",
       " '4f396aa58377a89855000b3a': '',\n",
       " '4f396aa38377a89855000776': 'Rechtschreibung Wortarten',\n",
       " '4f396aa48377a89855000a5a': 'Rechtschreibung Schärfung Auslautverhärtung Dehnung',\n",
       " '4f396aa38377a89855000863': 'Leseförderung Hans im Glück Gebrüder Grimm',\n",
       " '4f396aa38377a898550007dc': 'Bewerbung schreiben lösung für lehrer',\n",
       " '4f396aa08377a898550002f8': 'Grammatik Wortarten',\n",
       " '4f396aa08377a898550002ec': '',\n",
       " '4f396aa08377a898550003c6': 'Schriftspracherwerb ABC',\n",
       " '4f396aa48377a898550009d9': 'non-fiktionale texte (sachtexte) umgang mit texten leseverstehen lesekompetenz lösung für lehrer',\n",
       " '4f396aa48377a898550009ad': '',\n",
       " '4f396aa48377a89855000a49': '',\n",
       " '4f396aa18377a89855000495': 'wochenplanarbeit sprachrätsel lösung für lehrer',\n",
       " '4f396aa18377a8985500043c': 'leseverstehen leseförderung lesekompetenz lösung zur selbstkontrolle für sus',\n",
       " '4f396aa18377a89855000503': '',\n",
       " '4f396a9e8377a89855000013': '',\n",
       " '4f396aa08377a89855000245': 'leseführerschein leseförderung lesekompetenz lösung zur selbstkontrolle für sus leseverstehen',\n",
       " '4f396a9f8377a8985500019c': 's-laute rechtschreibung',\n",
       " '4f396aa08377a898550002cb': 'methoden im unterricht Sprachbewusstsein grammatik',\n",
       " '4f396a9f8377a898550001d1': 'erörterung schreibprozesse initiieren produktion von sachtexten',\n",
       " '4f396aa08377a898550001f3': '',\n",
       " '4f396aa58377a89855000b26': '',\n",
       " '4f396aa28377a898550005d0': 'fabeln gattungsmerkmale epik',\n",
       " '4f396aa38377a89855000766': 'Leseförderung Textverständnis',\n",
       " '4f396aa48377a89855000ae0': '',\n",
       " '4f396aa28377a89855000575': 'Schriftspracherwerb Erzählungen Wortarten Synonym',\n",
       " '4f396a9f8377a8985500010b': 'satzglieder Objekte lösung für lehrer',\n",
       " '4f396aa48377a89855000979': 'berufe kennenlernen satzbildung lösung für lehrer',\n",
       " '4f396aa28377a8985500061e': '',\n",
       " '4f396a9f8377a898550001d3': '',\n",
       " '4f396aa08377a89855000282': '',\n",
       " '4f396aa58377a89855000b67': 'arbeit mit dem wörterbuch wortschatz unterricht vorbereiten',\n",
       " '4f396aa58377a89855000bb1': 'kooperatives Lernen Methoden im Unterricht',\n",
       " '4f396aa48377a89855000ae5': 'Rechtschreibung  Grundwortschatz Satzbildung Wortbildung',\n",
       " '4f396aa28377a89855000675': '',\n",
       " '4f396aa18377a89855000486': 'wochenplanarbeit sprachrätsel lösung für lehrer',\n",
       " '4f396aa08377a89855000373': 'Grammatik Wortarten Verben',\n",
       " '4f396aa28377a8985500065e': 'Sachtexte Textverständnis',\n",
       " '4f396aa48377a89855000a9b': 'artikel wortschatz pluralformen nomen daz/daf material präpositionen',\n",
       " '4f396aa38377a89855000780': 'leseförderung groß- und kleinschreibung rechtschreibung',\n",
       " '4f396a9f8377a89855000088': 'methoden im unterricht rechtschreibung',\n",
       " '4f396aa48377a89855000ad0': 'mündliches erzählen Zuhören methodik fiktionale texte allgemein methoden im unterricht',\n",
       " '4f396a9f8377a89855000062': 'Lesen Lesekompetenz Leseverstehen Lesetest',\n",
       " '4f396aa48377a898550008db': '',\n",
       " '4f396aa28377a8985500061a': 'methoden im unterricht unterricht vorbereiten hörspiel produzieren hörkompetenz Hörkompetenz',\n",
       " '4f396aa48377a89855000a24': 'Schreibprozesse initiieren',\n",
       " '4f396aa18377a89855000432': 'umgang mit texten lesen non-fiktionale texte (sachtexte)',\n",
       " '4f396aa28377a8985500067d': 'methoden im unterricht artikel',\n",
       " '4f396aa58377a89855000b52': '',\n",
       " '4f396a9f8377a89855000163': 'berichte schreiben produktion von sachtexten',\n",
       " '4f396aa48377a89855000a12': '',\n",
       " '4f396aa38377a898550007df': '',\n",
       " '4f396aa18377a89855000457': '',\n",
       " '4f396aa48377a89855000ad1': '',\n",
       " '4f396aa28377a898550005a0': 'phonologische Bewusstheit Vokale',\n",
       " '4f396aa08377a89855000288': 'lesekompetenz leseförderung leseverstehen lösung für lehrer textverständnis',\n",
       " '4f396aa48377a89855000ac0': 'methodik fiktionale texte allgemein methoden im unterricht produktion von literarischen formen Zuhören',\n",
       " '4f396aa08377a8985500023c': 'leseförderung leseführerschein leseverstehen lesekompetenz lösung zur selbstkontrolle für sus',\n",
       " '4f396aa28377a8985500052b': '',\n",
       " '4f396aa18377a89855000489': 'wochenplanarbeit kreativ schreiben produktion von literarischen formen schreibprozesse initiieren lösung für lehrer',\n",
       " '4f396aa28377a89855000688': 'Personenbeschreibung ausdruck adjektive lösung für lehrer wortschatz',\n",
       " '4f396aa18377a8985500050a': 'Leseförderung Unterricht vorbereiten',\n",
       " '4f396aa18377a89855000523': '',\n",
       " '4f396aa38377a898550007d3': '',\n",
       " '4f396a9f8377a8985500011e': 'Non-fiktionale texte (sachtexte)',\n",
       " '4f396aa48377a89855000a58': 'Rechtschreibung',\n",
       " '4f396aa48377a89855000975': 'erörternd schreiben schreiben',\n",
       " '4f396aa38377a89855000852': 'märchen schneewittchen lesen leseverstehen',\n",
       " '4f396aa08377a898550001ff': '',\n",
       " '4f396aa18377a8985500050f': '',\n",
       " '4f396aa28377a8985500064d': '',\n",
       " '4f396aa28377a89855000649': '',\n",
       " '4f396aa48377a89855000a40': 'Leseförderung Textverständnis',\n",
       " '4f396aa48377a8985500088c': 'Grammatik Nomen',\n",
       " '4f396a9f8377a8985500016d': '',\n",
       " '4f396aa08377a898550002f4': 'Grammatik Verben',\n",
       " '4f396a9f8377a898550000a0': 'lesekompetenz fachübergreifender unterricht wortspiele',\n",
       " '4f396aa58377a89855000b47': 'schreibprozesse initiieren erzählkompetenz didaktik unterricht vorbereiten',\n",
       " '4f396aa08377a898550001fc': 'fiktionale texte (literatur) Textgattung Märchen umgang mit texten lösung für lehrer lösung zur selbstkontrolle für sus',\n",
       " '4f396aa38377a8985500083b': 'Märchen Bremer Stadtmusikanten',\n",
       " '4f396aa18377a898550004db': '',\n",
       " '4f396aa18377a898550004ff': '',\n",
       " '4f396aa28377a89855000586': 'phonologische Bewusstheit Anlaute',\n",
       " '4f396aa28377a898550005dc': '',\n",
       " '4f396aa28377a89855000534': '',\n",
       " '4f396aa18377a89855000507': 'Leseförderung Textverständnis Unterricht vorbereiten',\n",
       " '4f396aa08377a898550002c3': 'methoden im unterricht Wortschatz rechtschreibung  wortarten',\n",
       " '4f396aa08377a8985500036d': 'Grammatik Wortarten Nomen',\n",
       " '4f396aa58377a89855000b06': 'Leseverstehen Lesekompetenz Lesetest',\n",
       " '4f396aa48377a89855000914': 'ADHS Rechtschreibung Textverständnis',\n",
       " '4f396aa38377a898550007b4': 'methoden im unterricht daz/daf material fabeln',\n",
       " '4f396aa38377a8985500080e': 'leseverstehen textverständnis leseförderung kurzgeschichte synonym',\n",
       " '4f396aa48377a898550008b1': 'Produktion von literarischen Formen Bildergeschichte',\n",
       " '4f396aa18377a89855000497': 'wochenplanarbeit satzzeichen satzglieder leseverstehen lösung für lehrer',\n",
       " '4f396aa18377a8985500045b': '',\n",
       " '4f396a9f8377a8985500005b': 'Lesen Lesetest Lesekompetenz Leseverstehen',\n",
       " '4f396aa48377a89855000a9d': '',\n",
       " '4f396aa08377a898550002fb': 'Grammatik Wortfamilien',\n",
       " '4f396aa48377a89855000a74': 'Lesen Schreiben',\n",
       " '4f396aa28377a89855000604': 'hörspiel produzieren Hörkompetenz hörkompetenz',\n",
       " '4f396aa28377a8985500054a': 'Lesestrategien Sachtexte',\n",
       " '4f396aa28377a898550005e3': 'sachtexte schlüsselwörter lesekompetenz lesestrategien methoden im unterricht',\n",
       " '4f396a9f8377a8985500008b': 'methoden im unterricht strategien für schüler zur individuellen fehleranalyse rechtschreibung',\n",
       " '4f396aa08377a89855000300': 'Grammatik Satzglieder',\n",
       " '4f396aa18377a898550004b4': '',\n",
       " '4f396aa28377a8985500059e': 'phonologische Bewusstheit Phonem-Graphem-Zuordnung',\n",
       " '4f396aa08377a89855000398': 'konsonanten methoden im unterricht sprachförderung sprachspiele',\n",
       " '4f396aa58377a89855000b95': 'lesemotivation leseförderung didaktik',\n",
       " '4f396aa48377a89855000997': 'LRS (umgang mit lrs)',\n",
       " '4f396aa18377a898550003f3': 'Textverständnis \"Zwei Männer\" Kurzgeschichte',\n",
       " '4f396aa38377a89855000813': 'kurzgeschichte leseverstehen leseförderung schreibprozesse initiieren erzählungen',\n",
       " '4f396aa28377a89855000616': 'hörspiel produzieren Hörkompetenz hörkompetenz',\n",
       " '4f396aa38377a898550007ea': 'Grammatik Handlungsart Verben',\n",
       " '4f396a9f8377a8985500010f': '',\n",
       " '4f396a9f8377a89855000161': 'berichte schreiben produktion von sachtexten lösung für lehrer',\n",
       " '4f396a9f8377a89855000080': 'alternative diktatformen leistungsdifferenzierung lesekompetenz strategien für schüler zur individuellen fehleranalyse lösung für lehrer',\n",
       " '4f396aa28377a89855000672': '',\n",
       " '4f396a9f8377a8985500006e': '',\n",
       " '4f396a9f8377a8985500005f': 'Lesen Lesekompetenz Leseverstehen Lesetest',\n",
       " '4f396aa08377a89855000226': 'wortschatz wortfelder sprache lösung zur selbstkontrolle für sus lösung für lehrer',\n",
       " '4f396aa38377a898550006f6': '',\n",
       " '4f396aa38377a898550007e2': 'Textverständnis Beschreibungen',\n",
       " '4f396aa18377a8985500047f': 'wochenplanarbeit wortarten lösung für lehrer sprache',\n",
       " '4f396aa48377a898550009fa': '',\n",
       " '4f396aa38377a8985500073b': 'Lesestrategien Textverständnis',\n",
       " '4f396aa48377a89855000a0e': '',\n",
       " '4f396aa18377a89855000450': 'Lesekompetenz Textverständnis',\n",
       " '4f396aa28377a8985500065b': 'Rechtschreibung & Zeichensetzung Unterricht vorbereiten',\n",
       " '4f396aa28377a898550005fe': 'hörspiel produzieren methoden im unterricht unterricht vorbereiten hörkompetenz Hörkompetenz',\n",
       " '4f396aa08377a898550003b1': 'daz/daf material präpositionen sprachspiele artikel nomen',\n",
       " '4f396aa38377a89855000808': 'textverständnis leseverstehen kurzgeschichte schreibprozesse initiieren sprichwörter',\n",
       " '4f396aa08377a898550002a9': 'Reziprokes Lesen lesestrategien umgang mit texten methoden im unterricht',\n",
       " '4f396a9f8377a898550001b9': 'erörterung lösung für lehrer',\n",
       " '4f396a9f8377a89855000148': '',\n",
       " '4f396a9f8377a89855000070': 'leistungsdifferenzierung alternative Diktatformen singular - plural reime leseverstehen',\n",
       " '4f396aa08377a89855000383': '',\n",
       " '4f396a9f8377a898550001ab': 'bildergeschichte wortkunde ausdruck',\n",
       " '4f396aa18377a898550004b3': '',\n",
       " '4f396aa08377a898550002f7': 'Grammatik Adjektive',\n",
       " '4f396aa08377a898550002e7': 'Rechtschreibung Auslautverhärtung',\n",
       " '4f396a9f8377a898550000df': 'lesen leseverstehen lösung für lehrer',\n",
       " '4f396a9f8377a898550000fe': '',\n",
       " '4f396aa38377a898550006f3': '',\n",
       " '4f396a9f8377a898550000da': '',\n",
       " '4f396aa08377a89855000283': '',\n",
       " '4f396a9e8377a89855000008': 'Schriftspracherwerb Einladung schreibung',\n",
       " '4f396aa48377a898550009b7': '',\n",
       " '4f396aa48377a898550008f8': 'fachübergreifender unterricht Deutsch-Englisch-Material sprachrätsel',\n",
       " '4f396aa48377a8985500093c': 'Methoden im unterricht',\n",
       " '4f396a9f8377a898550001c9': 'Argumentieren schreibprozesse initiieren lösung für lehrer',\n",
       " '4f396a9f8377a89855000119': 'Grammatik Verben',\n",
       " '4f396aa48377a898550009d6': 'umgang mit texten non-fiktionale texte (sachtexte) lesen leseförderung',\n",
       " '4f396aa08377a898550002fd': 'Grammatik Wortfamilien',\n",
       " '4f396aa08377a898550002e1': 'Leseförderung Textverständnis',\n",
       " '4f396aa48377a89855000868': '',\n",
       " '4f396aa18377a89855000407': '',\n",
       " '4f396a9e8377a89855000014': 'Theaterstück dramatik medien',\n",
       " '4f396aa38377a898550007aa': 'methoden im unterricht Spracherziehung mündliches erzählen',\n",
       " '4f396aa18377a8985500041d': 'Kurzgeschichte',\n",
       " '4f396aa38377a89855000846': 'frau holle märchen lesen',\n",
       " '4f396aa48377a898550008a7': '',\n",
       " '4f396aa38377a898550007ff': 'leseverstehen leseförderung schreibprozesse initiieren erzählungen kurzgeschichte',\n",
       " '4f396aa18377a898550004d0': 'Elternarbeit',\n",
       " '4f396aa08377a898550002eb': 'methoden im unterricht strategien für schüler zur individuellen fehleranalyse methodik fiktionale texte allgemein überarbeiten von texten',\n",
       " '4f396a9f8377a89855000137': '',\n",
       " '4f396aa28377a89855000682': '',\n",
       " '4f396aa18377a8985500043f': 'umgang mit texten leseförderung leseverstehen',\n",
       " '4f396aa08377a89855000227': '',\n",
       " '4f396aa18377a8985500044d': '',\n",
       " '4f396a9f8377a89855000024': '',\n",
       " '4f396a9f8377a8985500008c': 'methoden im unterricht strategien für schüler zur individuellen fehleranalyse rechtschreibung',\n",
       " '4f396aa48377a89855000928': 'Methoden im unterricht',\n",
       " '4f396aa08377a8985500028e': '',\n",
       " '4f396a9e8377a89855000016': 'theaterstück inszenieren Inszenierungsanweisungen theaterstück',\n",
       " '4f396aa18377a8985500050d': 'Leseförderung Unterricht vorbereiten',\n",
       " '4f396aa28377a898550005b5': 'fabeln lösung für lehrer gattungsmerkmale',\n",
       " '4f396aa48377a89855000ad6': 'Rechtschreibung Wortbildung Satzbildung Familie',\n",
       " '4f396a9f8377a89855000177': 'rechtschreibung kurzer vokal lösung zur selbstkontrolle für sus',\n",
       " '4f396aa08377a8985500034f': '',\n",
       " '4f396aa28377a89855000583': 'phonologische Bewusstheit Vokale Anlaute',\n",
       " '4f396aa38377a898550007ca': '',\n",
       " '4f396a9f8377a898550001ef': 'rechtschreibung  Doppelkonsonanten lösung für lehrer',\n",
       " '4f396aa08377a89855000241': '',\n",
       " '4f396a9f8377a898550001e2': '',\n",
       " '4f396aa18377a898550004d4': 'Schriftstörungen',\n",
       " '4f396a9f8377a898550001c6': '',\n",
       " '4f396aa58377a89855000ba3': 'fachübergreifender unterricht gedichte lyrik unterricht vorbereiten',\n",
       " '4f396aa48377a898550008b0': 'Produktion von literarischen Formen Bildergeschichte',\n",
       " '4f396aa38377a89855000781': 'rechtschreibung Satz- und Wortgrenzen leseförderung groß- und kleinschreibung',\n",
       " '4f396aa08377a898550003aa': 'artikel nomen daz/daf material sprachspiele singular - plural',\n",
       " '4f396aa28377a89855000615': 'methoden im unterricht unterricht vorbereiten hörspiel produzieren Hörkompetenz hörkompetenz',\n",
       " '4f396aa28377a898550005f0': 'Lesestrategien Fabeln Textverständnis',\n",
       " '4f396aa48377a89855000922': 'Methoden im unterricht',\n",
       " '4f396aa08377a898550003c3': 'Schriftspracherwerb ABC',\n",
       " '4f396aa48377a8985500097e': '',\n",
       " '4f396a9f8377a89855000040': 'leseverstehen leseförderung lesekompetenz textverständnis lösung für lehrer',\n",
       " '4f396aa48377a898550009b9': 'internet non-fiktionale texte (sachtexte)',\n",
       " '4f396aa48377a89855000a25': 'Schreibprozesse initiieren',\n",
       " '4f396aa08377a89855000318': 'satzglieder satzbildung lösung für lehrer lösung zur selbstkontrolle für sus',\n",
       " '4f396aa08377a89855000389': '',\n",
       " '4f396aa38377a8985500078c': 'strategien für schüler zur individuellen fehleranalyse',\n",
       " '4f396aa48377a89855000a62': 'Daz/Daf material Sprachförderung Leseförderung',\n",
       " '4f396aa38377a89855000742': 'Leseförderung Textverständnis',\n",
       " '4f396a9f8377a898550000d7': 'lesen schriftspracherwerb schreibschrift lösung zur selbstkontrolle für sus',\n",
       " '4f396aa48377a898550008c7': 'bildergeschichte argumentieren schreibprozesse initiieren produktion von literarischen formen rollenspiele',\n",
       " '4f396aa08377a89855000231': 'Wörter mit nd wörter mit tz/z rechtschreibung doppelkonsonanten wörter mit ck/k',\n",
       " '4f396aa08377a898550002a7': 'umgang mit texten methoden im unterricht',\n",
       " '4f396aa08377a89855000396': 'sprachspiele langer vokal kurzer vokal methoden im unterricht',\n",
       " '4f396aa48377a898550009fd': '',\n",
       " '4f396aa38377a89855000802': 'leseverstehen textverständnis kurzgeschichte umgang mit texten schreibprozesse initiieren',\n",
       " '4f396aa48377a898550008f7': 'sachtexte leistungsdifferenzierung leseverstehen lesekompetenz sprachrätsel',\n",
       " '4f396aa38377a89855000755': '',\n",
       " '4f396aa18377a8985500050e': '',\n",
       " '4f396a9f8377a89855000089': 'methoden im unterricht verben konjugieren',\n",
       " '4f396aa28377a89855000696': 'deklinieren bestimmte artikel nomen lösung für lehrer unbestimmte artikel',\n",
       " '4f396aa58377a89855000b2c': 'Märchen Erzählkompetenz unterricht vorbereiten fabeln',\n",
       " '4f396aa18377a8985500042c': 'Hörverstehen Kurzgeschichte',\n",
       " '4f396aa48377a898550009f8': 'rollenspiele leseförderung lösung für lehrer',\n",
       " '4f396aa48377a89855000a1f': '',\n",
       " '4f396a9f8377a898550001bc': '',\n",
       " '4f396aa48377a898550009e5': 'diskontinuierliche texte non-fiktionale texte (sachtexte) leseförderung',\n",
       " '4f396aa48377a8985500094b': '',\n",
       " '4f396aa28377a898550006f2': '',\n",
       " '4f396a9f8377a89855000130': '',\n",
       " '4f396aa58377a89855000b43': 'rechtschreibung schreibkonferenz schreibprozesse initiieren didaktik',\n",
       " '4f396aa48377a898550008be': '',\n",
       " '4f396aa08377a898550002b0': 'Medientagebuch medien methoden im unterricht',\n",
       " '4f396a9e8377a89855000021': 'theaterstück theaterstück inszenieren inszenierungsanweisungen',\n",
       " '4f396aa28377a898550006ee': '',\n",
       " '4f396aa48377a89855000900': 'Methoden im Unterricht Kinderrechte',\n",
       " '4f396a9f8377a898550000f9': 'Zuhören hörkompetenz Hörverstehen lösung für lehrer',\n",
       " '4f396a9f8377a89855000155': 'berichte schreiben produktion von sachtexten lösung für lehrer',\n",
       " '4f396aa48377a89855000a55': 'Rechtschreibung',\n",
       " '4f396aa48377a89855000a3e': '',\n",
       " '4f396aa48377a89855000a41': 'Leseförderung Textverständnis',\n",
       " '4f396aa28377a898550005a9': '',\n",
       " '4f396aa28377a89855000697': 'daz/daf material deklinieren artikel nomen und adjektive lösung für lehrer',\n",
       " '4f396aa18377a89855000462': 'lesekompetenz leseförderung leseverstehen lösung zur selbstkontrolle für sus',\n",
       " '4f396aa58377a89855000b5d': 'lyrik Poetry Slam unterricht vorbereiten didaktik',\n",
       " '4f396aa38377a8985500076b': '',\n",
       " '4f396a9f8377a89855000049': '',\n",
       " '4f396aa28377a89855000590': 'phonologische Bewusstheit Vokale Inlaute',\n",
       " '4f396aa38377a8985500085b': 'Textverständnis Jorinde und Joringel Märchen',\n",
       " '4f396aa48377a898550009a9': 'LRS (Umgang mit LRS) Rechtschreibung',\n",
       " '4f396aa48377a89855000899': '',\n",
       " '4f396aa08377a89855000329': 'Genus verbi Aktiv und Passiv lösung zur selbstkontrolle für sus grammatik',\n",
       " '4f396a9f8377a898550000b9': '',\n",
       " '4f396aa28377a89855000553': 'Lesestrategien Sachtexte Darstellungen deuten',\n",
       " '4f396aa38377a8985500077c': 'Rechtschreibung',\n",
       " '4f396aa38377a8985500077a': 'Rechtschreibung Wortarten',\n",
       " '4f396aa38377a89855000704': '',\n",
       " '4f396aa08377a8985500037d': 'Grammatik Wortarten Verben',\n",
       " '4f396aa38377a898550007fb': 'leseförderung leseverstehen schreibprozesse initiieren erzählungen kurzgeschichte',\n",
       " '4f396aa28377a89855000547': '',\n",
       " '4f396aa58377a89855000b21': '',\n",
       " '4f396aa48377a89855000a9c': 'artikel wortschatz präpositionen daz/daf material pluralformen nomen',\n",
       " '4f396aa08377a898550002f2': 'Grammatik Nomen Unterbegriff Oberbegriffe',\n",
       " '4f396aa58377a89855000b0f': 'Diagramme leseverstehen diskontinuierliche texte sachtexte',\n",
       " '4f396aa28377a89855000670': '',\n",
       " '4f396aa28377a898550006aa': 'sinnentnehmendes lesen bild-text-zuordnung leseförderung',\n",
       " '4f396aa08377a8985500034c': 'wortfelder wortschatz sprache lösung für lehrer lösung zur selbstkontrolle für sus',\n",
       " '4f396a9f8377a89855000067': 'Lesekompetenz Leseverstehen Lesetest',\n",
       " '4f396aa28377a89855000619': 'hörspiel produzieren Hörkompetenz hörkompetenz',\n",
       " '4f396aa08377a898550001f8': '',\n",
       " '4f396aa48377a89855000ac3': 'Mündliches Erzählen Zuhören methodik fiktionale texte allgemein methoden im unterricht',\n",
       " '4f396aa28377a898550006c7': 'lesekompetenz leseförderung leseverstehen lösung zur selbstkontrolle für sus',\n",
       " '4f396aa08377a898550003b2': 'daz/daf material artikel präpositionen singular - plural wortschatz',\n",
       " '4f396a9f8377a89855000090': '',\n",
       " '4f396aa18377a898550004fe': 'leseförderung bildbeschreibung',\n",
       " '4f396aa48377a89855000aab': '',\n",
       " '4f396aa18377a8985500040c': 'fantasiereise schreibprozesse initiieren konsonanten',\n",
       " '4f396aa38377a89855000774': 'Rechtschreibung Wortarten',\n",
       " '4f396aa48377a89855000ad4': '',\n",
       " '4f396aa28377a89855000666': 'daz/daf material interpretation ausdruck lösung für lehrer sprachförderung',\n",
       " '4f396aa08377a89855000320': '',\n",
       " '4f396aa48377a89855000986': 'Berufe kennenlernen Kommunikation',\n",
       " '4f396aa58377a89855000b5b': 'Gedichtvortrag lyrik unterricht vorbereiten didaktik',\n",
       " '4f396a9f8377a898550000ba': '',\n",
       " '4f396aa58377a89855000b05': 'Lesekompetenz Leseverstehen Lesetest',\n",
       " '4f396aa38377a898550007d2': 'wortarten grammatik lösung für lehrer',\n",
       " '4f396aa08377a898550003a0': 'doppelkonsonanten rechtschreibung sprachspiele',\n",
       " '4f396aa48377a89855000a4a': 'Rechtschreibung',\n",
       " '4f396aa58377a89855000b6c': 'wortschatz ausdruck kommunikation unterricht vorbereiten',\n",
       " '4f396aa18377a898550004cd': 'Schriftspracherwerb',\n",
       " '4f396aa48377a8985500090e': 'ADHS Rechtschreibung Textverständnis',\n",
       " '4f396aa28377a89855000550': 'Lesestrategien Textverständnis Sachtexte',\n",
       " '4f396aa48377a898550009b3': 'LRS (Umgang mit LRS) Rechtschreibung',\n",
       " '4f396aa48377a89855000a70': '',\n",
       " '4f396aa48377a89855000959': 'schreibprozesse initiieren E-mail schreiben rechtschreibung überarbeiten von texten leistungsdifferenzierung',\n",
       " '4f396aa58377a89855000b86': '',\n",
       " '4f396aa48377a89855000894': 'Rechtschreibung',\n",
       " '4f396aa48377a89855000ab7': 'LRS (Umgang mit LRS) Silbentrennung Rechtschreibung',\n",
       " '4f396aa28377a898550005c3': 'fabeln leseförderung epik',\n",
       " '4f396aa28377a89855000541': 'Textverständnis Sachtexte Umgang mit Texten Textgliederung',\n",
       " '4f396aa38377a89855000866': 'Leseförderung Textverständnis Hans im Glück',\n",
       " '4f396aa48377a89855000a4f': 'Rechtschreibung',\n",
       " '4f396a9f8377a8985500002d': '',\n",
       " '4f396a9f8377a898550000d6': '',\n",
       " '4f396aa28377a8985500064e': 'sprachspiele sprachrätsel sprache sprachbewusstsein',\n",
       " '4f396aa08377a8985500026b': 'methoden im unterricht Sprachbewusstsein grammatik',\n",
       " '4f396a9f8377a898550001e8': '',\n",
       " '4f396aa28377a89855000659': 'Textverständnis Produktion von Sachtexten',\n",
       " ...}"
      ]
     },
     "execution_count": 9,
     "metadata": {},
     "output_type": "execute_result"
    }
   ],
   "source": [
    "tag_list"
   ]
  },
  {
   "cell_type": "code",
   "execution_count": 10,
   "metadata": {
    "collapsed": false
   },
   "outputs": [
    {
     "data": {
      "text/plain": [
       "{'': 7,\n",
       " 'Förderschule': 4,\n",
       " 'Förderschule GB': 6,\n",
       " 'Grundschule': 15,\n",
       " 'Hauptschule': 5,\n",
       " 'Hauptschule, Realschule': 1,\n",
       " 'Sekundarstufe I': 14}"
      ]
     },
     "execution_count": 10,
     "metadata": {},
     "output_type": "execute_result"
    }
   ],
   "source": [
    "schools"
   ]
  },
  {
   "cell_type": "code",
   "execution_count": null,
   "metadata": {
    "collapsed": true
   },
   "outputs": [],
   "source": []
  },
  {
   "cell_type": "code",
   "execution_count": null,
   "metadata": {
    "collapsed": true
   },
   "outputs": [],
   "source": []
  },
  {
   "cell_type": "code",
   "execution_count": null,
   "metadata": {
    "collapsed": true
   },
   "outputs": [],
   "source": []
  },
  {
   "cell_type": "code",
   "execution_count": null,
   "metadata": {
    "collapsed": true
   },
   "outputs": [],
   "source": []
  },
  {
   "cell_type": "code",
   "execution_count": null,
   "metadata": {
    "collapsed": true
   },
   "outputs": [],
   "source": []
  },
  {
   "cell_type": "code",
   "execution_count": null,
   "metadata": {
    "collapsed": true
   },
   "outputs": [],
   "source": []
  },
  {
   "cell_type": "code",
   "execution_count": null,
   "metadata": {
    "collapsed": true
   },
   "outputs": [],
   "source": []
  },
  {
   "cell_type": "code",
   "execution_count": null,
   "metadata": {
    "collapsed": true
   },
   "outputs": [],
   "source": []
  },
  {
   "cell_type": "code",
   "execution_count": null,
   "metadata": {
    "collapsed": true
   },
   "outputs": [],
   "source": []
  },
  {
   "cell_type": "code",
   "execution_count": null,
   "metadata": {
    "collapsed": false
   },
   "outputs": [],
   "source": []
  },
  {
   "cell_type": "code",
   "execution_count": null,
   "metadata": {
    "collapsed": true
   },
   "outputs": [],
   "source": []
  },
  {
   "cell_type": "code",
   "execution_count": null,
   "metadata": {
    "collapsed": true
   },
   "outputs": [],
   "source": []
  },
  {
   "cell_type": "code",
   "execution_count": null,
   "metadata": {
    "collapsed": true
   },
   "outputs": [],
   "source": []
  },
  {
   "cell_type": "code",
   "execution_count": null,
   "metadata": {
    "collapsed": true
   },
   "outputs": [],
   "source": []
  },
  {
   "cell_type": "code",
   "execution_count": null,
   "metadata": {
    "collapsed": false
   },
   "outputs": [],
   "source": []
  },
  {
   "cell_type": "code",
   "execution_count": null,
   "metadata": {
    "collapsed": true
   },
   "outputs": [],
   "source": []
  },
  {
   "cell_type": "code",
   "execution_count": null,
   "metadata": {
    "collapsed": true
   },
   "outputs": [],
   "source": []
  },
  {
   "cell_type": "code",
   "execution_count": null,
   "metadata": {
    "collapsed": true
   },
   "outputs": [],
   "source": []
  },
  {
   "cell_type": "code",
   "execution_count": null,
   "metadata": {
    "collapsed": true
   },
   "outputs": [],
   "source": []
  },
  {
   "cell_type": "code",
   "execution_count": null,
   "metadata": {
    "collapsed": true
   },
   "outputs": [],
   "source": []
  },
  {
   "cell_type": "code",
   "execution_count": null,
   "metadata": {
    "collapsed": true
   },
   "outputs": [],
   "source": []
  },
  {
   "cell_type": "code",
   "execution_count": null,
   "metadata": {
    "collapsed": true
   },
   "outputs": [],
   "source": []
  },
  {
   "cell_type": "code",
   "execution_count": null,
   "metadata": {
    "collapsed": true
   },
   "outputs": [],
   "source": []
  },
  {
   "cell_type": "code",
   "execution_count": null,
   "metadata": {
    "collapsed": true
   },
   "outputs": [],
   "source": []
  },
  {
   "cell_type": "code",
   "execution_count": null,
   "metadata": {
    "collapsed": true
   },
   "outputs": [],
   "source": []
  },
  {
   "cell_type": "code",
   "execution_count": null,
   "metadata": {
    "collapsed": true
   },
   "outputs": [],
   "source": []
  },
  {
   "cell_type": "code",
   "execution_count": null,
   "metadata": {
    "collapsed": true
   },
   "outputs": [],
   "source": []
  },
  {
   "cell_type": "code",
   "execution_count": null,
   "metadata": {
    "collapsed": true
   },
   "outputs": [],
   "source": []
  },
  {
   "cell_type": "code",
   "execution_count": null,
   "metadata": {
    "collapsed": true
   },
   "outputs": [],
   "source": []
  },
  {
   "cell_type": "code",
   "execution_count": null,
   "metadata": {
    "collapsed": true
   },
   "outputs": [],
   "source": []
  },
  {
   "cell_type": "code",
   "execution_count": null,
   "metadata": {
    "collapsed": true
   },
   "outputs": [],
   "source": []
  },
  {
   "cell_type": "code",
   "execution_count": null,
   "metadata": {
    "collapsed": true
   },
   "outputs": [],
   "source": []
  },
  {
   "cell_type": "code",
   "execution_count": null,
   "metadata": {
    "collapsed": true
   },
   "outputs": [],
   "source": []
  },
  {
   "cell_type": "code",
   "execution_count": null,
   "metadata": {
    "collapsed": true
   },
   "outputs": [],
   "source": []
  },
  {
   "cell_type": "code",
   "execution_count": null,
   "metadata": {
    "collapsed": true
   },
   "outputs": [],
   "source": []
  },
  {
   "cell_type": "code",
   "execution_count": null,
   "metadata": {
    "collapsed": true
   },
   "outputs": [],
   "source": []
  },
  {
   "cell_type": "code",
   "execution_count": null,
   "metadata": {
    "collapsed": true
   },
   "outputs": [],
   "source": []
  },
  {
   "cell_type": "code",
   "execution_count": null,
   "metadata": {
    "collapsed": true
   },
   "outputs": [],
   "source": []
  },
  {
   "cell_type": "code",
   "execution_count": null,
   "metadata": {
    "collapsed": true
   },
   "outputs": [],
   "source": []
  },
  {
   "cell_type": "code",
   "execution_count": null,
   "metadata": {
    "collapsed": true
   },
   "outputs": [],
   "source": []
  },
  {
   "cell_type": "code",
   "execution_count": null,
   "metadata": {
    "collapsed": true
   },
   "outputs": [],
   "source": []
  },
  {
   "cell_type": "code",
   "execution_count": null,
   "metadata": {
    "collapsed": true
   },
   "outputs": [],
   "source": []
  },
  {
   "cell_type": "code",
   "execution_count": null,
   "metadata": {
    "collapsed": true
   },
   "outputs": [],
   "source": []
  },
  {
   "cell_type": "code",
   "execution_count": null,
   "metadata": {
    "collapsed": true
   },
   "outputs": [],
   "source": []
  },
  {
   "cell_type": "code",
   "execution_count": null,
   "metadata": {
    "collapsed": true
   },
   "outputs": [],
   "source": []
  },
  {
   "cell_type": "code",
   "execution_count": null,
   "metadata": {
    "collapsed": true
   },
   "outputs": [],
   "source": []
  },
  {
   "cell_type": "code",
   "execution_count": null,
   "metadata": {
    "collapsed": true
   },
   "outputs": [],
   "source": []
  },
  {
   "cell_type": "code",
   "execution_count": null,
   "metadata": {
    "collapsed": true
   },
   "outputs": [],
   "source": []
  },
  {
   "cell_type": "code",
   "execution_count": null,
   "metadata": {
    "collapsed": true
   },
   "outputs": [],
   "source": []
  },
  {
   "cell_type": "code",
   "execution_count": null,
   "metadata": {
    "collapsed": true
   },
   "outputs": [],
   "source": []
  },
  {
   "cell_type": "code",
   "execution_count": null,
   "metadata": {
    "collapsed": true
   },
   "outputs": [],
   "source": []
  },
  {
   "cell_type": "code",
   "execution_count": null,
   "metadata": {
    "collapsed": true
   },
   "outputs": [],
   "source": []
  },
  {
   "cell_type": "code",
   "execution_count": null,
   "metadata": {
    "collapsed": true
   },
   "outputs": [],
   "source": []
  },
  {
   "cell_type": "code",
   "execution_count": null,
   "metadata": {
    "collapsed": false
   },
   "outputs": [],
   "source": []
  },
  {
   "cell_type": "code",
   "execution_count": null,
   "metadata": {
    "collapsed": false
   },
   "outputs": [],
   "source": []
  },
  {
   "cell_type": "code",
   "execution_count": null,
   "metadata": {
    "collapsed": true
   },
   "outputs": [],
   "source": []
  },
  {
   "cell_type": "code",
   "execution_count": null,
   "metadata": {
    "collapsed": false
   },
   "outputs": [],
   "source": []
  },
  {
   "cell_type": "code",
   "execution_count": null,
   "metadata": {
    "collapsed": false
   },
   "outputs": [],
   "source": []
  },
  {
   "cell_type": "code",
   "execution_count": null,
   "metadata": {
    "collapsed": false
   },
   "outputs": [],
   "source": []
  },
  {
   "cell_type": "code",
   "execution_count": null,
   "metadata": {
    "collapsed": false
   },
   "outputs": [],
   "source": []
  },
  {
   "cell_type": "code",
   "execution_count": null,
   "metadata": {
    "collapsed": false
   },
   "outputs": [],
   "source": []
  },
  {
   "cell_type": "code",
   "execution_count": null,
   "metadata": {
    "collapsed": false
   },
   "outputs": [],
   "source": []
  },
  {
   "cell_type": "code",
   "execution_count": null,
   "metadata": {
    "collapsed": false
   },
   "outputs": [],
   "source": []
  },
  {
   "cell_type": "code",
   "execution_count": null,
   "metadata": {
    "collapsed": false
   },
   "outputs": [],
   "source": []
  },
  {
   "cell_type": "code",
   "execution_count": null,
   "metadata": {
    "collapsed": false
   },
   "outputs": [],
   "source": []
  }
 ],
 "metadata": {
  "kernelspec": {
   "display_name": "Python 3",
   "language": "python",
   "name": "python3"
  },
  "language_info": {
   "codemirror_mode": {
    "name": "ipython",
    "version": 3
   },
   "file_extension": ".py",
   "mimetype": "text/x-python",
   "name": "python",
   "nbconvert_exporter": "python",
   "pygments_lexer": "ipython3",
   "version": "3.4.3"
  }
 },
 "nbformat": 4,
 "nbformat_minor": 0
}
