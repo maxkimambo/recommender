{
 "cells": [
  {
   "cell_type": "code",
   "execution_count": 1,
   "metadata": {
    "collapsed": false
   },
   "outputs": [],
   "source": [
    "from Worker import Worker"
   ]
  },
  {
   "cell_type": "code",
   "execution_count": 2,
   "metadata": {
    "collapsed": true
   },
   "outputs": [],
   "source": [
    "import pandas as pd"
   ]
  },
  {
   "cell_type": "code",
   "execution_count": 3,
   "metadata": {
    "collapsed": true
   },
   "outputs": [],
   "source": [
    "import matplotlib.pyplot as plt"
   ]
  },
  {
   "cell_type": "code",
   "execution_count": 4,
   "metadata": {
    "collapsed": true
   },
   "outputs": [],
   "source": [
    "import numpy as np"
   ]
  },
  {
   "cell_type": "code",
   "execution_count": 5,
   "metadata": {
    "collapsed": true
   },
   "outputs": [],
   "source": [
    "from sklearn.feature_extraction.text import CountVectorizer"
   ]
  },
  {
   "cell_type": "code",
   "execution_count": null,
   "metadata": {
    "collapsed": true
   },
   "outputs": [],
   "source": []
  },
  {
   "cell_type": "code",
   "execution_count": 6,
   "metadata": {
    "collapsed": false
   },
   "outputs": [],
   "source": [
    "from sklearn.feature_extraction.text import TfidfVectorizer"
   ]
  },
  {
   "cell_type": "code",
   "execution_count": 7,
   "metadata": {
    "collapsed": true
   },
   "outputs": [],
   "source": [
    "from sklearn.metrics.pairwise import cosine_similarity"
   ]
  },
  {
   "cell_type": "code",
   "execution_count": 8,
   "metadata": {
    "collapsed": false
   },
   "outputs": [],
   "source": [
    "import sklearn.datasets as datasets"
   ]
  },
  {
   "cell_type": "code",
   "execution_count": null,
   "metadata": {
    "collapsed": true
   },
   "outputs": [],
   "source": []
  },
  {
   "cell_type": "code",
   "execution_count": null,
   "metadata": {
    "collapsed": true
   },
   "outputs": [],
   "source": []
  },
  {
   "cell_type": "code",
   "execution_count": 9,
   "metadata": {
    "collapsed": false
   },
   "outputs": [],
   "source": [
    "worker = Worker()"
   ]
  },
  {
   "cell_type": "code",
   "execution_count": 10,
   "metadata": {
    "collapsed": false
   },
   "outputs": [
    {
     "name": "stdout",
     "output_type": "stream",
     "text": [
      "processing document data .... \n",
      "got 3000 documents\n"
     ]
    }
   ],
   "source": [
    "worker.process_document_data()"
   ]
  },
  {
   "cell_type": "code",
   "execution_count": 11,
   "metadata": {
    "collapsed": false
   },
   "outputs": [
    {
     "data": {
      "text/plain": [
       "3000"
      ]
     },
     "execution_count": 11,
     "metadata": {},
     "output_type": "execute_result"
    }
   ],
   "source": [
    "len(worker.documents)"
   ]
  },
  {
   "cell_type": "code",
   "execution_count": 12,
   "metadata": {
    "collapsed": false
   },
   "outputs": [
    {
     "name": "stdout",
     "output_type": "stream",
     "text": [
      "Retrieving user data ... \n",
      "Done...\n"
     ]
    }
   ],
   "source": [
    "users = worker.process_user_data()"
   ]
  },
  {
   "cell_type": "code",
   "execution_count": null,
   "metadata": {
    "collapsed": true
   },
   "outputs": [],
   "source": []
  },
  {
   "cell_type": "code",
   "execution_count": 13,
   "metadata": {
    "collapsed": false
   },
   "outputs": [
    {
     "name": "stdout",
     "output_type": "stream",
     "text": [
      "checking downloads for 1000 users\n",
      "checking downloads for 3000 docs\n",
      "adding doc 50464e87b92d2a47a4c93852 to the matrix\n",
      "adding doc 50464e87b92d2a47a4c93852 to the matrix\n",
      "adding doc 50464e87b92d2a47a4c93852 to the matrix\n",
      "adding doc 50464e87b92d2a47a4c93852 to the matrix\n",
      "adding doc 50464e87b92d2a47a4c93852 to the matrix\n",
      "adding doc 50464e87b92d2a47a4c93852 to the matrix\n",
      "adding doc 50464e87b92d2a47a4c93852 to the matrix\n",
      "adding doc 50464e87b92d2a47a4c93853 to the matrix\n",
      "adding doc 50464e87b92d2a47a4c93853 to the matrix\n",
      "adding doc 50464e87b92d2a47a4c93853 to the matrix\n",
      "adding doc 50464e87b92d2a47a4c93854 to the matrix\n",
      "adding doc 50464e87b92d2a47a4c93854 to the matrix\n",
      "adding doc 50464e87b92d2a47a4c93854 to the matrix\n",
      "adding doc 50464e87b92d2a47a4c93854 to the matrix\n",
      "adding doc 50464e87b92d2a47a4c93854 to the matrix\n",
      "adding doc 50464e87b92d2a47a4c93854 to the matrix\n",
      "adding doc 50464e87b92d2a47a4c9385a to the matrix\n",
      "adding doc 50464e87b92d2a47a4c9385a to the matrix\n",
      "adding doc 50464e87b92d2a47a4c9385d to the matrix\n",
      "adding doc 50464e87b92d2a47a4c9385d to the matrix\n",
      "adding doc 50464e87b92d2a47a4c9385d to the matrix\n",
      "adding doc 50464e87b92d2a47a4c9385d to the matrix\n",
      "adding doc 50464e87b92d2a47a4c9385d to the matrix\n",
      "adding doc 50464e87b92d2a47a4c9385e to the matrix\n",
      "adding doc 50464e87b92d2a47a4c9385e to the matrix\n",
      "adding doc 50464e87b92d2a47a4c9385e to the matrix\n",
      "adding doc 50464e87b92d2a47a4c9385e to the matrix\n",
      "adding doc 50464e87b92d2a47a4c9385f to the matrix\n",
      "adding doc 50464e87b92d2a47a4c9385f to the matrix\n",
      "adding doc 50464e87b92d2a47a4c9385f to the matrix\n",
      "adding doc 50464e87b92d2a47a4c9385f to the matrix\n",
      "adding doc 50464e87b92d2a47a4c9385f to the matrix\n",
      "adding doc 50464e87b92d2a47a4c93860 to the matrix\n",
      "adding doc 50464e87b92d2a47a4c93860 to the matrix\n",
      "adding doc 50464e87b92d2a47a4c93860 to the matrix\n",
      "adding doc 50464e87b92d2a47a4c93860 to the matrix\n",
      "adding doc 50464e87b92d2a47a4c93860 to the matrix\n",
      "adding doc 50464e87b92d2a47a4c93861 to the matrix\n",
      "adding doc 50464e87b92d2a47a4c93861 to the matrix\n",
      "adding doc 50464e87b92d2a47a4c93861 to the matrix\n",
      "adding doc 50464e87b92d2a47a4c93861 to the matrix\n",
      "adding doc 50464e87b92d2a47a4c93861 to the matrix\n",
      "adding doc 50464e87b92d2a47a4c93861 to the matrix\n",
      "adding doc 50464e87b92d2a47a4c93861 to the matrix\n",
      "adding doc 50464e87b92d2a47a4c93861 to the matrix\n",
      "adding doc 50464e87b92d2a47a4c93861 to the matrix\n",
      "adding doc 50464e87b92d2a47a4c93861 to the matrix\n",
      "adding doc 50464e87b92d2a47a4c93863 to the matrix\n",
      "adding doc 50464e87b92d2a47a4c93863 to the matrix\n",
      "adding doc 50464e87b92d2a47a4c93868 to the matrix\n",
      "adding doc 50464e87b92d2a47a4c93875 to the matrix\n",
      "adding doc 50464e87b92d2a47a4c93875 to the matrix\n",
      "adding doc 50464e87b92d2a47a4c93883 to the matrix\n",
      "adding doc 50464e87b92d2a47a4c93883 to the matrix\n",
      "adding doc 50464e87b92d2a47a4c93883 to the matrix\n",
      "adding doc 50464e87b92d2a47a4c93883 to the matrix\n",
      "adding doc 50464e87b92d2a47a4c93883 to the matrix\n",
      "adding doc 50464e87b92d2a47a4c93883 to the matrix\n",
      "adding doc 50464e87b92d2a47a4c93883 to the matrix\n",
      "adding doc 50464e87b92d2a47a4c93884 to the matrix\n",
      "adding doc 50464e87b92d2a47a4c93884 to the matrix\n",
      "adding doc 50464e87b92d2a47a4c93884 to the matrix\n",
      "adding doc 50464e87b92d2a47a4c93884 to the matrix\n",
      "adding doc 50464e87b92d2a47a4c93885 to the matrix\n",
      "adding doc 50464e87b92d2a47a4c93885 to the matrix\n",
      "adding doc 50464e87b92d2a47a4c93885 to the matrix\n",
      "adding doc 50464e87b92d2a47a4c9388d to the matrix\n",
      "adding doc 50464e87b92d2a47a4c93890 to the matrix\n",
      "adding doc 50464e87b92d2a47a4c93890 to the matrix\n",
      "adding doc 50464e87b92d2a47a4c93890 to the matrix\n",
      "adding doc 50464e87b92d2a47a4c93890 to the matrix\n",
      "adding doc 50464e87b92d2a47a4c93891 to the matrix\n",
      "adding doc 50464e87b92d2a47a4c93891 to the matrix\n",
      "adding doc 50464e87b92d2a47a4c93895 to the matrix\n",
      "adding doc 50464e87b92d2a47a4c93896 to the matrix\n",
      "adding doc 50464e87b92d2a47a4c93896 to the matrix\n",
      "adding doc 50464e87b92d2a47a4c93897 to the matrix\n",
      "adding doc 50464e87b92d2a47a4c93897 to the matrix\n",
      "adding doc 50464e87b92d2a47a4c9389b to the matrix\n",
      "adding doc 50464e87b92d2a47a4c9389b to the matrix\n",
      "adding doc 50464e87b92d2a47a4c9389b to the matrix\n",
      "adding doc 50464e87b92d2a47a4c938a1 to the matrix\n",
      "adding doc 50464e87b92d2a47a4c938a1 to the matrix\n",
      "adding doc 50464e87b92d2a47a4c938a3 to the matrix\n",
      "adding doc 50464e87b92d2a47a4c938b1 to the matrix\n",
      "adding doc 50464e87b92d2a47a4c938b1 to the matrix\n",
      "adding doc 50464e87b92d2a47a4c938b1 to the matrix\n",
      "adding doc 50464e87b92d2a47a4c938b2 to the matrix\n",
      "adding doc 50464e87b92d2a47a4c938ba to the matrix\n",
      "adding doc 50464e87b92d2a47a4c938bb to the matrix\n",
      "adding doc 50464e87b92d2a47a4c938be to the matrix\n",
      "adding doc 50464e87b92d2a47a4c938d3 to the matrix\n",
      "adding doc 50464e87b92d2a47a4c938e7 to the matrix\n",
      "adding doc 50464e87b92d2a47a4c938e9 to the matrix\n",
      "adding doc 50464e88b92d2a47a4c93916 to the matrix\n",
      "adding doc 50464e88b92d2a47a4c93919 to the matrix\n",
      "adding doc 50464e88b92d2a47a4c93928 to the matrix\n",
      "adding doc 50464e88b92d2a47a4c9392b to the matrix\n",
      "adding doc 50464e88b92d2a47a4c9392c to the matrix\n",
      "adding doc 50464e88b92d2a47a4c9392d to the matrix\n",
      "adding doc 50464e88b92d2a47a4c9392e to the matrix\n",
      "adding doc 50464e88b92d2a47a4c93935 to the matrix\n",
      "adding doc 50464e88b92d2a47a4c9393e to the matrix\n",
      "adding doc 50464e88b92d2a47a4c9393f to the matrix\n",
      "adding doc 50464e88b92d2a47a4c93947 to the matrix\n",
      "adding doc 50464e88b92d2a47a4c93966 to the matrix\n",
      "adding doc 50464e88b92d2a47a4c9396b to the matrix\n",
      "adding doc 50464e88b92d2a47a4c9396b to the matrix\n",
      "adding doc 50464e88b92d2a47a4c9396e to the matrix\n",
      "adding doc 50464e88b92d2a47a4c9396e to the matrix\n",
      "adding doc 50464e88b92d2a47a4c93971 to the matrix\n",
      "adding doc 50464e88b92d2a47a4c93973 to the matrix\n",
      "adding doc 50464e88b92d2a47a4c93973 to the matrix\n",
      "adding doc 50464e88b92d2a47a4c93985 to the matrix\n",
      "adding doc 50464e88b92d2a47a4c93985 to the matrix\n",
      "adding doc 50464e88b92d2a47a4c93986 to the matrix\n",
      "adding doc 50464e88b92d2a47a4c93986 to the matrix\n",
      "adding doc 50464e88b92d2a47a4c93987 to the matrix\n",
      "adding doc 50464e88b92d2a47a4c93987 to the matrix\n",
      "adding doc 50464e88b92d2a47a4c93987 to the matrix\n",
      "adding doc 50464e88b92d2a47a4c93988 to the matrix\n",
      "adding doc 50464e88b92d2a47a4c93989 to the matrix\n",
      "adding doc 50464e88b92d2a47a4c9398a to the matrix\n",
      "adding doc 50464e88b92d2a47a4c9398a to the matrix\n",
      "adding doc 50464e88b92d2a47a4c9398a to the matrix\n",
      "adding doc 50464e88b92d2a47a4c9398b to the matrix\n",
      "adding doc 50464e88b92d2a47a4c9398b to the matrix\n",
      "adding doc 50464e88b92d2a47a4c9398c to the matrix\n",
      "adding doc 50464e88b92d2a47a4c9398c to the matrix\n",
      "adding doc 50464e88b92d2a47a4c9398c to the matrix\n",
      "adding doc 50464e88b92d2a47a4c9398c to the matrix\n",
      "adding doc 50464e88b92d2a47a4c9398d to the matrix\n",
      "adding doc 50464e88b92d2a47a4c93990 to the matrix\n",
      "adding doc 50464e88b92d2a47a4c93992 to the matrix\n",
      "adding doc 50464e89b92d2a47a4c93997 to the matrix\n",
      "adding doc 50464e89b92d2a47a4c93997 to the matrix\n",
      "adding doc 50464e89b92d2a47a4c9399c to the matrix\n",
      "adding doc 50464e89b92d2a47a4c9399d to the matrix\n",
      "adding doc 50464e89b92d2a47a4c9399d to the matrix\n",
      "adding doc 50464e89b92d2a47a4c9399f to the matrix\n",
      "adding doc 50464e89b92d2a47a4c939a0 to the matrix\n",
      "adding doc 50464e89b92d2a47a4c939a0 to the matrix\n",
      "adding doc 50464e89b92d2a47a4c939a1 to the matrix\n",
      "adding doc 50464e89b92d2a47a4c939a2 to the matrix\n",
      "adding doc 50464e89b92d2a47a4c939a5 to the matrix\n",
      "adding doc 50464e89b92d2a47a4c939a6 to the matrix\n",
      "adding doc 50464e89b92d2a47a4c939a7 to the matrix\n",
      "adding doc 50464e89b92d2a47a4c939a7 to the matrix\n",
      "adding doc 50464e89b92d2a47a4c939a9 to the matrix\n",
      "adding doc 50464e89b92d2a47a4c939aa to the matrix\n",
      "adding doc 50464e89b92d2a47a4c939aa to the matrix\n",
      "adding doc 50464e89b92d2a47a4c939c3 to the matrix\n",
      "adding doc 50464e89b92d2a47a4c939cc to the matrix\n",
      "adding doc 50464e89b92d2a47a4c939cd to the matrix\n",
      "adding doc 50464e89b92d2a47a4c939cf to the matrix\n",
      "adding doc 50464e89b92d2a47a4c939d1 to the matrix\n",
      "adding doc 50464e89b92d2a47a4c939d6 to the matrix\n",
      "adding doc 50464e89b92d2a47a4c939d7 to the matrix\n",
      "adding doc 50464e89b92d2a47a4c939d7 to the matrix\n",
      "adding doc 50464e89b92d2a47a4c939d7 to the matrix\n",
      "adding doc 50464e89b92d2a47a4c939d7 to the matrix\n",
      "adding doc 50464e89b92d2a47a4c939d7 to the matrix\n",
      "adding doc 50464e89b92d2a47a4c939d7 to the matrix\n",
      "adding doc 50464e89b92d2a47a4c939d8 to the matrix\n",
      "adding doc 50464e89b92d2a47a4c939d9 to the matrix\n",
      "adding doc 50464e89b92d2a47a4c939d9 to the matrix\n",
      "adding doc 50464e89b92d2a47a4c939d9 to the matrix\n",
      "adding doc 50464e89b92d2a47a4c939d9 to the matrix\n",
      "adding doc 50464e89b92d2a47a4c939d9 to the matrix\n",
      "adding doc 50464e89b92d2a47a4c939d9 to the matrix\n",
      "adding doc 50464e89b92d2a47a4c939da to the matrix\n",
      "adding doc 50464e89b92d2a47a4c939da to the matrix\n",
      "adding doc 50464e89b92d2a47a4c939db to the matrix\n",
      "adding doc 50464e89b92d2a47a4c939db to the matrix\n",
      "adding doc 50464e89b92d2a47a4c939db to the matrix\n",
      "adding doc 50464e89b92d2a47a4c939db to the matrix\n",
      "adding doc 50464e89b92d2a47a4c939db to the matrix\n",
      "adding doc 50464e89b92d2a47a4c939db to the matrix\n",
      "adding doc 50464e89b92d2a47a4c939db to the matrix\n",
      "adding doc 50464e89b92d2a47a4c939db to the matrix\n",
      "adding doc 50464e89b92d2a47a4c939dc to the matrix\n",
      "adding doc 50464e89b92d2a47a4c939dc to the matrix\n",
      "adding doc 50464e89b92d2a47a4c939dd to the matrix\n",
      "adding doc 50464e89b92d2a47a4c939dd to the matrix\n",
      "adding doc 50464e89b92d2a47a4c939dd to the matrix\n",
      "adding doc 50464e89b92d2a47a4c939dd to the matrix\n",
      "adding doc 50464e89b92d2a47a4c939dd to the matrix\n",
      "adding doc 50464e89b92d2a47a4c939dd to the matrix\n",
      "adding doc 50464e89b92d2a47a4c939de to the matrix\n",
      "adding doc 50464e89b92d2a47a4c939de to the matrix\n",
      "adding doc 50464e89b92d2a47a4c939de to the matrix\n",
      "adding doc 50464e89b92d2a47a4c939de to the matrix\n",
      "adding doc 50464e89b92d2a47a4c939de to the matrix\n",
      "adding doc 50464e89b92d2a47a4c939df to the matrix\n",
      "adding doc 50464e89b92d2a47a4c939df to the matrix\n",
      "adding doc 50464e89b92d2a47a4c939df to the matrix\n",
      "adding doc 50464e89b92d2a47a4c939df to the matrix\n",
      "adding doc 50464e89b92d2a47a4c939df to the matrix\n",
      "adding doc 50464e89b92d2a47a4c939df to the matrix\n",
      "adding doc 50464e89b92d2a47a4c939e0 to the matrix\n",
      "adding doc 50464e89b92d2a47a4c939e0 to the matrix\n",
      "adding doc 50464e89b92d2a47a4c939e0 to the matrix\n",
      "adding doc 50464e89b92d2a47a4c939e0 to the matrix\n",
      "adding doc 50464e89b92d2a47a4c939e1 to the matrix\n",
      "adding doc 50464e89b92d2a47a4c939e1 to the matrix\n",
      "adding doc 50464e89b92d2a47a4c939e1 to the matrix\n",
      "adding doc 50464e89b92d2a47a4c939e1 to the matrix\n",
      "adding doc 50464e89b92d2a47a4c939e1 to the matrix\n",
      "adding doc 50464e89b92d2a47a4c939e1 to the matrix\n",
      "adding doc 50464e89b92d2a47a4c939e1 to the matrix\n",
      "adding doc 50464e89b92d2a47a4c939e2 to the matrix\n",
      "adding doc 50464e89b92d2a47a4c939e2 to the matrix\n",
      "adding doc 50464e89b92d2a47a4c939e2 to the matrix\n",
      "adding doc 50464e89b92d2a47a4c939e2 to the matrix\n",
      "adding doc 50464e89b92d2a47a4c939e2 to the matrix\n",
      "adding doc 50464e89b92d2a47a4c939e2 to the matrix\n",
      "adding doc 50464e89b92d2a47a4c939e2 to the matrix\n",
      "adding doc 50464e89b92d2a47a4c939e2 to the matrix\n",
      "adding doc 50464e89b92d2a47a4c939e2 to the matrix\n",
      "adding doc 50464e89b92d2a47a4c939e3 to the matrix\n",
      "adding doc 50464e89b92d2a47a4c939e3 to the matrix\n",
      "adding doc 50464e89b92d2a47a4c939e3 to the matrix\n",
      "adding doc 50464e89b92d2a47a4c939f0 to the matrix\n",
      "adding doc 50464e89b92d2a47a4c939f0 to the matrix\n",
      "adding doc 50464e89b92d2a47a4c939f1 to the matrix\n",
      "adding doc 50464e89b92d2a47a4c939fc to the matrix\n",
      "adding doc 50464e89b92d2a47a4c939fc to the matrix\n",
      "adding doc 50464e89b92d2a47a4c939fc to the matrix\n",
      "adding doc 50464e89b92d2a47a4c939fc to the matrix\n",
      "adding doc 50464e89b92d2a47a4c939fc to the matrix\n",
      "adding doc 50464e89b92d2a47a4c939fc to the matrix\n",
      "adding doc 50464e89b92d2a47a4c939fd to the matrix\n",
      "adding doc 50464e89b92d2a47a4c939fd to the matrix\n",
      "adding doc 50464e89b92d2a47a4c939fd to the matrix\n",
      "adding doc 50464e89b92d2a47a4c939fe to the matrix\n",
      "adding doc 50464e89b92d2a47a4c939fe to the matrix\n",
      "adding doc 50464e89b92d2a47a4c939fe to the matrix\n",
      "adding doc 50464e89b92d2a47a4c939fe to the matrix\n",
      "adding doc 50464e89b92d2a47a4c939ff to the matrix\n",
      "adding doc 50464e89b92d2a47a4c939ff to the matrix\n",
      "adding doc 50464e89b92d2a47a4c93a01 to the matrix\n",
      "adding doc 50464e89b92d2a47a4c93a01 to the matrix\n",
      "adding doc 50464e89b92d2a47a4c93a02 to the matrix\n",
      "adding doc 50464e89b92d2a47a4c93a02 to the matrix\n",
      "adding doc 50464e89b92d2a47a4c93a03 to the matrix\n",
      "adding doc 50464e89b92d2a47a4c93a03 to the matrix\n",
      "adding doc 50464e89b92d2a47a4c93a05 to the matrix\n",
      "adding doc 50464e89b92d2a47a4c93a08 to the matrix\n",
      "adding doc 50464e89b92d2a47a4c93a08 to the matrix\n",
      "adding doc 50464e89b92d2a47a4c93a08 to the matrix\n",
      "adding doc 50464e89b92d2a47a4c93a08 to the matrix\n",
      "adding doc 50464e89b92d2a47a4c93a09 to the matrix\n",
      "adding doc 50464e89b92d2a47a4c93a09 to the matrix\n",
      "adding doc 50464e89b92d2a47a4c93a0a to the matrix\n",
      "adding doc 50464e89b92d2a47a4c93a0a to the matrix\n",
      "adding doc 50464e89b92d2a47a4c93a0a to the matrix\n",
      "adding doc 50464e89b92d2a47a4c93a0b to the matrix\n",
      "adding doc 50464e89b92d2a47a4c93a0b to the matrix\n",
      "adding doc 50464e89b92d2a47a4c93a0b to the matrix\n",
      "adding doc 50464e89b92d2a47a4c93a0b to the matrix\n",
      "adding doc 50464e89b92d2a47a4c93a0b to the matrix\n",
      "adding doc 50464e89b92d2a47a4c93a0b to the matrix\n",
      "adding doc 50464e89b92d2a47a4c93a0b to the matrix\n",
      "adding doc 50464e89b92d2a47a4c93a0d to the matrix\n",
      "adding doc 50464e89b92d2a47a4c93a0e to the matrix\n",
      "adding doc 50464e89b92d2a47a4c93a0e to the matrix\n",
      "adding doc 50464e89b92d2a47a4c93a0e to the matrix\n",
      "adding doc 50464e89b92d2a47a4c93a0e to the matrix\n",
      "adding doc 50464e89b92d2a47a4c93a0e to the matrix\n",
      "adding doc 50464e89b92d2a47a4c93a0e to the matrix\n",
      "adding doc 50464e89b92d2a47a4c93a11 to the matrix\n",
      "adding doc 50464e89b92d2a47a4c93a11 to the matrix\n",
      "adding doc 50464e89b92d2a47a4c93a11 to the matrix\n",
      "adding doc 50464e89b92d2a47a4c93a11 to the matrix\n",
      "adding doc 50464e89b92d2a47a4c93a14 to the matrix\n",
      "adding doc 50464e89b92d2a47a4c93a14 to the matrix\n",
      "adding doc 50464e89b92d2a47a4c93a15 to the matrix\n",
      "adding doc 50464e89b92d2a47a4c93a15 to the matrix\n",
      "adding doc 50464e89b92d2a47a4c93a15 to the matrix\n",
      "adding doc 50464e89b92d2a47a4c93a16 to the matrix\n",
      "adding doc 50464e89b92d2a47a4c93a16 to the matrix\n",
      "adding doc 50464e89b92d2a47a4c93a18 to the matrix\n",
      "adding doc 50464e89b92d2a47a4c93a18 to the matrix\n",
      "adding doc 50464e89b92d2a47a4c93a1a to the matrix\n",
      "adding doc 50464e89b92d2a47a4c93a1a to the matrix\n",
      "adding doc 50464e89b92d2a47a4c93a1a to the matrix\n",
      "adding doc 50464e89b92d2a47a4c93a1a to the matrix\n",
      "adding doc 50464e89b92d2a47a4c93a1a to the matrix\n",
      "adding doc 50464e89b92d2a47a4c93a1a to the matrix\n",
      "adding doc 50464e89b92d2a47a4c93a1b to the matrix\n",
      "adding doc 50464e89b92d2a47a4c93a1b to the matrix\n",
      "adding doc 50464e89b92d2a47a4c93a1b to the matrix\n",
      "adding doc 50464e89b92d2a47a4c93a1b to the matrix\n",
      "adding doc 50464e89b92d2a47a4c93a1b to the matrix\n",
      "adding doc 50464e89b92d2a47a4c93a1b to the matrix\n",
      "adding doc 50464e89b92d2a47a4c93a1b to the matrix\n",
      "adding doc 50464e89b92d2a47a4c93a1e to the matrix\n",
      "adding doc 50464e89b92d2a47a4c93a1e to the matrix\n",
      "adding doc 50464e89b92d2a47a4c93a1e to the matrix\n",
      "adding doc 50464e89b92d2a47a4c93a1e to the matrix\n",
      "adding doc 50464e89b92d2a47a4c93a1e to the matrix\n",
      "adding doc 50464e89b92d2a47a4c93a1f to the matrix\n",
      "adding doc 50464e89b92d2a47a4c93a1f to the matrix\n",
      "adding doc 50464e89b92d2a47a4c93a1f to the matrix\n",
      "adding doc 50464e89b92d2a47a4c93a1f to the matrix\n",
      "adding doc 50464e89b92d2a47a4c93a1f to the matrix\n",
      "adding doc 50464e89b92d2a47a4c93a1f to the matrix\n",
      "adding doc 50464e89b92d2a47a4c93a22 to the matrix\n",
      "adding doc 50464e89b92d2a47a4c93a22 to the matrix\n",
      "adding doc 50464e89b92d2a47a4c93a24 to the matrix\n",
      "adding doc 50464e89b92d2a47a4c93a24 to the matrix\n",
      "adding doc 50464e89b92d2a47a4c93a27 to the matrix\n",
      "adding doc 50464e89b92d2a47a4c93a27 to the matrix\n",
      "adding doc 50464e89b92d2a47a4c93a27 to the matrix\n",
      "adding doc 50464e89b92d2a47a4c93a27 to the matrix\n",
      "adding doc 50464e89b92d2a47a4c93a2b to the matrix\n",
      "adding doc 50464e89b92d2a47a4c93a2b to the matrix\n",
      "adding doc 50464e89b92d2a47a4c93a2d to the matrix\n",
      "adding doc 50464e89b92d2a47a4c93a2d to the matrix\n",
      "adding doc 50464e89b92d2a47a4c93a2e to the matrix\n",
      "adding doc 50464e89b92d2a47a4c93a2f to the matrix\n",
      "adding doc 50464e89b92d2a47a4c93a36 to the matrix\n",
      "adding doc 50464e89b92d2a47a4c93a37 to the matrix\n",
      "adding doc 50464e89b92d2a47a4c93a37 to the matrix\n",
      "adding doc 50464e89b92d2a47a4c93a38 to the matrix\n",
      "adding doc 50464e89b92d2a47a4c93a38 to the matrix\n",
      "adding doc 50464e89b92d2a47a4c93a38 to the matrix\n",
      "adding doc 50464e89b92d2a47a4c93a38 to the matrix\n",
      "adding doc 50464e89b92d2a47a4c93a3a to the matrix\n",
      "adding doc 50464e89b92d2a47a4c93a3b to the matrix\n",
      "adding doc 50464e89b92d2a47a4c93a3b to the matrix\n",
      "adding doc 50464e89b92d2a47a4c93a3d to the matrix\n",
      "adding doc 50464e89b92d2a47a4c93a3d to the matrix\n",
      "adding doc 50464e89b92d2a47a4c93a3d to the matrix\n",
      "adding doc 50464e89b92d2a47a4c93a3d to the matrix\n",
      "adding doc 50464e89b92d2a47a4c93a3d to the matrix\n",
      "adding doc 50464e89b92d2a47a4c93a3e to the matrix\n",
      "adding doc 50464e89b92d2a47a4c93a3e to the matrix\n",
      "adding doc 50464e89b92d2a47a4c93a3e to the matrix\n",
      "adding doc 50464e89b92d2a47a4c93a3e to the matrix\n",
      "adding doc 50464e89b92d2a47a4c93a3e to the matrix\n",
      "adding doc 50464e89b92d2a47a4c93a3e to the matrix\n",
      "adding doc 50464e89b92d2a47a4c93a3f to the matrix\n",
      "adding doc 50464e89b92d2a47a4c93a3f to the matrix\n",
      "adding doc 50464e89b92d2a47a4c93a3f to the matrix\n",
      "adding doc 50464e89b92d2a47a4c93a40 to the matrix\n",
      "adding doc 50464e89b92d2a47a4c93a40 to the matrix\n",
      "adding doc 50464e89b92d2a47a4c93a41 to the matrix\n",
      "adding doc 50464e89b92d2a47a4c93a41 to the matrix\n",
      "adding doc 50464e89b92d2a47a4c93a41 to the matrix\n",
      "adding doc 50464e89b92d2a47a4c93a41 to the matrix\n",
      "adding doc 50464e89b92d2a47a4c93a41 to the matrix\n",
      "adding doc 50464e89b92d2a47a4c93a41 to the matrix\n",
      "adding doc 50464e89b92d2a47a4c93a41 to the matrix\n",
      "adding doc 50464e89b92d2a47a4c93a42 to the matrix\n",
      "adding doc 50464e89b92d2a47a4c93a42 to the matrix\n",
      "adding doc 50464e89b92d2a47a4c93a42 to the matrix\n",
      "adding doc 50464e89b92d2a47a4c93a45 to the matrix\n",
      "adding doc 50464e89b92d2a47a4c93a45 to the matrix\n",
      "adding doc 50464e89b92d2a47a4c93a45 to the matrix\n",
      "adding doc 50464e89b92d2a47a4c93a48 to the matrix\n",
      "adding doc 50464e8ab92d2a47a4c93a4c to the matrix\n",
      "adding doc 50464e8ab92d2a47a4c93a4c to the matrix\n",
      "adding doc 50464e8ab92d2a47a4c93a4c to the matrix\n",
      "adding doc 50464e8ab92d2a47a4c93a4c to the matrix\n",
      "adding doc 50464e8ab92d2a47a4c93a4c to the matrix\n",
      "adding doc 50464e8ab92d2a47a4c93a4c to the matrix\n",
      "adding doc 50464e8ab92d2a47a4c93a4d to the matrix\n",
      "adding doc 50464e8ab92d2a47a4c93a4d to the matrix\n",
      "adding doc 50464e8ab92d2a47a4c93a4d to the matrix\n",
      "adding doc 50464e8ab92d2a47a4c93a4d to the matrix\n",
      "adding doc 50464e8ab92d2a47a4c93a4d to the matrix\n",
      "adding doc 50464e8ab92d2a47a4c93a4d to the matrix\n",
      "adding doc 50464e8ab92d2a47a4c93a51 to the matrix\n",
      "adding doc 50464e8ab92d2a47a4c93a55 to the matrix\n",
      "adding doc 50464e8ab92d2a47a4c93a55 to the matrix\n",
      "adding doc 50464e8ab92d2a47a4c93a5f to the matrix\n",
      "adding doc 50464e8ab92d2a47a4c93a65 to the matrix\n",
      "adding doc 50464e8ab92d2a47a4c93a65 to the matrix\n",
      "adding doc 50464e8ab92d2a47a4c93a65 to the matrix\n",
      "adding doc 50464e8ab92d2a47a4c93a66 to the matrix\n",
      "adding doc 50464e8ab92d2a47a4c93a66 to the matrix\n",
      "adding doc 50464e8ab92d2a47a4c93a66 to the matrix\n",
      "adding doc 50464e8ab92d2a47a4c93a66 to the matrix\n",
      "adding doc 50464e8ab92d2a47a4c93a67 to the matrix\n",
      "adding doc 50464e8ab92d2a47a4c93a68 to the matrix\n",
      "adding doc 50464e8ab92d2a47a4c93a68 to the matrix\n",
      "adding doc 50464e8ab92d2a47a4c93a69 to the matrix\n",
      "adding doc 50464e8ab92d2a47a4c93a69 to the matrix\n",
      "adding doc 50464e8ab92d2a47a4c93a6a to the matrix\n",
      "adding doc 50464e8ab92d2a47a4c93a6a to the matrix\n",
      "adding doc 50464e8ab92d2a47a4c93a6a to the matrix\n",
      "adding doc 50464e8ab92d2a47a4c93a6a to the matrix\n",
      "adding doc 50464e8ab92d2a47a4c93a6a to the matrix\n",
      "adding doc 50464e8ab92d2a47a4c93a6b to the matrix\n",
      "adding doc 50464e8ab92d2a47a4c93a6b to the matrix\n",
      "adding doc 50464e8ab92d2a47a4c93a6b to the matrix\n",
      "adding doc 50464e8ab92d2a47a4c93a6b to the matrix\n",
      "adding doc 50464e8ab92d2a47a4c93a6b to the matrix\n",
      "adding doc 50464e8ab92d2a47a4c93a6d to the matrix\n",
      "adding doc 50464e8ab92d2a47a4c93a6e to the matrix\n",
      "adding doc 50464e8ab92d2a47a4c93a6f to the matrix\n",
      "adding doc 50464e8ab92d2a47a4c93a70 to the matrix\n",
      "adding doc 50464e8ab92d2a47a4c93a71 to the matrix\n",
      "adding doc 50464e8ab92d2a47a4c93a71 to the matrix\n",
      "adding doc 50464e8ab92d2a47a4c93a71 to the matrix\n",
      "adding doc 50464e8ab92d2a47a4c93a72 to the matrix\n",
      "adding doc 50464e8ab92d2a47a4c93a72 to the matrix\n",
      "adding doc 50464e8ab92d2a47a4c93a73 to the matrix\n",
      "adding doc 50464e8ab92d2a47a4c93a73 to the matrix\n",
      "adding doc 50464e8ab92d2a47a4c93a73 to the matrix\n",
      "adding doc 50464e8ab92d2a47a4c93a73 to the matrix\n",
      "adding doc 50464e8ab92d2a47a4c93a74 to the matrix\n",
      "adding doc 50464e8ab92d2a47a4c93a74 to the matrix\n",
      "adding doc 50464e8ab92d2a47a4c93a76 to the matrix\n",
      "adding doc 50464e8ab92d2a47a4c93a76 to the matrix\n",
      "adding doc 50464e8ab92d2a47a4c93a77 to the matrix\n",
      "adding doc 50464e8ab92d2a47a4c93a77 to the matrix\n",
      "adding doc 50464e8ab92d2a47a4c93a78 to the matrix\n",
      "adding doc 50464e8ab92d2a47a4c93a78 to the matrix\n",
      "adding doc 50464e8ab92d2a47a4c93a78 to the matrix\n",
      "adding doc 50464e8ab92d2a47a4c93a79 to the matrix\n",
      "adding doc 50464e8ab92d2a47a4c93a79 to the matrix\n",
      "adding doc 50464e8ab92d2a47a4c93a79 to the matrix\n",
      "adding doc 50464e8ab92d2a47a4c93a85 to the matrix\n",
      "adding doc 50464e8ab92d2a47a4c93a86 to the matrix\n",
      "adding doc 50464e8ab92d2a47a4c93a86 to the matrix\n",
      "adding doc 50464e8ab92d2a47a4c93a87 to the matrix\n",
      "adding doc 50464e8ab92d2a47a4c93a87 to the matrix\n",
      "adding doc 50464e8ab92d2a47a4c93a89 to the matrix\n",
      "adding doc 50464e8ab92d2a47a4c93a89 to the matrix\n",
      "adding doc 50464e8ab92d2a47a4c93a89 to the matrix\n",
      "adding doc 50464e8ab92d2a47a4c93a8a to the matrix\n",
      "adding doc 50464e8ab92d2a47a4c93a8a to the matrix\n",
      "adding doc 50464e8ab92d2a47a4c93a8e to the matrix\n",
      "adding doc 50464e8ab92d2a47a4c93a8f to the matrix\n",
      "adding doc 50464e8ab92d2a47a4c93a8f to the matrix\n",
      "adding doc 50464e8ab92d2a47a4c93a8f to the matrix\n",
      "adding doc 50464e8ab92d2a47a4c93a96 to the matrix\n",
      "adding doc 50464e8ab92d2a47a4c93a9e to the matrix\n",
      "adding doc 50464e8ab92d2a47a4c93aa0 to the matrix\n",
      "adding doc 50464e8ab92d2a47a4c93aa2 to the matrix\n",
      "adding doc 50464e8ab92d2a47a4c93aa2 to the matrix\n",
      "adding doc 50464e8ab92d2a47a4c93aa4 to the matrix\n",
      "adding doc 50464e8ab92d2a47a4c93aa4 to the matrix\n",
      "adding doc 50464e8ab92d2a47a4c93aad to the matrix\n",
      "adding doc 50464e8ab92d2a47a4c93ab6 to the matrix\n",
      "adding doc 50464e8ab92d2a47a4c93ab6 to the matrix\n",
      "adding doc 50464e8ab92d2a47a4c93ab8 to the matrix\n",
      "adding doc 50464e8ab92d2a47a4c93ab8 to the matrix\n",
      "adding doc 50464e8ab92d2a47a4c93ab9 to the matrix\n",
      "adding doc 50464e8ab92d2a47a4c93ab9 to the matrix\n",
      "adding doc 50464e8ab92d2a47a4c93ab9 to the matrix\n",
      "adding doc 50464e8ab92d2a47a4c93ab9 to the matrix\n",
      "adding doc 50464e8ab92d2a47a4c93aba to the matrix\n",
      "adding doc 50464e8ab92d2a47a4c93abd to the matrix\n",
      "adding doc 50464e8ab92d2a47a4c93abd to the matrix\n",
      "adding doc 50464e8ab92d2a47a4c93ac7 to the matrix\n",
      "adding doc 50464e8ab92d2a47a4c93ac7 to the matrix\n",
      "adding doc 50464e8ab92d2a47a4c93ac9 to the matrix\n",
      "adding doc 50464e8ab92d2a47a4c93aca to the matrix\n",
      "adding doc 50464e8ab92d2a47a4c93acd to the matrix\n",
      "adding doc 50464e8ab92d2a47a4c93ace to the matrix\n",
      "adding doc 50464e8ab92d2a47a4c93acf to the matrix\n",
      "adding doc 50464e8ab92d2a47a4c93ad2 to the matrix\n",
      "adding doc 50464e8ab92d2a47a4c93ad4 to the matrix\n",
      "adding doc 50464e8ab92d2a47a4c93ad4 to the matrix\n",
      "adding doc 50464e8ab92d2a47a4c93ad8 to the matrix\n",
      "adding doc 50464e8ab92d2a47a4c93ad8 to the matrix\n",
      "adding doc 50464e8ab92d2a47a4c93ad8 to the matrix\n",
      "adding doc 50464e8ab92d2a47a4c93ad9 to the matrix\n",
      "adding doc 50464e8ab92d2a47a4c93adb to the matrix\n",
      "adding doc 50464e8ab92d2a47a4c93ae3 to the matrix\n",
      "adding doc 50464e8ab92d2a47a4c93ae3 to the matrix\n",
      "adding doc 50464e8ab92d2a47a4c93ae3 to the matrix\n",
      "adding doc 50464e8ab92d2a47a4c93ae3 to the matrix\n",
      "adding doc 50464e8ab92d2a47a4c93ae4 to the matrix\n",
      "adding doc 50464e8ab92d2a47a4c93ae4 to the matrix\n",
      "adding doc 50464e8ab92d2a47a4c93ae4 to the matrix\n",
      "adding doc 50464e8ab92d2a47a4c93ae4 to the matrix\n",
      "adding doc 50464e8ab92d2a47a4c93ae5 to the matrix\n",
      "adding doc 50464e8ab92d2a47a4c93ae5 to the matrix\n",
      "adding doc 50464e8ab92d2a47a4c93ae5 to the matrix\n",
      "adding doc 50464e8ab92d2a47a4c93ae5 to the matrix\n",
      "adding doc 50464e8ab92d2a47a4c93ae5 to the matrix\n",
      "adding doc 50464e8ab92d2a47a4c93ae6 to the matrix\n",
      "adding doc 50464e8ab92d2a47a4c93ae6 to the matrix\n",
      "adding doc 50464e8ab92d2a47a4c93ae6 to the matrix\n",
      "adding doc 50464e8ab92d2a47a4c93ae6 to the matrix\n",
      "adding doc 50464e8ab92d2a47a4c93ae6 to the matrix\n",
      "adding doc 50464e8ab92d2a47a4c93af7 to the matrix\n",
      "adding doc 50464e8ab92d2a47a4c93afa to the matrix\n",
      "adding doc 50464e8ab92d2a47a4c93afe to the matrix\n",
      "adding doc 50464e8ab92d2a47a4c93b01 to the matrix\n",
      "adding doc 50464e8bb92d2a47a4c93b02 to the matrix\n",
      "adding doc 50464e8bb92d2a47a4c93b03 to the matrix\n",
      "adding doc 50464e8bb92d2a47a4c93b05 to the matrix\n",
      "adding doc 50464e8bb92d2a47a4c93b0a to the matrix\n",
      "adding doc 50464e8bb92d2a47a4c93b0a to the matrix\n",
      "adding doc 50464e8bb92d2a47a4c93b0c to the matrix\n",
      "adding doc 50464e8bb92d2a47a4c93b0d to the matrix\n",
      "adding doc 50464e8bb92d2a47a4c93b0d to the matrix\n",
      "adding doc 50464e8bb92d2a47a4c93b12 to the matrix\n",
      "adding doc 50464e8bb92d2a47a4c93b12 to the matrix\n",
      "adding doc 50464e8bb92d2a47a4c93b12 to the matrix\n",
      "adding doc 50464e8bb92d2a47a4c93b12 to the matrix\n",
      "adding doc 50464e8bb92d2a47a4c93b12 to the matrix\n",
      "adding doc 50464e8bb92d2a47a4c93b12 to the matrix\n",
      "adding doc 50464e8bb92d2a47a4c93b12 to the matrix\n",
      "adding doc 50464e8bb92d2a47a4c93b12 to the matrix\n",
      "adding doc 50464e8bb92d2a47a4c93b12 to the matrix\n",
      "adding doc 50464e8bb92d2a47a4c93b13 to the matrix\n",
      "adding doc 50464e8bb92d2a47a4c93b13 to the matrix\n",
      "adding doc 50464e8bb92d2a47a4c93b14 to the matrix\n",
      "adding doc 50464e8bb92d2a47a4c93b14 to the matrix\n",
      "adding doc 50464e8bb92d2a47a4c93b14 to the matrix\n",
      "adding doc 50464e8bb92d2a47a4c93b14 to the matrix\n",
      "adding doc 50464e8bb92d2a47a4c93b14 to the matrix\n",
      "adding doc 50464e8bb92d2a47a4c93b14 to the matrix\n",
      "adding doc 50464e8bb92d2a47a4c93b14 to the matrix\n",
      "adding doc 50464e8bb92d2a47a4c93b15 to the matrix\n",
      "adding doc 50464e8bb92d2a47a4c93b15 to the matrix\n",
      "adding doc 50464e8bb92d2a47a4c93b15 to the matrix\n",
      "adding doc 50464e8bb92d2a47a4c93b15 to the matrix\n",
      "adding doc 50464e8bb92d2a47a4c93b1f to the matrix\n",
      "adding doc 50464e8bb92d2a47a4c93b20 to the matrix\n",
      "adding doc 50464e8bb92d2a47a4c93b22 to the matrix\n",
      "adding doc 50464e8bb92d2a47a4c93b24 to the matrix\n",
      "adding doc 50464e8bb92d2a47a4c93b25 to the matrix\n",
      "adding doc 50464e8bb92d2a47a4c93b27 to the matrix\n",
      "adding doc 50464e8bb92d2a47a4c93b2b to the matrix\n",
      "adding doc 50464e8bb92d2a47a4c93b32 to the matrix\n",
      "adding doc 50464e8bb92d2a47a4c93b33 to the matrix\n",
      "adding doc 50464e8bb92d2a47a4c93b33 to the matrix\n",
      "adding doc 50464e8bb92d2a47a4c93b33 to the matrix\n",
      "adding doc 50464e8bb92d2a47a4c93b33 to the matrix\n",
      "adding doc 50464e8bb92d2a47a4c93b33 to the matrix\n",
      "adding doc 50464e8bb92d2a47a4c93b33 to the matrix\n",
      "adding doc 50464e8bb92d2a47a4c93b35 to the matrix\n",
      "adding doc 50464e8bb92d2a47a4c93b35 to the matrix\n",
      "adding doc 50464e8bb92d2a47a4c93b36 to the matrix\n",
      "adding doc 50464e8bb92d2a47a4c93b37 to the matrix\n",
      "adding doc 50464e8bb92d2a47a4c93b37 to the matrix\n",
      "adding doc 50464e8bb92d2a47a4c93b38 to the matrix\n",
      "adding doc 50464e8bb92d2a47a4c93b39 to the matrix\n",
      "adding doc 50464e8bb92d2a47a4c93b39 to the matrix\n",
      "adding doc 50464e8bb92d2a47a4c93b3a to the matrix\n",
      "adding doc 50464e8bb92d2a47a4c93b3b to the matrix\n",
      "adding doc 50464e8bb92d2a47a4c93b3b to the matrix\n",
      "adding doc 50464e8bb92d2a47a4c93b3d to the matrix\n",
      "adding doc 50464e8bb92d2a47a4c93b3e to the matrix\n",
      "adding doc 50464e8bb92d2a47a4c93b42 to the matrix\n",
      "adding doc 50464e8bb92d2a47a4c93b42 to the matrix\n",
      "adding doc 50464e8bb92d2a47a4c93b42 to the matrix\n",
      "adding doc 50464e8bb92d2a47a4c93b43 to the matrix\n",
      "adding doc 50464e8bb92d2a47a4c93b43 to the matrix\n",
      "adding doc 50464e8bb92d2a47a4c93b44 to the matrix\n",
      "adding doc 50464e8bb92d2a47a4c93b4b to the matrix\n",
      "adding doc 50464e8bb92d2a47a4c93b54 to the matrix\n",
      "adding doc 50464e8bb92d2a47a4c93b55 to the matrix\n",
      "adding doc 50464e8bb92d2a47a4c93b55 to the matrix\n",
      "adding doc 50464e8bb92d2a47a4c93b57 to the matrix\n",
      "adding doc 50464e8bb92d2a47a4c93b5a to the matrix\n",
      "adding doc 50464e8bb92d2a47a4c93b5a to the matrix\n",
      "adding doc 50464e8bb92d2a47a4c93b5a to the matrix\n",
      "adding doc 50464e8bb92d2a47a4c93b5c to the matrix\n",
      "adding doc 50464e8bb92d2a47a4c93b5e to the matrix\n",
      "adding doc 50464e8bb92d2a47a4c93b5e to the matrix\n",
      "adding doc 50464e8bb92d2a47a4c93b5f to the matrix\n",
      "adding doc 50464e8bb92d2a47a4c93b60 to the matrix\n",
      "adding doc 50464e8bb92d2a47a4c93b60 to the matrix\n",
      "adding doc 50464e8bb92d2a47a4c93b60 to the matrix\n",
      "adding doc 50464e8bb92d2a47a4c93b60 to the matrix\n",
      "adding doc 50464e8bb92d2a47a4c93b62 to the matrix\n",
      "adding doc 50464e8bb92d2a47a4c93b62 to the matrix\n",
      "adding doc 50464e8bb92d2a47a4c93b62 to the matrix\n",
      "adding doc 50464e8bb92d2a47a4c93b63 to the matrix\n",
      "adding doc 50464e8bb92d2a47a4c93b63 to the matrix\n",
      "adding doc 50464e8bb92d2a47a4c93b65 to the matrix\n",
      "adding doc 50464e8bb92d2a47a4c93b65 to the matrix\n",
      "adding doc 50464e8bb92d2a47a4c93b65 to the matrix\n",
      "adding doc 50464e8bb92d2a47a4c93b65 to the matrix\n",
      "adding doc 50464e8bb92d2a47a4c93b65 to the matrix\n",
      "adding doc 50464e8bb92d2a47a4c93b67 to the matrix\n",
      "adding doc 50464e8bb92d2a47a4c93b69 to the matrix\n",
      "adding doc 50464e8bb92d2a47a4c93b6a to the matrix\n",
      "adding doc 50464e8bb92d2a47a4c93b6a to the matrix\n",
      "adding doc 50464e8bb92d2a47a4c93b6a to the matrix\n",
      "adding doc 50464e8bb92d2a47a4c93b6a to the matrix\n",
      "adding doc 50464e8bb92d2a47a4c93b6a to the matrix\n",
      "adding doc 50464e8bb92d2a47a4c93b6b to the matrix\n",
      "adding doc 50464e8bb92d2a47a4c93b6c to the matrix\n",
      "adding doc 50464e8bb92d2a47a4c93b6c to the matrix\n",
      "adding doc 50464e8bb92d2a47a4c93b6c to the matrix\n",
      "adding doc 50464e8bb92d2a47a4c93b6c to the matrix\n",
      "adding doc 50464e8bb92d2a47a4c93b6c to the matrix\n",
      "adding doc 50464e8bb92d2a47a4c93b6d to the matrix\n",
      "adding doc 50464e8bb92d2a47a4c93b6d to the matrix\n",
      "adding doc 50464e8bb92d2a47a4c93b6d to the matrix\n",
      "adding doc 50464e8bb92d2a47a4c93b6d to the matrix\n",
      "adding doc 50464e8bb92d2a47a4c93b6d to the matrix\n",
      "adding doc 50464e8bb92d2a47a4c93b6d to the matrix\n",
      "adding doc 50464e8bb92d2a47a4c93b6d to the matrix\n",
      "adding doc 50464e8bb92d2a47a4c93b6d to the matrix\n",
      "adding doc 50464e8bb92d2a47a4c93b6d to the matrix\n",
      "adding doc 50464e8bb92d2a47a4c93b6d to the matrix\n",
      "adding doc 50464e8bb92d2a47a4c93b6f to the matrix\n",
      "adding doc 50464e8bb92d2a47a4c93b6f to the matrix\n",
      "adding doc 50464e8bb92d2a47a4c93b6f to the matrix\n",
      "adding doc 50464e8bb92d2a47a4c93b70 to the matrix\n",
      "adding doc 50464e8bb92d2a47a4c93b70 to the matrix\n",
      "adding doc 50464e8bb92d2a47a4c93b70 to the matrix\n",
      "adding doc 50464e8bb92d2a47a4c93b70 to the matrix\n",
      "adding doc 50464e8bb92d2a47a4c93b70 to the matrix\n",
      "adding doc 50464e8bb92d2a47a4c93b71 to the matrix\n",
      "adding doc 50464e8bb92d2a47a4c93b73 to the matrix\n",
      "adding doc 50464e8bb92d2a47a4c93b73 to the matrix\n",
      "adding doc 50464e8bb92d2a47a4c93b73 to the matrix\n",
      "adding doc 50464e8bb92d2a47a4c93b73 to the matrix\n",
      "adding doc 50464e8bb92d2a47a4c93b73 to the matrix\n",
      "adding doc 50464e8bb92d2a47a4c93b73 to the matrix\n",
      "adding doc 50464e8bb92d2a47a4c93b74 to the matrix\n",
      "adding doc 50464e8bb92d2a47a4c93b78 to the matrix\n",
      "adding doc 50464e8bb92d2a47a4c93b78 to the matrix\n",
      "adding doc 50464e8bb92d2a47a4c93b78 to the matrix\n",
      "adding doc 50464e8bb92d2a47a4c93b79 to the matrix\n",
      "adding doc 50464e8bb92d2a47a4c93b7e to the matrix\n",
      "adding doc 50464e8bb92d2a47a4c93b81 to the matrix\n",
      "adding doc 50464e8bb92d2a47a4c93b81 to the matrix\n",
      "adding doc 50464e8bb92d2a47a4c93b81 to the matrix\n",
      "adding doc 50464e8bb92d2a47a4c93b82 to the matrix\n",
      "adding doc 50464e8bb92d2a47a4c93b82 to the matrix\n",
      "adding doc 50464e8bb92d2a47a4c93b82 to the matrix\n",
      "adding doc 50464e8bb92d2a47a4c93b83 to the matrix\n",
      "adding doc 50464e8bb92d2a47a4c93b83 to the matrix\n",
      "adding doc 50464e8bb92d2a47a4c93b83 to the matrix\n",
      "adding doc 50464e8bb92d2a47a4c93b85 to the matrix\n",
      "adding doc 50464e8bb92d2a47a4c93b85 to the matrix\n",
      "adding doc 50464e8bb92d2a47a4c93b89 to the matrix\n",
      "adding doc 50464e8bb92d2a47a4c93b89 to the matrix\n",
      "adding doc 50464e8bb92d2a47a4c93b89 to the matrix\n",
      "adding doc 50464e8bb92d2a47a4c93b89 to the matrix\n",
      "adding doc 50464e8bb92d2a47a4c93b89 to the matrix\n",
      "adding doc 50464e8bb92d2a47a4c93b8f to the matrix\n",
      "adding doc 50464e8bb92d2a47a4c93b9c to the matrix\n",
      "adding doc 50464e8bb92d2a47a4c93b9d to the matrix\n",
      "adding doc 50464e8bb92d2a47a4c93b9e to the matrix\n",
      "adding doc 50464e8bb92d2a47a4c93ba6 to the matrix\n",
      "adding doc 50464e8bb92d2a47a4c93ba7 to the matrix\n",
      "adding doc 50464e8bb92d2a47a4c93bad to the matrix\n",
      "adding doc 50464e8bb92d2a47a4c93baf to the matrix\n",
      "adding doc 50464e8bb92d2a47a4c93baf to the matrix\n",
      "adding doc 50464e8bb92d2a47a4c93bb0 to the matrix\n",
      "adding doc 50464e8bb92d2a47a4c93bb0 to the matrix\n",
      "adding doc 50464e8bb92d2a47a4c93bb0 to the matrix\n",
      "adding doc 50464e8bb92d2a47a4c93bb1 to the matrix\n",
      "adding doc 50464e8bb92d2a47a4c93bb1 to the matrix\n",
      "adding doc 50464e8bb92d2a47a4c93bb1 to the matrix\n",
      "adding doc 50464e8bb92d2a47a4c93bb1 to the matrix\n",
      "adding doc 50464e8bb92d2a47a4c93bb2 to the matrix\n",
      "adding doc 50464e8bb92d2a47a4c93bb2 to the matrix\n",
      "adding doc 50464e8bb92d2a47a4c93bb2 to the matrix\n",
      "adding doc 50464e8bb92d2a47a4c93bb2 to the matrix\n",
      "adding doc 50464e8bb92d2a47a4c93bb4 to the matrix\n",
      "adding doc 50464e8bb92d2a47a4c93bb6 to the matrix\n",
      "adding doc 50464e8bb92d2a47a4c93bb6 to the matrix\n",
      "adding doc 50464e8bb92d2a47a4c93bb7 to the matrix\n",
      "adding doc 50464e8bb92d2a47a4c93bb8 to the matrix\n",
      "adding doc 50464e8bb92d2a47a4c93bb8 to the matrix\n",
      "adding doc 50464e8bb92d2a47a4c93bbd to the matrix\n",
      "adding doc 50464e8bb92d2a47a4c93bbd to the matrix\n",
      "adding doc 50464e8bb92d2a47a4c93bbe to the matrix\n",
      "adding doc 50464e8bb92d2a47a4c93bbe to the matrix\n",
      "adding doc 50464e8bb92d2a47a4c93bbe to the matrix\n",
      "adding doc 50464e8bb92d2a47a4c93bbe to the matrix\n",
      "adding doc 50464e8bb92d2a47a4c93bbe to the matrix\n",
      "adding doc 50464e8bb92d2a47a4c93bc1 to the matrix\n",
      "adding doc 50464e8bb92d2a47a4c93bc2 to the matrix\n",
      "adding doc 50464e8bb92d2a47a4c93bc2 to the matrix\n",
      "adding doc 50464e8cb92d2a47a4c93bc3 to the matrix\n",
      "adding doc 50464e8cb92d2a47a4c93bc4 to the matrix\n",
      "adding doc 50464e8cb92d2a47a4c93bc6 to the matrix\n",
      "adding doc 50464e8cb92d2a47a4c93bea to the matrix\n",
      "adding doc 50464e8cb92d2a47a4c93bed to the matrix\n",
      "adding doc 50464e8cb92d2a47a4c93bed to the matrix\n",
      "adding doc 50464e8cb92d2a47a4c93bed to the matrix\n",
      "adding doc 50464e8cb92d2a47a4c93bed to the matrix\n",
      "adding doc 50464e8cb92d2a47a4c93bed to the matrix\n",
      "adding doc 50464e8cb92d2a47a4c93bed to the matrix\n",
      "adding doc 50464e8cb92d2a47a4c93bed to the matrix\n",
      "adding doc 50464e8cb92d2a47a4c93bee to the matrix\n",
      "adding doc 50464e8cb92d2a47a4c93bef to the matrix\n",
      "adding doc 50464e8cb92d2a47a4c93bef to the matrix\n",
      "adding doc 50464e8cb92d2a47a4c93bf0 to the matrix\n",
      "adding doc 50464e8cb92d2a47a4c93bf1 to the matrix\n",
      "adding doc 50464e8cb92d2a47a4c93bf1 to the matrix\n",
      "adding doc 50464e8cb92d2a47a4c93bf1 to the matrix\n",
      "adding doc 50464e8cb92d2a47a4c93bf2 to the matrix\n",
      "adding doc 50464e8cb92d2a47a4c93bf3 to the matrix\n",
      "adding doc 50464e8cb92d2a47a4c93bf3 to the matrix\n",
      "adding doc 50464e8cb92d2a47a4c93bf4 to the matrix\n",
      "adding doc 50464e8cb92d2a47a4c93bf4 to the matrix\n",
      "adding doc 50464e8cb92d2a47a4c93bf4 to the matrix\n",
      "adding doc 50464e8cb92d2a47a4c93bf4 to the matrix\n",
      "adding doc 50464e8cb92d2a47a4c93bf4 to the matrix\n",
      "adding doc 50464e8cb92d2a47a4c93bf4 to the matrix\n",
      "adding doc 50464e8cb92d2a47a4c93bf4 to the matrix\n",
      "adding doc 50464e8cb92d2a47a4c93bf4 to the matrix\n",
      "adding doc 50464e8cb92d2a47a4c93bf5 to the matrix\n",
      "adding doc 50464e8cb92d2a47a4c93bf6 to the matrix\n",
      "adding doc 50464e8cb92d2a47a4c93bf8 to the matrix\n",
      "adding doc 50464e8cb92d2a47a4c93bf8 to the matrix\n",
      "adding doc 50464e8cb92d2a47a4c93bf9 to the matrix\n",
      "adding doc 50464e8cb92d2a47a4c93bfa to the matrix\n",
      "adding doc 50464e8cb92d2a47a4c93bfa to the matrix\n",
      "adding doc 50464e8cb92d2a47a4c93bfa to the matrix\n",
      "adding doc 50464e8cb92d2a47a4c93bfb to the matrix\n",
      "adding doc 50464e8cb92d2a47a4c93bfd to the matrix\n",
      "adding doc 50464e8cb92d2a47a4c93bfd to the matrix\n",
      "adding doc 50464e8cb92d2a47a4c93c00 to the matrix\n",
      "adding doc 50464e8cb92d2a47a4c93c01 to the matrix\n",
      "adding doc 50464e8cb92d2a47a4c93c02 to the matrix\n",
      "adding doc 50464e8cb92d2a47a4c93c03 to the matrix\n",
      "adding doc 50464e8cb92d2a47a4c93c04 to the matrix\n",
      "adding doc 50464e8cb92d2a47a4c93c05 to the matrix\n",
      "adding doc 50464e8cb92d2a47a4c93c05 to the matrix\n",
      "adding doc 50464e8cb92d2a47a4c93c06 to the matrix\n",
      "adding doc 50464e8cb92d2a47a4c93c07 to the matrix\n",
      "adding doc 50464e8cb92d2a47a4c93c08 to the matrix\n",
      "adding doc 50464e8cb92d2a47a4c93c08 to the matrix\n",
      "adding doc 50464e8cb92d2a47a4c93c09 to the matrix\n",
      "adding doc 50464e8cb92d2a47a4c93c0b to the matrix\n",
      "adding doc 50464e8cb92d2a47a4c93c0b to the matrix\n",
      "adding doc 50464e8cb92d2a47a4c93c0b to the matrix\n",
      "adding doc 50464e8cb92d2a47a4c93c0c to the matrix\n",
      "adding doc 50464e8cb92d2a47a4c93c0c to the matrix\n",
      "adding doc 50464e8cb92d2a47a4c93c0d to the matrix\n",
      "adding doc 50464e8cb92d2a47a4c93c0e to the matrix\n",
      "adding doc 50464e8cb92d2a47a4c93c10 to the matrix\n",
      "adding doc 50464e8cb92d2a47a4c93c10 to the matrix\n",
      "adding doc 50464e8cb92d2a47a4c93c10 to the matrix\n",
      "adding doc 50464e8cb92d2a47a4c93c10 to the matrix\n",
      "adding doc 50464e8cb92d2a47a4c93c10 to the matrix\n",
      "adding doc 50464e8cb92d2a47a4c93c10 to the matrix\n",
      "adding doc 50464e8cb92d2a47a4c93c11 to the matrix\n",
      "adding doc 50464e8cb92d2a47a4c93c12 to the matrix\n",
      "adding doc 50464e8cb92d2a47a4c93c12 to the matrix\n",
      "adding doc 50464e8cb92d2a47a4c93c12 to the matrix\n",
      "adding doc 50464e8cb92d2a47a4c93c12 to the matrix\n",
      "adding doc 50464e8cb92d2a47a4c93c12 to the matrix\n",
      "adding doc 50464e8cb92d2a47a4c93c12 to the matrix\n",
      "adding doc 50464e8cb92d2a47a4c93c12 to the matrix\n",
      "adding doc 50464e8cb92d2a47a4c93c13 to the matrix\n",
      "adding doc 50464e8cb92d2a47a4c93c13 to the matrix\n",
      "adding doc 50464e8cb92d2a47a4c93c13 to the matrix\n",
      "adding doc 50464e8cb92d2a47a4c93c13 to the matrix\n",
      "adding doc 50464e8cb92d2a47a4c93c13 to the matrix\n",
      "adding doc 50464e8cb92d2a47a4c93c15 to the matrix\n",
      "adding doc 50464e8cb92d2a47a4c93c17 to the matrix\n",
      "adding doc 50464e8cb92d2a47a4c93c18 to the matrix\n",
      "adding doc 50464e8cb92d2a47a4c93c19 to the matrix\n",
      "adding doc 50464e8cb92d2a47a4c93c19 to the matrix\n",
      "adding doc 50464e8cb92d2a47a4c93c19 to the matrix\n",
      "adding doc 50464e8cb92d2a47a4c93c1b to the matrix\n",
      "adding doc 50464e8cb92d2a47a4c93c1b to the matrix\n",
      "adding doc 50464e8cb92d2a47a4c93c3a to the matrix\n",
      "adding doc 50464e8cb92d2a47a4c93c3a to the matrix\n",
      "adding doc 50464e8cb92d2a47a4c93c3a to the matrix\n",
      "adding doc 50464e8cb92d2a47a4c93c40 to the matrix\n",
      "adding doc 50464e8cb92d2a47a4c93c44 to the matrix\n",
      "adding doc 50464e8cb92d2a47a4c93c45 to the matrix\n",
      "adding doc 50464e8cb92d2a47a4c93c47 to the matrix\n",
      "adding doc 50464e8cb92d2a47a4c93c4c to the matrix\n",
      "adding doc 50464e8cb92d2a47a4c93c4c to the matrix\n",
      "adding doc 50464e8cb92d2a47a4c93c4f to the matrix\n",
      "adding doc 50464e8cb92d2a47a4c93c50 to the matrix\n",
      "adding doc 50464e8cb92d2a47a4c93c51 to the matrix\n",
      "adding doc 50464e8cb92d2a47a4c93c52 to the matrix\n",
      "adding doc 50464e8cb92d2a47a4c93c54 to the matrix\n",
      "adding doc 50464e8cb92d2a47a4c93c5a to the matrix\n",
      "adding doc 50464e8cb92d2a47a4c93c5a to the matrix\n",
      "adding doc 50464e8cb92d2a47a4c93c5c to the matrix\n",
      "adding doc 50464e8cb92d2a47a4c93c5d to the matrix\n",
      "adding doc 50464e8cb92d2a47a4c93c64 to the matrix\n",
      "adding doc 50464e8cb92d2a47a4c93c65 to the matrix\n",
      "adding doc 50464e8cb92d2a47a4c93c66 to the matrix\n",
      "adding doc 50464e8cb92d2a47a4c93c68 to the matrix\n",
      "adding doc 50464e8cb92d2a47a4c93c68 to the matrix\n",
      "adding doc 50464e8cb92d2a47a4c93c69 to the matrix\n",
      "adding doc 50464e8cb92d2a47a4c93c69 to the matrix\n",
      "adding doc 50464e8cb92d2a47a4c93c69 to the matrix\n",
      "adding doc 50464e8cb92d2a47a4c93c69 to the matrix\n",
      "adding doc 50464e8cb92d2a47a4c93c69 to the matrix\n",
      "adding doc 50464e8cb92d2a47a4c93c6b to the matrix\n",
      "adding doc 50464e8cb92d2a47a4c93c6d to the matrix\n",
      "adding doc 50464e8cb92d2a47a4c93c6d to the matrix\n",
      "adding doc 50464e8cb92d2a47a4c93c6d to the matrix\n",
      "adding doc 50464e8cb92d2a47a4c93c6e to the matrix\n",
      "adding doc 50464e8cb92d2a47a4c93c6e to the matrix\n",
      "adding doc 50464e8cb92d2a47a4c93c6e to the matrix\n",
      "adding doc 50464e8cb92d2a47a4c93c6e to the matrix\n",
      "adding doc 50464e8cb92d2a47a4c93c6f to the matrix\n",
      "adding doc 50464e8cb92d2a47a4c93c6f to the matrix\n",
      "adding doc 50464e8cb92d2a47a4c93c71 to the matrix\n",
      "adding doc 50464e8cb92d2a47a4c93c72 to the matrix\n",
      "adding doc 50464e8cb92d2a47a4c93c72 to the matrix\n",
      "adding doc 50464e8cb92d2a47a4c93c72 to the matrix\n",
      "adding doc 50464e8cb92d2a47a4c93c80 to the matrix\n",
      "adding doc 50464e8db92d2a47a4c93c8b to the matrix\n",
      "adding doc 50464e8db92d2a47a4c93c8c to the matrix\n",
      "adding doc 50464e8db92d2a47a4c93c8e to the matrix\n",
      "adding doc 50464e8db92d2a47a4c93c8f to the matrix\n",
      "adding doc 50464e8db92d2a47a4c93c8f to the matrix\n",
      "adding doc 50464e8db92d2a47a4c93c90 to the matrix\n",
      "adding doc 50464e8db92d2a47a4c93c92 to the matrix\n",
      "adding doc 50464e8db92d2a47a4c93c93 to the matrix\n",
      "adding doc 50464e8db92d2a47a4c93c96 to the matrix\n",
      "adding doc 50464e8db92d2a47a4c93c97 to the matrix\n",
      "adding doc 50464e8db92d2a47a4c93c99 to the matrix\n",
      "adding doc 50464e8db92d2a47a4c93c9f to the matrix\n",
      "adding doc 50464e8db92d2a47a4c93c9f to the matrix\n",
      "adding doc 50464e8db92d2a47a4c93c9f to the matrix\n",
      "adding doc 50464e8db92d2a47a4c93c9f to the matrix\n",
      "adding doc 50464e8db92d2a47a4c93ca0 to the matrix\n",
      "adding doc 50464e8db92d2a47a4c93ca0 to the matrix\n",
      "adding doc 50464e8db92d2a47a4c93ca0 to the matrix\n",
      "adding doc 50464e8db92d2a47a4c93ca0 to the matrix\n",
      "adding doc 50464e8db92d2a47a4c93ca0 to the matrix\n",
      "adding doc 50464e8db92d2a47a4c93ca1 to the matrix\n",
      "adding doc 50464e8db92d2a47a4c93ca1 to the matrix\n",
      "adding doc 50464e8db92d2a47a4c93ca2 to the matrix\n",
      "adding doc 50464e8db92d2a47a4c93ca2 to the matrix\n",
      "adding doc 50464e8db92d2a47a4c93ca2 to the matrix\n",
      "adding doc 50464e8db92d2a47a4c93ca3 to the matrix\n",
      "adding doc 50464e8db92d2a47a4c93ca3 to the matrix\n",
      "adding doc 50464e8db92d2a47a4c93ca3 to the matrix\n",
      "adding doc 50464e8db92d2a47a4c93ca3 to the matrix\n",
      "adding doc 50464e8db92d2a47a4c93ca4 to the matrix\n",
      "adding doc 50464e8db92d2a47a4c93ca4 to the matrix\n",
      "adding doc 50464e8db92d2a47a4c93ca4 to the matrix\n",
      "adding doc 50464e8db92d2a47a4c93ca5 to the matrix\n",
      "adding doc 50464e8db92d2a47a4c93ca5 to the matrix\n",
      "adding doc 50464e8db92d2a47a4c93ca5 to the matrix\n",
      "adding doc 50464e8db92d2a47a4c93ca6 to the matrix\n",
      "adding doc 50464e8db92d2a47a4c93ca6 to the matrix\n",
      "adding doc 50464e8db92d2a47a4c93ca6 to the matrix\n",
      "adding doc 50464e8db92d2a47a4c93ca6 to the matrix\n",
      "adding doc 50464e8db92d2a47a4c93ca6 to the matrix\n",
      "adding doc 50464e8db92d2a47a4c93ca6 to the matrix\n",
      "adding doc 50464e8db92d2a47a4c93ca7 to the matrix\n",
      "adding doc 50464e8db92d2a47a4c93ca7 to the matrix\n",
      "adding doc 50464e8db92d2a47a4c93ca7 to the matrix\n",
      "adding doc 50464e8db92d2a47a4c93ca7 to the matrix\n",
      "adding doc 50464e8db92d2a47a4c93cb7 to the matrix\n",
      "adding doc 50464e8db92d2a47a4c93cb9 to the matrix\n",
      "adding doc 50464e8db92d2a47a4c93cbd to the matrix\n",
      "adding doc 50464e8db92d2a47a4c93cbd to the matrix\n",
      "adding doc 50464e8db92d2a47a4c93cbd to the matrix\n",
      "adding doc 50464e8db92d2a47a4c93cc4 to the matrix\n",
      "adding doc 50464e8db92d2a47a4c93cc6 to the matrix\n",
      "adding doc 50464e8db92d2a47a4c93cc6 to the matrix\n",
      "adding doc 50464e8db92d2a47a4c93cc6 to the matrix\n",
      "adding doc 50464e8db92d2a47a4c93cc6 to the matrix\n",
      "adding doc 50464e8db92d2a47a4c93cc8 to the matrix\n",
      "adding doc 50464e8db92d2a47a4c93cc9 to the matrix\n",
      "adding doc 50464e8db92d2a47a4c93cca to the matrix\n",
      "adding doc 50464e8db92d2a47a4c93ccc to the matrix\n",
      "adding doc 50464e8db92d2a47a4c93ccc to the matrix\n",
      "adding doc 50464e8db92d2a47a4c93ccc to the matrix\n",
      "adding doc 50464e8db92d2a47a4c93ccc to the matrix\n",
      "adding doc 50464e8db92d2a47a4c93ccd to the matrix\n",
      "adding doc 50464e8db92d2a47a4c93cce to the matrix\n",
      "adding doc 50464e8db92d2a47a4c93cd6 to the matrix\n",
      "adding doc 50464e8db92d2a47a4c93ced to the matrix\n",
      "adding doc 50464e8db92d2a47a4c93ced to the matrix\n",
      "adding doc 50464e8db92d2a47a4c93cf8 to the matrix\n",
      "adding doc 50464e8db92d2a47a4c93cfd to the matrix\n",
      "adding doc 50464e8db92d2a47a4c93cfe to the matrix\n",
      "adding doc 50464e8db92d2a47a4c93cfe to the matrix\n",
      "adding doc 50464e8db92d2a47a4c93d00 to the matrix\n",
      "adding doc 50464e8db92d2a47a4c93d06 to the matrix\n",
      "adding doc 50464e8db92d2a47a4c93d06 to the matrix\n",
      "adding doc 50464e8db92d2a47a4c93d0f to the matrix\n",
      "adding doc 50464e8db92d2a47a4c93d10 to the matrix\n",
      "adding doc 50464e8db92d2a47a4c93d10 to the matrix\n",
      "adding doc 50464e8db92d2a47a4c93d14 to the matrix\n",
      "adding doc 50464e8db92d2a47a4c93d16 to the matrix\n",
      "adding doc 50464e8db92d2a47a4c93d19 to the matrix\n",
      "adding doc 50464e8db92d2a47a4c93d1a to the matrix\n",
      "adding doc 50464e8db92d2a47a4c93d1a to the matrix\n",
      "adding doc 50464e8db92d2a47a4c93d21 to the matrix\n",
      "adding doc 50464e8db92d2a47a4c93d21 to the matrix\n",
      "adding doc 50464e8db92d2a47a4c93d22 to the matrix\n",
      "adding doc 50464e8db92d2a47a4c93d24 to the matrix\n",
      "adding doc 50464e8db92d2a47a4c93d26 to the matrix\n",
      "adding doc 50464e8db92d2a47a4c93d26 to the matrix\n",
      "adding doc 50464e8db92d2a47a4c93d26 to the matrix\n",
      "adding doc 50464e8db92d2a47a4c93d26 to the matrix\n",
      "adding doc 50464e8db92d2a47a4c93d26 to the matrix\n",
      "adding doc 50464e8db92d2a47a4c93d26 to the matrix\n",
      "adding doc 50464e8db92d2a47a4c93d3f to the matrix\n",
      "adding doc 50464e8eb92d2a47a4c93d45 to the matrix\n",
      "adding doc 50464e8eb92d2a47a4c93d45 to the matrix\n",
      "adding doc 50464e8eb92d2a47a4c93d47 to the matrix\n",
      "adding doc 50464e8eb92d2a47a4c93d48 to the matrix\n",
      "adding doc 50464e8eb92d2a47a4c93d56 to the matrix\n",
      "adding doc 50464e8eb92d2a47a4c93d5d to the matrix\n",
      "adding doc 50464e8eb92d2a47a4c93d5d to the matrix\n",
      "adding doc 50464e8eb92d2a47a4c93d61 to the matrix\n",
      "adding doc 50464e8eb92d2a47a4c93d61 to the matrix\n",
      "adding doc 50464e8eb92d2a47a4c93d63 to the matrix\n",
      "adding doc 50464e8eb92d2a47a4c93d63 to the matrix\n",
      "adding doc 50464e8eb92d2a47a4c93d63 to the matrix\n",
      "adding doc 50464e8eb92d2a47a4c93d65 to the matrix\n",
      "adding doc 50464e8eb92d2a47a4c93d67 to the matrix\n",
      "adding doc 50464e8eb92d2a47a4c93d67 to the matrix\n",
      "adding doc 50464e8eb92d2a47a4c93d6b to the matrix\n",
      "adding doc 50464e8eb92d2a47a4c93d6d to the matrix\n",
      "adding doc 50464e8eb92d2a47a4c93d6d to the matrix\n",
      "adding doc 50464e8eb92d2a47a4c93d71 to the matrix\n",
      "adding doc 50464e8eb92d2a47a4c93d71 to the matrix\n",
      "adding doc 50464e8eb92d2a47a4c93d74 to the matrix\n",
      "adding doc 50464e8eb92d2a47a4c93d74 to the matrix\n",
      "adding doc 50464e8eb92d2a47a4c93d78 to the matrix\n",
      "adding doc 50464e8eb92d2a47a4c93d79 to the matrix\n",
      "adding doc 50464e8eb92d2a47a4c93d7b to the matrix\n",
      "adding doc 50464e8eb92d2a47a4c93d7b to the matrix\n",
      "adding doc 50464e8eb92d2a47a4c93d7c to the matrix\n",
      "adding doc 50464e8eb92d2a47a4c93d86 to the matrix\n",
      "adding doc 50464e8eb92d2a47a4c93d87 to the matrix\n",
      "adding doc 50464e8eb92d2a47a4c93d91 to the matrix\n",
      "adding doc 50464e8eb92d2a47a4c93d91 to the matrix\n",
      "adding doc 50464e8eb92d2a47a4c93d91 to the matrix\n",
      "adding doc 50464e8eb92d2a47a4c93d91 to the matrix\n",
      "adding doc 50464e8eb92d2a47a4c93da4 to the matrix\n",
      "adding doc 50464e8eb92d2a47a4c93da4 to the matrix\n",
      "adding doc 50464e8eb92d2a47a4c93dac to the matrix\n",
      "adding doc 50464e8eb92d2a47a4c93db0 to the matrix\n",
      "adding doc 50464e8eb92d2a47a4c93db0 to the matrix\n",
      "adding doc 50464e8eb92d2a47a4c93db2 to the matrix\n",
      "adding doc 50464e8eb92d2a47a4c93db3 to the matrix\n",
      "adding doc 50464e8eb92d2a47a4c93db4 to the matrix\n",
      "adding doc 50464e8eb92d2a47a4c93db8 to the matrix\n",
      "adding doc 50464e8eb92d2a47a4c93dc0 to the matrix\n",
      "adding doc 50464e8eb92d2a47a4c93dc1 to the matrix\n",
      "adding doc 50464e8eb92d2a47a4c93dc2 to the matrix\n",
      "adding doc 50464e8eb92d2a47a4c93dc4 to the matrix\n",
      "adding doc 50464e8eb92d2a47a4c93dc6 to the matrix\n",
      "adding doc 50464e8eb92d2a47a4c93dcc to the matrix\n",
      "adding doc 50464e8eb92d2a47a4c93dcd to the matrix\n",
      "adding doc 50464e8eb92d2a47a4c93dcf to the matrix\n",
      "adding doc 50464e8eb92d2a47a4c93dd0 to the matrix\n",
      "adding doc 50464e8eb92d2a47a4c93dd6 to the matrix\n",
      "adding doc 50464e8eb92d2a47a4c93ddb to the matrix\n",
      "adding doc 50464e8eb92d2a47a4c93ddb to the matrix\n",
      "adding doc 50464e8eb92d2a47a4c93deb to the matrix\n",
      "adding doc 50464e8eb92d2a47a4c93dee to the matrix\n",
      "adding doc 50464e8eb92d2a47a4c93dee to the matrix\n",
      "adding doc 50464e8eb92d2a47a4c93dee to the matrix\n",
      "adding doc 50464e8eb92d2a47a4c93dfd to the matrix\n",
      "adding doc 50464e8eb92d2a47a4c93dfd to the matrix\n",
      "adding doc 50464e8eb92d2a47a4c93dfd to the matrix\n",
      "adding doc 50464e8eb92d2a47a4c93dfe to the matrix\n",
      "adding doc 50464e8eb92d2a47a4c93dfe to the matrix\n",
      "adding doc 50464e8fb92d2a47a4c93e07 to the matrix\n",
      "adding doc 50464e8fb92d2a47a4c93e07 to the matrix\n",
      "adding doc 50464e8fb92d2a47a4c93e08 to the matrix\n",
      "adding doc 50464e8fb92d2a47a4c93e08 to the matrix\n",
      "adding doc 50464e8fb92d2a47a4c93e0a to the matrix\n",
      "adding doc 50464e8fb92d2a47a4c93e0c to the matrix\n",
      "adding doc 50464e8fb92d2a47a4c93e0e to the matrix\n",
      "adding doc 50464e8fb92d2a47a4c93e0e to the matrix\n",
      "adding doc 50464e8fb92d2a47a4c93e10 to the matrix\n",
      "adding doc 50464e8fb92d2a47a4c93e13 to the matrix\n",
      "adding doc 50464e8fb92d2a47a4c93e13 to the matrix\n",
      "adding doc 50464e8fb92d2a47a4c93e13 to the matrix\n",
      "adding doc 50464e8fb92d2a47a4c93e15 to the matrix\n",
      "adding doc 50464e8fb92d2a47a4c93e17 to the matrix\n",
      "adding doc 50464e8fb92d2a47a4c93e18 to the matrix\n",
      "adding doc 50464e8fb92d2a47a4c93e1d to the matrix\n",
      "adding doc 50464e8fb92d2a47a4c93e1e to the matrix\n",
      "adding doc 50464e8fb92d2a47a4c93e1f to the matrix\n",
      "adding doc 50464e8fb92d2a47a4c93e27 to the matrix\n",
      "adding doc 50464e8fb92d2a47a4c93e2a to the matrix\n",
      "adding doc 50464e8fb92d2a47a4c93e2a to the matrix\n",
      "adding doc 50464e8fb92d2a47a4c93e2d to the matrix\n",
      "adding doc 50464e8fb92d2a47a4c93e2d to the matrix\n",
      "adding doc 50464e8fb92d2a47a4c93e56 to the matrix\n",
      "adding doc 50464e8fb92d2a47a4c93e56 to the matrix\n",
      "adding doc 50464e8fb92d2a47a4c93e5a to the matrix\n",
      "adding doc 50464e8fb92d2a47a4c93e5b to the matrix\n",
      "adding doc 50464e8fb92d2a47a4c93e5b to the matrix\n",
      "adding doc 50464e8fb92d2a47a4c93e5b to the matrix\n",
      "adding doc 50464e8fb92d2a47a4c93e5b to the matrix\n",
      "adding doc 50464e8fb92d2a47a4c93e5d to the matrix\n",
      "adding doc 50464e8fb92d2a47a4c93e6b to the matrix\n",
      "adding doc 50464e8fb92d2a47a4c93e6f to the matrix\n",
      "adding doc 50464e8fb92d2a47a4c93e70 to the matrix\n",
      "adding doc 50464e8fb92d2a47a4c93e81 to the matrix\n",
      "adding doc 50464e8fb92d2a47a4c93e81 to the matrix\n",
      "adding doc 50464e8fb92d2a47a4c93e82 to the matrix\n",
      "adding doc 50464e8fb92d2a47a4c93e84 to the matrix\n",
      "adding doc 50464e8fb92d2a47a4c93e8d to the matrix\n",
      "adding doc 50464e8fb92d2a47a4c93e8d to the matrix\n",
      "adding doc 50464e8fb92d2a47a4c93e92 to the matrix\n",
      "adding doc 50464e8fb92d2a47a4c93e93 to the matrix\n",
      "adding doc 50464e8fb92d2a47a4c93e93 to the matrix\n",
      "adding doc 50464e8fb92d2a47a4c93e94 to the matrix\n",
      "adding doc 50464e8fb92d2a47a4c93e94 to the matrix\n",
      "adding doc 50464e8fb92d2a47a4c93e95 to the matrix\n",
      "adding doc 50464e8fb92d2a47a4c93e97 to the matrix\n",
      "adding doc 50464e8fb92d2a47a4c93e98 to the matrix\n",
      "adding doc 50464e8fb92d2a47a4c93e99 to the matrix\n",
      "adding doc 50464e8fb92d2a47a4c93ea6 to the matrix\n",
      "adding doc 50464e8fb92d2a47a4c93ea8 to the matrix\n",
      "adding doc 50464e8fb92d2a47a4c93ead to the matrix\n",
      "adding doc 50464e8fb92d2a47a4c93eae to the matrix\n",
      "adding doc 50464e8fb92d2a47a4c93eaf to the matrix\n",
      "adding doc 50464e8fb92d2a47a4c93eb6 to the matrix\n",
      "adding doc 50464e8fb92d2a47a4c93ebe to the matrix\n",
      "adding doc 50464e90b92d2a47a4c93eda to the matrix\n",
      "adding doc 50464e90b92d2a47a4c93edb to the matrix\n",
      "adding doc 50464e90b92d2a47a4c93f1a to the matrix\n",
      "adding doc 50464e90b92d2a47a4c93f1f to the matrix\n",
      "adding doc 50464e90b92d2a47a4c93f24 to the matrix\n",
      "adding doc 50464e90b92d2a47a4c93f25 to the matrix\n",
      "adding doc 50464e90b92d2a47a4c93f29 to the matrix\n",
      "adding doc 50464e90b92d2a47a4c93f2a to the matrix\n",
      "adding doc 50464e90b92d2a47a4c93f2b to the matrix\n",
      "adding doc 50464e90b92d2a47a4c93f2c to the matrix\n",
      "adding doc 50464e90b92d2a47a4c93f2d to the matrix\n",
      "adding doc 50464e90b92d2a47a4c93f2e to the matrix\n",
      "adding doc 50464e90b92d2a47a4c93f2f to the matrix\n",
      "adding doc 50464e90b92d2a47a4c93f30 to the matrix\n",
      "adding doc 50464e90b92d2a47a4c93f31 to the matrix\n",
      "adding doc 50464e90b92d2a47a4c93f31 to the matrix\n",
      "adding doc 50464e90b92d2a47a4c93f4e to the matrix\n",
      "adding doc 50464e90b92d2a47a4c93f4f to the matrix\n",
      "adding doc 50464e90b92d2a47a4c93f4f to the matrix\n",
      "adding doc 50464e90b92d2a47a4c93f50 to the matrix\n",
      "adding doc 50464e90b92d2a47a4c93f50 to the matrix\n",
      "adding doc 50464e90b92d2a47a4c93f51 to the matrix\n",
      "adding doc 50464e90b92d2a47a4c93f53 to the matrix\n",
      "adding doc 50464e90b92d2a47a4c93f53 to the matrix\n",
      "adding doc 50464e90b92d2a47a4c93f53 to the matrix\n",
      "adding doc 50464e90b92d2a47a4c93f54 to the matrix\n",
      "adding doc 50464e90b92d2a47a4c93f54 to the matrix\n",
      "adding doc 50464e90b92d2a47a4c93f54 to the matrix\n",
      "adding doc 50464e90b92d2a47a4c93f54 to the matrix\n",
      "adding doc 50464e90b92d2a47a4c93f54 to the matrix\n",
      "adding doc 50464e90b92d2a47a4c93f55 to the matrix\n",
      "adding doc 50464e90b92d2a47a4c93f55 to the matrix\n",
      "adding doc 50464e90b92d2a47a4c93f6c to the matrix\n",
      "adding doc 50464e90b92d2a47a4c93f70 to the matrix\n",
      "adding doc 50464e90b92d2a47a4c93f70 to the matrix\n",
      "adding doc 50464e90b92d2a47a4c93f72 to the matrix\n",
      "adding doc 50464e90b92d2a47a4c93f72 to the matrix\n",
      "adding doc 50464e90b92d2a47a4c93f72 to the matrix\n",
      "adding doc 50464e90b92d2a47a4c93f72 to the matrix\n",
      "adding doc 50464e90b92d2a47a4c93f73 to the matrix\n",
      "adding doc 50464e90b92d2a47a4c93f74 to the matrix\n",
      "adding doc 50464e90b92d2a47a4c93f74 to the matrix\n",
      "adding doc 50464e90b92d2a47a4c93f74 to the matrix\n",
      "adding doc 50464e90b92d2a47a4c93f74 to the matrix\n",
      "adding doc 50464e90b92d2a47a4c93f77 to the matrix\n",
      "adding doc 50464e90b92d2a47a4c93f77 to the matrix\n",
      "adding doc 50464e91b92d2a47a4c93f7b to the matrix\n",
      "adding doc 50464e91b92d2a47a4c93f7b to the matrix\n",
      "adding doc 50464e91b92d2a47a4c93f81 to the matrix\n",
      "adding doc 50464e91b92d2a47a4c93f83 to the matrix\n",
      "adding doc 50464e91b92d2a47a4c93f88 to the matrix\n",
      "adding doc 50464e91b92d2a47a4c93f8b to the matrix\n",
      "adding doc 50464e91b92d2a47a4c93f8b to the matrix\n",
      "adding doc 50464e91b92d2a47a4c93f8b to the matrix\n",
      "adding doc 50464e91b92d2a47a4c93f8b to the matrix\n",
      "adding doc 50464e91b92d2a47a4c93f8b to the matrix\n",
      "adding doc 50464e91b92d2a47a4c93f8c to the matrix\n",
      "adding doc 50464e91b92d2a47a4c93fa3 to the matrix\n",
      "adding doc 50464e91b92d2a47a4c93fa5 to the matrix\n",
      "adding doc 50464e91b92d2a47a4c93fbe to the matrix\n",
      "adding doc 50464e91b92d2a47a4c93fc0 to the matrix\n",
      "adding doc 50464e91b92d2a47a4c93fc2 to the matrix\n",
      "adding doc 50464e91b92d2a47a4c93fc2 to the matrix\n",
      "adding doc 50464e91b92d2a47a4c93fcf to the matrix\n",
      "adding doc 50464e91b92d2a47a4c94003 to the matrix\n",
      "adding doc 50464e91b92d2a47a4c94005 to the matrix\n",
      "adding doc 50464e91b92d2a47a4c94006 to the matrix\n",
      "adding doc 50464e91b92d2a47a4c94009 to the matrix\n",
      "adding doc 50464e91b92d2a47a4c94009 to the matrix\n",
      "adding doc 50464e91b92d2a47a4c94023 to the matrix\n",
      "adding doc 50464e91b92d2a47a4c94023 to the matrix\n",
      "adding doc 50464e91b92d2a47a4c94023 to the matrix\n",
      "adding doc 50464e91b92d2a47a4c94023 to the matrix\n",
      "adding doc 50464e91b92d2a47a4c94024 to the matrix\n",
      "adding doc 50464e91b92d2a47a4c94024 to the matrix\n",
      "adding doc 50464e91b92d2a47a4c94024 to the matrix\n",
      "adding doc 50464e91b92d2a47a4c94024 to the matrix\n",
      "adding doc 50464e91b92d2a47a4c94024 to the matrix\n",
      "adding doc 50464e91b92d2a47a4c94024 to the matrix\n",
      "adding doc 50464e91b92d2a47a4c94025 to the matrix\n",
      "adding doc 50464e91b92d2a47a4c94025 to the matrix\n",
      "adding doc 50464e91b92d2a47a4c94025 to the matrix\n",
      "adding doc 50464e91b92d2a47a4c94025 to the matrix\n",
      "adding doc 50464e91b92d2a47a4c94025 to the matrix\n",
      "adding doc 50464e91b92d2a47a4c94025 to the matrix\n",
      "adding doc 50464e91b92d2a47a4c94025 to the matrix\n",
      "adding doc 50464e91b92d2a47a4c94025 to the matrix\n",
      "adding doc 50464e91b92d2a47a4c94026 to the matrix\n",
      "adding doc 50464e91b92d2a47a4c94026 to the matrix\n",
      "adding doc 50464e91b92d2a47a4c94026 to the matrix\n",
      "adding doc 50464e91b92d2a47a4c94026 to the matrix\n",
      "adding doc 50464e91b92d2a47a4c94026 to the matrix\n",
      "adding doc 50464e91b92d2a47a4c94026 to the matrix\n",
      "adding doc 50464e91b92d2a47a4c94026 to the matrix\n",
      "adding doc 50464e91b92d2a47a4c94026 to the matrix\n",
      "adding doc 50464e91b92d2a47a4c94026 to the matrix\n",
      "adding doc 50464e91b92d2a47a4c94027 to the matrix\n",
      "adding doc 50464e91b92d2a47a4c94027 to the matrix\n",
      "adding doc 50464e91b92d2a47a4c94027 to the matrix\n",
      "adding doc 50464e91b92d2a47a4c94027 to the matrix\n",
      "adding doc 50464e91b92d2a47a4c94028 to the matrix\n",
      "adding doc 50464e91b92d2a47a4c94028 to the matrix\n",
      "adding doc 50464e91b92d2a47a4c94028 to the matrix\n",
      "adding doc 50464e91b92d2a47a4c94028 to the matrix\n",
      "adding doc 50464e92b92d2a47a4c94033 to the matrix\n",
      "adding doc 50464e92b92d2a47a4c94033 to the matrix\n",
      "adding doc 50464e92b92d2a47a4c94033 to the matrix\n",
      "adding doc 50464e92b92d2a47a4c94033 to the matrix\n",
      "adding doc 50464e92b92d2a47a4c94034 to the matrix\n",
      "adding doc 50464e92b92d2a47a4c94034 to the matrix\n",
      "adding doc 50464e92b92d2a47a4c94034 to the matrix\n",
      "adding doc 50464e92b92d2a47a4c94034 to the matrix\n",
      "adding doc 50464e92b92d2a47a4c94034 to the matrix\n",
      "adding doc 50464e92b92d2a47a4c94036 to the matrix\n",
      "adding doc 50464e92b92d2a47a4c94036 to the matrix\n",
      "adding doc 50464e92b92d2a47a4c94036 to the matrix\n",
      "adding doc 50464e92b92d2a47a4c94036 to the matrix\n",
      "adding doc 50464e92b92d2a47a4c94036 to the matrix\n",
      "adding doc 50464e92b92d2a47a4c94036 to the matrix\n",
      "adding doc 50464e92b92d2a47a4c94038 to the matrix\n",
      "adding doc 50464e92b92d2a47a4c94038 to the matrix\n",
      "adding doc 50464e92b92d2a47a4c94038 to the matrix\n",
      "adding doc 50464e92b92d2a47a4c9403a to the matrix\n",
      "adding doc 50464e92b92d2a47a4c9403c to the matrix\n",
      "adding doc 50464e92b92d2a47a4c9403c to the matrix\n",
      "adding doc 50464e92b92d2a47a4c9403c to the matrix\n",
      "adding doc 50464e92b92d2a47a4c9403e to the matrix\n",
      "adding doc 50464e92b92d2a47a4c9403e to the matrix\n",
      "adding doc 50464e92b92d2a47a4c94040 to the matrix\n",
      "adding doc 50464e92b92d2a47a4c94040 to the matrix\n",
      "adding doc 50464e92b92d2a47a4c94040 to the matrix\n",
      "adding doc 50464e92b92d2a47a4c94040 to the matrix\n",
      "adding doc 50464e92b92d2a47a4c94040 to the matrix\n",
      "adding doc 50464e92b92d2a47a4c94040 to the matrix\n",
      "adding doc 50464e92b92d2a47a4c94042 to the matrix\n",
      "adding doc 50464e92b92d2a47a4c94042 to the matrix\n",
      "adding doc 50464e92b92d2a47a4c94042 to the matrix\n",
      "adding doc 50464e92b92d2a47a4c94044 to the matrix\n",
      "adding doc 50464e92b92d2a47a4c94044 to the matrix\n",
      "adding doc 50464e92b92d2a47a4c94044 to the matrix\n",
      "adding doc 50464e92b92d2a47a4c94044 to the matrix\n",
      "adding doc 50464e92b92d2a47a4c94044 to the matrix\n",
      "adding doc 50464e92b92d2a47a4c94044 to the matrix\n",
      "adding doc 50464e92b92d2a47a4c94044 to the matrix\n",
      "adding doc 50464e92b92d2a47a4c94044 to the matrix\n",
      "adding doc 50464e92b92d2a47a4c94044 to the matrix\n",
      "adding doc 50464e92b92d2a47a4c94046 to the matrix\n",
      "adding doc 50464e92b92d2a47a4c94046 to the matrix\n",
      "adding doc 50464e92b92d2a47a4c94046 to the matrix\n",
      "adding doc 50464e92b92d2a47a4c94046 to the matrix\n",
      "adding doc 50464e92b92d2a47a4c94046 to the matrix\n",
      "adding doc 50464e92b92d2a47a4c94048 to the matrix\n",
      "adding doc 50464e92b92d2a47a4c94048 to the matrix\n",
      "adding doc 50464e92b92d2a47a4c9404a to the matrix\n",
      "adding doc 50464e92b92d2a47a4c9404a to the matrix\n",
      "adding doc 50464e92b92d2a47a4c9404a to the matrix\n",
      "adding doc 50464e92b92d2a47a4c9404c to the matrix\n",
      "adding doc 50464e92b92d2a47a4c9404c to the matrix\n",
      "adding doc 50464e92b92d2a47a4c9404c to the matrix\n",
      "adding doc 50464e92b92d2a47a4c9404d to the matrix\n",
      "adding doc 50464e92b92d2a47a4c9404e to the matrix\n",
      "adding doc 50464e92b92d2a47a4c9404e to the matrix\n",
      "adding doc 50464e92b92d2a47a4c94050 to the matrix\n",
      "adding doc 50464e92b92d2a47a4c94053 to the matrix\n",
      "adding doc 50464e92b92d2a47a4c9405d to the matrix\n",
      "adding doc 50464e92b92d2a47a4c9405d to the matrix\n",
      "adding doc 50464e92b92d2a47a4c9405f to the matrix\n",
      "adding doc 50464e92b92d2a47a4c94061 to the matrix\n",
      "adding doc 50464e92b92d2a47a4c94061 to the matrix\n",
      "adding doc 50464e92b92d2a47a4c94063 to the matrix\n",
      "adding doc 50464e92b92d2a47a4c94065 to the matrix\n",
      "adding doc 50464e92b92d2a47a4c94065 to the matrix\n",
      "adding doc 50464e92b92d2a47a4c94065 to the matrix\n",
      "adding doc 50464e92b92d2a47a4c94065 to the matrix\n",
      "adding doc 50464e92b92d2a47a4c94068 to the matrix\n",
      "adding doc 50464e92b92d2a47a4c94072 to the matrix\n",
      "adding doc 50464e92b92d2a47a4c94072 to the matrix\n",
      "adding doc 50464e92b92d2a47a4c94074 to the matrix\n",
      "adding doc 50464e92b92d2a47a4c94076 to the matrix\n",
      "adding doc 50464e92b92d2a47a4c94079 to the matrix\n",
      "adding doc 50464e92b92d2a47a4c9407c to the matrix\n",
      "adding doc 50464e92b92d2a47a4c94081 to the matrix\n",
      "adding doc 50464e92b92d2a47a4c94086 to the matrix\n",
      "adding doc 50464e92b92d2a47a4c94089 to the matrix\n",
      "adding doc 50464e92b92d2a47a4c940c2 to the matrix\n",
      "adding doc 50464e92b92d2a47a4c940c2 to the matrix\n",
      "adding doc 50464e92b92d2a47a4c940c3 to the matrix\n",
      "adding doc 50464e93b92d2a47a4c940e4 to the matrix\n",
      "adding doc 50464e93b92d2a47a4c940eb to the matrix\n",
      "adding doc 50464e93b92d2a47a4c94112 to the matrix\n",
      "adding doc 50464e93b92d2a47a4c94117 to the matrix\n",
      "adding doc 50464e93b92d2a47a4c9411c to the matrix\n",
      "adding doc 50464e93b92d2a47a4c94150 to the matrix\n",
      "adding doc 50464e93b92d2a47a4c94151 to the matrix\n",
      "adding doc 50464e93b92d2a47a4c94153 to the matrix\n",
      "adding doc 50464e93b92d2a47a4c94153 to the matrix\n",
      "adding doc 50464e93b92d2a47a4c94153 to the matrix\n",
      "adding doc 50464e93b92d2a47a4c94154 to the matrix\n",
      "adding doc 50464e93b92d2a47a4c94154 to the matrix\n",
      "adding doc 50464e93b92d2a47a4c94155 to the matrix\n",
      "adding doc 50464e93b92d2a47a4c94156 to the matrix\n",
      "adding doc 50464e93b92d2a47a4c94156 to the matrix\n",
      "adding doc 50464e93b92d2a47a4c94156 to the matrix\n",
      "adding doc 50464e93b92d2a47a4c94157 to the matrix\n",
      "adding doc 50464e93b92d2a47a4c94157 to the matrix\n",
      "adding doc 50464e93b92d2a47a4c94157 to the matrix\n",
      "adding doc 50464e93b92d2a47a4c94158 to the matrix\n",
      "adding doc 50464e93b92d2a47a4c94158 to the matrix\n",
      "adding doc 50464e93b92d2a47a4c94159 to the matrix\n",
      "adding doc 50464e93b92d2a47a4c9415a to the matrix\n",
      "adding doc 50464e93b92d2a47a4c9415e to the matrix\n",
      "adding doc 50464e93b92d2a47a4c9415f to the matrix\n",
      "adding doc 50464e93b92d2a47a4c94161 to the matrix\n",
      "adding doc 50464e93b92d2a47a4c94164 to the matrix\n",
      "adding doc 50464e93b92d2a47a4c94164 to the matrix\n",
      "adding doc 50464e93b92d2a47a4c94164 to the matrix\n",
      "adding doc 50464e93b92d2a47a4c94164 to the matrix\n",
      "adding doc 50464e93b92d2a47a4c94165 to the matrix\n",
      "adding doc 50464e93b92d2a47a4c94167 to the matrix\n",
      "adding doc 50464e93b92d2a47a4c9416a to the matrix\n",
      "adding doc 50464e93b92d2a47a4c9416a to the matrix\n",
      "adding doc 50464e93b92d2a47a4c9416b to the matrix\n",
      "adding doc 50464e93b92d2a47a4c9416d to the matrix\n",
      "adding doc 50464e93b92d2a47a4c9416f to the matrix\n",
      "adding doc 50464e93b92d2a47a4c9416f to the matrix\n",
      "adding doc 50464e93b92d2a47a4c9416f to the matrix\n",
      "adding doc 50464e93b92d2a47a4c94170 to the matrix\n",
      "adding doc 50464e93b92d2a47a4c94170 to the matrix\n",
      "adding doc 50464e93b92d2a47a4c94170 to the matrix\n",
      "adding doc 50464e93b92d2a47a4c94172 to the matrix\n",
      "adding doc 50464e93b92d2a47a4c94172 to the matrix\n",
      "adding doc 50464e93b92d2a47a4c94173 to the matrix\n",
      "adding doc 50464e93b92d2a47a4c94173 to the matrix\n",
      "adding doc 50464e93b92d2a47a4c94173 to the matrix\n",
      "adding doc 50464e93b92d2a47a4c94175 to the matrix\n",
      "adding doc 50464e93b92d2a47a4c94177 to the matrix\n",
      "adding doc 50464e93b92d2a47a4c94177 to the matrix\n",
      "adding doc 50464e93b92d2a47a4c94177 to the matrix\n",
      "adding doc 50464e93b92d2a47a4c94178 to the matrix\n",
      "adding doc 50464e93b92d2a47a4c94179 to the matrix\n",
      "adding doc 50464e93b92d2a47a4c9417c to the matrix\n",
      "adding doc 50464e93b92d2a47a4c9417c to the matrix\n",
      "adding doc 50464e94b92d2a47a4c94187 to the matrix\n",
      "adding doc 50464e94b92d2a47a4c94199 to the matrix\n",
      "adding doc 50464e94b92d2a47a4c9419a to the matrix\n",
      "adding doc 50464e94b92d2a47a4c9419b to the matrix\n",
      "adding doc 50464e94b92d2a47a4c941df to the matrix\n",
      "adding doc 50464e94b92d2a47a4c941df to the matrix\n",
      "adding doc 50464e94b92d2a47a4c941df to the matrix\n",
      "adding doc 50464e94b92d2a47a4c941e0 to the matrix\n",
      "adding doc 50464e94b92d2a47a4c941e1 to the matrix\n",
      "adding doc 50464e95b92d2a47a4c9422b to the matrix\n",
      "adding doc 50464e95b92d2a47a4c9422c to the matrix\n",
      "adding doc 50464e95b92d2a47a4c9422d to the matrix\n",
      "adding doc 50464e95b92d2a47a4c9422d to the matrix\n",
      "adding doc 50464e95b92d2a47a4c9422e to the matrix\n",
      "adding doc 50464e95b92d2a47a4c9422e to the matrix\n",
      "adding doc 50464e95b92d2a47a4c9422f to the matrix\n",
      "adding doc 50464e95b92d2a47a4c9422f to the matrix\n",
      "adding doc 50464e95b92d2a47a4c9422f to the matrix\n",
      "adding doc 50464e95b92d2a47a4c9422f to the matrix\n",
      "adding doc 50464e95b92d2a47a4c94230 to the matrix\n",
      "adding doc 50464e95b92d2a47a4c94230 to the matrix\n",
      "adding doc 50464e95b92d2a47a4c94234 to the matrix\n",
      "adding doc 50464e95b92d2a47a4c94237 to the matrix\n",
      "adding doc 50464e95b92d2a47a4c94237 to the matrix\n",
      "adding doc 50464e95b92d2a47a4c94237 to the matrix\n",
      "adding doc 50464e95b92d2a47a4c94237 to the matrix\n",
      "adding doc 50464e95b92d2a47a4c94238 to the matrix\n",
      "adding doc 50464e95b92d2a47a4c9423e to the matrix\n",
      "adding doc 50464e95b92d2a47a4c94240 to the matrix\n",
      "adding doc 50464e95b92d2a47a4c94240 to the matrix\n",
      "adding doc 50464e95b92d2a47a4c94248 to the matrix\n",
      "adding doc 50464e95b92d2a47a4c9424a to the matrix\n",
      "adding doc 50464e95b92d2a47a4c9424c to the matrix\n",
      "adding doc 50464e95b92d2a47a4c9424d to the matrix\n",
      "adding doc 50464e95b92d2a47a4c9424d to the matrix\n",
      "adding doc 50464e95b92d2a47a4c9424d to the matrix\n",
      "adding doc 50464e95b92d2a47a4c94250 to the matrix\n",
      "adding doc 50464e95b92d2a47a4c94252 to the matrix\n",
      "adding doc 50464e95b92d2a47a4c94256 to the matrix\n",
      "adding doc 50464e95b92d2a47a4c94268 to the matrix\n",
      "adding doc 50464e95b92d2a47a4c94268 to the matrix\n",
      "adding doc 50464e95b92d2a47a4c94279 to the matrix\n",
      "adding doc 50464e95b92d2a47a4c9427a to the matrix\n",
      "adding doc 50464e95b92d2a47a4c9427a to the matrix\n",
      "adding doc 50464e95b92d2a47a4c9427b to the matrix\n",
      "adding doc 50464e95b92d2a47a4c9427b to the matrix\n",
      "adding doc 50464e95b92d2a47a4c9427b to the matrix\n",
      "adding doc 50464e95b92d2a47a4c9427b to the matrix\n",
      "adding doc 50464e95b92d2a47a4c9427c to the matrix\n",
      "adding doc 50464e95b92d2a47a4c9427c to the matrix\n",
      "adding doc 50464e95b92d2a47a4c9427c to the matrix\n",
      "adding doc 50464e95b92d2a47a4c9427c to the matrix\n",
      "adding doc 50464e95b92d2a47a4c9427c to the matrix\n",
      "adding doc 50464e95b92d2a47a4c9427c to the matrix\n",
      "adding doc 50464e95b92d2a47a4c9427e to the matrix\n",
      "adding doc 50464e95b92d2a47a4c9427f to the matrix\n",
      "adding doc 50464e95b92d2a47a4c9427f to the matrix\n",
      "adding doc 50464e95b92d2a47a4c94280 to the matrix\n",
      "adding doc 50464e95b92d2a47a4c94280 to the matrix\n",
      "adding doc 50464e95b92d2a47a4c94280 to the matrix\n",
      "adding doc 50464e95b92d2a47a4c94280 to the matrix\n",
      "adding doc 50464e95b92d2a47a4c94280 to the matrix\n",
      "adding doc 50464e95b92d2a47a4c94280 to the matrix\n",
      "adding doc 50464e95b92d2a47a4c94281 to the matrix\n",
      "adding doc 50464e95b92d2a47a4c94281 to the matrix\n",
      "adding doc 50464e95b92d2a47a4c94281 to the matrix\n",
      "adding doc 50464e95b92d2a47a4c94281 to the matrix\n",
      "adding doc 50464e95b92d2a47a4c94281 to the matrix\n",
      "adding doc 50464e95b92d2a47a4c94282 to the matrix\n",
      "adding doc 50464e95b92d2a47a4c94282 to the matrix\n",
      "adding doc 50464e95b92d2a47a4c94282 to the matrix\n",
      "adding doc 50464e95b92d2a47a4c94282 to the matrix\n",
      "adding doc 50464e95b92d2a47a4c94282 to the matrix\n",
      "adding doc 50464e95b92d2a47a4c94282 to the matrix\n",
      "adding doc 50464e95b92d2a47a4c94283 to the matrix\n",
      "adding doc 50464e95b92d2a47a4c94283 to the matrix\n",
      "adding doc 50464e95b92d2a47a4c94284 to the matrix\n",
      "adding doc 50464e95b92d2a47a4c94285 to the matrix\n",
      "adding doc 50464e95b92d2a47a4c94285 to the matrix\n",
      "adding doc 50464e95b92d2a47a4c94285 to the matrix\n",
      "adding doc 50464e95b92d2a47a4c94286 to the matrix\n",
      "adding doc 50464e95b92d2a47a4c94286 to the matrix\n",
      "adding doc 50464e95b92d2a47a4c94287 to the matrix\n",
      "adding doc 50464e95b92d2a47a4c94287 to the matrix\n",
      "adding doc 50464e95b92d2a47a4c94287 to the matrix\n",
      "adding doc 50464e95b92d2a47a4c94287 to the matrix\n",
      "adding doc 50464e95b92d2a47a4c94287 to the matrix\n",
      "adding doc 50464e95b92d2a47a4c94287 to the matrix\n",
      "adding doc 50464e95b92d2a47a4c94287 to the matrix\n",
      "adding doc 50464e95b92d2a47a4c94288 to the matrix\n",
      "adding doc 50464e95b92d2a47a4c94288 to the matrix\n",
      "adding doc 50464e95b92d2a47a4c94288 to the matrix\n",
      "adding doc 50464e95b92d2a47a4c94289 to the matrix\n",
      "adding doc 50464e95b92d2a47a4c94289 to the matrix\n",
      "adding doc 50464e95b92d2a47a4c94289 to the matrix\n",
      "adding doc 50464e95b92d2a47a4c9428a to the matrix\n",
      "adding doc 50464e95b92d2a47a4c9428a to the matrix\n",
      "adding doc 50464e95b92d2a47a4c9428a to the matrix\n",
      "adding doc 50464e95b92d2a47a4c9428b to the matrix\n",
      "adding doc 50464e95b92d2a47a4c9428b to the matrix\n",
      "adding doc 50464e95b92d2a47a4c9428c to the matrix\n",
      "adding doc 50464e95b92d2a47a4c9428c to the matrix\n",
      "adding doc 50464e95b92d2a47a4c9428c to the matrix\n",
      "adding doc 50464e95b92d2a47a4c9428c to the matrix\n",
      "adding doc 50464e95b92d2a47a4c9428c to the matrix\n",
      "adding doc 50464e95b92d2a47a4c9428c to the matrix\n",
      "adding doc 50464e95b92d2a47a4c9428c to the matrix\n",
      "adding doc 50464e95b92d2a47a4c9428c to the matrix\n",
      "adding doc 50464e95b92d2a47a4c9428d to the matrix\n",
      "adding doc 50464e95b92d2a47a4c9428e to the matrix\n",
      "adding doc 50464e95b92d2a47a4c9428f to the matrix\n",
      "adding doc 50464e95b92d2a47a4c9428f to the matrix\n",
      "adding doc 50464e95b92d2a47a4c9428f to the matrix\n",
      "adding doc 50464e95b92d2a47a4c94290 to the matrix\n",
      "adding doc 50464e95b92d2a47a4c94290 to the matrix\n",
      "adding doc 50464e95b92d2a47a4c94290 to the matrix\n",
      "adding doc 50464e95b92d2a47a4c94291 to the matrix\n",
      "adding doc 50464e95b92d2a47a4c94291 to the matrix\n",
      "adding doc 50464e95b92d2a47a4c94291 to the matrix\n",
      "adding doc 50464e95b92d2a47a4c94291 to the matrix\n",
      "adding doc 50464e95b92d2a47a4c94291 to the matrix\n",
      "adding doc 50464e95b92d2a47a4c94291 to the matrix\n",
      "adding doc 50464e95b92d2a47a4c94291 to the matrix\n",
      "adding doc 50464e95b92d2a47a4c94292 to the matrix\n",
      "adding doc 50464e95b92d2a47a4c94292 to the matrix\n",
      "adding doc 50464e95b92d2a47a4c94292 to the matrix\n",
      "adding doc 50464e95b92d2a47a4c94293 to the matrix\n",
      "adding doc 50464e95b92d2a47a4c94293 to the matrix\n",
      "adding doc 50464e95b92d2a47a4c94293 to the matrix\n",
      "adding doc 50464e95b92d2a47a4c94293 to the matrix\n",
      "adding doc 50464e95b92d2a47a4c94294 to the matrix\n",
      "adding doc 50464e95b92d2a47a4c94294 to the matrix\n",
      "adding doc 50464e95b92d2a47a4c94294 to the matrix\n",
      "adding doc 50464e95b92d2a47a4c94294 to the matrix\n",
      "adding doc 50464e95b92d2a47a4c94297 to the matrix\n",
      "adding doc 50464e95b92d2a47a4c94297 to the matrix\n",
      "adding doc 50464e95b92d2a47a4c94297 to the matrix\n",
      "adding doc 50464e95b92d2a47a4c94298 to the matrix\n",
      "adding doc 50464e95b92d2a47a4c94298 to the matrix\n",
      "adding doc 50464e95b92d2a47a4c94298 to the matrix\n",
      "adding doc 50464e95b92d2a47a4c94298 to the matrix\n",
      "adding doc 50464e95b92d2a47a4c94298 to the matrix\n",
      "adding doc 50464e95b92d2a47a4c9429a to the matrix\n",
      "adding doc 50464e95b92d2a47a4c9429a to the matrix\n",
      "adding doc 50464e95b92d2a47a4c9429a to the matrix\n",
      "adding doc 50464e95b92d2a47a4c942aa to the matrix\n",
      "adding doc 50464e95b92d2a47a4c942b4 to the matrix\n",
      "adding doc 50464e95b92d2a47a4c942b6 to the matrix\n",
      "adding doc 50464e95b92d2a47a4c942b7 to the matrix\n",
      "adding doc 50464e96b92d2a47a4c942c1 to the matrix\n",
      "adding doc 50464e96b92d2a47a4c942c4 to the matrix\n",
      "adding doc 50464e96b92d2a47a4c942cf to the matrix\n",
      "adding doc 50464e96b92d2a47a4c942cf to the matrix\n",
      "adding doc 50464e96b92d2a47a4c942d0 to the matrix\n",
      "adding doc 50464e96b92d2a47a4c942d1 to the matrix\n",
      "adding doc 50464e96b92d2a47a4c942d2 to the matrix\n",
      "adding doc 50464e96b92d2a47a4c942d3 to the matrix\n",
      "adding doc 50464e96b92d2a47a4c942d4 to the matrix\n",
      "adding doc 50464e96b92d2a47a4c942d5 to the matrix\n",
      "adding doc 50464e96b92d2a47a4c942d7 to the matrix\n",
      "adding doc 50464e96b92d2a47a4c942d7 to the matrix\n",
      "adding doc 50464e96b92d2a47a4c942d7 to the matrix\n",
      "adding doc 50464e96b92d2a47a4c942d7 to the matrix\n",
      "adding doc 50464e96b92d2a47a4c942d7 to the matrix\n",
      "adding doc 50464e96b92d2a47a4c942d7 to the matrix\n",
      "adding doc 50464e96b92d2a47a4c942d8 to the matrix\n",
      "adding doc 50464e96b92d2a47a4c942d9 to the matrix\n",
      "adding doc 50464e96b92d2a47a4c942da to the matrix\n",
      "adding doc 50464e96b92d2a47a4c942dd to the matrix\n",
      "adding doc 50464e96b92d2a47a4c942dd to the matrix\n",
      "adding doc 50464e96b92d2a47a4c942dd to the matrix\n",
      "adding doc 50464e96b92d2a47a4c942de to the matrix\n",
      "adding doc 50464e96b92d2a47a4c942df to the matrix\n",
      "adding doc 50464e96b92d2a47a4c942df to the matrix\n",
      "adding doc 50464e96b92d2a47a4c942df to the matrix\n",
      "adding doc 50464e96b92d2a47a4c942e1 to the matrix\n",
      "adding doc 50464e96b92d2a47a4c942e1 to the matrix\n",
      "adding doc 50464e96b92d2a47a4c942e1 to the matrix\n",
      "adding doc 50464e96b92d2a47a4c942e2 to the matrix\n",
      "adding doc 50464e96b92d2a47a4c942e3 to the matrix\n",
      "adding doc 50464e96b92d2a47a4c942e3 to the matrix\n",
      "adding doc 50464e96b92d2a47a4c942e3 to the matrix\n",
      "adding doc 50464e96b92d2a47a4c942e3 to the matrix\n",
      "adding doc 50464e96b92d2a47a4c942e3 to the matrix\n",
      "adding doc 50464e96b92d2a47a4c942e3 to the matrix\n",
      "adding doc 50464e96b92d2a47a4c942e4 to the matrix\n",
      "adding doc 50464e96b92d2a47a4c942e4 to the matrix\n",
      "adding doc 50464e96b92d2a47a4c942e4 to the matrix\n",
      "adding doc 50464e96b92d2a47a4c942e4 to the matrix\n",
      "adding doc 50464e96b92d2a47a4c942e4 to the matrix\n",
      "adding doc 50464e96b92d2a47a4c942e4 to the matrix\n",
      "adding doc 50464e96b92d2a47a4c942e8 to the matrix\n",
      "adding doc 50464e96b92d2a47a4c942e9 to the matrix\n",
      "adding doc 50464e96b92d2a47a4c942ec to the matrix\n",
      "adding doc 50464e96b92d2a47a4c942ec to the matrix\n",
      "adding doc 50464e96b92d2a47a4c942ec to the matrix\n",
      "adding doc 50464e96b92d2a47a4c942ec to the matrix\n",
      "adding doc 50464e96b92d2a47a4c942ec to the matrix\n",
      "adding doc 50464e96b92d2a47a4c942f2 to the matrix\n",
      "adding doc 50464e96b92d2a47a4c94306 to the matrix\n",
      "adding doc 50464e96b92d2a47a4c94308 to the matrix\n",
      "adding doc 50464e96b92d2a47a4c94308 to the matrix\n",
      "adding doc 50464e96b92d2a47a4c9430d to the matrix\n",
      "adding doc 50464e96b92d2a47a4c9430e to the matrix\n",
      "adding doc 50464e96b92d2a47a4c9432b to the matrix\n",
      "adding doc 50464e96b92d2a47a4c9432c to the matrix\n",
      "adding doc 50464e96b92d2a47a4c9432d to the matrix\n",
      "adding doc 50464e96b92d2a47a4c9432e to the matrix\n",
      "adding doc 50464e96b92d2a47a4c9432e to the matrix\n",
      "adding doc 50464e96b92d2a47a4c9433e to the matrix\n",
      "adding doc 50464e96b92d2a47a4c9433e to the matrix\n",
      "adding doc 50464e96b92d2a47a4c94341 to the matrix\n",
      "adding doc 50464e96b92d2a47a4c94341 to the matrix\n",
      "adding doc 50464e96b92d2a47a4c94341 to the matrix\n",
      "adding doc 50464e96b92d2a47a4c94341 to the matrix\n",
      "adding doc 50464e96b92d2a47a4c94344 to the matrix\n",
      "adding doc 50464e96b92d2a47a4c94345 to the matrix\n",
      "adding doc 50464e96b92d2a47a4c94348 to the matrix\n",
      "adding doc 50464e96b92d2a47a4c94349 to the matrix\n",
      "adding doc 50464e96b92d2a47a4c94349 to the matrix\n",
      "adding doc 50464e96b92d2a47a4c9434a to the matrix\n",
      "adding doc 50464e96b92d2a47a4c9434a to the matrix\n",
      "adding doc 50464e96b92d2a47a4c9434a to the matrix\n",
      "adding doc 50464e96b92d2a47a4c9434e to the matrix\n",
      "adding doc 50464e96b92d2a47a4c9434f to the matrix\n",
      "adding doc 50464e96b92d2a47a4c94362 to the matrix\n",
      "adding doc 50464e96b92d2a47a4c94362 to the matrix\n",
      "adding doc 50464e96b92d2a47a4c94362 to the matrix\n",
      "adding doc 50464e96b92d2a47a4c94362 to the matrix\n",
      "adding doc 50464e96b92d2a47a4c94363 to the matrix\n",
      "adding doc 50464e96b92d2a47a4c94363 to the matrix\n",
      "adding doc 50464e97b92d2a47a4c9436c to the matrix\n",
      "adding doc 50464e97b92d2a47a4c94370 to the matrix\n",
      "adding doc 50464e97b92d2a47a4c94370 to the matrix\n",
      "adding doc 50464e97b92d2a47a4c94371 to the matrix\n",
      "adding doc 50464e97b92d2a47a4c94372 to the matrix\n",
      "adding doc 50464e97b92d2a47a4c94372 to the matrix\n",
      "adding doc 50464e97b92d2a47a4c94372 to the matrix\n",
      "adding doc 50464e97b92d2a47a4c94373 to the matrix\n",
      "adding doc 50464e97b92d2a47a4c94374 to the matrix\n",
      "adding doc 50464e97b92d2a47a4c94374 to the matrix\n",
      "adding doc 50464e97b92d2a47a4c94375 to the matrix\n",
      "adding doc 50464e97b92d2a47a4c94375 to the matrix\n",
      "adding doc 50464e97b92d2a47a4c94375 to the matrix\n",
      "adding doc 50464e97b92d2a47a4c94376 to the matrix\n",
      "adding doc 50464e97b92d2a47a4c94376 to the matrix\n",
      "adding doc 50464e97b92d2a47a4c94377 to the matrix\n",
      "adding doc 50464e97b92d2a47a4c94377 to the matrix\n",
      "adding doc 50464e97b92d2a47a4c94378 to the matrix\n",
      "adding doc 50464e97b92d2a47a4c94378 to the matrix\n",
      "adding doc 50464e97b92d2a47a4c94378 to the matrix\n",
      "adding doc 50464e97b92d2a47a4c94379 to the matrix\n",
      "adding doc 50464e97b92d2a47a4c94379 to the matrix\n",
      "adding doc 50464e97b92d2a47a4c9437b to the matrix\n",
      "adding doc 50464e97b92d2a47a4c9437b to the matrix\n",
      "adding doc 50464e97b92d2a47a4c9437b to the matrix\n",
      "adding doc 50464e97b92d2a47a4c9437b to the matrix\n",
      "adding doc 50464e97b92d2a47a4c9437b to the matrix\n",
      "adding doc 50464e97b92d2a47a4c9437c to the matrix\n",
      "adding doc 50464e97b92d2a47a4c9437c to the matrix\n",
      "adding doc 50464e97b92d2a47a4c9437c to the matrix\n",
      "adding doc 50464e97b92d2a47a4c9437e to the matrix\n",
      "adding doc 50464e97b92d2a47a4c9437f to the matrix\n",
      "adding doc 50464e97b92d2a47a4c94380 to the matrix\n",
      "adding doc 50464e97b92d2a47a4c94380 to the matrix\n",
      "adding doc 50464e97b92d2a47a4c94381 to the matrix\n",
      "adding doc 50464e97b92d2a47a4c94382 to the matrix\n",
      "adding doc 50464e97b92d2a47a4c94382 to the matrix\n",
      "adding doc 50464e97b92d2a47a4c94382 to the matrix\n",
      "adding doc 50464e97b92d2a47a4c94385 to the matrix\n",
      "adding doc 50464e97b92d2a47a4c94388 to the matrix\n",
      "adding doc 50464e97b92d2a47a4c94388 to the matrix\n",
      "adding doc 50464e97b92d2a47a4c94388 to the matrix\n",
      "adding doc 50464e97b92d2a47a4c9438a to the matrix\n",
      "adding doc 50464e97b92d2a47a4c9438a to the matrix\n",
      "adding doc 50464e97b92d2a47a4c9438b to the matrix\n",
      "adding doc 50464e97b92d2a47a4c9438e to the matrix\n",
      "adding doc 50464e97b92d2a47a4c9438f to the matrix\n",
      "adding doc 50464e97b92d2a47a4c9438f to the matrix\n",
      "adding doc 50464e97b92d2a47a4c94394 to the matrix\n",
      "adding doc 50464e97b92d2a47a4c94394 to the matrix\n",
      "adding doc 50464e97b92d2a47a4c94394 to the matrix\n",
      "adding doc 50464e97b92d2a47a4c94395 to the matrix\n",
      "adding doc 50464e97b92d2a47a4c94395 to the matrix\n",
      "adding doc 50464e97b92d2a47a4c94395 to the matrix\n",
      "adding doc 50464e97b92d2a47a4c94396 to the matrix\n",
      "adding doc 50464e97b92d2a47a4c94396 to the matrix\n",
      "adding doc 50464e97b92d2a47a4c94396 to the matrix\n",
      "adding doc 50464e97b92d2a47a4c94397 to the matrix\n",
      "adding doc 50464e97b92d2a47a4c94397 to the matrix\n",
      "adding doc 50464e97b92d2a47a4c94399 to the matrix\n",
      "adding doc 50464e97b92d2a47a4c94399 to the matrix\n",
      "adding doc 50464e97b92d2a47a4c94399 to the matrix\n",
      "adding doc 50464e97b92d2a47a4c94399 to the matrix\n",
      "adding doc 50464e97b92d2a47a4c94399 to the matrix\n",
      "adding doc 50464e97b92d2a47a4c94399 to the matrix\n",
      "adding doc 50464e97b92d2a47a4c9439a to the matrix\n",
      "adding doc 50464e97b92d2a47a4c9439b to the matrix\n",
      "adding doc 50464e97b92d2a47a4c943a2 to the matrix\n",
      "adding doc 50464e97b92d2a47a4c943a6 to the matrix\n",
      "adding doc 50464e97b92d2a47a4c943a6 to the matrix\n",
      "adding doc 50464e97b92d2a47a4c943a6 to the matrix\n",
      "adding doc 50464e97b92d2a47a4c943a8 to the matrix\n",
      "adding doc 50464e97b92d2a47a4c943aa to the matrix\n",
      "adding doc 50464e97b92d2a47a4c943ac to the matrix\n",
      "adding doc 50464e97b92d2a47a4c943ac to the matrix\n",
      "adding doc 50464e97b92d2a47a4c943ae to the matrix\n",
      "adding doc 50464e97b92d2a47a4c943ae to the matrix\n",
      "adding doc 50464e97b92d2a47a4c943b9 to the matrix\n",
      "adding doc 50464e97b92d2a47a4c943bc to the matrix\n",
      "adding doc 50464e97b92d2a47a4c943bd to the matrix\n",
      "adding doc 50464e97b92d2a47a4c943bd to the matrix\n",
      "adding doc 50464e97b92d2a47a4c943be to the matrix\n",
      "adding doc 50464e97b92d2a47a4c943be to the matrix\n",
      "adding doc 50464e97b92d2a47a4c943be to the matrix\n",
      "adding doc 50464e97b92d2a47a4c943be to the matrix\n",
      "adding doc 50464e97b92d2a47a4c943be to the matrix\n",
      "adding doc 50464e97b92d2a47a4c943be to the matrix\n",
      "adding doc 50464e97b92d2a47a4c943be to the matrix\n",
      "adding doc 50464e97b92d2a47a4c943be to the matrix\n",
      "adding doc 50464e97b92d2a47a4c943be to the matrix\n",
      "adding doc 50464e97b92d2a47a4c943be to the matrix\n",
      "adding doc 50464e97b92d2a47a4c943be to the matrix\n",
      "adding doc 50464e97b92d2a47a4c943c2 to the matrix\n",
      "adding doc 50464e97b92d2a47a4c943c2 to the matrix\n",
      "adding doc 50464e97b92d2a47a4c943c2 to the matrix\n",
      "adding doc 50464e97b92d2a47a4c943c2 to the matrix\n",
      "adding doc 50464e97b92d2a47a4c943c2 to the matrix\n",
      "adding doc 50464e97b92d2a47a4c943c2 to the matrix\n",
      "adding doc 50464e97b92d2a47a4c943c3 to the matrix\n",
      "adding doc 50464e97b92d2a47a4c943c3 to the matrix\n",
      "adding doc 50464e97b92d2a47a4c943c3 to the matrix\n",
      "adding doc 50464e97b92d2a47a4c943c4 to the matrix\n",
      "adding doc 50464e97b92d2a47a4c943c4 to the matrix\n",
      "adding doc 50464e97b92d2a47a4c943c5 to the matrix\n",
      "adding doc 50464e97b92d2a47a4c943c5 to the matrix\n",
      "adding doc 50464e97b92d2a47a4c943cc to the matrix\n",
      "adding doc 50464e97b92d2a47a4c943cd to the matrix\n",
      "adding doc 50464e97b92d2a47a4c943cd to the matrix\n",
      "adding doc 50464e97b92d2a47a4c943cf to the matrix\n",
      "adding doc 50464e97b92d2a47a4c943d0 to the matrix\n",
      "adding doc 50464e97b92d2a47a4c943d0 to the matrix\n",
      "adding doc 50464e97b92d2a47a4c943d1 to the matrix\n",
      "adding doc 50464e97b92d2a47a4c943d1 to the matrix\n",
      "adding doc 50464e97b92d2a47a4c943d5 to the matrix\n",
      "adding doc 50464e97b92d2a47a4c943d6 to the matrix\n",
      "adding doc 50464e97b92d2a47a4c943d7 to the matrix\n",
      "adding doc 50464e97b92d2a47a4c943d9 to the matrix\n",
      "adding doc 50464e97b92d2a47a4c943da to the matrix\n",
      "adding doc 50464e97b92d2a47a4c943db to the matrix\n",
      "adding doc 50464e97b92d2a47a4c943db to the matrix\n",
      "adding doc 50464e97b92d2a47a4c943db to the matrix\n",
      "adding doc 50464e97b92d2a47a4c943db to the matrix\n",
      "adding doc 50464e97b92d2a47a4c943db to the matrix\n",
      "adding doc 50464e97b92d2a47a4c943db to the matrix\n",
      "adding doc 50464e97b92d2a47a4c943db to the matrix\n",
      "adding doc 50464e97b92d2a47a4c943db to the matrix\n",
      "adding doc 50464e97b92d2a47a4c943dc to the matrix\n",
      "adding doc 50464e97b92d2a47a4c943dc to the matrix\n",
      "adding doc 50464e97b92d2a47a4c943e0 to the matrix\n",
      "adding doc 50464e97b92d2a47a4c943e0 to the matrix\n",
      "adding doc 50464e97b92d2a47a4c943e0 to the matrix\n",
      "adding doc 50464e97b92d2a47a4c943e4 to the matrix\n",
      "adding doc 50464e97b92d2a47a4c943e7 to the matrix\n",
      "adding doc 50464e97b92d2a47a4c943e9 to the matrix\n",
      "adding doc 50464e97b92d2a47a4c943ea to the matrix\n",
      "adding doc 50464e97b92d2a47a4c943eb to the matrix\n",
      "adding doc 50464e97b92d2a47a4c943eb to the matrix\n",
      "adding doc 50464e97b92d2a47a4c943ec to the matrix\n",
      "adding doc 50464e97b92d2a47a4c943ec to the matrix\n",
      "adding doc 50464e97b92d2a47a4c943ec to the matrix\n",
      "adding doc 50464e97b92d2a47a4c943ec to the matrix\n",
      "adding doc 50464e97b92d2a47a4c943ee to the matrix\n",
      "adding doc 50464e97b92d2a47a4c943ef to the matrix\n",
      "adding doc 50464e97b92d2a47a4c943ef to the matrix\n",
      "adding doc 50464e97b92d2a47a4c943f1 to the matrix\n",
      "adding doc 50464e97b92d2a47a4c943f1 to the matrix\n",
      "adding doc 50464e97b92d2a47a4c943f9 to the matrix\n",
      "adding doc 50464e97b92d2a47a4c943fb to the matrix\n",
      "adding doc 50464e97b92d2a47a4c943fb to the matrix\n",
      "adding doc 50464e97b92d2a47a4c943fb to the matrix\n",
      "adding doc 50464e97b92d2a47a4c943fb to the matrix\n",
      "adding doc 50464e97b92d2a47a4c943fb to the matrix\n",
      "adding doc 50464e97b92d2a47a4c943fb to the matrix\n",
      "adding doc 50464e97b92d2a47a4c943fc to the matrix\n",
      "adding doc 50464e97b92d2a47a4c943fd to the matrix\n",
      "adding doc 50464e97b92d2a47a4c943fd to the matrix\n",
      "adding doc 50464e97b92d2a47a4c943ff to the matrix\n",
      "adding doc 50464e98b92d2a47a4c94401 to the matrix\n",
      "adding doc 50464e98b92d2a47a4c9440c to the matrix\n",
      "adding doc 50464e98b92d2a47a4c9440d to the matrix\n",
      "adding doc 50464e98b92d2a47a4c9440e to the matrix\n",
      "adding doc 50464e98b92d2a47a4c9440e to the matrix\n",
      "adding doc 50464e98b92d2a47a4c9440e to the matrix\n",
      "adding doc 50464e98b92d2a47a4c94412 to the matrix\n",
      "adding doc 50464e98b92d2a47a4c94433 to the matrix\n",
      "adding doc 50464e98b92d2a47a4c94433 to the matrix\n",
      "adding doc 50464e98b92d2a47a4c94436 to the matrix\n",
      "adding doc 50464e98b92d2a47a4c94438 to the matrix\n",
      "adding doc 50464e98b92d2a47a4c94438 to the matrix\n",
      "adding doc 50464e98b92d2a47a4c94438 to the matrix\n",
      "adding doc 50464e98b92d2a47a4c94438 to the matrix\n",
      "adding doc 50464e98b92d2a47a4c94438 to the matrix\n",
      "adding doc 50464e98b92d2a47a4c94439 to the matrix\n",
      "adding doc 50464e98b92d2a47a4c94439 to the matrix\n",
      "adding doc 50464e98b92d2a47a4c94439 to the matrix\n",
      "adding doc 50464e98b92d2a47a4c9443a to the matrix\n",
      "adding doc 50464e98b92d2a47a4c9443a to the matrix\n",
      "adding doc 50464e98b92d2a47a4c9443a to the matrix\n",
      "adding doc 50464e98b92d2a47a4c9443a to the matrix\n",
      "adding doc 50464e98b92d2a47a4c9443b to the matrix\n",
      "adding doc 50464e98b92d2a47a4c9443b to the matrix\n",
      "adding doc 50464e98b92d2a47a4c9443b to the matrix\n",
      "adding doc 50464e98b92d2a47a4c9443b to the matrix\n",
      "adding doc 50464e98b92d2a47a4c9443b to the matrix\n",
      "adding doc 50464e98b92d2a47a4c9443b to the matrix\n",
      "adding doc 50464e98b92d2a47a4c9443b to the matrix\n",
      "adding doc 50464e98b92d2a47a4c9443b to the matrix\n",
      "adding doc 50464e98b92d2a47a4c9443c to the matrix\n",
      "adding doc 50464e98b92d2a47a4c9444c to the matrix\n",
      "adding doc 50464e98b92d2a47a4c94450 to the matrix\n",
      "adding doc 50464e98b92d2a47a4c94450 to the matrix\n",
      "adding doc 50464e98b92d2a47a4c94450 to the matrix\n",
      "adding doc 50464e98b92d2a47a4c94450 to the matrix\n",
      "adding doc 50464e98b92d2a47a4c94450 to the matrix\n",
      "adding doc 50464e98b92d2a47a4c94451 to the matrix\n",
      "adding doc 50464e98b92d2a47a4c94451 to the matrix\n",
      "adding doc 50464e98b92d2a47a4c94451 to the matrix\n",
      "adding doc 50464e98b92d2a47a4c94451 to the matrix\n",
      "adding doc 50464e98b92d2a47a4c94452 to the matrix\n",
      "adding doc 50464e98b92d2a47a4c94452 to the matrix\n",
      "adding doc 50464e98b92d2a47a4c94452 to the matrix\n",
      "adding doc 50464e98b92d2a47a4c94452 to the matrix\n",
      "adding doc 50464e98b92d2a47a4c94454 to the matrix\n",
      "adding doc 50464e98b92d2a47a4c94454 to the matrix\n",
      "adding doc 50464e98b92d2a47a4c9445e to the matrix\n",
      "adding doc 50464e98b92d2a47a4c9445e to the matrix\n",
      "adding doc 50464e98b92d2a47a4c9445f to the matrix\n",
      "adding doc 50464e98b92d2a47a4c94460 to the matrix\n",
      "adding doc 50464e98b92d2a47a4c94460 to the matrix\n",
      "adding doc 50464e98b92d2a47a4c94475 to the matrix\n",
      "adding doc 50464e98b92d2a47a4c94477 to the matrix\n",
      "adding doc 50464e98b92d2a47a4c9447b to the matrix\n",
      "adding doc 50464e98b92d2a47a4c9447b to the matrix\n",
      "adding doc 50464e98b92d2a47a4c9447d to the matrix\n",
      "adding doc 50464e98b92d2a47a4c9447d to the matrix\n",
      "adding doc 50464e98b92d2a47a4c9447f to the matrix\n",
      "adding doc 50464e98b92d2a47a4c94480 to the matrix\n",
      "adding doc 50464e99b92d2a47a4c944bc to the matrix\n",
      "adding doc 50464e99b92d2a47a4c944bc to the matrix\n",
      "adding doc 50464e99b92d2a47a4c944cf to the matrix\n",
      "adding doc 50464e99b92d2a47a4c944cf to the matrix\n",
      "adding doc 50464e99b92d2a47a4c944e6 to the matrix\n",
      "adding doc 50464e99b92d2a47a4c944eb to the matrix\n",
      "adding doc 50464e99b92d2a47a4c944ed to the matrix\n",
      "adding doc 50464e99b92d2a47a4c94502 to the matrix\n",
      "adding doc 50464e99b92d2a47a4c94515 to the matrix\n",
      "adding doc 50464e99b92d2a47a4c94517 to the matrix\n",
      "adding doc 50464e99b92d2a47a4c94533 to the matrix\n",
      "adding doc 50464e99b92d2a47a4c94535 to the matrix\n",
      "adding doc 50464e99b92d2a47a4c94535 to the matrix\n",
      "adding doc 50464e99b92d2a47a4c94536 to the matrix\n",
      "adding doc 50464e99b92d2a47a4c94536 to the matrix\n",
      "adding doc 50464e99b92d2a47a4c94536 to the matrix\n",
      "adding doc 50464e99b92d2a47a4c94537 to the matrix\n",
      "adding doc 50464e9ab92d2a47a4c94539 to the matrix\n",
      "adding doc 50464e9ab92d2a47a4c94539 to the matrix\n",
      "adding doc 50464e9ab92d2a47a4c9453a to the matrix\n",
      "adding doc 50464e9ab92d2a47a4c9453a to the matrix\n",
      "adding doc 50464e9ab92d2a47a4c9453a to the matrix\n",
      "adding doc 50464e9ab92d2a47a4c9453c to the matrix\n",
      "adding doc 50464e9ab92d2a47a4c9453c to the matrix\n",
      "adding doc 50464e9ab92d2a47a4c9453c to the matrix\n",
      "adding doc 50464e9ab92d2a47a4c9453f to the matrix\n",
      "adding doc 50464e9ab92d2a47a4c9453f to the matrix\n",
      "adding doc 50464e9ab92d2a47a4c9453f to the matrix\n",
      "adding doc 50464e9ab92d2a47a4c9453f to the matrix\n",
      "adding doc 50464e9ab92d2a47a4c94540 to the matrix\n",
      "adding doc 50464e9ab92d2a47a4c94540 to the matrix\n",
      "adding doc 50464e9ab92d2a47a4c94541 to the matrix\n",
      "adding doc 50464e9ab92d2a47a4c94542 to the matrix\n",
      "adding doc 50464e9ab92d2a47a4c94542 to the matrix\n",
      "adding doc 50464e9ab92d2a47a4c94543 to the matrix\n",
      "adding doc 50464e9ab92d2a47a4c94548 to the matrix\n",
      "adding doc 50464e9ab92d2a47a4c94549 to the matrix\n",
      "adding doc 50464e9ab92d2a47a4c94549 to the matrix\n",
      "adding doc 50464e9ab92d2a47a4c94549 to the matrix\n",
      "adding doc 50464e9ab92d2a47a4c9454a to the matrix\n",
      "adding doc 50464e9ab92d2a47a4c9454a to the matrix\n",
      "adding doc 50464e9ab92d2a47a4c9454a to the matrix\n",
      "adding doc 50464e9ab92d2a47a4c9454c to the matrix\n",
      "adding doc 50464e9ab92d2a47a4c9454c to the matrix\n",
      "adding doc 50464e9ab92d2a47a4c9454c to the matrix\n",
      "adding doc 50464e9ab92d2a47a4c9454c to the matrix\n",
      "adding doc 50464e9ab92d2a47a4c94551 to the matrix\n",
      "adding doc 50464e9ab92d2a47a4c94551 to the matrix\n",
      "adding doc 50464e9ab92d2a47a4c94551 to the matrix\n",
      "adding doc 50464e9ab92d2a47a4c94556 to the matrix\n",
      "adding doc 50464e9ab92d2a47a4c94556 to the matrix\n",
      "adding doc 50464e9ab92d2a47a4c94557 to the matrix\n",
      "adding doc 50464e9ab92d2a47a4c9455c to the matrix\n",
      "adding doc 50464e9ab92d2a47a4c9455c to the matrix\n",
      "adding doc 50464e9ab92d2a47a4c9455c to the matrix\n",
      "adding doc 50464e9ab92d2a47a4c9455c to the matrix\n",
      "adding doc 50464e9ab92d2a47a4c9455c to the matrix\n",
      "adding doc 50464e9ab92d2a47a4c9455c to the matrix\n",
      "adding doc 50464e9ab92d2a47a4c9455d to the matrix\n",
      "adding doc 50464e9ab92d2a47a4c9455d to the matrix\n",
      "adding doc 50464e9ab92d2a47a4c9455e to the matrix\n",
      "adding doc 50464e9ab92d2a47a4c9455e to the matrix\n",
      "adding doc 50464e9ab92d2a47a4c9457e to the matrix\n",
      "adding doc 50464e9ab92d2a47a4c9457e to the matrix\n",
      "adding doc 50464e9ab92d2a47a4c94588 to the matrix\n",
      "adding doc 50464e9ab92d2a47a4c94589 to the matrix\n",
      "adding doc 50464e9ab92d2a47a4c9458b to the matrix\n",
      "adding doc 50464e9ab92d2a47a4c9458c to the matrix\n",
      "adding doc 50464e9ab92d2a47a4c9458c to the matrix\n",
      "adding doc 50464e9ab92d2a47a4c9458c to the matrix\n",
      "adding doc 50464e9ab92d2a47a4c9458e to the matrix\n",
      "adding doc 50464e9ab92d2a47a4c9458e to the matrix\n",
      "adding doc 50464e9ab92d2a47a4c9458e to the matrix\n",
      "adding doc 50464e9ab92d2a47a4c9458f to the matrix\n",
      "adding doc 50464e9ab92d2a47a4c94592 to the matrix\n",
      "adding doc 50464e9ab92d2a47a4c94592 to the matrix\n",
      "adding doc 50464e9ab92d2a47a4c94592 to the matrix\n",
      "adding doc 50464e9ab92d2a47a4c94594 to the matrix\n",
      "adding doc 50464e9ab92d2a47a4c94594 to the matrix\n",
      "adding doc 50464e9ab92d2a47a4c94595 to the matrix\n",
      "adding doc 50464e9ab92d2a47a4c94595 to the matrix\n",
      "adding doc 50464e9ab92d2a47a4c94595 to the matrix\n",
      "adding doc 50464e9ab92d2a47a4c94595 to the matrix\n",
      "adding doc 50464e9ab92d2a47a4c94595 to the matrix\n",
      "adding doc 50464e9ab92d2a47a4c94595 to the matrix\n",
      "adding doc 50464e9ab92d2a47a4c94596 to the matrix\n",
      "adding doc 50464e9ab92d2a47a4c94597 to the matrix\n",
      "adding doc 50464e9ab92d2a47a4c94598 to the matrix\n",
      "adding doc 50464e9ab92d2a47a4c94598 to the matrix\n",
      "adding doc 50464e9ab92d2a47a4c94598 to the matrix\n",
      "adding doc 50464e9ab92d2a47a4c94598 to the matrix\n",
      "adding doc 50464e9ab92d2a47a4c94598 to the matrix\n",
      "adding doc 50464e9ab92d2a47a4c94598 to the matrix\n",
      "adding doc 50464e9ab92d2a47a4c9459b to the matrix\n",
      "adding doc 50464e9ab92d2a47a4c945b2 to the matrix\n",
      "adding doc 50464e9ab92d2a47a4c945b2 to the matrix\n",
      "adding doc 50464e9ab92d2a47a4c945b2 to the matrix\n",
      "adding doc 50464e9ab92d2a47a4c945b4 to the matrix\n",
      "adding doc 50464e9ab92d2a47a4c945b7 to the matrix\n",
      "adding doc 50464e9ab92d2a47a4c945b7 to the matrix\n",
      "adding doc 50464e9ab92d2a47a4c945b7 to the matrix\n",
      "adding doc 50464e9ab92d2a47a4c945b7 to the matrix\n",
      "adding doc 50464e9ab92d2a47a4c945b8 to the matrix\n",
      "adding doc 50464e9ab92d2a47a4c945b8 to the matrix\n",
      "adding doc 50464e9ab92d2a47a4c945b8 to the matrix\n",
      "adding doc 50464e9ab92d2a47a4c945b8 to the matrix\n",
      "adding doc 50464e9ab92d2a47a4c945b8 to the matrix\n",
      "adding doc 50464e9ab92d2a47a4c945ba to the matrix\n",
      "adding doc 50464e9ab92d2a47a4c945ba to the matrix\n",
      "adding doc 50464e9ab92d2a47a4c945ba to the matrix\n",
      "adding doc 50464e9ab92d2a47a4c945ba to the matrix\n",
      "adding doc 50464e9ab92d2a47a4c945bf to the matrix\n",
      "adding doc 50464e9ab92d2a47a4c945bf to the matrix\n",
      "adding doc 50464e9ab92d2a47a4c945bf to the matrix\n",
      "adding doc 50464e9ab92d2a47a4c945bf to the matrix\n",
      "adding doc 50464e9ab92d2a47a4c945bf to the matrix\n",
      "adding doc 50464e9ab92d2a47a4c945bf to the matrix\n",
      "adding doc 50464e9ab92d2a47a4c945bf to the matrix\n",
      "adding doc 50464e9ab92d2a47a4c945bf to the matrix\n",
      "adding doc 50464e9ab92d2a47a4c945c0 to the matrix\n",
      "adding doc 50464e9ab92d2a47a4c945c0 to the matrix\n",
      "adding doc 50464e9ab92d2a47a4c945c0 to the matrix\n",
      "adding doc 50464e9ab92d2a47a4c945c0 to the matrix\n",
      "adding doc 50464e9ab92d2a47a4c945c0 to the matrix\n",
      "adding doc 50464e9ab92d2a47a4c945c0 to the matrix\n",
      "adding doc 50464e9ab92d2a47a4c945c8 to the matrix\n",
      "adding doc 50464e9bb92d2a47a4c945ce to the matrix\n",
      "adding doc 50464e9bb92d2a47a4c945d1 to the matrix\n",
      "adding doc 50464e9bb92d2a47a4c945d4 to the matrix\n",
      "adding doc 50464e9bb92d2a47a4c945d9 to the matrix\n",
      "adding doc 50464e9bb92d2a47a4c945da to the matrix\n",
      "adding doc 50464e9bb92d2a47a4c945de to the matrix\n",
      "adding doc 50464e9bb92d2a47a4c945e0 to the matrix\n",
      "adding doc 50464e9bb92d2a47a4c945e0 to the matrix\n",
      "adding doc 50464e9bb92d2a47a4c945e3 to the matrix\n",
      "adding doc 50464e9bb92d2a47a4c945e6 to the matrix\n",
      "adding doc 50464e9bb92d2a47a4c945e6 to the matrix\n",
      "adding doc 50464e9bb92d2a47a4c945e6 to the matrix\n",
      "adding doc 50464e9bb92d2a47a4c945e6 to the matrix\n",
      "adding doc 50464e9bb92d2a47a4c945e6 to the matrix\n",
      "adding doc 50464e9bb92d2a47a4c945e6 to the matrix\n",
      "adding doc 50464e9bb92d2a47a4c945e7 to the matrix\n",
      "adding doc 50464e9bb92d2a47a4c945e7 to the matrix\n",
      "adding doc 50464e9bb92d2a47a4c945e8 to the matrix\n",
      "adding doc 50464e9bb92d2a47a4c945e8 to the matrix\n",
      "adding doc 50464e9bb92d2a47a4c945e8 to the matrix\n",
      "adding doc 50464e9bb92d2a47a4c945e8 to the matrix\n",
      "adding doc 50464e9bb92d2a47a4c945e8 to the matrix\n",
      "adding doc 50464e9bb92d2a47a4c945e9 to the matrix\n",
      "adding doc 50464e9bb92d2a47a4c945e9 to the matrix\n",
      "adding doc 50464e9bb92d2a47a4c945eb to the matrix\n",
      "adding doc 50464e9bb92d2a47a4c945eb to the matrix\n",
      "adding doc 50464e9bb92d2a47a4c945eb to the matrix\n",
      "adding doc 50464e9bb92d2a47a4c945ec to the matrix\n",
      "adding doc 50464e9bb92d2a47a4c945ec to the matrix\n",
      "adding doc 50464e9bb92d2a47a4c945ec to the matrix\n",
      "adding doc 50464e9bb92d2a47a4c945ed to the matrix\n",
      "adding doc 50464e9bb92d2a47a4c945f1 to the matrix\n",
      "adding doc 50464e9bb92d2a47a4c945f1 to the matrix\n",
      "adding doc 50464e9bb92d2a47a4c945f1 to the matrix\n",
      "adding doc 50464e9bb92d2a47a4c945f1 to the matrix\n",
      "adding doc 50464e9bb92d2a47a4c945f1 to the matrix\n",
      "adding doc 50464e9bb92d2a47a4c945f1 to the matrix\n",
      "adding doc 50464e9bb92d2a47a4c94601 to the matrix\n",
      "adding doc 50464e9bb92d2a47a4c94602 to the matrix\n",
      "adding doc 50464e9bb92d2a47a4c94610 to the matrix\n",
      "adding doc 50464e9bb92d2a47a4c94615 to the matrix\n",
      "adding doc 50464e9bb92d2a47a4c9461b to the matrix\n",
      "adding doc 50464e9bb92d2a47a4c9461b to the matrix\n",
      "adding doc 50464e9bb92d2a47a4c9461b to the matrix\n",
      "adding doc 50464e9bb92d2a47a4c9461b to the matrix\n",
      "adding doc 50464e9bb92d2a47a4c9461b to the matrix\n",
      "adding doc 50464e9bb92d2a47a4c9461c to the matrix\n",
      "adding doc 50464e9bb92d2a47a4c9461c to the matrix\n",
      "adding doc 50464e9bb92d2a47a4c9461d to the matrix\n",
      "adding doc 50464e9bb92d2a47a4c9461d to the matrix\n",
      "adding doc 50464e9bb92d2a47a4c9461e to the matrix\n",
      "adding doc 50464e9bb92d2a47a4c9461e to the matrix\n",
      "adding doc 50464e9bb92d2a47a4c9461e to the matrix\n",
      "adding doc 50464e9bb92d2a47a4c9461e to the matrix\n",
      "adding doc 50464e9bb92d2a47a4c9461e to the matrix\n",
      "adding doc 50464e9bb92d2a47a4c9461e to the matrix\n",
      "adding doc 50464e9bb92d2a47a4c94621 to the matrix\n",
      "adding doc 50464e9bb92d2a47a4c94621 to the matrix\n",
      "adding doc 50464e9bb92d2a47a4c94622 to the matrix\n",
      "adding doc 50464e9bb92d2a47a4c94625 to the matrix\n",
      "adding doc 50464e9bb92d2a47a4c94629 to the matrix\n",
      "adding doc 50464e9bb92d2a47a4c9462a to the matrix\n",
      "adding doc 50464e9bb92d2a47a4c9462a to the matrix\n",
      "adding doc 50464e9bb92d2a47a4c9462a to the matrix\n",
      "adding doc 50464e9bb92d2a47a4c9462a to the matrix\n",
      "adding doc 50464e9bb92d2a47a4c9462d to the matrix\n",
      "adding doc 50464e9bb92d2a47a4c94630 to the matrix\n",
      "adding doc 50464e9bb92d2a47a4c94631 to the matrix\n",
      "adding doc 50464e9bb92d2a47a4c94632 to the matrix\n",
      "adding doc 50464e9bb92d2a47a4c94632 to the matrix\n",
      "adding doc 50464e9bb92d2a47a4c94633 to the matrix\n",
      "adding doc 50464e9bb92d2a47a4c94633 to the matrix\n",
      "adding doc 50464e9bb92d2a47a4c94634 to the matrix\n",
      "adding doc 50464e9bb92d2a47a4c94634 to the matrix\n",
      "adding doc 50464e9bb92d2a47a4c94635 to the matrix\n",
      "adding doc 50464e9bb92d2a47a4c94635 to the matrix\n",
      "adding doc 50464e9bb92d2a47a4c94635 to the matrix\n",
      "adding doc 50464e9bb92d2a47a4c9463b to the matrix\n",
      "adding doc 50464e9bb92d2a47a4c9463f to the matrix\n",
      "adding doc 50464e9cb92d2a47a4c94640 to the matrix\n",
      "adding doc 50464e9cb92d2a47a4c94643 to the matrix\n",
      "adding doc 50464e9cb92d2a47a4c94644 to the matrix\n",
      "adding doc 50464e9cb92d2a47a4c94644 to the matrix\n",
      "adding doc 50464e9cb92d2a47a4c94647 to the matrix\n",
      "adding doc 50464e9cb92d2a47a4c9464e to the matrix\n",
      "adding doc 50464e9cb92d2a47a4c94653 to the matrix\n",
      "adding doc 50464e9cb92d2a47a4c94653 to the matrix\n",
      "adding doc 50464e9cb92d2a47a4c94653 to the matrix\n",
      "adding doc 50464e9cb92d2a47a4c94654 to the matrix\n",
      "adding doc 50464e9cb92d2a47a4c94655 to the matrix\n",
      "adding doc 50464e9cb92d2a47a4c94655 to the matrix\n",
      "adding doc 50464e9cb92d2a47a4c94655 to the matrix\n",
      "adding doc 50464e9cb92d2a47a4c94655 to the matrix\n",
      "adding doc 50464e9cb92d2a47a4c94655 to the matrix\n",
      "adding doc 50464e9cb92d2a47a4c94655 to the matrix\n",
      "adding doc 50464e9cb92d2a47a4c94655 to the matrix\n",
      "adding doc 50464e9cb92d2a47a4c94655 to the matrix\n",
      "adding doc 50464e9cb92d2a47a4c94656 to the matrix\n",
      "adding doc 50464e9cb92d2a47a4c94656 to the matrix\n",
      "adding doc 50464e9cb92d2a47a4c9465a to the matrix\n",
      "adding doc 50464e9cb92d2a47a4c9465c to the matrix\n",
      "adding doc 50464e9cb92d2a47a4c9465c to the matrix\n",
      "adding doc 50464e9cb92d2a47a4c9465d to the matrix\n",
      "adding doc 50464e9cb92d2a47a4c9465e to the matrix\n",
      "adding doc 50464e9cb92d2a47a4c9465f to the matrix\n",
      "adding doc 50464e9cb92d2a47a4c94660 to the matrix\n",
      "adding doc 50464e9cb92d2a47a4c94662 to the matrix\n",
      "adding doc 50464e9cb92d2a47a4c94663 to the matrix\n",
      "adding doc 50464e9cb92d2a47a4c94667 to the matrix\n",
      "adding doc 50464e9cb92d2a47a4c94667 to the matrix\n",
      "adding doc 50464e9cb92d2a47a4c94667 to the matrix\n",
      "adding doc 50464e9cb92d2a47a4c9466a to the matrix\n",
      "adding doc 50464e9cb92d2a47a4c9466a to the matrix\n",
      "adding doc 50464e9cb92d2a47a4c9466a to the matrix\n",
      "adding doc 50464e9cb92d2a47a4c9466a to the matrix\n",
      "adding doc 50464e9cb92d2a47a4c9466b to the matrix\n",
      "adding doc 50464e9cb92d2a47a4c9466b to the matrix\n",
      "adding doc 50464e9cb92d2a47a4c9466c to the matrix\n",
      "adding doc 50464e9cb92d2a47a4c94676 to the matrix\n",
      "adding doc 50464e9cb92d2a47a4c94676 to the matrix\n",
      "adding doc 50464e9cb92d2a47a4c94676 to the matrix\n",
      "adding doc 50464e9cb92d2a47a4c94676 to the matrix\n",
      "adding doc 50464e9cb92d2a47a4c94676 to the matrix\n",
      "adding doc 50464e9cb92d2a47a4c94677 to the matrix\n",
      "adding doc 50464e9cb92d2a47a4c94677 to the matrix\n",
      "adding doc 50464e9cb92d2a47a4c94678 to the matrix\n",
      "adding doc 50464e9cb92d2a47a4c94678 to the matrix\n",
      "adding doc 50464e9cb92d2a47a4c94678 to the matrix\n",
      "adding doc 50464e9cb92d2a47a4c94678 to the matrix\n",
      "adding doc 50464e9cb92d2a47a4c9467e to the matrix\n",
      "adding doc 50464e9cb92d2a47a4c94680 to the matrix\n",
      "adding doc 50464e9cb92d2a47a4c94680 to the matrix\n",
      "adding doc 50464e9cb92d2a47a4c94680 to the matrix\n",
      "adding doc 50464e9cb92d2a47a4c94680 to the matrix\n",
      "adding doc 50464e9cb92d2a47a4c94680 to the matrix\n",
      "adding doc 50464e9cb92d2a47a4c94680 to the matrix\n",
      "adding doc 50464e9cb92d2a47a4c94681 to the matrix\n",
      "adding doc 50464e9cb92d2a47a4c94681 to the matrix\n",
      "adding doc 50464e9cb92d2a47a4c94681 to the matrix\n",
      "adding doc 50464e9cb92d2a47a4c94681 to the matrix\n",
      "adding doc 50464e9cb92d2a47a4c94681 to the matrix\n",
      "adding doc 50464e9cb92d2a47a4c94681 to the matrix\n",
      "adding doc 50464e9cb92d2a47a4c94681 to the matrix\n",
      "adding doc 50464e9cb92d2a47a4c94682 to the matrix\n",
      "adding doc 50464e9cb92d2a47a4c94683 to the matrix\n",
      "adding doc 50464e9cb92d2a47a4c94683 to the matrix\n",
      "adding doc 50464e9cb92d2a47a4c94684 to the matrix\n",
      "adding doc 50464e9cb92d2a47a4c94688 to the matrix\n",
      "adding doc 50464e9cb92d2a47a4c9468a to the matrix\n",
      "adding doc 50464e9cb92d2a47a4c9468a to the matrix\n",
      "adding doc 50464e9cb92d2a47a4c9468c to the matrix\n",
      "adding doc 50464e9cb92d2a47a4c9468c to the matrix\n",
      "adding doc 50464e9cb92d2a47a4c9468c to the matrix\n",
      "adding doc 50464e9cb92d2a47a4c9468f to the matrix\n",
      "adding doc 50464e9cb92d2a47a4c94691 to the matrix\n",
      "adding doc 50464e9cb92d2a47a4c94691 to the matrix\n",
      "adding doc 50464e9cb92d2a47a4c94691 to the matrix\n",
      "adding doc 50464e9cb92d2a47a4c94692 to the matrix\n",
      "adding doc 50464e9cb92d2a47a4c94697 to the matrix\n",
      "adding doc 50464e9cb92d2a47a4c94697 to the matrix\n",
      "adding doc 50464e9cb92d2a47a4c94697 to the matrix\n",
      "adding doc 50464e9cb92d2a47a4c94698 to the matrix\n",
      "adding doc 50464e9cb92d2a47a4c94698 to the matrix\n",
      "adding doc 50464e9cb92d2a47a4c94698 to the matrix\n",
      "adding doc 50464e9cb92d2a47a4c94698 to the matrix\n",
      "adding doc 50464e9cb92d2a47a4c94699 to the matrix\n",
      "adding doc 50464e9cb92d2a47a4c94699 to the matrix\n",
      "adding doc 50464e9cb92d2a47a4c94699 to the matrix\n",
      "adding doc 50464e9cb92d2a47a4c94699 to the matrix\n",
      "adding doc 50464e9cb92d2a47a4c9469c to the matrix\n",
      "adding doc 50464e9cb92d2a47a4c9469f to the matrix\n",
      "adding doc 50464e9cb92d2a47a4c946a4 to the matrix\n",
      "adding doc 50464e9cb92d2a47a4c946a4 to the matrix\n",
      "adding doc 50464e9cb92d2a47a4c946a4 to the matrix\n",
      "adding doc 50464e9cb92d2a47a4c946a6 to the matrix\n",
      "adding doc 50464e9cb92d2a47a4c946a7 to the matrix\n",
      "adding doc 50464e9cb92d2a47a4c946a7 to the matrix\n",
      "adding doc 50464e9cb92d2a47a4c946a7 to the matrix\n",
      "adding doc 50464e9cb92d2a47a4c946a8 to the matrix\n",
      "adding doc 50464e9cb92d2a47a4c946a9 to the matrix\n",
      "adding doc 50464e9db92d2a47a4c946ac to the matrix\n",
      "adding doc 50464e9db92d2a47a4c946ac to the matrix\n",
      "adding doc 50464e9db92d2a47a4c946ac to the matrix\n",
      "adding doc 50464e9db92d2a47a4c946ac to the matrix\n",
      "adding doc 50464e9db92d2a47a4c946ae to the matrix\n",
      "adding doc 50464e9db92d2a47a4c946b6 to the matrix\n",
      "adding doc 50464e9db92d2a47a4c946b7 to the matrix\n",
      "adding doc 50464e9db92d2a47a4c946b7 to the matrix\n",
      "adding doc 50464e9db92d2a47a4c946b8 to the matrix\n",
      "adding doc 50464e9db92d2a47a4c946b9 to the matrix\n",
      "adding doc 50464e9db92d2a47a4c946ba to the matrix\n",
      "adding doc 50464e9db92d2a47a4c946bf to the matrix\n",
      "adding doc 50464e9db92d2a47a4c946c0 to the matrix\n",
      "adding doc 50464e9db92d2a47a4c946c1 to the matrix\n",
      "adding doc 50464e9db92d2a47a4c946c1 to the matrix\n",
      "adding doc 50464e9db92d2a47a4c946c2 to the matrix\n",
      "adding doc 50464e9db92d2a47a4c946c2 to the matrix\n",
      "adding doc 50464e9db92d2a47a4c946c5 to the matrix\n",
      "adding doc 50464e9db92d2a47a4c946c5 to the matrix\n",
      "adding doc 50464e9db92d2a47a4c946c5 to the matrix\n",
      "adding doc 50464e9db92d2a47a4c946c6 to the matrix\n",
      "adding doc 50464e9db92d2a47a4c946c6 to the matrix\n",
      "adding doc 50464e9db92d2a47a4c946c8 to the matrix\n",
      "adding doc 50464e9db92d2a47a4c946c8 to the matrix\n",
      "adding doc 50464e9db92d2a47a4c946c9 to the matrix\n",
      "adding doc 50464e9db92d2a47a4c946c9 to the matrix\n",
      "adding doc 50464e9db92d2a47a4c946c9 to the matrix\n",
      "adding doc 50464e9db92d2a47a4c946c9 to the matrix\n",
      "adding doc 50464e9db92d2a47a4c946cd to the matrix\n",
      "adding doc 50464e9db92d2a47a4c946cd to the matrix\n",
      "adding doc 50464e9db92d2a47a4c946ce to the matrix\n",
      "adding doc 50464e9db92d2a47a4c946ce to the matrix\n",
      "adding doc 50464e9db92d2a47a4c946ce to the matrix\n",
      "adding doc 50464e9db92d2a47a4c946cf to the matrix\n",
      "adding doc 50464e9db92d2a47a4c946d0 to the matrix\n",
      "adding doc 50464e9db92d2a47a4c946d2 to the matrix\n",
      "adding doc 50464e9db92d2a47a4c946d3 to the matrix\n",
      "adding doc 50464e9db92d2a47a4c946d3 to the matrix\n",
      "adding doc 50464e9db92d2a47a4c946d3 to the matrix\n",
      "adding doc 50464e9db92d2a47a4c946d3 to the matrix\n",
      "adding doc 50464e9db92d2a47a4c946d4 to the matrix\n",
      "adding doc 50464e9db92d2a47a4c946d4 to the matrix\n",
      "adding doc 50464e9db92d2a47a4c946d5 to the matrix\n",
      "adding doc 50464e9db92d2a47a4c946d6 to the matrix\n",
      "adding doc 50464e9db92d2a47a4c946d7 to the matrix\n",
      "adding doc 50464e9db92d2a47a4c946d9 to the matrix\n",
      "adding doc 50464e9db92d2a47a4c946d9 to the matrix\n",
      "adding doc 50464e9db92d2a47a4c946d9 to the matrix\n",
      "adding doc 50464e9db92d2a47a4c946d9 to the matrix\n",
      "adding doc 50464e9db92d2a47a4c946d9 to the matrix\n",
      "adding doc 50464e9db92d2a47a4c946d9 to the matrix\n",
      "adding doc 50464e9db92d2a47a4c946da to the matrix\n",
      "adding doc 50464e9db92d2a47a4c946de to the matrix\n",
      "adding doc 50464e9db92d2a47a4c946de to the matrix\n",
      "adding doc 50464e9db92d2a47a4c946de to the matrix\n",
      "adding doc 50464e9db92d2a47a4c946e0 to the matrix\n",
      "adding doc 50464e9db92d2a47a4c946e0 to the matrix\n",
      "adding doc 50464e9db92d2a47a4c946e3 to the matrix\n",
      "adding doc 50464e9db92d2a47a4c946e7 to the matrix\n",
      "adding doc 50464e9db92d2a47a4c946ed to the matrix\n",
      "adding doc 50464e9db92d2a47a4c946ed to the matrix\n",
      "adding doc 50464e9db92d2a47a4c946ed to the matrix\n",
      "adding doc 50464e9db92d2a47a4c946ed to the matrix\n",
      "adding doc 50464e9db92d2a47a4c946ee to the matrix\n",
      "adding doc 50464e9db92d2a47a4c946f6 to the matrix\n",
      "adding doc 50464e9db92d2a47a4c946f7 to the matrix\n",
      "adding doc 50464e9db92d2a47a4c946f8 to the matrix\n",
      "adding doc 50464e9db92d2a47a4c946f8 to the matrix\n",
      "adding doc 50464e9db92d2a47a4c946fa to the matrix\n",
      "adding doc 50464e9db92d2a47a4c946fb to the matrix\n",
      "adding doc 50464e9db92d2a47a4c946fc to the matrix\n",
      "adding doc 50464e9db92d2a47a4c946fc to the matrix\n",
      "adding doc 50464e9db92d2a47a4c946fe to the matrix\n",
      "adding doc 50464e9db92d2a47a4c94704 to the matrix\n",
      "adding doc 50464e9db92d2a47a4c94704 to the matrix\n",
      "adding doc 50464e9db92d2a47a4c94705 to the matrix\n",
      "adding doc 50464e9db92d2a47a4c94708 to the matrix\n",
      "adding doc 50464e9db92d2a47a4c94708 to the matrix\n",
      "adding doc 50464e9db92d2a47a4c94709 to the matrix\n",
      "adding doc 50464e9db92d2a47a4c9470a to the matrix\n",
      "adding doc 50464e9db92d2a47a4c9470a to the matrix\n",
      "adding doc 50464e9db92d2a47a4c9470a to the matrix\n",
      "adding doc 50464e9db92d2a47a4c9470b to the matrix\n",
      "adding doc 50464e9db92d2a47a4c9470b to the matrix\n",
      "adding doc 50464e9db92d2a47a4c9470b to the matrix\n",
      "adding doc 50464e9db92d2a47a4c9470c to the matrix\n",
      "adding doc 50464e9db92d2a47a4c9470d to the matrix\n",
      "adding doc 50464e9db92d2a47a4c9470d to the matrix\n",
      "adding doc 50464e9db92d2a47a4c9470d to the matrix\n",
      "adding doc 50464e9db92d2a47a4c9470d to the matrix\n",
      "adding doc 50464e9db92d2a47a4c9470d to the matrix\n",
      "adding doc 50464e9eb92d2a47a4c94718 to the matrix\n",
      "adding doc 50464e9eb92d2a47a4c94719 to the matrix\n",
      "adding doc 50464e9eb92d2a47a4c9471c to the matrix\n",
      "adding doc 50464e9eb92d2a47a4c9471d to the matrix\n",
      "adding doc 50464e9eb92d2a47a4c9471d to the matrix\n",
      "adding doc 50464e9eb92d2a47a4c9471d to the matrix\n",
      "adding doc 50464e9eb92d2a47a4c9471d to the matrix\n",
      "adding doc 50464e9eb92d2a47a4c94721 to the matrix\n",
      "adding doc 50464e9eb92d2a47a4c94721 to the matrix\n",
      "adding doc 50464e9eb92d2a47a4c94722 to the matrix\n",
      "adding doc 50464e9eb92d2a47a4c94722 to the matrix\n",
      "adding doc 50464e9eb92d2a47a4c94723 to the matrix\n",
      "adding doc 50464e9eb92d2a47a4c94724 to the matrix\n",
      "adding doc 50464e9eb92d2a47a4c94724 to the matrix\n",
      "adding doc 50464e9eb92d2a47a4c94724 to the matrix\n",
      "adding doc 50464e9eb92d2a47a4c94724 to the matrix\n",
      "adding doc 50464e9eb92d2a47a4c94724 to the matrix\n",
      "adding doc 50464e9eb92d2a47a4c94725 to the matrix\n",
      "adding doc 50464e9eb92d2a47a4c94725 to the matrix\n",
      "adding doc 50464e9eb92d2a47a4c94725 to the matrix\n",
      "adding doc 50464e9eb92d2a47a4c94725 to the matrix\n",
      "adding doc 50464e9eb92d2a47a4c94725 to the matrix\n",
      "adding doc 50464e9eb92d2a47a4c94726 to the matrix\n",
      "adding doc 50464e9eb92d2a47a4c94726 to the matrix\n",
      "adding doc 50464e9eb92d2a47a4c94726 to the matrix\n",
      "adding doc 50464e9eb92d2a47a4c94727 to the matrix\n",
      "adding doc 50464e9eb92d2a47a4c94728 to the matrix\n",
      "adding doc 50464e9eb92d2a47a4c9472a to the matrix\n",
      "adding doc 50464e9eb92d2a47a4c9472c to the matrix\n",
      "adding doc 50464e9eb92d2a47a4c9472c to the matrix\n",
      "adding doc 50464e9eb92d2a47a4c9472c to the matrix\n",
      "adding doc 50464e9eb92d2a47a4c9472c to the matrix\n",
      "adding doc 50464e9eb92d2a47a4c9472c to the matrix\n",
      "adding doc 50464e9eb92d2a47a4c9472c to the matrix\n",
      "adding doc 50464e9eb92d2a47a4c94733 to the matrix\n",
      "adding doc 50464e9eb92d2a47a4c94733 to the matrix\n",
      "adding doc 50464e9eb92d2a47a4c94738 to the matrix\n",
      "adding doc 50464e9eb92d2a47a4c94739 to the matrix\n",
      "adding doc 50464e9eb92d2a47a4c9473c to the matrix\n",
      "adding doc 50464e9eb92d2a47a4c9473e to the matrix\n",
      "adding doc 50464e9eb92d2a47a4c9473e to the matrix\n",
      "adding doc 50464e9eb92d2a47a4c9473e to the matrix\n",
      "adding doc 50464e9eb92d2a47a4c9473e to the matrix\n",
      "adding doc 50464e9eb92d2a47a4c9473f to the matrix\n",
      "adding doc 50464e9eb92d2a47a4c9473f to the matrix\n",
      "adding doc 50464e9eb92d2a47a4c9473f to the matrix\n",
      "adding doc 50464e9eb92d2a47a4c9473f to the matrix\n",
      "adding doc 50464e9eb92d2a47a4c9473f to the matrix\n",
      "adding doc 50464e9eb92d2a47a4c9473f to the matrix\n",
      "adding doc 50464e9eb92d2a47a4c94740 to the matrix\n",
      "adding doc 50464e9eb92d2a47a4c94740 to the matrix\n",
      "adding doc 50464e9eb92d2a47a4c94740 to the matrix\n",
      "adding doc 50464e9eb92d2a47a4c94740 to the matrix\n",
      "adding doc 50464e9eb92d2a47a4c94740 to the matrix\n",
      "adding doc 50464e9eb92d2a47a4c94740 to the matrix\n",
      "adding doc 50464e9eb92d2a47a4c94740 to the matrix\n",
      "adding doc 50464e9eb92d2a47a4c94743 to the matrix\n",
      "adding doc 50464e9eb92d2a47a4c94743 to the matrix\n",
      "adding doc 50464e9eb92d2a47a4c94743 to the matrix\n",
      "adding doc 50464e9eb92d2a47a4c94743 to the matrix\n",
      "adding doc 50464e9eb92d2a47a4c94743 to the matrix\n",
      "adding doc 50464e9eb92d2a47a4c94743 to the matrix\n",
      "adding doc 50464e9eb92d2a47a4c94745 to the matrix\n",
      "adding doc 50464e9eb92d2a47a4c94745 to the matrix\n",
      "adding doc 50464e9eb92d2a47a4c94745 to the matrix\n",
      "adding doc 50464e9eb92d2a47a4c94746 to the matrix\n",
      "adding doc 50464e9eb92d2a47a4c9474c to the matrix\n",
      "adding doc 50464e9eb92d2a47a4c9474d to the matrix\n",
      "adding doc 50464e9eb92d2a47a4c9474e to the matrix\n",
      "adding doc 50464e9eb92d2a47a4c9474e to the matrix\n",
      "adding doc 50464e9eb92d2a47a4c9474e to the matrix\n",
      "adding doc 50464e9eb92d2a47a4c9474f to the matrix\n",
      "adding doc 50464e9eb92d2a47a4c9474f to the matrix\n",
      "adding doc 50464e9eb92d2a47a4c94750 to the matrix\n",
      "adding doc 50464e9eb92d2a47a4c94750 to the matrix\n",
      "adding doc 50464e9eb92d2a47a4c94750 to the matrix\n",
      "adding doc 50464e9eb92d2a47a4c94751 to the matrix\n",
      "adding doc 50464e9eb92d2a47a4c94751 to the matrix\n",
      "adding doc 50464e9eb92d2a47a4c94751 to the matrix\n",
      "adding doc 50464e9eb92d2a47a4c94755 to the matrix\n",
      "adding doc 50464e9eb92d2a47a4c94755 to the matrix\n",
      "adding doc 50464e9eb92d2a47a4c94755 to the matrix\n",
      "adding doc 50464e9eb92d2a47a4c94755 to the matrix\n",
      "adding doc 50464e9eb92d2a47a4c94755 to the matrix\n",
      "adding doc 50464e9eb92d2a47a4c94757 to the matrix\n",
      "adding doc 50464e9eb92d2a47a4c9475d to the matrix\n",
      "adding doc 50464e9eb92d2a47a4c9475d to the matrix\n",
      "adding doc 50464e9eb92d2a47a4c9475d to the matrix\n",
      "adding doc 50464e9eb92d2a47a4c9475d to the matrix\n",
      "adding doc 50464e9eb92d2a47a4c9475d to the matrix\n",
      "adding doc 50464e9eb92d2a47a4c94760 to the matrix\n",
      "adding doc 50464e9eb92d2a47a4c94760 to the matrix\n",
      "adding doc 50464e9eb92d2a47a4c94760 to the matrix\n",
      "adding doc 50464e9eb92d2a47a4c94761 to the matrix\n",
      "adding doc 50464e9eb92d2a47a4c94762 to the matrix\n",
      "adding doc 50464e9eb92d2a47a4c94763 to the matrix\n",
      "adding doc 50464e9eb92d2a47a4c94765 to the matrix\n",
      "adding doc 50464e9eb92d2a47a4c94767 to the matrix\n",
      "adding doc 50464e9eb92d2a47a4c94767 to the matrix\n",
      "adding doc 50464e9eb92d2a47a4c94768 to the matrix\n",
      "adding doc 50464e9eb92d2a47a4c94768 to the matrix\n",
      "adding doc 50464e9eb92d2a47a4c94768 to the matrix\n",
      "adding doc 50464e9eb92d2a47a4c94768 to the matrix\n",
      "adding doc 50464e9eb92d2a47a4c94768 to the matrix\n",
      "adding doc 50464e9eb92d2a47a4c94768 to the matrix\n",
      "adding doc 50464e9eb92d2a47a4c94769 to the matrix\n",
      "adding doc 50464e9eb92d2a47a4c9476b to the matrix\n",
      "adding doc 50464e9eb92d2a47a4c9476b to the matrix\n",
      "adding doc 50464e9eb92d2a47a4c9476b to the matrix\n",
      "adding doc 50464e9eb92d2a47a4c9476b to the matrix\n",
      "adding doc 50464e9eb92d2a47a4c9476b to the matrix\n",
      "adding doc 50464e9eb92d2a47a4c9476b to the matrix\n",
      "adding doc 50464e9eb92d2a47a4c9476b to the matrix\n",
      "adding doc 50464e9eb92d2a47a4c9476c to the matrix\n",
      "adding doc 50464e9eb92d2a47a4c94772 to the matrix\n",
      "adding doc 50464e9eb92d2a47a4c94772 to the matrix\n",
      "adding doc 50464e9eb92d2a47a4c94775 to the matrix\n",
      "adding doc 50464e9eb92d2a47a4c94779 to the matrix\n",
      "adding doc 50464e9eb92d2a47a4c94779 to the matrix\n",
      "adding doc 50464e9eb92d2a47a4c94779 to the matrix\n",
      "adding doc 50464e9eb92d2a47a4c9477a to the matrix\n",
      "adding doc 50464e9eb92d2a47a4c9477a to the matrix\n",
      "adding doc 50464e9eb92d2a47a4c9477b to the matrix\n",
      "adding doc 50464e9eb92d2a47a4c9477c to the matrix\n",
      "adding doc 50464e9eb92d2a47a4c9477c to the matrix\n",
      "adding doc 50464e9eb92d2a47a4c9477d to the matrix\n",
      "adding doc 50464e9eb92d2a47a4c9477d to the matrix\n",
      "adding doc 50464e9eb92d2a47a4c9477d to the matrix\n",
      "adding doc 50464e9fb92d2a47a4c94796 to the matrix\n",
      "adding doc 50464e9fb92d2a47a4c94796 to the matrix\n",
      "adding doc 50464e9fb92d2a47a4c94796 to the matrix\n",
      "adding doc 50464e9fb92d2a47a4c94796 to the matrix\n",
      "adding doc 50464e9fb92d2a47a4c9479a to the matrix\n",
      "adding doc 50464e9fb92d2a47a4c9479a to the matrix\n",
      "adding doc 50464e9fb92d2a47a4c9479a to the matrix\n",
      "adding doc 50464e9fb92d2a47a4c9479a to the matrix\n",
      "adding doc 50464e9fb92d2a47a4c9479a to the matrix\n",
      "adding doc 50464e9fb92d2a47a4c9479b to the matrix\n",
      "adding doc 50464e9fb92d2a47a4c9479b to the matrix\n",
      "adding doc 50464e9fb92d2a47a4c9479c to the matrix\n",
      "adding doc 50464e9fb92d2a47a4c9479c to the matrix\n",
      "adding doc 50464e9fb92d2a47a4c9479d to the matrix\n",
      "adding doc 50464e9fb92d2a47a4c947a6 to the matrix\n",
      "adding doc 50464e9fb92d2a47a4c947ad to the matrix\n",
      "adding doc 50464e9fb92d2a47a4c947ad to the matrix\n",
      "adding doc 50464e9fb92d2a47a4c947b5 to the matrix\n",
      "adding doc 50464e9fb92d2a47a4c947b8 to the matrix\n",
      "adding doc 50464e9fb92d2a47a4c947b9 to the matrix\n",
      "adding doc 50464e9fb92d2a47a4c947b9 to the matrix\n",
      "adding doc 50464e9fb92d2a47a4c947bb to the matrix\n",
      "adding doc 50464e9fb92d2a47a4c947d4 to the matrix\n",
      "adding doc 50464e9fb92d2a47a4c947d9 to the matrix\n",
      "adding doc 50464e9fb92d2a47a4c947d9 to the matrix\n",
      "adding doc 50464e9fb92d2a47a4c947da to the matrix\n",
      "adding doc 50464e9fb92d2a47a4c947da to the matrix\n",
      "adding doc 50464e9fb92d2a47a4c947db to the matrix\n",
      "adding doc 50464e9fb92d2a47a4c947db to the matrix\n",
      "adding doc 50464e9fb92d2a47a4c947db to the matrix\n",
      "adding doc 50464e9fb92d2a47a4c947db to the matrix\n",
      "adding doc 50464e9fb92d2a47a4c947db to the matrix\n",
      "adding doc 50464e9fb92d2a47a4c947db to the matrix\n",
      "adding doc 50464e9fb92d2a47a4c947db to the matrix\n",
      "adding doc 50464e9fb92d2a47a4c947db to the matrix\n",
      "adding doc 50464e9fb92d2a47a4c947dc to the matrix\n",
      "adding doc 50464ea0b92d2a47a4c947f9 to the matrix\n",
      "adding doc 50464ea0b92d2a47a4c947f9 to the matrix\n",
      "adding doc 50464ea0b92d2a47a4c94802 to the matrix\n",
      "adding doc 50464ea0b92d2a47a4c94803 to the matrix\n",
      "adding doc 50464ea0b92d2a47a4c94804 to the matrix\n",
      "adding doc 50464ea0b92d2a47a4c94805 to the matrix\n",
      "adding doc 50464ea0b92d2a47a4c94806 to the matrix\n",
      "adding doc 50464ea0b92d2a47a4c94806 to the matrix\n",
      "adding doc 50464ea0b92d2a47a4c94806 to the matrix\n",
      "adding doc 50464ea0b92d2a47a4c94807 to the matrix\n",
      "adding doc 50464ea0b92d2a47a4c9480d to the matrix\n",
      "adding doc 50464ea0b92d2a47a4c9480d to the matrix\n",
      "adding doc 50464ea0b92d2a47a4c9480d to the matrix\n",
      "adding doc 50464ea0b92d2a47a4c9480e to the matrix\n",
      "adding doc 50464ea0b92d2a47a4c9480f to the matrix\n",
      "adding doc 50464ea0b92d2a47a4c9480f to the matrix\n",
      "adding doc 50464ea0b92d2a47a4c94810 to the matrix\n",
      "adding doc 50464ea0b92d2a47a4c94810 to the matrix\n",
      "adding doc 50464ea0b92d2a47a4c94810 to the matrix\n",
      "adding doc 50464ea0b92d2a47a4c94810 to the matrix\n",
      "adding doc 50464ea0b92d2a47a4c94811 to the matrix\n",
      "adding doc 50464ea0b92d2a47a4c94812 to the matrix\n",
      "adding doc 50464ea0b92d2a47a4c94812 to the matrix\n",
      "adding doc 50464ea0b92d2a47a4c94812 to the matrix\n",
      "adding doc 50464ea0b92d2a47a4c94812 to the matrix\n",
      "adding doc 50464ea0b92d2a47a4c94813 to the matrix\n",
      "adding doc 50464ea0b92d2a47a4c94813 to the matrix\n",
      "adding doc 50464ea0b92d2a47a4c94814 to the matrix\n",
      "adding doc 50464ea0b92d2a47a4c94814 to the matrix\n",
      "adding doc 50464ea0b92d2a47a4c94814 to the matrix\n",
      "adding doc 50464ea0b92d2a47a4c94815 to the matrix\n",
      "adding doc 50464ea0b92d2a47a4c94815 to the matrix\n",
      "adding doc 50464ea0b92d2a47a4c94815 to the matrix\n",
      "adding doc 50464ea0b92d2a47a4c94815 to the matrix\n",
      "adding doc 50464ea0b92d2a47a4c94816 to the matrix\n",
      "adding doc 50464ea0b92d2a47a4c94816 to the matrix\n",
      "adding doc 50464ea0b92d2a47a4c94818 to the matrix\n",
      "adding doc 50464ea0b92d2a47a4c94819 to the matrix\n",
      "adding doc 50464ea0b92d2a47a4c94823 to the matrix\n",
      "adding doc 50464ea0b92d2a47a4c94823 to the matrix\n",
      "adding doc 50464ea0b92d2a47a4c9482c to the matrix\n",
      "adding doc 50464ea0b92d2a47a4c94835 to the matrix\n",
      "adding doc 50464ea0b92d2a47a4c9483e to the matrix\n",
      "adding doc 50464ea0b92d2a47a4c94846 to the matrix\n",
      "adding doc 50464ea1b92d2a47a4c94850 to the matrix\n",
      "adding doc 50464ea1b92d2a47a4c94850 to the matrix\n",
      "adding doc 50464ea1b92d2a47a4c94863 to the matrix\n",
      "adding doc 50464ea1b92d2a47a4c9486e to the matrix\n",
      "adding doc 50464ea1b92d2a47a4c94889 to the matrix\n",
      "adding doc 50464ea1b92d2a47a4c9488c to the matrix\n",
      "adding doc 50464ea1b92d2a47a4c94892 to the matrix\n",
      "adding doc 50464ea1b92d2a47a4c94892 to the matrix\n",
      "adding doc 50464ea1b92d2a47a4c94896 to the matrix\n",
      "adding doc 50464ea1b92d2a47a4c94896 to the matrix\n",
      "adding doc 50464ea1b92d2a47a4c94896 to the matrix\n",
      "adding doc 50464ea1b92d2a47a4c94897 to the matrix\n",
      "adding doc 50464ea1b92d2a47a4c94897 to the matrix\n",
      "adding doc 50464ea1b92d2a47a4c9489a to the matrix\n",
      "adding doc 50464ea1b92d2a47a4c948a3 to the matrix\n",
      "adding doc 50464ea1b92d2a47a4c948a3 to the matrix\n",
      "adding doc 50464ea1b92d2a47a4c948a3 to the matrix\n",
      "adding doc 50464ea1b92d2a47a4c948a3 to the matrix\n",
      "adding doc 50464ea1b92d2a47a4c948a3 to the matrix\n",
      "adding doc 50464ea1b92d2a47a4c948a6 to the matrix\n",
      "adding doc 50464ea1b92d2a47a4c948a6 to the matrix\n",
      "adding doc 50464ea1b92d2a47a4c948a6 to the matrix\n",
      "adding doc 50464ea1b92d2a47a4c948a6 to the matrix\n",
      "adding doc 50464ea1b92d2a47a4c948a6 to the matrix\n",
      "adding doc 50464ea1b92d2a47a4c948a6 to the matrix\n",
      "adding doc 50464ea1b92d2a47a4c948ac to the matrix\n",
      "adding doc 50464ea1b92d2a47a4c948ac to the matrix\n",
      "adding doc 50464ea1b92d2a47a4c948af to the matrix\n",
      "adding doc 50464ea1b92d2a47a4c948af to the matrix\n",
      "adding doc 50464ea2b92d2a47a4c948b2 to the matrix\n",
      "adding doc 50464ea2b92d2a47a4c948b2 to the matrix\n",
      "adding doc 50464ea2b92d2a47a4c948bd to the matrix\n",
      "adding doc 50464ea2b92d2a47a4c948be to the matrix\n",
      "adding doc 50464ea2b92d2a47a4c948bf to the matrix\n",
      "adding doc 50464ea2b92d2a47a4c948c0 to the matrix\n",
      "adding doc 50464ea2b92d2a47a4c948c0 to the matrix\n",
      "adding doc 50464ea2b92d2a47a4c948cc to the matrix\n",
      "adding doc 50464ea2b92d2a47a4c948eb to the matrix\n",
      "adding doc 50464ea2b92d2a47a4c948eb to the matrix\n",
      "adding doc 50464ea2b92d2a47a4c948ec to the matrix\n",
      "adding doc 50464ea2b92d2a47a4c948ec to the matrix\n",
      "adding doc 50464ea2b92d2a47a4c948ec to the matrix\n",
      "adding doc 50464ea2b92d2a47a4c948ed to the matrix\n",
      "adding doc 50464ea2b92d2a47a4c948ed to the matrix\n",
      "adding doc 50464ea2b92d2a47a4c948ed to the matrix\n",
      "adding doc 50464ea2b92d2a47a4c948ee to the matrix\n",
      "adding doc 50464ea2b92d2a47a4c948ee to the matrix\n",
      "adding doc 50464ea2b92d2a47a4c948ee to the matrix\n",
      "adding doc 50464ea2b92d2a47a4c94901 to the matrix\n",
      "adding doc 50464ea2b92d2a47a4c94904 to the matrix\n",
      "adding doc 50464ea2b92d2a47a4c94905 to the matrix\n",
      "adding doc 50464ea2b92d2a47a4c94909 to the matrix\n",
      "adding doc 50464ea3b92d2a47a4c94913 to the matrix\n",
      "adding doc 50464ea3b92d2a47a4c94914 to the matrix\n",
      "adding doc 50464ea3b92d2a47a4c94914 to the matrix\n",
      "adding doc 50464ea3b92d2a47a4c94914 to the matrix\n",
      "adding doc 50464ea3b92d2a47a4c94914 to the matrix\n",
      "adding doc 50464ea3b92d2a47a4c94914 to the matrix\n",
      "adding doc 50464ea3b92d2a47a4c94915 to the matrix\n",
      "adding doc 50464ea3b92d2a47a4c94915 to the matrix\n",
      "adding doc 50464ea3b92d2a47a4c94918 to the matrix\n",
      "adding doc 50464ea3b92d2a47a4c94918 to the matrix\n",
      "adding doc 50464ea3b92d2a47a4c94919 to the matrix\n",
      "adding doc 50464ea3b92d2a47a4c94919 to the matrix\n",
      "adding doc 50464ea3b92d2a47a4c9491a to the matrix\n",
      "adding doc 50464ea3b92d2a47a4c9491b to the matrix\n",
      "adding doc 50464ea3b92d2a47a4c9491b to the matrix\n",
      "adding doc 50464ea3b92d2a47a4c9491b to the matrix\n",
      "adding doc 50464ea3b92d2a47a4c94926 to the matrix\n",
      "adding doc 50464ea3b92d2a47a4c94926 to the matrix\n",
      "adding doc 50464ea3b92d2a47a4c94926 to the matrix\n",
      "adding doc 50464ea3b92d2a47a4c94926 to the matrix\n",
      "adding doc 50464ea3b92d2a47a4c94926 to the matrix\n",
      "adding doc 50464ea3b92d2a47a4c94927 to the matrix\n",
      "adding doc 50464ea3b92d2a47a4c94927 to the matrix\n",
      "adding doc 50464ea3b92d2a47a4c94928 to the matrix\n",
      "adding doc 50464ea3b92d2a47a4c94928 to the matrix\n",
      "adding doc 50464ea3b92d2a47a4c94929 to the matrix\n",
      "adding doc 50464ea3b92d2a47a4c94929 to the matrix\n",
      "adding doc 50464ea3b92d2a47a4c94929 to the matrix\n",
      "adding doc 50464ea3b92d2a47a4c94929 to the matrix\n",
      "adding doc 50464ea3b92d2a47a4c94929 to the matrix\n",
      "adding doc 50464ea3b92d2a47a4c9492a to the matrix\n",
      "adding doc 50464ea3b92d2a47a4c9492a to the matrix\n",
      "adding doc 50464ea3b92d2a47a4c9492f to the matrix\n",
      "adding doc 50464ea3b92d2a47a4c94933 to the matrix\n",
      "adding doc 50464ea3b92d2a47a4c94942 to the matrix\n",
      "adding doc 50464ea3b92d2a47a4c94958 to the matrix\n",
      "adding doc 50464ea3b92d2a47a4c94958 to the matrix\n",
      "adding doc 50464ea3b92d2a47a4c94958 to the matrix\n",
      "adding doc 50464ea3b92d2a47a4c9495a to the matrix\n",
      "adding doc 50464ea3b92d2a47a4c9495a to the matrix\n",
      "adding doc 50464ea3b92d2a47a4c9495e to the matrix\n",
      "adding doc 50464ea3b92d2a47a4c94962 to the matrix\n",
      "adding doc 50464ea3b92d2a47a4c94962 to the matrix\n",
      "adding doc 50464ea3b92d2a47a4c94963 to the matrix\n",
      "adding doc 50464ea3b92d2a47a4c94964 to the matrix\n",
      "adding doc 50464ea3b92d2a47a4c94964 to the matrix\n",
      "adding doc 50464ea3b92d2a47a4c94965 to the matrix\n",
      "adding doc 50464ea3b92d2a47a4c94966 to the matrix\n",
      "adding doc 50464ea3b92d2a47a4c94967 to the matrix\n",
      "adding doc 50464ea3b92d2a47a4c9496b to the matrix\n",
      "adding doc 50464ea3b92d2a47a4c9496b to the matrix\n",
      "adding doc 50464ea3b92d2a47a4c9496c to the matrix\n",
      "adding doc 50464ea3b92d2a47a4c94972 to the matrix\n",
      "adding doc 50464ea3b92d2a47a4c94972 to the matrix\n",
      "adding doc 50464ea3b92d2a47a4c94973 to the matrix\n",
      "adding doc 50464ea3b92d2a47a4c94974 to the matrix\n",
      "adding doc 50464ea4b92d2a47a4c9497f to the matrix\n",
      "adding doc 50464ea4b92d2a47a4c9497f to the matrix\n",
      "adding doc 50464ea4b92d2a47a4c94982 to the matrix\n",
      "adding doc 50464ea4b92d2a47a4c94988 to the matrix\n",
      "adding doc 50464ea5b92d2a47a4c949f9 to the matrix\n",
      "adding doc 50464ea5b92d2a47a4c949fa to the matrix\n",
      "adding doc 50464ea5b92d2a47a4c949fa to the matrix\n",
      "adding doc 50464ea5b92d2a47a4c949fb to the matrix\n",
      "adding doc 50464ea5b92d2a47a4c949fb to the matrix\n",
      "adding doc 50464ea5b92d2a47a4c949fd to the matrix\n",
      "adding doc 50464ea5b92d2a47a4c949fd to the matrix\n",
      "adding doc 50464ea5b92d2a47a4c949fe to the matrix\n",
      "adding doc 50464ea5b92d2a47a4c949ff to the matrix\n",
      "adding doc 50464ea5b92d2a47a4c949ff to the matrix\n",
      "adding doc 50464ea5b92d2a47a4c94a00 to the matrix\n",
      "adding doc 50464ea5b92d2a47a4c94a00 to the matrix\n",
      "adding doc 50464ea5b92d2a47a4c94a01 to the matrix\n",
      "adding doc 50464ea5b92d2a47a4c94a01 to the matrix\n",
      "adding doc 50464ea5b92d2a47a4c94a08 to the matrix\n",
      "adding doc 50464ea5b92d2a47a4c94a10 to the matrix\n",
      "adding doc 50464ea5b92d2a47a4c94a12 to the matrix\n",
      "adding doc 50464ea5b92d2a47a4c94a1b to the matrix\n",
      "adding doc 50464ea5b92d2a47a4c94a1b to the matrix\n",
      "adding doc 50464ea5b92d2a47a4c94a1c to the matrix\n",
      "adding doc 50464ea5b92d2a47a4c94a1e to the matrix\n",
      "adding doc 50464ea5b92d2a47a4c94a1f to the matrix\n",
      "adding doc 50464ea5b92d2a47a4c94a20 to the matrix\n",
      "adding doc 50464ea5b92d2a47a4c94a2d to the matrix\n",
      "adding doc 50464ea5b92d2a47a4c94a2d to the matrix\n",
      "adding doc 50464ea5b92d2a47a4c94a2e to the matrix\n",
      "adding doc 50464ea5b92d2a47a4c94a2f to the matrix\n",
      "adding doc 50464ea5b92d2a47a4c94a2f to the matrix\n",
      "adding doc 50464ea5b92d2a47a4c94a2f to the matrix\n",
      "adding doc 50464ea5b92d2a47a4c94a30 to the matrix\n",
      "adding doc 50464ea5b92d2a47a4c94a30 to the matrix\n",
      "adding doc 50464ea5b92d2a47a4c94a32 to the matrix\n",
      "adding doc 50464ea5b92d2a47a4c94a32 to the matrix\n",
      "adding doc 50464ea5b92d2a47a4c94a32 to the matrix\n",
      "adding doc 50464ea5b92d2a47a4c94a33 to the matrix\n",
      "adding doc 50464ea5b92d2a47a4c94a33 to the matrix\n",
      "adding doc 50464ea5b92d2a47a4c94a33 to the matrix\n",
      "adding doc 50464ea5b92d2a47a4c94a34 to the matrix\n",
      "adding doc 50464ea5b92d2a47a4c94a36 to the matrix\n",
      "adding doc 50464ea6b92d2a47a4c94a44 to the matrix\n",
      "adding doc 50464ea6b92d2a47a4c94a46 to the matrix\n",
      "adding doc 50464ea6b92d2a47a4c94a48 to the matrix\n",
      "adding doc 50464ea6b92d2a47a4c94a49 to the matrix\n",
      "adding doc 50464ea6b92d2a47a4c94a4c to the matrix\n",
      "adding doc 50464ea6b92d2a47a4c94a4d to the matrix\n",
      "adding doc 50464ea6b92d2a47a4c94a4e to the matrix\n",
      "adding doc 50464ea6b92d2a47a4c94a4e to the matrix\n",
      "adding doc 50464ea6b92d2a47a4c94a4f to the matrix\n",
      "adding doc 50464ea6b92d2a47a4c94a4f to the matrix\n",
      "adding doc 50464ea6b92d2a47a4c94a4f to the matrix\n",
      "adding doc 50464ea6b92d2a47a4c94a50 to the matrix\n",
      "adding doc 50464ea6b92d2a47a4c94a52 to the matrix\n",
      "adding doc 50464ea6b92d2a47a4c94a54 to the matrix\n",
      "adding doc 50464ea6b92d2a47a4c94a5a to the matrix\n",
      "adding doc 50464ea6b92d2a47a4c94a5a to the matrix\n",
      "adding doc 50464ea6b92d2a47a4c94a5d to the matrix\n",
      "adding doc 50464ea6b92d2a47a4c94a69 to the matrix\n",
      "adding doc 50464ea6b92d2a47a4c94a73 to the matrix\n",
      "adding doc 50464ea6b92d2a47a4c94a77 to the matrix\n",
      "adding doc 50464ea6b92d2a47a4c94a7c to the matrix\n",
      "adding doc 50464ea6b92d2a47a4c94a7c to the matrix\n",
      "adding doc 50464ea6b92d2a47a4c94a7d to the matrix\n",
      "adding doc 50464ea6b92d2a47a4c94a83 to the matrix\n",
      "adding doc 50464ea6b92d2a47a4c94a86 to the matrix\n",
      "adding doc 50464ea6b92d2a47a4c94a87 to the matrix\n",
      "adding doc 50464ea7b92d2a47a4c94a9b to the matrix\n",
      "adding doc 50464ea7b92d2a47a4c94a9c to the matrix\n",
      "adding doc 50464ea7b92d2a47a4c94a9e to the matrix\n",
      "adding doc 50464ea7b92d2a47a4c94aad to the matrix\n",
      "adding doc 50464ea7b92d2a47a4c94abb to the matrix\n",
      "adding doc 50464ea7b92d2a47a4c94abb to the matrix\n",
      "adding doc 50464ea7b92d2a47a4c94abb to the matrix\n",
      "adding doc 50464ea7b92d2a47a4c94abf to the matrix\n",
      "adding doc 50464ea7b92d2a47a4c94ac5 to the matrix\n",
      "adding doc 50464ea7b92d2a47a4c94ac7 to the matrix\n",
      "adding doc 50464ea7b92d2a47a4c94acd to the matrix\n",
      "adding doc 50464ea7b92d2a47a4c94ad1 to the matrix\n",
      "adding doc 50464ea7b92d2a47a4c94adb to the matrix\n",
      "adding doc 50464ea7b92d2a47a4c94ade to the matrix\n",
      "adding doc 50464ea7b92d2a47a4c94adf to the matrix\n",
      "adding doc 50464ea7b92d2a47a4c94ae0 to the matrix\n",
      "adding doc 50464ea7b92d2a47a4c94ae0 to the matrix\n",
      "adding doc 50464ea7b92d2a47a4c94ae0 to the matrix\n",
      "adding doc 50464ea7b92d2a47a4c94ae1 to the matrix\n",
      "adding doc 50464ea7b92d2a47a4c94ae2 to the matrix\n",
      "adding doc 50464ea7b92d2a47a4c94ae4 to the matrix\n",
      "adding doc 50464ea7b92d2a47a4c94ae4 to the matrix\n",
      "adding doc 50464ea7b92d2a47a4c94ae4 to the matrix\n",
      "adding doc 50464ea7b92d2a47a4c94ae4 to the matrix\n",
      "adding doc 50464ea7b92d2a47a4c94ae7 to the matrix\n",
      "adding doc 50464ea7b92d2a47a4c94aea to the matrix\n",
      "adding doc 50464ea7b92d2a47a4c94aea to the matrix\n",
      "adding doc 50464ea7b92d2a47a4c94aed to the matrix\n",
      "adding doc 50464ea7b92d2a47a4c94aed to the matrix\n",
      "adding doc 50464ea7b92d2a47a4c94af0 to the matrix\n",
      "adding doc 50464ea7b92d2a47a4c94af5 to the matrix\n",
      "adding doc 50464ea7b92d2a47a4c94af5 to the matrix\n",
      "adding doc 50464ea7b92d2a47a4c94afa to the matrix\n",
      "adding doc 50464ea7b92d2a47a4c94afa to the matrix\n",
      "adding doc 50464ea8b92d2a47a4c94afc to the matrix\n",
      "adding doc 50464ea8b92d2a47a4c94b04 to the matrix\n",
      "adding doc 50464ea8b92d2a47a4c94b05 to the matrix\n",
      "adding doc 50464ea8b92d2a47a4c94b05 to the matrix\n",
      "adding doc 50464ea8b92d2a47a4c94b05 to the matrix\n",
      "adding doc 50464ea8b92d2a47a4c94b07 to the matrix\n",
      "adding doc 50464ea8b92d2a47a4c94b10 to the matrix\n",
      "adding doc 50464ea8b92d2a47a4c94b10 to the matrix\n",
      "adding doc 50464ea8b92d2a47a4c94b10 to the matrix\n",
      "adding doc 50464ea8b92d2a47a4c94b10 to the matrix\n",
      "adding doc 50464ea8b92d2a47a4c94b13 to the matrix\n",
      "adding doc 50464ea8b92d2a47a4c94b13 to the matrix\n",
      "adding doc 50464ea8b92d2a47a4c94b14 to the matrix\n",
      "adding doc 50464ea8b92d2a47a4c94b14 to the matrix\n",
      "adding doc 50464ea8b92d2a47a4c94b14 to the matrix\n",
      "adding doc 50464ea8b92d2a47a4c94b15 to the matrix\n",
      "adding doc 50464ea8b92d2a47a4c94b16 to the matrix\n",
      "adding doc 50464ea8b92d2a47a4c94b16 to the matrix\n",
      "adding doc 50464ea8b92d2a47a4c94b19 to the matrix\n",
      "adding doc 50464ea8b92d2a47a4c94b1b to the matrix\n",
      "adding doc 50464ea8b92d2a47a4c94b2e to the matrix\n",
      "adding doc 50464ea8b92d2a47a4c94b31 to the matrix\n",
      "adding doc 50464ea8b92d2a47a4c94b32 to the matrix\n",
      "adding doc 50464ea8b92d2a47a4c94b32 to the matrix\n",
      "adding doc 50464ea8b92d2a47a4c94b33 to the matrix\n",
      "adding doc 50464ea8b92d2a47a4c94b33 to the matrix\n",
      "adding doc 50464ea8b92d2a47a4c94b33 to the matrix\n",
      "adding doc 50464ea8b92d2a47a4c94b33 to the matrix\n",
      "adding doc 50464ea8b92d2a47a4c94b33 to the matrix\n",
      "adding doc 50464ea8b92d2a47a4c94b33 to the matrix\n",
      "adding doc 50464ea8b92d2a47a4c94b34 to the matrix\n",
      "adding doc 50464ea8b92d2a47a4c94b36 to the matrix\n",
      "adding doc 50464ea8b92d2a47a4c94b36 to the matrix\n",
      "adding doc 50464ea8b92d2a47a4c94b37 to the matrix\n",
      "adding doc 50464ea8b92d2a47a4c94b38 to the matrix\n",
      "adding doc 50464ea8b92d2a47a4c94b38 to the matrix\n",
      "adding doc 50464ea8b92d2a47a4c94b39 to the matrix\n",
      "adding doc 50464ea8b92d2a47a4c94b39 to the matrix\n",
      "adding doc 50464ea8b92d2a47a4c94b3a to the matrix\n",
      "adding doc 50464ea8b92d2a47a4c94b3a to the matrix\n",
      "adding doc 50464ea8b92d2a47a4c94b3b to the matrix\n",
      "adding doc 50464ea8b92d2a47a4c94b3b to the matrix\n",
      "adding doc 50464ea8b92d2a47a4c94b3b to the matrix\n",
      "adding doc 50464ea8b92d2a47a4c94b3c to the matrix\n",
      "adding doc 50464ea8b92d2a47a4c94b3d to the matrix\n",
      "adding doc 50464ea8b92d2a47a4c94b3d to the matrix\n",
      "adding doc 50464ea8b92d2a47a4c94b3f to the matrix\n",
      "adding doc 50464ea8b92d2a47a4c94b40 to the matrix\n",
      "adding doc 50464ea8b92d2a47a4c94b40 to the matrix\n",
      "adding doc 50464ea8b92d2a47a4c94b41 to the matrix\n",
      "adding doc 50464ea8b92d2a47a4c94b41 to the matrix\n",
      "adding doc 50464ea8b92d2a47a4c94b41 to the matrix\n",
      "adding doc 50464ea8b92d2a47a4c94b42 to the matrix\n",
      "adding doc 50464ea8b92d2a47a4c94b42 to the matrix\n",
      "adding doc 50464ea8b92d2a47a4c94b43 to the matrix\n",
      "adding doc 50464ea8b92d2a47a4c94b43 to the matrix\n",
      "adding doc 50464ea8b92d2a47a4c94b44 to the matrix\n",
      "adding doc 50464ea8b92d2a47a4c94b47 to the matrix\n",
      "adding doc 50464ea8b92d2a47a4c94b47 to the matrix\n",
      "adding doc 50464ea8b92d2a47a4c94b49 to the matrix\n",
      "adding doc 50464ea8b92d2a47a4c94b49 to the matrix\n",
      "adding doc 50464ea8b92d2a47a4c94b4a to the matrix\n",
      "adding doc 50464ea8b92d2a47a4c94b4a to the matrix\n",
      "adding doc 50464ea8b92d2a47a4c94b4a to the matrix\n",
      "adding doc 50464ea8b92d2a47a4c94b4c to the matrix\n",
      "adding doc 50464ea8b92d2a47a4c94b4e to the matrix\n",
      "adding doc 50464ea8b92d2a47a4c94b4f to the matrix\n",
      "adding doc 50464ea8b92d2a47a4c94b4f to the matrix\n",
      "adding doc 50464ea8b92d2a47a4c94b4f to the matrix\n",
      "adding doc 50464ea8b92d2a47a4c94b4f to the matrix\n",
      "adding doc 50464ea8b92d2a47a4c94b4f to the matrix\n",
      "adding doc 50464ea9b92d2a47a4c94b5c to the matrix\n",
      "adding doc 50464ea9b92d2a47a4c94b5c to the matrix\n",
      "adding doc 50464ea9b92d2a47a4c94b5d to the matrix\n",
      "adding doc 50464ea9b92d2a47a4c94b5e to the matrix\n",
      "adding doc 50464ea9b92d2a47a4c94b5f to the matrix\n",
      "adding doc 50464ea9b92d2a47a4c94b60 to the matrix\n",
      "adding doc 50464ea9b92d2a47a4c94b61 to the matrix\n",
      "adding doc 50464ea9b92d2a47a4c94b62 to the matrix\n",
      "adding doc 50464ea9b92d2a47a4c94b63 to the matrix\n",
      "adding doc 50464ea9b92d2a47a4c94b64 to the matrix\n",
      "adding doc 50464ea9b92d2a47a4c94b74 to the matrix\n",
      "adding doc 50464ea9b92d2a47a4c94b98 to the matrix\n",
      "adding doc 50464ea9b92d2a47a4c94b99 to the matrix\n",
      "adding doc 50464ea9b92d2a47a4c94b99 to the matrix\n",
      "adding doc 50464ea9b92d2a47a4c94ba6 to the matrix\n",
      "adding doc 50464ea9b92d2a47a4c94ba7 to the matrix\n",
      "adding doc 50464ea9b92d2a47a4c94ba8 to the matrix\n",
      "adding doc 50464ea9b92d2a47a4c94ba9 to the matrix\n",
      "adding doc 50464ea9b92d2a47a4c94ba9 to the matrix\n",
      "adding doc 50464ea9b92d2a47a4c94bb1 to the matrix\n",
      "adding doc 50464eaab92d2a47a4c94bb4 to the matrix\n",
      "adding doc 50464eaab92d2a47a4c94bb5 to the matrix\n",
      "constructed product matrix with 2619 documents\n"
     ]
    }
   ],
   "source": [
    "prod_matrix = worker.build_product_matrix()"
   ]
  },
  {
   "cell_type": "code",
   "execution_count": 14,
   "metadata": {
    "collapsed": true
   },
   "outputs": [],
   "source": [
    "product_frame = pd.DataFrame([prod_matrix])"
   ]
  },
  {
   "cell_type": "code",
   "execution_count": 15,
   "metadata": {
    "collapsed": false
   },
   "outputs": [],
   "source": [
    "pm = product_frame.transpose()"
   ]
  },
  {
   "cell_type": "code",
   "execution_count": 17,
   "metadata": {
    "collapsed": false
   },
   "outputs": [
    {
     "data": {
      "text/plain": [
       "(2619, 1)"
      ]
     },
     "execution_count": 17,
     "metadata": {},
     "output_type": "execute_result"
    }
   ],
   "source": [
    "pm.shape"
   ]
  },
  {
   "cell_type": "code",
   "execution_count": null,
   "metadata": {
    "collapsed": true
   },
   "outputs": [],
   "source": []
  },
  {
   "cell_type": "code",
   "execution_count": null,
   "metadata": {
    "collapsed": true
   },
   "outputs": [],
   "source": [
    "pm[]"
   ]
  },
  {
   "cell_type": "code",
   "execution_count": null,
   "metadata": {
    "collapsed": false
   },
   "outputs": [],
   "source": []
  },
  {
   "cell_type": "code",
   "execution_count": null,
   "metadata": {
    "collapsed": true
   },
   "outputs": [],
   "source": []
  },
  {
   "cell_type": "code",
   "execution_count": null,
   "metadata": {
    "collapsed": true
   },
   "outputs": [],
   "source": []
  },
  {
   "cell_type": "code",
   "execution_count": null,
   "metadata": {
    "collapsed": true
   },
   "outputs": [],
   "source": []
  },
  {
   "cell_type": "code",
   "execution_count": null,
   "metadata": {
    "collapsed": true
   },
   "outputs": [],
   "source": []
  },
  {
   "cell_type": "code",
   "execution_count": null,
   "metadata": {
    "collapsed": true
   },
   "outputs": [],
   "source": []
  },
  {
   "cell_type": "code",
   "execution_count": null,
   "metadata": {
    "collapsed": true
   },
   "outputs": [],
   "source": []
  },
  {
   "cell_type": "code",
   "execution_count": null,
   "metadata": {
    "collapsed": true
   },
   "outputs": [],
   "source": []
  },
  {
   "cell_type": "code",
   "execution_count": null,
   "metadata": {
    "collapsed": true
   },
   "outputs": [],
   "source": []
  },
  {
   "cell_type": "code",
   "execution_count": null,
   "metadata": {
    "collapsed": true
   },
   "outputs": [],
   "source": []
  },
  {
   "cell_type": "code",
   "execution_count": null,
   "metadata": {
    "collapsed": true
   },
   "outputs": [],
   "source": [
    "docs_list = worker.documents"
   ]
  },
  {
   "cell_type": "code",
   "execution_count": null,
   "metadata": {
    "collapsed": true
   },
   "outputs": [],
   "source": []
  },
  {
   "cell_type": "code",
   "execution_count": null,
   "metadata": {
    "collapsed": false
   },
   "outputs": [],
   "source": [
    "doc_tags = worker.get_document_tags()"
   ]
  },
  {
   "cell_type": "code",
   "execution_count": null,
   "metadata": {
    "collapsed": true
   },
   "outputs": [],
   "source": []
  },
  {
   "cell_type": "code",
   "execution_count": null,
   "metadata": {
    "collapsed": false
   },
   "outputs": [],
   "source": [
    "df = pd.DataFrame([doc_tags])"
   ]
  },
  {
   "cell_type": "code",
   "execution_count": null,
   "metadata": {
    "collapsed": false
   },
   "outputs": [],
   "source": [
    "df[\"50464e87b92d2a47a4c93852\"]"
   ]
  },
  {
   "cell_type": "code",
   "execution_count": null,
   "metadata": {
    "collapsed": true
   },
   "outputs": [],
   "source": []
  },
  {
   "cell_type": "code",
   "execution_count": null,
   "metadata": {
    "collapsed": false
   },
   "outputs": [],
   "source": [
    "df.transpose().head()"
   ]
  },
  {
   "cell_type": "code",
   "execution_count": null,
   "metadata": {
    "collapsed": true
   },
   "outputs": [],
   "source": []
  },
  {
   "cell_type": "code",
   "execution_count": null,
   "metadata": {
    "collapsed": false
   },
   "outputs": [],
   "source": [
    "school_list = worker.get_school_types()"
   ]
  },
  {
   "cell_type": "code",
   "execution_count": null,
   "metadata": {
    "collapsed": false
   },
   "outputs": [],
   "source": [
    "doc_matrix = worker.build_document_matrix()"
   ]
  },
  {
   "cell_type": "code",
   "execution_count": null,
   "metadata": {
    "collapsed": true
   },
   "outputs": [],
   "source": [
    "docs = pd.DataFrame(doc_matrix)"
   ]
  },
  {
   "cell_type": "code",
   "execution_count": null,
   "metadata": {
    "collapsed": false
   },
   "outputs": [],
   "source": [
    "docs.head(10)"
   ]
  },
  {
   "cell_type": "code",
   "execution_count": null,
   "metadata": {
    "collapsed": true
   },
   "outputs": [],
   "source": [
    "#text_docs = docs[[\"school\"]]"
   ]
  },
  {
   "cell_type": "code",
   "execution_count": null,
   "metadata": {
    "collapsed": true
   },
   "outputs": [],
   "source": [
    "#v = CountVectorizer(min_df=1)"
   ]
  },
  {
   "cell_type": "code",
   "execution_count": null,
   "metadata": {
    "collapsed": true
   },
   "outputs": [],
   "source": [
    "#x = v.fit_transform(text_docs)"
   ]
  },
  {
   "cell_type": "code",
   "execution_count": null,
   "metadata": {
    "collapsed": false
   },
   "outputs": [],
   "source": [
    "#v"
   ]
  },
  {
   "cell_type": "code",
   "execution_count": null,
   "metadata": {
    "collapsed": true
   },
   "outputs": [],
   "source": []
  },
  {
   "cell_type": "code",
   "execution_count": null,
   "metadata": {
    "collapsed": false
   },
   "outputs": [],
   "source": [
    "v.vocabulary_"
   ]
  },
  {
   "cell_type": "code",
   "execution_count": null,
   "metadata": {
    "collapsed": false
   },
   "outputs": [],
   "source": [
    "subjects = text_docs[\"subject\"].unique()"
   ]
  },
  {
   "cell_type": "code",
   "execution_count": null,
   "metadata": {
    "collapsed": false
   },
   "outputs": [],
   "source": []
  },
  {
   "cell_type": "code",
   "execution_count": null,
   "metadata": {
    "collapsed": true
   },
   "outputs": [],
   "source": []
  },
  {
   "cell_type": "code",
   "execution_count": null,
   "metadata": {
    "collapsed": true
   },
   "outputs": [],
   "source": []
  },
  {
   "cell_type": "code",
   "execution_count": null,
   "metadata": {
    "collapsed": true
   },
   "outputs": [],
   "source": []
  },
  {
   "cell_type": "code",
   "execution_count": null,
   "metadata": {
    "collapsed": true
   },
   "outputs": [],
   "source": []
  },
  {
   "cell_type": "code",
   "execution_count": null,
   "metadata": {
    "collapsed": false
   },
   "outputs": [],
   "source": [
    "#v.get_feature_names()"
   ]
  },
  {
   "cell_type": "code",
   "execution_count": null,
   "metadata": {
    "collapsed": false
   },
   "outputs": [],
   "source": [
    "#x.shape"
   ]
  },
  {
   "cell_type": "code",
   "execution_count": null,
   "metadata": {
    "collapsed": false
   },
   "outputs": [],
   "source": [
    "#text_docs.head()"
   ]
  },
  {
   "cell_type": "code",
   "execution_count": null,
   "metadata": {
    "collapsed": true
   },
   "outputs": [],
   "source": []
  },
  {
   "cell_type": "code",
   "execution_count": null,
   "metadata": {
    "collapsed": true
   },
   "outputs": [],
   "source": [
    "tags = docs[\"tags\"]"
   ]
  },
  {
   "cell_type": "code",
   "execution_count": null,
   "metadata": {
    "collapsed": false
   },
   "outputs": [],
   "source": [
    "#tags = tags[10:,]"
   ]
  },
  {
   "cell_type": "code",
   "execution_count": null,
   "metadata": {
    "collapsed": false
   },
   "outputs": [],
   "source": [
    "tags.shape"
   ]
  },
  {
   "cell_type": "code",
   "execution_count": null,
   "metadata": {
    "collapsed": false
   },
   "outputs": [],
   "source": [
    "#tags = tags[:10]"
   ]
  },
  {
   "cell_type": "code",
   "execution_count": null,
   "metadata": {
    "collapsed": false
   },
   "outputs": [],
   "source": [
    "tags.shape"
   ]
  },
  {
   "cell_type": "code",
   "execution_count": null,
   "metadata": {
    "collapsed": false
   },
   "outputs": [],
   "source": [
    "#tags"
   ]
  },
  {
   "cell_type": "code",
   "execution_count": null,
   "metadata": {
    "collapsed": true
   },
   "outputs": [],
   "source": []
  },
  {
   "cell_type": "code",
   "execution_count": null,
   "metadata": {
    "collapsed": false
   },
   "outputs": [],
   "source": [
    "vectoriser = TfidfVectorizer()"
   ]
  },
  {
   "cell_type": "code",
   "execution_count": null,
   "metadata": {
    "collapsed": true
   },
   "outputs": [],
   "source": [
    "matrix = vectoriser.fit_transform(tags)"
   ]
  },
  {
   "cell_type": "code",
   "execution_count": null,
   "metadata": {
    "collapsed": false
   },
   "outputs": [],
   "source": [
    "matrix.shape"
   ]
  },
  {
   "cell_type": "code",
   "execution_count": null,
   "metadata": {
    "collapsed": false
   },
   "outputs": [],
   "source": [
    "#matrix[10:]"
   ]
  },
  {
   "cell_type": "code",
   "execution_count": null,
   "metadata": {
    "collapsed": true
   },
   "outputs": [],
   "source": []
  },
  {
   "cell_type": "code",
   "execution_count": null,
   "metadata": {
    "collapsed": true
   },
   "outputs": [],
   "source": [
    "#invese_matrix = vectoriser.inverse_transform(matrix)"
   ]
  },
  {
   "cell_type": "code",
   "execution_count": null,
   "metadata": {
    "collapsed": false
   },
   "outputs": [],
   "source": [
    "#invese_matrix"
   ]
  },
  {
   "cell_type": "code",
   "execution_count": null,
   "metadata": {
    "collapsed": false
   },
   "outputs": [],
   "source": [
    "matrix[0:1]"
   ]
  },
  {
   "cell_type": "code",
   "execution_count": null,
   "metadata": {
    "collapsed": true
   },
   "outputs": [],
   "source": []
  },
  {
   "cell_type": "code",
   "execution_count": null,
   "metadata": {
    "collapsed": false
   },
   "outputs": [],
   "source": [
    "tags_similarity = cosine_similarity(matrix[0:1], matrix)"
   ]
  },
  {
   "cell_type": "code",
   "execution_count": null,
   "metadata": {
    "collapsed": false
   },
   "outputs": [],
   "source": [
    "tags_similarity"
   ]
  },
  {
   "cell_type": "code",
   "execution_count": null,
   "metadata": {
    "collapsed": true
   },
   "outputs": [],
   "source": []
  },
  {
   "cell_type": "code",
   "execution_count": null,
   "metadata": {
    "collapsed": true
   },
   "outputs": [],
   "source": []
  },
  {
   "cell_type": "code",
   "execution_count": null,
   "metadata": {
    "collapsed": false
   },
   "outputs": [],
   "source": [
    "coded_docs = docs[[\"class_year\", \"school_code\", \"subject_code\"]]"
   ]
  },
  {
   "cell_type": "code",
   "execution_count": null,
   "metadata": {
    "collapsed": true
   },
   "outputs": [],
   "source": []
  },
  {
   "cell_type": "code",
   "execution_count": null,
   "metadata": {
    "collapsed": true
   },
   "outputs": [],
   "source": []
  },
  {
   "cell_type": "code",
   "execution_count": null,
   "metadata": {
    "collapsed": false
   },
   "outputs": [],
   "source": [
    "coded_docs.head(10)"
   ]
  },
  {
   "cell_type": "code",
   "execution_count": null,
   "metadata": {
    "collapsed": true
   },
   "outputs": [],
   "source": [
    "ten_doc = coded_docs[:10]"
   ]
  },
  {
   "cell_type": "code",
   "execution_count": null,
   "metadata": {
    "collapsed": false
   },
   "outputs": [],
   "source": [
    "ten_doc"
   ]
  },
  {
   "cell_type": "code",
   "execution_count": null,
   "metadata": {
    "collapsed": false
   },
   "outputs": [],
   "source": [
    "docs_no_tags_similarity = cosine_similarity(ten_doc[:3], ten_doc)"
   ]
  },
  {
   "cell_type": "code",
   "execution_count": null,
   "metadata": {
    "collapsed": true
   },
   "outputs": [],
   "source": []
  },
  {
   "cell_type": "code",
   "execution_count": null,
   "metadata": {
    "collapsed": true
   },
   "outputs": [],
   "source": []
  },
  {
   "cell_type": "code",
   "execution_count": null,
   "metadata": {
    "collapsed": true
   },
   "outputs": [],
   "source": []
  },
  {
   "cell_type": "code",
   "execution_count": null,
   "metadata": {
    "collapsed": true
   },
   "outputs": [],
   "source": []
  },
  {
   "cell_type": "code",
   "execution_count": null,
   "metadata": {
    "collapsed": true
   },
   "outputs": [],
   "source": []
  },
  {
   "cell_type": "code",
   "execution_count": null,
   "metadata": {
    "collapsed": true
   },
   "outputs": [],
   "source": []
  },
  {
   "cell_type": "code",
   "execution_count": null,
   "metadata": {
    "collapsed": true
   },
   "outputs": [],
   "source": []
  },
  {
   "cell_type": "code",
   "execution_count": null,
   "metadata": {
    "collapsed": true
   },
   "outputs": [],
   "source": []
  },
  {
   "cell_type": "code",
   "execution_count": null,
   "metadata": {
    "collapsed": true
   },
   "outputs": [],
   "source": []
  },
  {
   "cell_type": "code",
   "execution_count": null,
   "metadata": {
    "collapsed": false
   },
   "outputs": [],
   "source": [
    "z = docs_no_tags_similarity"
   ]
  },
  {
   "cell_type": "code",
   "execution_count": null,
   "metadata": {
    "collapsed": true
   },
   "outputs": [],
   "source": []
  },
  {
   "cell_type": "code",
   "execution_count": null,
   "metadata": {
    "collapsed": true
   },
   "outputs": [],
   "source": []
  },
  {
   "cell_type": "code",
   "execution_count": null,
   "metadata": {
    "collapsed": true
   },
   "outputs": [],
   "source": []
  },
  {
   "cell_type": "code",
   "execution_count": null,
   "metadata": {
    "collapsed": true
   },
   "outputs": [],
   "source": []
  },
  {
   "cell_type": "code",
   "execution_count": null,
   "metadata": {
    "collapsed": false
   },
   "outputs": [],
   "source": [
    "z"
   ]
  },
  {
   "cell_type": "code",
   "execution_count": null,
   "metadata": {
    "collapsed": true
   },
   "outputs": [],
   "source": []
  },
  {
   "cell_type": "code",
   "execution_count": null,
   "metadata": {
    "collapsed": true
   },
   "outputs": [],
   "source": []
  },
  {
   "cell_type": "code",
   "execution_count": null,
   "metadata": {
    "collapsed": true
   },
   "outputs": [],
   "source": []
  },
  {
   "cell_type": "code",
   "execution_count": null,
   "metadata": {
    "collapsed": true
   },
   "outputs": [],
   "source": []
  },
  {
   "cell_type": "code",
   "execution_count": null,
   "metadata": {
    "collapsed": false
   },
   "outputs": [],
   "source": [
    "z.shape"
   ]
  },
  {
   "cell_type": "code",
   "execution_count": null,
   "metadata": {
    "collapsed": false
   },
   "outputs": [],
   "source": [
    "top"
   ]
  },
  {
   "cell_type": "code",
   "execution_count": null,
   "metadata": {
    "collapsed": true
   },
   "outputs": [],
   "source": [
    "top = zz[-3:]"
   ]
  },
  {
   "cell_type": "code",
   "execution_count": null,
   "metadata": {
    "collapsed": false
   },
   "outputs": [],
   "source": [
    "top"
   ]
  },
  {
   "cell_type": "code",
   "execution_count": null,
   "metadata": {
    "collapsed": true
   },
   "outputs": [],
   "source": []
  },
  {
   "cell_type": "code",
   "execution_count": null,
   "metadata": {
    "collapsed": true
   },
   "outputs": [],
   "source": []
  },
  {
   "cell_type": "code",
   "execution_count": null,
   "metadata": {
    "collapsed": false
   },
   "outputs": [],
   "source": [
    "zz"
   ]
  },
  {
   "cell_type": "code",
   "execution_count": null,
   "metadata": {
    "collapsed": true
   },
   "outputs": [],
   "source": []
  },
  {
   "cell_type": "code",
   "execution_count": null,
   "metadata": {
    "collapsed": true
   },
   "outputs": [],
   "source": []
  },
  {
   "cell_type": "code",
   "execution_count": null,
   "metadata": {
    "collapsed": true
   },
   "outputs": [],
   "source": []
  },
  {
   "cell_type": "code",
   "execution_count": null,
   "metadata": {
    "collapsed": true
   },
   "outputs": [],
   "source": []
  },
  {
   "cell_type": "code",
   "execution_count": null,
   "metadata": {
    "collapsed": true
   },
   "outputs": [],
   "source": []
  },
  {
   "cell_type": "code",
   "execution_count": null,
   "metadata": {
    "collapsed": true
   },
   "outputs": [],
   "source": []
  },
  {
   "cell_type": "code",
   "execution_count": null,
   "metadata": {
    "collapsed": true
   },
   "outputs": [],
   "source": []
  },
  {
   "cell_type": "code",
   "execution_count": null,
   "metadata": {
    "collapsed": false
   },
   "outputs": [],
   "source": []
  },
  {
   "cell_type": "code",
   "execution_count": null,
   "metadata": {
    "collapsed": true
   },
   "outputs": [],
   "source": []
  },
  {
   "cell_type": "code",
   "execution_count": null,
   "metadata": {
    "collapsed": true
   },
   "outputs": [],
   "source": []
  },
  {
   "cell_type": "code",
   "execution_count": null,
   "metadata": {
    "collapsed": true
   },
   "outputs": [],
   "source": []
  },
  {
   "cell_type": "code",
   "execution_count": null,
   "metadata": {
    "collapsed": true
   },
   "outputs": [],
   "source": []
  },
  {
   "cell_type": "code",
   "execution_count": null,
   "metadata": {
    "collapsed": false
   },
   "outputs": [],
   "source": [
    "doc_array = "
   ]
  },
  {
   "cell_type": "code",
   "execution_count": null,
   "metadata": {
    "collapsed": true
   },
   "outputs": [],
   "source": []
  },
  {
   "cell_type": "code",
   "execution_count": null,
   "metadata": {
    "collapsed": false
   },
   "outputs": [],
   "source": [
    "doc_array"
   ]
  },
  {
   "cell_type": "code",
   "execution_count": null,
   "metadata": {
    "collapsed": true
   },
   "outputs": [],
   "source": []
  },
  {
   "cell_type": "code",
   "execution_count": null,
   "metadata": {
    "collapsed": true
   },
   "outputs": [],
   "source": []
  },
  {
   "cell_type": "code",
   "execution_count": null,
   "metadata": {
    "collapsed": true
   },
   "outputs": [],
   "source": []
  },
  {
   "cell_type": "code",
   "execution_count": null,
   "metadata": {
    "collapsed": true
   },
   "outputs": [],
   "source": []
  },
  {
   "cell_type": "code",
   "execution_count": null,
   "metadata": {
    "collapsed": false
   },
   "outputs": [],
   "source": []
  },
  {
   "cell_type": "code",
   "execution_count": null,
   "metadata": {
    "collapsed": false
   },
   "outputs": [],
   "source": []
  },
  {
   "cell_type": "code",
   "execution_count": null,
   "metadata": {
    "collapsed": false
   },
   "outputs": [],
   "source": []
  },
  {
   "cell_type": "code",
   "execution_count": null,
   "metadata": {
    "collapsed": true
   },
   "outputs": [],
   "source": []
  },
  {
   "cell_type": "code",
   "execution_count": null,
   "metadata": {
    "collapsed": true
   },
   "outputs": [],
   "source": []
  },
  {
   "cell_type": "code",
   "execution_count": null,
   "metadata": {
    "collapsed": true
   },
   "outputs": [],
   "source": []
  },
  {
   "cell_type": "code",
   "execution_count": null,
   "metadata": {
    "collapsed": true
   },
   "outputs": [],
   "source": []
  },
  {
   "cell_type": "code",
   "execution_count": null,
   "metadata": {
    "collapsed": true
   },
   "outputs": [],
   "source": []
  },
  {
   "cell_type": "code",
   "execution_count": null,
   "metadata": {
    "collapsed": true
   },
   "outputs": [],
   "source": []
  },
  {
   "cell_type": "code",
   "execution_count": null,
   "metadata": {
    "collapsed": true
   },
   "outputs": [],
   "source": []
  },
  {
   "cell_type": "code",
   "execution_count": null,
   "metadata": {
    "collapsed": true
   },
   "outputs": [],
   "source": []
  },
  {
   "cell_type": "code",
   "execution_count": null,
   "metadata": {
    "collapsed": true
   },
   "outputs": [],
   "source": []
  },
  {
   "cell_type": "code",
   "execution_count": null,
   "metadata": {
    "collapsed": true
   },
   "outputs": [],
   "source": []
  },
  {
   "cell_type": "code",
   "execution_count": null,
   "metadata": {
    "collapsed": true
   },
   "outputs": [],
   "source": []
  },
  {
   "cell_type": "code",
   "execution_count": null,
   "metadata": {
    "collapsed": true
   },
   "outputs": [],
   "source": []
  },
  {
   "cell_type": "code",
   "execution_count": null,
   "metadata": {
    "collapsed": true
   },
   "outputs": [],
   "source": []
  },
  {
   "cell_type": "code",
   "execution_count": null,
   "metadata": {
    "collapsed": true
   },
   "outputs": [],
   "source": []
  },
  {
   "cell_type": "markdown",
   "metadata": {
    "collapsed": false
   },
   "source": [
    "## get a list of all tags "
   ]
  },
  {
   "cell_type": "code",
   "execution_count": null,
   "metadata": {
    "collapsed": true
   },
   "outputs": [],
   "source": [
    "tag_list = worker.get_all_tags()"
   ]
  },
  {
   "cell_type": "code",
   "execution_count": null,
   "metadata": {
    "collapsed": false
   },
   "outputs": [],
   "source": [
    "#tag_features = feature.DictVectorizer(tag_list, separator=\",\", sparse=True)"
   ]
  },
  {
   "cell_type": "code",
   "execution_count": null,
   "metadata": {
    "collapsed": false
   },
   "outputs": [],
   "source": [
    "#v = feature.DictVectorizer(separator=\" \", sparse = True)"
   ]
  },
  {
   "cell_type": "code",
   "execution_count": null,
   "metadata": {
    "collapsed": true
   },
   "outputs": [],
   "source": [
    "ft = v.fit_transform(doc_tags)"
   ]
  },
  {
   "cell_type": "code",
   "execution_count": null,
   "metadata": {
    "collapsed": true
   },
   "outputs": [],
   "source": [
    "test = v.inverse_transform(ft)"
   ]
  },
  {
   "cell_type": "code",
   "execution_count": null,
   "metadata": {
    "collapsed": false
   },
   "outputs": [],
   "source": [
    "#test"
   ]
  },
  {
   "cell_type": "code",
   "execution_count": null,
   "metadata": {
    "collapsed": true
   },
   "outputs": [],
   "source": []
  },
  {
   "cell_type": "code",
   "execution_count": null,
   "metadata": {
    "collapsed": true
   },
   "outputs": [],
   "source": []
  },
  {
   "cell_type": "code",
   "execution_count": null,
   "metadata": {
    "collapsed": false
   },
   "outputs": [],
   "source": [
    "#v.get_feature_names()"
   ]
  },
  {
   "cell_type": "code",
   "execution_count": null,
   "metadata": {
    "collapsed": true
   },
   "outputs": [],
   "source": []
  },
  {
   "cell_type": "code",
   "execution_count": null,
   "metadata": {
    "collapsed": true
   },
   "outputs": [],
   "source": []
  },
  {
   "cell_type": "code",
   "execution_count": null,
   "metadata": {
    "collapsed": false
   },
   "outputs": [],
   "source": [
    "docs[\"count\"] = 1"
   ]
  },
  {
   "cell_type": "code",
   "execution_count": null,
   "metadata": {
    "collapsed": false
   },
   "outputs": [],
   "source": [
    "docs.head()"
   ]
  },
  {
   "cell_type": "code",
   "execution_count": null,
   "metadata": {
    "collapsed": false
   },
   "outputs": [],
   "source": [
    "docs_by_subj = docs.groupby('subject').aggregate(sum)"
   ]
  },
  {
   "cell_type": "code",
   "execution_count": null,
   "metadata": {
    "collapsed": false
   },
   "outputs": [],
   "source": [
    "docs_by_subj.head(25)"
   ]
  },
  {
   "cell_type": "code",
   "execution_count": null,
   "metadata": {
    "collapsed": true
   },
   "outputs": [],
   "source": [
    "#docs_by_subj_and_year = docs.groupby('class_year').aggregate(sum)"
   ]
  },
  {
   "cell_type": "code",
   "execution_count": null,
   "metadata": {
    "collapsed": false
   },
   "outputs": [],
   "source": [
    "# class_years = docs_df[\"class_year\"].count()"
   ]
  },
  {
   "cell_type": "code",
   "execution_count": null,
   "metadata": {
    "collapsed": false
   },
   "outputs": [],
   "source": [
    "#s = docs_df[\"school\"].value_counts()"
   ]
  },
  {
   "cell_type": "code",
   "execution_count": null,
   "metadata": {
    "collapsed": false
   },
   "outputs": [],
   "source": [
    "cy = docs[\"class_year\"].value_counts()"
   ]
  },
  {
   "cell_type": "code",
   "execution_count": null,
   "metadata": {
    "collapsed": false
   },
   "outputs": [],
   "source": [
    "cy.head(10)"
   ]
  },
  {
   "cell_type": "code",
   "execution_count": null,
   "metadata": {
    "collapsed": true
   },
   "outputs": [],
   "source": []
  },
  {
   "cell_type": "code",
   "execution_count": null,
   "metadata": {
    "collapsed": false
   },
   "outputs": [],
   "source": [
    "subj = docs[\"subject\"].value_counts()"
   ]
  },
  {
   "cell_type": "code",
   "execution_count": null,
   "metadata": {
    "collapsed": false
   },
   "outputs": [],
   "source": [
    "subj.head(25)"
   ]
  },
  {
   "cell_type": "code",
   "execution_count": null,
   "metadata": {
    "collapsed": false
   },
   "outputs": [],
   "source": [
    "cy"
   ]
  },
  {
   "cell_type": "code",
   "execution_count": null,
   "metadata": {
    "collapsed": true
   },
   "outputs": [],
   "source": []
  },
  {
   "cell_type": "code",
   "execution_count": null,
   "metadata": {
    "collapsed": true
   },
   "outputs": [],
   "source": []
  },
  {
   "cell_type": "code",
   "execution_count": null,
   "metadata": {
    "collapsed": true
   },
   "outputs": [],
   "source": []
  },
  {
   "cell_type": "code",
   "execution_count": null,
   "metadata": {
    "collapsed": true
   },
   "outputs": [],
   "source": []
  },
  {
   "cell_type": "code",
   "execution_count": null,
   "metadata": {
    "collapsed": true
   },
   "outputs": [],
   "source": []
  },
  {
   "cell_type": "code",
   "execution_count": null,
   "metadata": {
    "collapsed": true
   },
   "outputs": [],
   "source": []
  },
  {
   "cell_type": "code",
   "execution_count": null,
   "metadata": {
    "collapsed": true
   },
   "outputs": [],
   "source": []
  },
  {
   "cell_type": "code",
   "execution_count": null,
   "metadata": {
    "collapsed": true
   },
   "outputs": [],
   "source": []
  },
  {
   "cell_type": "code",
   "execution_count": null,
   "metadata": {
    "collapsed": true
   },
   "outputs": [],
   "source": []
  },
  {
   "cell_type": "code",
   "execution_count": null,
   "metadata": {
    "collapsed": true
   },
   "outputs": [],
   "source": []
  },
  {
   "cell_type": "code",
   "execution_count": null,
   "metadata": {
    "collapsed": true
   },
   "outputs": [],
   "source": []
  },
  {
   "cell_type": "code",
   "execution_count": null,
   "metadata": {
    "collapsed": true
   },
   "outputs": [],
   "source": []
  },
  {
   "cell_type": "code",
   "execution_count": null,
   "metadata": {
    "collapsed": true
   },
   "outputs": [],
   "source": []
  },
  {
   "cell_type": "code",
   "execution_count": null,
   "metadata": {
    "collapsed": true
   },
   "outputs": [],
   "source": []
  },
  {
   "cell_type": "code",
   "execution_count": null,
   "metadata": {
    "collapsed": true
   },
   "outputs": [],
   "source": []
  },
  {
   "cell_type": "code",
   "execution_count": null,
   "metadata": {
    "collapsed": false
   },
   "outputs": [],
   "source": []
  },
  {
   "cell_type": "code",
   "execution_count": null,
   "metadata": {
    "collapsed": true
   },
   "outputs": [],
   "source": []
  },
  {
   "cell_type": "code",
   "execution_count": null,
   "metadata": {
    "collapsed": true
   },
   "outputs": [],
   "source": []
  },
  {
   "cell_type": "code",
   "execution_count": null,
   "metadata": {
    "collapsed": true
   },
   "outputs": [],
   "source": []
  },
  {
   "cell_type": "code",
   "execution_count": null,
   "metadata": {
    "collapsed": true
   },
   "outputs": [],
   "source": []
  },
  {
   "cell_type": "code",
   "execution_count": null,
   "metadata": {
    "collapsed": true
   },
   "outputs": [],
   "source": []
  },
  {
   "cell_type": "code",
   "execution_count": null,
   "metadata": {
    "collapsed": false
   },
   "outputs": [],
   "source": []
  },
  {
   "cell_type": "code",
   "execution_count": null,
   "metadata": {
    "collapsed": true
   },
   "outputs": [],
   "source": []
  },
  {
   "cell_type": "code",
   "execution_count": null,
   "metadata": {
    "collapsed": true
   },
   "outputs": [],
   "source": []
  },
  {
   "cell_type": "code",
   "execution_count": null,
   "metadata": {
    "collapsed": true
   },
   "outputs": [],
   "source": []
  },
  {
   "cell_type": "code",
   "execution_count": null,
   "metadata": {
    "collapsed": true
   },
   "outputs": [],
   "source": []
  },
  {
   "cell_type": "code",
   "execution_count": null,
   "metadata": {
    "collapsed": false
   },
   "outputs": [],
   "source": []
  },
  {
   "cell_type": "code",
   "execution_count": null,
   "metadata": {
    "collapsed": true
   },
   "outputs": [],
   "source": []
  },
  {
   "cell_type": "code",
   "execution_count": null,
   "metadata": {
    "collapsed": true
   },
   "outputs": [],
   "source": []
  },
  {
   "cell_type": "code",
   "execution_count": null,
   "metadata": {
    "collapsed": true
   },
   "outputs": [],
   "source": []
  },
  {
   "cell_type": "code",
   "execution_count": null,
   "metadata": {
    "collapsed": true
   },
   "outputs": [],
   "source": []
  },
  {
   "cell_type": "code",
   "execution_count": null,
   "metadata": {
    "collapsed": true
   },
   "outputs": [],
   "source": []
  },
  {
   "cell_type": "code",
   "execution_count": null,
   "metadata": {
    "collapsed": true
   },
   "outputs": [],
   "source": []
  },
  {
   "cell_type": "code",
   "execution_count": null,
   "metadata": {
    "collapsed": true
   },
   "outputs": [],
   "source": []
  },
  {
   "cell_type": "code",
   "execution_count": null,
   "metadata": {
    "collapsed": true
   },
   "outputs": [],
   "source": []
  },
  {
   "cell_type": "code",
   "execution_count": null,
   "metadata": {
    "collapsed": true
   },
   "outputs": [],
   "source": []
  },
  {
   "cell_type": "code",
   "execution_count": null,
   "metadata": {
    "collapsed": true
   },
   "outputs": [],
   "source": []
  },
  {
   "cell_type": "code",
   "execution_count": null,
   "metadata": {
    "collapsed": true
   },
   "outputs": [],
   "source": []
  },
  {
   "cell_type": "code",
   "execution_count": null,
   "metadata": {
    "collapsed": true
   },
   "outputs": [],
   "source": []
  },
  {
   "cell_type": "code",
   "execution_count": null,
   "metadata": {
    "collapsed": true
   },
   "outputs": [],
   "source": []
  },
  {
   "cell_type": "code",
   "execution_count": null,
   "metadata": {
    "collapsed": true
   },
   "outputs": [],
   "source": []
  },
  {
   "cell_type": "code",
   "execution_count": null,
   "metadata": {
    "collapsed": true
   },
   "outputs": [],
   "source": []
  },
  {
   "cell_type": "code",
   "execution_count": null,
   "metadata": {
    "collapsed": true
   },
   "outputs": [],
   "source": []
  },
  {
   "cell_type": "code",
   "execution_count": null,
   "metadata": {
    "collapsed": true
   },
   "outputs": [],
   "source": []
  },
  {
   "cell_type": "code",
   "execution_count": null,
   "metadata": {
    "collapsed": true
   },
   "outputs": [],
   "source": []
  },
  {
   "cell_type": "code",
   "execution_count": null,
   "metadata": {
    "collapsed": true
   },
   "outputs": [],
   "source": []
  },
  {
   "cell_type": "code",
   "execution_count": null,
   "metadata": {
    "collapsed": true
   },
   "outputs": [],
   "source": []
  },
  {
   "cell_type": "code",
   "execution_count": null,
   "metadata": {
    "collapsed": true
   },
   "outputs": [],
   "source": []
  },
  {
   "cell_type": "code",
   "execution_count": null,
   "metadata": {
    "collapsed": true
   },
   "outputs": [],
   "source": []
  },
  {
   "cell_type": "code",
   "execution_count": null,
   "metadata": {
    "collapsed": true
   },
   "outputs": [],
   "source": []
  },
  {
   "cell_type": "code",
   "execution_count": null,
   "metadata": {
    "collapsed": true
   },
   "outputs": [],
   "source": []
  },
  {
   "cell_type": "code",
   "execution_count": null,
   "metadata": {
    "collapsed": true
   },
   "outputs": [],
   "source": []
  },
  {
   "cell_type": "code",
   "execution_count": null,
   "metadata": {
    "collapsed": true
   },
   "outputs": [],
   "source": []
  },
  {
   "cell_type": "code",
   "execution_count": null,
   "metadata": {
    "collapsed": true
   },
   "outputs": [],
   "source": []
  },
  {
   "cell_type": "code",
   "execution_count": null,
   "metadata": {
    "collapsed": true
   },
   "outputs": [],
   "source": []
  },
  {
   "cell_type": "code",
   "execution_count": null,
   "metadata": {
    "collapsed": true
   },
   "outputs": [],
   "source": []
  },
  {
   "cell_type": "code",
   "execution_count": null,
   "metadata": {
    "collapsed": true
   },
   "outputs": [],
   "source": []
  },
  {
   "cell_type": "code",
   "execution_count": null,
   "metadata": {
    "collapsed": true
   },
   "outputs": [],
   "source": []
  },
  {
   "cell_type": "code",
   "execution_count": null,
   "metadata": {
    "collapsed": true
   },
   "outputs": [],
   "source": []
  },
  {
   "cell_type": "code",
   "execution_count": null,
   "metadata": {
    "collapsed": true
   },
   "outputs": [],
   "source": []
  },
  {
   "cell_type": "code",
   "execution_count": null,
   "metadata": {
    "collapsed": true
   },
   "outputs": [],
   "source": []
  },
  {
   "cell_type": "code",
   "execution_count": null,
   "metadata": {
    "collapsed": true
   },
   "outputs": [],
   "source": []
  },
  {
   "cell_type": "code",
   "execution_count": null,
   "metadata": {
    "collapsed": true
   },
   "outputs": [],
   "source": []
  },
  {
   "cell_type": "code",
   "execution_count": null,
   "metadata": {
    "collapsed": true
   },
   "outputs": [],
   "source": []
  },
  {
   "cell_type": "code",
   "execution_count": null,
   "metadata": {
    "collapsed": true
   },
   "outputs": [],
   "source": []
  },
  {
   "cell_type": "code",
   "execution_count": null,
   "metadata": {
    "collapsed": false
   },
   "outputs": [],
   "source": []
  },
  {
   "cell_type": "code",
   "execution_count": null,
   "metadata": {
    "collapsed": false
   },
   "outputs": [],
   "source": []
  },
  {
   "cell_type": "code",
   "execution_count": null,
   "metadata": {
    "collapsed": true
   },
   "outputs": [],
   "source": []
  },
  {
   "cell_type": "code",
   "execution_count": null,
   "metadata": {
    "collapsed": false
   },
   "outputs": [],
   "source": []
  },
  {
   "cell_type": "code",
   "execution_count": null,
   "metadata": {
    "collapsed": false
   },
   "outputs": [],
   "source": []
  },
  {
   "cell_type": "code",
   "execution_count": null,
   "metadata": {
    "collapsed": false
   },
   "outputs": [],
   "source": []
  },
  {
   "cell_type": "code",
   "execution_count": null,
   "metadata": {
    "collapsed": false
   },
   "outputs": [],
   "source": []
  },
  {
   "cell_type": "code",
   "execution_count": null,
   "metadata": {
    "collapsed": false
   },
   "outputs": [],
   "source": []
  },
  {
   "cell_type": "code",
   "execution_count": null,
   "metadata": {
    "collapsed": false
   },
   "outputs": [],
   "source": []
  },
  {
   "cell_type": "code",
   "execution_count": null,
   "metadata": {
    "collapsed": false
   },
   "outputs": [],
   "source": []
  },
  {
   "cell_type": "code",
   "execution_count": null,
   "metadata": {
    "collapsed": false
   },
   "outputs": [],
   "source": []
  },
  {
   "cell_type": "code",
   "execution_count": null,
   "metadata": {
    "collapsed": false
   },
   "outputs": [],
   "source": []
  }
 ],
 "metadata": {
  "kernelspec": {
   "display_name": "Python 3",
   "language": "python",
   "name": "python3"
  },
  "language_info": {
   "codemirror_mode": {
    "name": "ipython",
    "version": 3
   },
   "file_extension": ".py",
   "mimetype": "text/x-python",
   "name": "python",
   "nbconvert_exporter": "python",
   "pygments_lexer": "ipython3",
   "version": "3.4.3"
  }
 },
 "nbformat": 4,
 "nbformat_minor": 0
}
