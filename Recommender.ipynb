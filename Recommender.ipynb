{
 "cells": [
  {
   "cell_type": "code",
   "execution_count": 1,
   "metadata": {
    "collapsed": true
   },
   "outputs": [],
   "source": [
    "from Worker import Worker"
   ]
  },
  {
   "cell_type": "code",
   "execution_count": 2,
   "metadata": {
    "collapsed": true
   },
   "outputs": [],
   "source": [
    "import pandas as pd"
   ]
  },
  {
   "cell_type": "code",
   "execution_count": 3,
   "metadata": {
    "collapsed": false
   },
   "outputs": [],
   "source": [
    "worker = Worker()"
   ]
  },
  {
   "cell_type": "code",
   "execution_count": 4,
   "metadata": {
    "collapsed": false
   },
   "outputs": [
    {
     "name": "stdout",
     "output_type": "stream",
     "text": [
      " school_type: ['Gymnasium']  title: Basics Deutsch Grammatik  publisher: Auer  subtitle: Satzglieder  id: 50464e87b92d2a47a4c93852  issue: ['Die Schülerinnen und Schüler vergegenwärtigen sich grundlegende Aspekte zu adverbialen Bestimmungen, indem sie eine Merkregel wiederholen und verschiedene Übungen bearbeiten. ']  tags: ['Sprachliche Strukturen und Begriffe auf der Satzebene', 'Sprache und Sprachgebrauch untersuchen', 'Lösung für Lehrer', 'Adverbiale Bestimmungen', 'Satzglieder', 'Der einfache Satz', 'Satzglieder: Angaben']  class_years: [5, 6, 7, 8, 9, 10]  authors: ['Stefan Schäfer']  kind: mindItem \n",
      " school_type: ['Gymnasium']  title: Basics Deutsch Grammatik  publisher: Auer  subtitle: Satzglieder  id: 50464e87b92d2a47a4c93853  issue: ['Die Schülerinnen und Schüler vergegenwärtigen sich grundlegende Aspekte zum Satzglied \"Prädikat\", indem sie eine Merkregel wiederholen und verschiedene Übungen bearbeiten. ']  tags: ['Sprache und Sprachgebrauch untersuchen', 'Lösung für Lehrer', 'Prädikat', 'Satzglieder', 'Sprachliche Strukturen und Begriffe auf der Satzebene', 'Der einfache Satz']  class_years: [5, 6, 7, 8, 9, 10]  authors: ['Stefan Schäfer']  kind: mindItem \n",
      " school_type: ['Gymnasium']  title: Basics Deutsch Grammatik  publisher: Auer  subtitle: Satzglieder  id: 50464e87b92d2a47a4c93854  issue: ['Die Schülerinnen und Schüler vergegenwärtigen sich grundlegende Aspekte zum Satzglied \"Objekt\", indem sie eine Merkregel wiederholen und verschiedene Übungen bearbeiten. ']  tags: ['Sprache und Sprachgebrauch untersuchen', 'Lösung für Lehrer', 'Objekte', 'Satzglieder', 'Sprachliche Strukturen und Begriffe auf der Satzebene', 'Der einfache Satz', 'Satzglieder: Ergänzungen']  class_years: [5, 6, 7, 8, 9, 10]  authors: ['Stefan Schäfer']  kind: mindItem \n",
      " school_type: ['Grundschule']  title: Stationentraining Adjektive  publisher: Auer  subtitle: 6 Stationen mit Lösungen für die Klasse 3  id: 50464e87b92d2a47a4c9385a  issue: ['Dieses Dokument kann zum Einsatz kommen, wenn Schülerinnen und Schüler ihre erarbeiteten Ergebnisse selbständig kontrollieren sollen. ']  tags: ['Lösung für Lehrer', 'Adjektive', 'Wortarten', 'Stationenlernen', 'Grammatik', 'Sprache und Sprachgebrauch untersuchen', 'Sprachliche Strukturen und Begriffe auf der Wortebene', 'Wortarten', 'Adjektiv']  class_years: [3]  authors: ['Martina Knipp']  kind: mindItem \n",
      " school_type: ['Gymnasium']  title: Basics Deutsch Grammatik  publisher: Auer  subtitle: Wortarten  id: 50464e87b92d2a47a4c9385d  issue: ['Schülerinnen und Schüler beschäftigen sich in verschiedenen Übungen mit den Wortarten \"Präposition\" und \"Konjunktion\". ']  tags: ['Präpositionen und Konjunktionen', 'Wortarten', 'Sprache und Sprachgebrauch untersuchen', 'Wortarten', 'Konjunktion und Subjunktion']  class_years: [5, 6, 7, 8, 9, 10]  authors: ['Stefan Schäfer']  kind: mindItem \n",
      " school_type: ['Gymnasium']  title: Basics Deutsch Grammatik  publisher: Auer  subtitle: Wortarten  id: 50464e87b92d2a47a4c9385e  issue: ['Schülerinnen und Schüler beschäftigen sich in verschiedenen Übungen mit der Wortart \"Pronomen\". Sie lernen unter anderem die Unterschiede der Pronomenarten kennen.  ']  tags: ['Promomen', 'Wortarten', 'Grammatik', 'Sprache und Sprachgebrauch untersuchen', 'Wortarten', 'Pronomen']  class_years: [5, 6, 7, 8, 9, 10]  authors: ['Stefan Schäfer']  kind: mindItem \n",
      " school_type: ['Gymnasium']  title: Basics Deutsch Grammatik  publisher: Auer  subtitle: Wortarten  id: 50464e87b92d2a47a4c9385f  issue: ['Schülerinnen und Schüler beschäftigen sich in verschiedenen Übungen mit den Wortarten \"Nomen\" und \"Adjektive\". ']  tags: ['Nomen und Adjektive', 'Wortarten', 'Grammatik', 'Sprache und Sprachgebrauch untersuchen', 'Wortarten', 'Substantiv', 'Adjektiv']  class_years: [5, 6, 7, 8, 9, 10]  authors: ['Stefan Schäfer']  kind: mindItem \n",
      " school_type: ['Gymnasium']  title: Basics Deutsch Grammatik  publisher: Auer  subtitle: Wortarten  id: 50464e87b92d2a47a4c93860  issue: ['Schülerinnen und Schüler beschäftigen sich in verschiedenen Übungen mit der Wortart \"Adverb\". Unter anderem lernen sie die verschiedenen Arten von Adverbien kennen. ']  tags: ['Sprache und Sprachgebrauch untersuchen', 'Adverbien', 'Wortarten', 'Grammatik', 'Wortarten', 'Adverb']  class_years: [5, 6, 7, 8, 9, 10]  authors: ['Stefan Schäfer']  kind: mindItem \n",
      " school_type: ['Gymnasium']  title: Basics Deutsch Grammatik  publisher: Auer  subtitle: Wortarten  id: 50464e87b92d2a47a4c93861  issue: ['Schülerinnen und Schüler beschäftigen sich in verschiedenen Übungen mit der Wortart \"Verb\". Sie lernen unter anderem die verschiedenen Verbarten zu unterscheiden. ']  tags: ['Verben', 'Wortarten', 'Grammatik', 'Sprache und Sprachgebrauch untersuchen', 'Wortarten', 'Verb']  class_years: [5, 6, 7, 8, 9, 10]  authors: ['Stefan Schäfer']  kind: mindItem \n",
      " school_type: ['Gymnasium']  title: IF Deutsch 8 Lesen Sachtexte  publisher: Auer  subtitle: Einstufungstest  id: 50464e87b92d2a47a4c93863  issue: ['Vorlage für einen Test, bei dem Schüler erst einen Text (\"Skateboarding: Lebenseinstellung, Freizeitspaß und noch viel mehr\") lesen und anschließend Fragen zu diesem schriftlich beantworten müssen. Enthält auch Erläuterungen zur Auswertung des Tests.']  tags: ['Non-Fiktionale Texte']  class_years: [8]  authors: ['Katharina Schlamp (Hrsg.)']  kind: mindItem \n",
      " school_type: ['Gymnasium']  title: Individuell fördern Deutsch 8 Kreatives Schreiben  publisher: Auer  subtitle: Cyberion  id: 50464e87b92d2a47a4c93868  issue: ['Das Dokument regt die Schülerinnen und Schüler zur Auseinandersetzung mit dem Thema \"Medien und Überwachung\" auf drei Niveaustufen an. Anhand einer Rahmengeschichte des Internats Cyberion wird notwendiges Hintergrundwissen vermittelt. Unterschiedliche Schreibübungen fördern die Perspektivübernahme und ausführliche Beschäftigung mit den Gefahren von neuen Medien. Lösungen zu einzelnen Aufgaben sowie Erläuterungen zur Unterrichtsgestaltung sind vorhanden.']  tags: ['Kreatives Schreiben', 'Schreibverfahren', 'Kreativ schreiben', 'Schreiben nach visuellen Vorlagen']  class_years: [8]  authors: ['Katharina Schlamp (Hrsg.)']  kind: mindItem \n",
      " school_type: ['Grundschule']  title: Phonologische Bewusstheit entwickeln 1  publisher: Persen  subtitle: Trainingsprogramm: Laute, Silben und Reime  id: 50464e87b92d2a47a4c9386e  issue: ['Übungen und Spiele zu Anlauten']  tags: ['Wortbildung', 'Zuhören', 'Reden', 'Sprachbewusstsein']  class_years: [1]  authors: ['Katrin Wemmer']  kind: mindItem \n",
      " school_type: ['Grundschule']  title: Artikel, Präpositionen und Nomen - Bd. 1  publisher: Persen  subtitle: Grundlegende Übungen  id: 50464e87b92d2a47a4c93875  issue: ['Übungen zum Wortschatz, zum bestimmten und unbestimmten Artikel, zur Mehrzahlbildung und zur Verwendung von Präpositionen zum Thema Schule']  tags: ['DaZ/DaF Material', 'Pluralformen Nomen', 'Wortschatz', 'Artikel', 'Präpositionen']  class_years: [1, 2]  authors: ['Maria Stens']  kind: mindItem \n",
      " school_type: ['Gymnasium']  title: Die Sprache in einem Bericht  publisher: Auer  subtitle:   id: 50464e87b92d2a47a4c9387e  issue: ['Das Erschließen wichtiger Merkmale eines Berichtes steht im Vordergrund. Anhand von zwei Aussagen werden die Aufsatzformen Erzählung und Bericht sprachlich voneinander abgegrenzt. Die Schülerinnen und Schüler verfassen mithilfe von Vergleichen Definitionen für den Sprachgebrauch bei einem Bericht, untersuchen und korrigieren anschließend einen nicht gelungenen Bericht. Lösungen sind vorhanden.']  tags: ['Schreibverfahren', 'pragmatisches Schreiben', 'Schreiben', 'Lösung für Lehrer', 'Sprache', 'Berichte schreiben', 'Berichten']  class_years: [7, 8]  authors: ['Peter Diepold']  kind: mindItem \n",
      " school_type: ['Gymnasium']  title: Übungen und Checkliste zur zur Erstellung eines Berichtes  publisher: Auer  subtitle:   id: 50464e87b92d2a47a4c93883  issue: ['Die Checkliste dient als Hilfestellung beim Verfassen eines Berichtes. Definition, Aufbau, Sprache, Zeitform und die damit verbundenen W-Fragen sind die Pfeiler dieses Grundgerüstes. Mithilfe der Liste können die Schülerinnen und Schüler ihren Bericht auf Korrektheit hin untersuchen.']  tags: ['Schreibverfahren', 'Schreiben', 'Produktion von Sachtexten', 'Berichte schreiben', 'pragmatisches Schreiben', 'Berichten']  class_years: [7, 8]  authors: ['Peter Diepold']  kind: mindItem \n",
      " school_type: ['Gymnasium']  title: Übungen und Checkliste zur zur Erstellung eines Berichtes  publisher: Auer  subtitle:   id: 50464e87b92d2a47a4c93884  issue: ['Das Dokument behandelt Merkmale, die beim Verfassen eines Berichtes notwendig sind: W-Fragen, Basissatz etc. Anhand unterschiedlicher Übungen erschließen sich die Schülerinnen und Schüler wichtige Informationen zu zwei Vorfällen. Mithilfe von Zeichnungen, Lückentexten und anderen Methoden wird das Gerüst eines Berichtes erstellt, mit dem dann ein Polizeibericht verfasst wird. Lösungen sind vorhanden.']  tags: ['Schreibverfahren', 'pragmatisches Schreiben', 'Schreiben', 'Lösung für Lehrer', 'Produktion von Sachtexten', 'Berichte schreiben', 'Berichten']  class_years: [7, 8]  authors: ['Peter Diepold']  kind: mindItem \n",
      " school_type: ['Gymnasium']  title: Übungen und Checkliste zur zur Erstellung eines Berichtes  publisher: Auer  subtitle:   id: 50464e87b92d2a47a4c93885  issue: ['In mehreren Aufgaben üben die Schülerinnen und Schüler das Verfassen eines Berichtes. Zu Beginn wird die Funktion des Berichts anhand der Polizeiarbeit verdeutlicht. Anschließend werden mithilfe unterschiedlicher Übungen das Suchen wichtiger Informationen und das Einhalten einer der Form gerechten Sprache vertieft. Abschließend wird ein Unfallbericht selbstständig verfasst. Lösungen sind vorhanden.']  tags: ['pragmatisches Schreiben', 'Schreiben', 'Schreibverfahren', 'Lösung für Lehrer', 'Produktion von Sachtexten', 'Berichte schreiben', 'Berichten']  class_years: [7, 8]  authors: ['Peter Diepold']  kind: mindItem \n",
      " school_type: ['Gymnasium']  title: Auer Führerscheine Deutsch Klasse 5 Zeitformen  publisher: Auer  subtitle: Schnell-Tests zur Erfassung von Lernstand und Lernfortschritt  id: 50464e87b92d2a47a4c9388b  issue: ['Mit den Schnell-Tests können Schülerinnen und Schüler Lernstand und Lernfortschritt im Bereich der Zeitformen (Futur I) erfassen. Die Aufgabenformen sind geschlossen. Es gibt zwei Niveaustufen. Lösungen sind vorhanden.']  tags: ['Verb', 'Wortarten', 'Sprache und Sprachgebrauch untersuchen', 'Lösung zur Selbstkontrolle für SuS', 'Zeitformen', 'Tempus', 'Futur I']  class_years: [5]  authors: ['Verena Euler', 'Andreas Reul']  kind: mindItem \n",
      " school_type: ['Gymnasium']  title: Auer Führerscheine Deutsch Klasse 5 Zeitformen  publisher: Auer  subtitle: Schnell-Tests zur Erfassung von Lernstand und Lernfortschritt  id: 50464e87b92d2a47a4c9388d  issue: ['Mit den Schnell-Tests können Schülerinnen und Schüler Lernstand und Lernfortschritt im Bereich der Zeitformen (Präteritum) erfassen. Die Aufgabenformen sind geschlossen. Es gibt zwei Niveaustufen. Lösungen sind vorhanden.']  tags: ['Wortarten', 'Sprache und Sprachgebrauch untersuchen', 'Lösung zur Selbstkontrolle für SuS', 'Tempus Präteritum', 'Verb']  class_years: [5]  authors: ['Verena Euler', 'Andreas Reul']  kind: mindItem \n",
      " school_type: ['Gymnasium']  title: Auer Führerscheine Deutsch Klasse 5 Zeichensetzung  publisher: Auer  subtitle: Schnell-Tests zur Erfassung von Lernstand und Lernfortschritt  id: 50464e87b92d2a47a4c9388f  issue: ['Anhand eines Testbogens sollen der Lernstand und der Lernfortschritt der Schülerinnen und Schüler der fünften Klasse im Bereich \"Zeichensetzung\" erfasst werden.']  tags: ['Kommasetzung', 'Wörtliche Rede', 'Zeichensetzung', 'Satzarten', 'Lösung zur Selbstkontrolle für SuS', 'Richtig Schreiben', 'Interpunktion']  class_years: [5]  authors: ['Verena Euler', 'Andreas Reul']  kind: mindItem \n",
      " school_type: ['Gymnasium']  title: Auer Führerscheine Deutsch Klasse 5 Zeichensetzung  publisher: Auer  subtitle: Schnell-Tests zur Erfassung von Lernstand und Lernfortschritt  id: 50464e87b92d2a47a4c93890  issue: ['Anhand eines Testbogens sollen der Lernstand und der Lernfortschritt der Schülerinnen und Schüler der fünften Klasse im Bereich \"Zeichensetzung\" erfasst werden.']  tags: ['Lösung zur Selbstkontrolle für SuS', 'Wörtliche Rede', 'Zeichensetzung', 'Richtig Schreiben', 'Interpunktion', 'Anführungszeichen']  class_years: [5]  authors: ['Verena Euler', 'Andreas Reul']  kind: mindItem \n",
      " school_type: ['Gymnasium']  title: Auer Führerscheine Deutsch Klasse 5 Zeichensetzung  publisher: Auer  subtitle: Schnell-Tests zur Erfassung von Lernstand und Lernfortschritt  id: 50464e87b92d2a47a4c93891  issue: ['Anhand eines Testbogens sollen der Lernstand und der Lernfortschritt der Schülerinnen und Schüler der fünften Klasse im Bereich \"Zeichensetzung\" erfasst werden.']  tags: ['Lösung zur Selbstkontrolle für SuS', 'Kommasetzung', 'Zeichensetzung', 'Richtig Schreiben', 'Interpunktion', 'Kennzeichnung des Schlusses von Ganzsätzen', 'Gliederung innerhalb von Ganzsätzen']  class_years: [5]  authors: ['Verena Euler', 'Andreas Reul']  kind: mindItem \n",
      " school_type: ['Gymnasium']  title: Auer Führerscheine Deutsch Klasse 5 Zeichensetzung  publisher: Auer  subtitle: Schnell-Tests zur Erfassung von Lernstand und Lernfortschritt  id: 50464e87b92d2a47a4c93894  issue: ['Anhand eines Testbogens sollen der Lernstand und der Lernfortschritt der Schülerinnen und Schüler der fünften Klasse im Bereich \"Zeichensetzung\" erfasst werden.']  tags: ['Lösung zur Selbstkontrolle für SuS', 'Satzarten', 'Satzzeichen', 'Richtig Schreiben', 'Interpunktion', 'Gliederung innerhalb von Ganzsätzen', 'Kennzeichnung des Schlusses von Ganzsätzen']  class_years: [5]  authors: ['Verena Euler', 'Andreas Reul']  kind: mindItem \n",
      " school_type: ['Gymnasium']  title: Informationen verwerten für einen Bericht  publisher: Auer  subtitle:   id: 50464e87b92d2a47a4c93895  issue: ['Die Schülerinnen und Schüler üben das Erschließen wichtiger Informationen aus einem Text anhand der drei Schritte des Informationensammelns. Die Trennung von Haupt- und Nebeninformationen sowie unterschiedliche farbliche Kennzeichnungen stehen im Vordergrund. Lösungen sind vorhanden.']  tags: ['Lesen', 'Journalistische Texte erkennen und produzieren', 'Produktion von Sachtexten', 'Lesen und Medien', 'Suchen von Informationen in Medien']  class_years: [7, 8]  authors: ['Peter Diepold']  kind: mindItem \n",
      " school_type: ['Grundschule']  title: Artikel, Präpositionen und Nomen - Bd. 1  publisher: Persen  subtitle: Grundlegende Übungen  id: 50464e87b92d2a47a4c93896  issue: ['Übungen zum Wortschatz, zum bestimmten und unbestimmten Artikel, zur Mehrzahlbildung und zur Verwendung von Präpositionen zum Thema Klassenzimmer']  tags: ['DaZ/DaF Material', 'Wortschatz', 'Nomen', 'Präpositionen', 'Artikel']  class_years: [1, 2]  authors: ['Maria Stens']  kind: mindItem \n",
      " school_type: ['Gymnasium']  title: Basics Deutsch Grammatik  publisher: Auer  subtitle: Satzglieder  id: 50464e87b92d2a47a4c93897  issue: ['Die Schülerinnen und Schüler vergegenwärtigen sich grundlegende Aspekte zu Satzgliedern, indem sie eine Merkregel wiederholen und verschiedene Übungen bearbeiten. ']  tags: ['Sprachliche Strukturen und Begriffe auf der Satzebene', 'Sprache und Sprachgebrauch untersuchen', 'Subjekt', 'Satzglieder', 'Der einfache Satz', 'Satzglieder: Ergänzungen']  class_years: [5, 6, 7, 8, 9, 10]  authors: ['Stefan Schäfer']  kind: mindItem \n",
      " school_type: ['Gymnasium']  title: Themenwahl bei einer Erörterung  publisher: Auer  subtitle:   id: 50464e87b92d2a47a4c9389a  issue: ['Die Lösungen zur Themenwahl bei einer Erörterung dienen der Lehrperson oder den Lernenden als Kontrolle. Die Schülerinnen und Schüler werden in den dazugehörigen Übungen schrittweise an die Auswahl von Themen und die Formulierung von Thesen herangeführt.']  tags: ['pragmatisches Schreiben', 'Schreibverfahren', 'Schreiben', 'Lösung für Lehrer', 'Erörterung', 'Argumentieren']  class_years: [9, 10]  authors: ['Peter Diepold']  kind: mindItem \n",
      " school_type: ['Gymnasium']  title: Themenwahl bei einer Erörterung  publisher: Auer  subtitle:   id: 50464e87b92d2a47a4c9389b  issue: ['Die Schülerinnen und Schüler werden durch Übungen schrittweise an die Auswahl von Themen und die Formulierung von Thesen bei einer Erörterung herangeführt. Dabei wird auch der Aufbau eines Kernthemas sowie dessen ein- oder zweigliedrige Bearbeitung behandelt. Lösungen sind vorhanden.']  tags: ['pragmatisches Schreiben', 'Schreiben', 'Schreibverfahren', 'Lösung für Lehrer', 'Lesekompetenz', 'Schreibprozesse initiieren', 'Erörterung', 'Argumentieren']  class_years: [9, 10]  authors: ['Peter Diepold']  kind: mindItem \n",
      " school_type: ['Förderschule']  title: Vom Situationsbild zum Lesen: Frühling  publisher: Persen  subtitle: Differenziertes Übungsmaterial auf Wort-, Satz- und Textebene  id: 50464e87b92d2a47a4c9389d  issue: ['Mit einem Situationsbild zum Thema Frühling - Lisa sucht Ostereier Lesekompetenz entwickeln']  tags: ['Lesekompetenz', 'Bild-Text-Zuordnung', 'Methoden im Unterricht', 'Leseförderung']  class_years: [2, 3, 4]  authors: ['Michael Häußler']  kind: mindItem \n",
      " school_type: ['Förderschule']  title: Vom Situationsbild zum Lesen: Frühling  publisher: Persen  subtitle: Differenziertes Übungsmaterial auf Wort-, Satz- und Textebene  id: 50464e87b92d2a47a4c9389e  issue: ['Mit einem Situationsbild zum Thema Frühling - Lisa sucht Ostereier Lesekompetenz entwickeln']  tags: ['Leseförderung', 'Bild-Text-Zuordnung', 'Lesekompetenz']  class_years: [2, 3, 4]  authors: ['Michael Häußler']  kind: mindItem \n",
      " school_type: ['Förderschule']  title: Vom Situationsbild zum Lesen: Frühling  publisher: Persen  subtitle: Differenziertes Übungsmaterial auf Wort-, Satz- und Textebene  id: 50464e87b92d2a47a4c9389f  issue: ['Mit einem Situationsbild zum Thema Frühling - Lisa sucht Ostereier Lesekompetenz entwickeln']  tags: ['Leseförderung', 'Bildbeschreibung', 'Lesekompetenz']  class_years: [2, 3, 4]  authors: ['Michael Häußler']  kind: mindItem \n",
      " school_type: ['Förderschule']  title: Vom Situationsbild zum Lesen: Frühling  publisher: Persen  subtitle: Differenziertes Übungsmaterial auf Wort-, Satz- und Textebene  id: 50464e87b92d2a47a4c938a0  issue: ['Mit einem Situationsbild zum Thema Frühling - Lisa sucht Ostereier Lesekompetenz entwickeln']  tags: ['Leseförderung', 'Bild-Text-Zuordnung', 'Lesekompetenz']  class_years: [2, 3, 4]  authors: ['Michael Häußler']  kind: mindItem \n",
      " school_type: ['Förderschule']  title: Vom Situationsbild zum Lesen: Frühling  publisher: Persen  subtitle: Differenziertes Übungsmaterial auf Wort-, Satz- und Textebene  id: 50464e87b92d2a47a4c938a1  issue: ['Mit einem Situationsbild zum Thema Frühling - Lisa sucht Ostereier Lesekompetenz entwickeln']  tags: ['Lesekompetenz', 'Leseförderung', 'Methoden im Unterricht']  class_years: [2, 3, 4]  authors: ['Michael Häußler']  kind: mindItem \n",
      " school_type: ['Grundschule']  title: Dehnung mit h  publisher: Auer  subtitle: Übungen zur Behebung eines Rechtschreibproblems  id: 50464e87b92d2a47a4c938a3  issue: ['Schülerinnen und Schüler üben das Rechtschreibphänomen \"Dehungs-h\" anhand eines Gitterrätsels. ']  tags: ['Rechtschreibung', 'Wortschatz', 'Dehnungs-h', 'Richtig Schreiben', 'Laut-Buchstaben-Zuordnung', 'Kennzeichnung der langen Vokale']  class_years: [1, 2, 3, 4]  authors: ['Sibylle Schüller']  kind: mindItem \n",
      " school_type: ['Grundschule']  title: Dehnung mit h  publisher: Auer  subtitle: Übungen zur Behebung eines Rechtschreibproblems  id: 50464e87b92d2a47a4c938a6  issue: ['Schülerinnen und Schüler üben das Rechtschreibphänomen \"Dehungs-h\" anhand von Lernspielen. ']  tags: ['Richtig Schreiben', 'Laut-Buchstaben-Zuordnung', 'Kennzeichnung der langen Vokale']  class_years: [1, 2, 3, 4]  authors: ['Sibylle Schüller']  kind: mindItem \n",
      " school_type: ['Grundschule']  title: Dehnung mit h  publisher: Auer  subtitle: Übungen zur Behebung eines Rechtschreibproblems  id: 50464e87b92d2a47a4c938a7  issue: ['Schülerinnen und Schüler üben das Rechtschreibphänomen \"Dehungs-h\" anhand von Lernspielen.']  tags: ['Wortschatz', 'Rechtschreibung', 'Dehnungs-h', 'Richtig Schreiben', 'Laut-Buchstaben-Zuordnung', 'Kennzeichnung der langen Vokale']  class_years: [1, 2, 3, 4]  authors: ['Sibylle Schüller']  kind: mindItem \n",
      " school_type: ['Gymnasium']  title: Hörkompetenz-Training im Deutschunterricht  publisher: Auer  subtitle: Teil 1  id: 50464e87b92d2a47a4c938ac  issue: ['Schülerinnen und Schüler trainieren das Erfassen von Informationen durch gezieltes Zuhören. Lösungen sind enthalten.']  tags: ['Lösung für Lehrer', 'Sprechen und Zuhören', 'Non-Fiktionale Texte', 'Zuhören', 'Hörkompetenz', 'Zuhören']  class_years: [5, 6]  authors: ['Stefan Schäfer']  kind: mindItem \n",
      " school_type: ['Gymnasium']  title: Die Erörterung  publisher: Auer  subtitle: Ein Leitfaden zum richtigen Schreiben  id: 50464e87b92d2a47a4c938b0  issue: ['Das Arbeitsblatt präsentiert wichtige Satzbausteine zum richtigen Schreiben von Erörterungen.']  tags: ['Funktionales Schreiben', 'Schreibverfahren', 'Schreiben', 'Schreiben', 'Erörternd schreiben', 'Argumentieren']  class_years: [9, 10]  authors: ['Otto Mayr']  kind: mindItem \n",
      " school_type: ['Gymnasium']  title: Auer Führerscheine Deutsch Kl. 5 Rechtschreibung  publisher: Auer  subtitle: Schnell-Tests zur Erfassung von Lernstand und Lernfortschritt  id: 50464e87b92d2a47a4c938b1  issue: ['Anhand eines Testbogens sollen der Lernstand und der Lernfortschritt der Schülerinnen und Schüler der fünften Klasse im Bereich\"Groß- und Kleinschreibung\" sowie Silbentrennung erfasst werden.']  tags: ['Richtig Schreiben', 'Groß- und Kleinschreibung', 'Grundlagen', 'Groß- und Kleinschreibung']  class_years: [5]  authors: ['Verena Euler', 'Andreas Reul']  kind: mindItem \n",
      " school_type: ['Gymnasium']  title: Auer Führerscheine Deutsch Kl. 5 Rechtschreibung  publisher: Auer  subtitle: Schnell-Tests zur Erfassung von Lernstand und Lernfortschritt  id: 50464e87b92d2a47a4c938b2  issue: ['Anhand eines Testbogens sollen der Lernstand und der Lernfortschritt der Schülerinnen und Schüler der fünften Klasse im Bereich \"Laut-Buchstaben-Zuordnung\" erfasst werden.']  tags: ['Anregung und Unterstützung von Rechtschreiblernen', 'Grundlagen', 'Richtig Schreiben', 'Lösung zur Selbstkontrolle für SuS', 'Silbentrennung', 'Rechtschreibung', 'Laut-Buchstaben-Zuordnung']  class_years: [5]  authors: ['Verena Euler', 'Andreas Reul']  kind: mindItem \n",
      " school_type: ['Gymnasium']  title: Auer Führerscheine Deutsch Kl. 5 Rechtschreibung  publisher: Auer  subtitle: Schnell-Tests zur Erfassung von Lernstand und Lernfortschritt  id: 50464e87b92d2a47a4c938b3  issue: ['Anhand eines Testbogens sollen der Lernstand und der Lernfortschritt der Schülerinnen und Schüler der fünften Klasse im Bereich \"Laut-Buchstaben-Zuordnung\" sowie Silbentrennung erfasst werden.']  tags: ['Grundlagen', 'Richtig Schreiben', 'Lösung zur Selbstkontrolle für SuS', 'Silbentrennung', 'Rechtschreibung', 'Anregung und Unterstützung von Rechtschreiblernen', 'Laut-Buchstaben-Zuordnung']  class_years: [5]  authors: ['Verena Euler', 'Andreas Reul']  kind: mindItem \n",
      " school_type: ['Gymnasium']  title: Auer Führerscheine Deutsch Kl. 5 Rechtschreibung  publisher: Auer  subtitle: Schnell-Tests zur Erfassung von Lernstand und Lernfortschritt  id: 50464e87b92d2a47a4c938b4  issue: ['Anhand eines Testbogens sollen der Lernstand und der Lernfortschritt der Schülerinnen und Schüler der fünften Klasse im Bereich \"Laut-Buchstaben-Zuordnung\" erfasst werden.']  tags: ['Lösung zur Selbstkontrolle für SuS', 'Konsonanten', 'Rechtschreibung', 'Richtig Schreiben', 'Laut-Buchstaben-Zuordnung', 'Besonderheiten bei [s]', 'Auslautverhärtung']  class_years: [5]  authors: ['Verena Euler', 'Andreas Reul']  kind: mindItem \n",
      " school_type: ['Gymnasium']  title: Auer Führerscheine Deutsch Kl. 5 Rechtschreibung  publisher: Auer  subtitle: Schnell-Tests zur Erfassung von Lernstand und Lernfortschritt  id: 50464e87b92d2a47a4c938b5  issue: ['Anhand eines Testbogens sollen der Lernstand und der Lernfortschritt der Schülerinnen und Schüler der fünften Klasse im Bereich \"Laut-Buchstaben-Zuordnung\" erfasst werden.']  tags: ['Rechtschreibung', 'Kurzer Vokal', 'Langer Vokal', 'Lösung zur Selbstkontrolle für SuS', 'Richtig Schreiben', 'Laut-Buchstaben-Zuordnung', 'Kennzeichnung der kurzen Vokale', 'Kennzeichnung der langen Vokale']  class_years: [5]  authors: ['Verena Euler', 'Andreas Reul']  kind: mindItem \n",
      " school_type: ['Gymnasium']  title: Auer Führerscheine Deutsch Kl. 5 Rechtschreibung  publisher: Auer  subtitle: Schnell-Tests zur Erfassung von Lernstand und Lernfortschritt  id: 50464e87b92d2a47a4c938b6  issue: ['Anhand eines Testbogens sollen der Lernstand und der Lernfortschritt der Schülerinnen und Schüler der fünften Klasse im Bereich \"Laut-Buchstaben-Zuordnung\" erfasst werden.']  tags: ['Lösung zur Selbstkontrolle für SuS', 'Kurzer Vokal', 'Rechtschreibung', 'Richtig Schreiben', 'Laut-Buchstaben-Zuordnung', 'Kennzeichnung der kurzen Vokale', 'Kennzeichnung der langen Vokale']  class_years: [5]  authors: ['Verena Euler', 'Andreas Reul']  kind: mindItem \n",
      " school_type: ['Gymnasium']  title: Auer Führerscheine Deutsch Kl. 5 Rechtschreibung  publisher: Auer  subtitle: Schnell-Tests zur Erfassung von Lernstand und Lernfortschritt  id: 50464e87b92d2a47a4c938b7  issue: ['Anhand eines Testbogens sollen der Lernstand und der Lernfortschritt der Schülerinnen und Schüler der fünften Klasse im Bereich \"Laut-Buchstaben-Zuordnung\" erfasst werden.']  tags: ['Lösung zur Selbstkontrolle für SuS', 'S-Laute', 'Rechtschreibung', 'Richtig Schreiben', 'Laut-Buchstaben-Zuordnung', 'Kennzeichnung der kurzen Vokale', 'Besonderheiten bei [s]']  class_years: [5]  authors: ['Verena Euler', 'Andreas Reul']  kind: mindItem \n",
      " school_type: ['Gymnasium']  title: Auer Führerscheine Deutsch Klasse 5 Wortkunde  publisher: Auer  subtitle: Schnell-Tests zur Erfassung von Lernstand und Lernfortschritt  id: 50464e87b92d2a47a4c938ba  issue: ['Anhand eines Testbogens sollen der Lernstand und der Lernfortschritt der Schülerinnen und Schüler der fünften Klasse im Bereich \"Wortschatzarbeit\" erfasst werden.']  tags: ['Lösung zur Selbstkontrolle für SuS', 'Wortfamilien', 'Wortfelder', 'Sprache und Sprachgebrauch untersuchen', 'Wortschatzarbeit', 'Wortfeld']  class_years: [5]  authors: ['Verena Euler', 'Andreas Reul']  kind: mindItem \n",
      " school_type: ['Grundschule']  title: Differenziertes Lesetraining  publisher: Persen  subtitle: Antworten auswählen  id: 50464e87b92d2a47a4c938bb  issue: ['Sachtext über die Entwicklung der \"Blue Jeans\" von Lewi Strauß.']  tags: ['Non-Fiktionale Texte', 'Lesen', 'Umgang mit Texten']  class_years: [3, 4]  authors: ['Edmund Wild']  kind: mindItem \n",
      " school_type: ['Grundschule']  title: Differenziertes Lesetraining  publisher: Persen  subtitle: Antworten auswählen  id: 50464e87b92d2a47a4c938bc  issue: ['Sachtext \"Die Sprache der Bienen\" über das Summen und Verhalten von Bienen.']  tags: ['Non-Fiktionale Texte', 'Lesen', 'Umgang mit Texten']  class_years: [3, 4]  authors: ['Edmund Wild']  kind: mindItem \n",
      " school_type: ['Grundschule']  title: Differenziertes Lesetraining  publisher: Persen  subtitle: Antworten auswählen  id: 50464e87b92d2a47a4c938bd  issue: ['Sachtexte genau lesen; mit Multiple-Choice-Verfahren Informationen aus übersichtlich und einfach geschriebenen Texten ziehen: \"Computer aus der Garage\"']  tags: ['Non-Fiktionale Texte', 'Umgang mit Texten', 'Lesekompetenz', 'Leseverstehen', 'Lösung zur Selbstkontrolle für SuS']  class_years: [3, 4]  authors: ['Edmund Wild']  kind: mindItem \n",
      " school_type: ['Grundschule']  title: Differenziertes Lesetraining  publisher: Persen  subtitle: Antworten auswählen  id: 50464e87b92d2a47a4c938be  issue: ['Sachtexte genau lesen; mit Multiple-Choice-Verfahren Informationen aus übersichtlich und einfach geschriebenen Texten ziehen: \"Levi?s Jeans\"']  tags: ['Lesekompetenz', 'Umgang mit Texten', 'Leseverstehen', 'Lesetest', 'Lösung zur Selbstkontrolle für SuS']  class_years: [3, 4]  authors: ['Edmund Wild']  kind: mindItem \n",
      " school_type: ['Grundschule']  title: Differenziertes Lesetraining  publisher: Persen  subtitle: Antworten auswählen  id: 50464e87b92d2a47a4c938c0  issue: ['Sachtexte genau lesen; mit Multiple-Choice-Verfahren Informationen aus übersichtlich und einfach geschriebenen Texten ziehen: \"Die Sprache der Bienen\"']  tags: ['Umgang mit Texten', 'Lesekompetenz', 'Lesetest', 'Leseverstehen', 'Non-Fiktionale Texte']  class_years: [3, 4]  authors: ['Edmund Wild']  kind: mindItem \n",
      " school_type: ['Grundschule']  title: Differenziertes Lesetraining  publisher: Persen  subtitle: Infos umsetzen  id: 50464e87b92d2a47a4c938c1  issue: ['Dieses Lesetraining fordert Schülerinnen und Schüler dazu auf, Informationen aus dem Text graphisch umzusetzen. Ein Lösungsteil ist vorhanden.']  tags: ['Lesen', 'Lösung für Lehrer', 'Lesen', 'Lesetest', 'Leseverstehen', 'Lesekompetenz', 'Erschließung von Texten']  class_years: [3, 4]  authors: ['Edmund Wild']  kind: mindItem \n",
      " school_type: ['Grundschule']  title: Differenziertes Lesetraining  publisher: Persen  subtitle: Infos umsetzen  id: 50464e87b92d2a47a4c938c2  issue: ['Dieses Lesetraining fordert Schülerinnen und Schüler dazu auf, Informationen aus dem Text graphisch umzusetzen. Ein Lösungsteil ist vorhanden.']  tags: ['Lesetest', 'Lesen', 'Lösung für Lehrer', 'Lesen', 'Leseverstehen', 'Lesekompetenz', 'Erschließung von Texten']  class_years: [3, 4]  authors: ['Edmund Wild']  kind: mindItem \n",
      " school_type: ['Grundschule']  title: Differenziertes Lesetraining  publisher: Persen  subtitle: Infos umsetzen  id: 50464e87b92d2a47a4c938c4  issue: ['Dieses Lesetraining fordert Schülerinnen und Schüler dazu auf, Informationen aus einem Text graphisch umzusetzen. Ein Lösungsteil ist vorhanden.']  tags: ['Lösung für Lehrer', 'Lesen', 'Erschließung von Texten', 'Lesen', 'Lesetest', 'Leseverstehen', 'Lesekompetenz']  class_years: [3, 4]  authors: ['Edmund Wild']  kind: mindItem \n",
      " school_type: ['Gymnasium']  title: Klassenarbeiten Deutsch 5  publisher: Auer  subtitle: Wortarten bestimmen  id: 50464e87b92d2a47a4c938c5  issue: ['Dieses Dokument enthält Aufgaben einer Klassenarbeit zu den Wortarten \"Adjektiv\" und \"Verb\". Lösungen sind vorhanden.']  tags: ['Lösung für Lehrer', 'Diktat', 'Wortarten', 'Sprache und Sprachgebrauch untersuchen', 'Wortarten', 'Adjektiv', 'Verb']  class_years: [5]  authors: ['Verena Euler', 'Andreas Reul']  kind: mindItem \n",
      " school_type: ['Gymnasium']  title: Klassenarbeiten Deutsch 5  publisher: Auer  subtitle: Wortarten bestimmen  id: 50464e87b92d2a47a4c938c6  issue: ['Dieses Dokument gliedert sich in einen Diktattext und anschließende Aufgaben zu diversen Wortarten. Ein Einsatz als Klassenarbeit ist möglich. Lösungen sind vorhanden.  ']  tags: ['Sprache und Sprachgebrauch untersuchen', 'Nutzung von Arbeitstechniken', 'Richtig Schreiben', 'Lösung für Lehrer', 'Verben', 'Nomen und Adjektive', 'Wortarten', 'Wortarten']  class_years: [5]  authors: ['Verena Euler', 'Andreas Reul']  kind: mindItem \n",
      " school_type: ['Grundschule']  title: Antworten schreiben  publisher: Persen  subtitle:   id: 50464e87b92d2a47a4c938ca  issue: ['Hierbei handelt es sich um den Lesetext \"Die Quasseltante\".']  tags: ['Literarische Gattungen', 'Kurzgeschichte', 'Epische Kurzformen', 'Literatur', 'Leseverstehen', 'Leseförderung', 'Umgang mit Texten']  class_years: [3, 4]  authors: ['Edmund Wild']  kind: mindItem \n",
      " school_type: ['Grundschule']  title: Antworten schreiben  publisher: Persen  subtitle:   id: 50464e87b92d2a47a4c938cb  issue: ['Es handelt sich um das Märchen \"Der Bauer und der Teufel\".  ']  tags: ['Epische Kurzformen', 'Literarische Gattungen', 'Literatur', 'Lesen', 'Leseförderung', 'Märchen', 'Umgang mit Texten']  class_years: [3, 4]  authors: ['Edmund Wild']  kind: mindItem \n",
      " school_type: ['Grundschule']  title: Antworten schreiben  publisher: Persen  subtitle:   id: 50464e87b92d2a47a4c938cc  issue: ['Zu dem Märchen \"Der Bauer und der Teufel\" sollen die Schülerinnen und Schüler Fragen beantworten, die in unterschiedlichen Formen gestellt werden. Ein Lösungsteil ist vorhanden.']  tags: ['Märchen', 'Leseförderung', 'Lesen', 'Erschließung von Texten', 'Lösung zur Selbstkontrolle für SuS', 'Lesekompetenz', 'Leseverstehen']  class_years: [3, 4]  authors: ['Edmund Wild']  kind: mindItem \n",
      " school_type: ['Grundschule']  title: Antworten schreiben  publisher: Persen  subtitle:   id: 50464e87b92d2a47a4c938ce  issue: ['Zu der Kurzgeschichte \"Die Frösche im Milchtopf\" werden Fragen gestellt und die Schülerinnen und Schüler müssen in ganzen Sätzen oder zu Multiple-Choise antworten. Ein Lösungsteil ist vorhanden.']  tags: ['Erschließung von Texten', 'Lösung zur Selbstkontrolle für SuS', 'Leseförderung', 'Lesen', 'Lesekompetenz', 'Leseverstehen']  class_years: [3, 4]  authors: ['Edmund Wild']  kind: mindItem \n",
      " school_type: ['Grundschule']  title: Text-Bild-Zuordnung  publisher: Persen  subtitle:   id: 50464e87b92d2a47a4c938cf  issue: ['Zu Bildergeschichte \"Max und Moritz - Der zweite Streich\" ordnen die Schülerinnen und Schüler die dazugehörigen Satzteile passend. Danach wird im Multiple-Choice-Format eine Inhaltsfrage gestellt.Ein Lösungsteil ist vorhanden.']  tags: ['Erschließung von Texten', 'Lesen', 'Leseverstehen', 'Lösung zur Selbstkontrolle für SuS', 'Lesetest', 'Leseförderung', 'Bildergeschichte']  class_years: [3, 4]  authors: ['Edmund Wild']  kind: mindItem \n",
      " school_type: ['Grundschule']  title: Text-Bild-Zuordnung  publisher: Persen  subtitle:   id: 50464e87b92d2a47a4c938d0  issue: ['Hierbei handelt es sich um die Bildergeschichte \"Max und Moritz - Der zweite Streich\".']  tags: ['Klassifizierung', 'Visuelle Medien', 'Medien', 'Leseverstehen', 'Leseförderung', 'Bildergeschichte']  class_years: [3, 4]  authors: ['Edmund Wild']  kind: mindItem \n",
      " school_type: ['Grundschule']  title: Text-Bild-Zuordnung  publisher: Persen  subtitle:   id: 50464e87b92d2a47a4c938d1  issue: ['Die Schülerinnen und Schüler sollen Informationen von Bild und Text abgleichen sowie textlogische Entscheidungen treffen. Ein Lösungsteil ist enthalten.']  tags: ['Lösung zur Selbstkontrolle für SuS', 'Leseförderung', 'Leseverstehen', 'Bildergeschichte', 'Lesen', 'Erschließung von Texten']  class_years: [3, 4]  authors: ['Edmund Wild']  kind: mindItem \n",
      " school_type: ['Grundschule']  title: Text-Bild-Zuordnung  publisher: Persen  subtitle:   id: 50464e87b92d2a47a4c938d3  issue: ['Hierbei handelt es sich um eine Bildergeschichte.']  tags: ['Medien', 'Klassifizierung', 'Visuelle Medien', 'Mündliches Erzählen', 'Leseförderung', 'Bildergeschichte']  class_years: [3, 4]  authors: ['Edmund Wild']  kind: mindItem \n",
      " school_type: ['Grundschule']  title: Differenziertes Lesetraining  publisher: Persen  subtitle: Synonyme finden  id: 50464e87b92d2a47a4c938d4  issue: ['Zu dem differenzierten Lesetraining \"Wenn das falsche Handy klingelt\" sollen Synonyme gefunden und Multiple-Choice-Fragen beantwortet werden. Ein Lösungsteil ist vorhanden.']  tags: ['Erschließung von Texten', 'Lesen', 'Lösung zur Selbstkontrolle für SuS', 'Lesekompetenz', 'Leseförderung', 'Wortfelder', 'Wortschatz']  class_years: [3, 4]  authors: ['Edmund Wild']  kind: mindItem \n",
      " school_type: ['Grundschule']  title: Differenziertes Lesetraining  publisher: Persen  subtitle: Synonyme finden  id: 50464e87b92d2a47a4c938d5  issue: ['Bei diesem differenzierten Lesetraining sollen Synonyme zu \"Der vorsichtige Träumer\" nach Johann Peter Hebel gefunden werden. Ein Lösungsteil ist vorhanden.']  tags: ['Lesen', 'Lösung zur Selbstkontrolle für SuS', 'Lesekompetenz', 'Wortfelder', 'Leseförderung', 'Wortschatz', 'Erschließung von Texten']  class_years: [3, 4]  authors: ['Edmund Wild']  kind: mindItem \n",
      " school_type: ['Grundschule']  title: Differenziertes Lesetraining  publisher: Persen  subtitle: Synonyme finden  id: 50464e87b92d2a47a4c938d7  issue: ['Bei diesem differenzierten Lesetraining sollen Synonyme zu Erich Kästners \"Fantasie\" gefunden werden. Ein Lösungsteil ist vorhanden.']  tags: ['Erschließung von Texten', 'Wortfelder', 'Lesen', 'Lösung zur Selbstkontrolle für SuS', 'Lesekompetenz', 'Leseförderung', 'Wortschatz']  class_years: [3, 4]  authors: ['Edmund Wild']  kind: mindItem \n",
      " school_type: ['Grundschule']  title: Prüfen - Üben - Prüfen mit der Deutschfahrschule 2  publisher: Auer  subtitle: Grammatik - Artikel  id: 50464e87b92d2a47a4c938d8  issue: ['In diversen Übungen setzen sich die Schülerinnen und Schüler mit der korrekten Verwendung des unbestimmten Artikels auseinander. Dabei wird getrennt voneinander auf die Genera eingegangen. Lösungen sind enthalten.']  tags: ['Sprachliche Strukturen und Begriffe auf der Wortebene', 'Sprache und Sprachgebrauch untersuchen', 'Lösung für Lehrer', 'Artikel', 'Wortarten', 'Unbestimmte Artikel', 'Wortarten', 'Artikel']  class_years: [2]  authors: ['Martina Knipp']  kind: mindItem \n",
      " school_type: ['Grundschule']  title: Prüfen - Üben - Prüfen mit der Deutschfahrschule 2  publisher: Auer  subtitle: Grammatik - Artikel  id: 50464e87b92d2a47a4c938d9  issue: ['In je drei Aufgaben setzen sich die Schülerinnen und Schüler mit dem bestimmten Artikel auseinander. Dabei wird getrennt voneinander auf die drei Genera eingegangen. Lösungen sind enthalten.']  tags: ['Sprachliche Strukturen und Begriffe auf der Wortebene', 'Sprache und Sprachgebrauch untersuchen', 'Wortarten', 'Lösung für Lehrer', 'Bestimmte Artikel', 'Artikel', 'Wortarten', 'Artikel']  class_years: [2]  authors: ['Martina Knipp']  kind: mindItem \n",
      " school_type: ['Grundschule']  title: Prüfen - Üben - Prüfen mit der Deutschfahrschule 2  publisher: Auer  subtitle: Grammatik - Artikel  id: 50464e87b92d2a47a4c938da  issue: ['In dem Vortest beantworten die Schülerinnen und Schüler die Aufgaben, indem sie bestimmte bzw. unbestimmte Artikel vor Bilder oder Wörter setzen. Lösungen sind am Rand abgebildet.']  tags: ['Wortarten', 'Sprachliche Strukturen und Begriffe auf der Wortebene', 'Sprache und Sprachgebrauch untersuchen', 'Artikel', 'Artikel']  class_years: [2]  authors: ['Martina Knipp']  kind: mindItem \n",
      " school_type: ['Grundschule']  title: Prüfen - Üben - Prüfen mit der Deutschfahrschule 2  publisher: Auer  subtitle: Grammatik - Artikel  id: 50464e87b92d2a47a4c938db  issue: ['Das Dokument enthält das Deckblatt für den Führerschein sowie die Vorlagen für die einzelnen Kompetenzbereiche. Die Gestaltung als Führerschein soll vor allem die Motivation der Schülerinnen und Schüler fördern.']  tags: ['Grundlagen', 'Sprache und Sprachgebrauch untersuchen', 'Methoden im Unterricht', 'Leseführerschein', 'Anregung und Unterstützung von Sprachreflexion']  class_years: [2]  authors: ['Martina Knipp']  kind: mindItem \n",
      " school_type: ['Grundschule']  title: Prüfen - Üben - Prüfen mit der Deutschfahrschule 2  publisher: Auer  subtitle: Grammatik - Artikel  id: 50464e87b92d2a47a4c938dc  issue: ['Die Einleitung erläutert die Vorgehensweise bei Vortest, Übungen und Führerscheintest zum Thema Grammatik. Die Gestaltung als Führerschein soll vor allem die Motivation der Schülerinnen und Schüler fördern.']  tags: ['Sprache und Sprachgebrauch untersuchen', 'Grundlagen', 'Anregung und Unterstützung von Sprachreflexion']  class_years: [2]  authors: ['Martina Knipp']  kind: mindItem \n",
      " school_type: ['Grundschule']  title: Differenziertes Lesetraining  publisher: Persen  subtitle: Welches Bild passt?  id: 50464e87b92d2a47a4c938df  issue: ['Differenziertes Lesetraining: Passendes Bild zu Text suchen: Fahrerflucht im Oldtimer']  tags: ['Textverständnis', 'Lesekompetenz']  class_years: [3, 4]  authors: ['Edmund Wild']  kind: mindItem \n",
      " school_type: ['Grundschule']  title: Differenziertes Lesetraining  publisher: Persen  subtitle: Welches Bild passt?  id: 50464e87b92d2a47a4c938e0  issue: ['Differenziertes Lesetraining: Passendes Bild zu Text suchen: Diebstahl in der Turnhalle']  tags: ['Textverständnis', 'Lesekompetenz']  class_years: [3, 4]  authors: ['Edmund Wild']  kind: mindItem \n",
      " school_type: ['Grundschule']  title: Differenziertes Lesetraining  publisher: Persen  subtitle: Welches Bild passt?  id: 50464e87b92d2a47a4c938e2  issue: ['Differenziertes Lesetraining: Passendes Bild zu Text suchen: Obstsalat']  tags: ['Lösung zur Selbstkontrolle für SuS', 'Leseverstehen', 'Lesekompetenz', 'Leseförderung']  class_years: [3, 4]  authors: ['Edmund Wild']  kind: mindItem \n",
      " school_type: ['Grundschule']  title: Differenziertes Lesetraining  publisher: Persen  subtitle: Fehler finden  id: 50464e87b92d2a47a4c938e3  issue: ['Differenziertes Lesetraining: Fehler in Aussagen zu Text finden: Frankfurt']  tags: ['Lösung zur Selbstkontrolle für SuS', 'Leseverstehen', 'Leseförderung', 'Lesekompetenz']  class_years: [3, 4]  authors: ['Edmund Wild']  kind: mindItem \n",
      " school_type: ['Grundschule']  title: Differenziertes Lesetraining  publisher: Persen  subtitle: Fehler finden  id: 50464e87b92d2a47a4c938e4  issue: ['Differenziertes Lesetraining: Fehler in Aussagen zu Text finden: Der Rabe und der Fuchs']  tags: ['Lösung zur Selbstkontrolle für SuS', 'Lesekompetenz', 'Leseverstehen', 'Leseförderung']  class_years: [3, 4]  authors: ['Edmund Wild']  kind: mindItem \n",
      " school_type: ['Grundschule']  title: Differenziertes Lesetraining  publisher: Persen  subtitle: Fehler finden  id: 50464e87b92d2a47a4c938e6  issue: ['Differenziertes Lesetraining: Fehler in Aussagen zu Text finden: Die Bücher']  tags: ['Lösung zur Selbstkontrolle für SuS', 'Lesekompetenz', 'Leseverstehen', 'Leseförderung']  class_years: [3, 4]  authors: ['Edmund Wild']  kind: mindItem \n",
      " school_type: ['Grundschule']  title: Prüfen - Üben - Prüfen mit der Deutschfahrschule 2  publisher: Auer  subtitle: Rechtschreibung  id: 50464e87b92d2a47a4c938e7  issue: ['In einem Vortest sollen zu Bildern passende Wörter geschrieben werden. Zudem sind Buchstaben in Wörtern bzw. Wörter in Sätzen zu ergänzen. Geübt werden die Phänomene [ck], [d], Doppelkonsonanten und [tz]. Lösungen sind enthalten. ']  tags: ['Richtig Schreiben', 'Laut-Buchstaben-Zuordnung', 'Kennzeichnung der kurzen Vokale', 'Leseförderung', 'Lösung zur Selbstkontrolle für SuS', 'Rechtschreibung', 'Auslautverhärtung']  class_years: [2]  authors: ['Martina Knipp']  kind: mindItem \n",
      " school_type: ['Grundschule']  title: Prüfen - Üben - Prüfen mit der Deutschfahrschule 2  publisher: Auer  subtitle: Rechtschreibung  id: 50464e87b92d2a47a4c938e8  issue: ['Die Schülerinnen und Schüler setzen sich mit [ck] auseinander. Dabei schreiben sie Sätze zu Bildern, identifizieren [ck] in Sätzen sowie Texten und finden Wörtern, in denen diese Buchstabenkombination vorkommt. Lösungen sind vorhanden.']  tags: ['Laut-Buchstaben-Zuordnung', 'Richtig Schreiben', 'Lösung für Lehrer', 'Reime', 'Rechtschreibung', 'Doppelkonsonanten', 'Kennzeichnung der kurzen Vokale']  class_years: [2]  authors: ['Martina Knipp']  kind: mindItem \n",
      " school_type: ['Grundschule']  title: Prüfen - Üben - Prüfen mit der Deutschfahrschule 2  publisher: Auer  subtitle: Rechtschreibung  id: 50464e87b92d2a47a4c938e9  issue: ['Die Schülerinnen und Schüler setzen sich mit der Schreibung von Doppelkonsonanten auseinander. Dabei identifizieren sie diese und verfassen einen Text dazu. Außerdem werden Reimwörter gebildet. Lösungen sind enthalten.']  tags: ['Kennzeichnung der kurzen Vokale', 'Laut-Buchstaben-Zuordnung', 'Richtig Schreiben', 'Lösung für Lehrer', 'Reime', 'Rechtschreibung', 'Doppelkonsonanten']  class_years: [2]  authors: ['Martina Knipp']  kind: mindItem \n",
      " school_type: ['Grundschule']  title: Prüfen - Üben - Prüfen mit der Deutschfahrschule 2  publisher: Auer  subtitle: Rechtschreibung  id: 50464e87b92d2a47a4c938ea  issue: ['Anhand verschiedener Aufgaben setzen sich die Schülerinnen und Schüler mit der Schreibung von [nd] auseinander. Dabei wird ihnen auch eine Strategie mit an die Hand gegeben. Lösungen sind enthalten.']  tags: ['Auslautverhärtung', 'Laut-Buchstaben-Zuordnung', 'Richtig Schreiben']  class_years: [2]  authors: ['Martina Knipp']  kind: mindItem \n",
      " school_type: ['Grundschule']  title: Prüfen - Üben - Prüfen mit der Deutschfahrschule 2  publisher: Auer  subtitle: Rechtschreibung  id: 50464e88b92d2a47a4c938eb  issue: ['Die Schülerinnen und Schüler bilden Reimwörter, ergänzen Sätze und setzen sich so mit der Schreibung von [tz] auseinander. Lösungen sind vorhanden.']  tags: ['Kennzeichnung der kurzen Vokale', 'Laut-Buchstaben-Zuordnung', 'Richtig Schreiben']  class_years: [2]  authors: ['Martina Knipp']  kind: mindItem \n",
      " school_type: ['Grundschule']  title: Prüfen - Üben - Prüfen mit der Deutschfahrschule 2  publisher: Auer  subtitle: Rechtschreibung  id: 50464e88b92d2a47a4c938ec  issue: ['In dem Führerscheintest können die Schülerinnen und Schüler ihre Kenntnisse zu [ck], [nd], Doppelkonsonanten und [tz] überprüfen. Lösungen sind enthalten.']  tags: ['Kennzeichnung der kurzen Vokale', 'Auslautverhärtung', 'Laut-Buchstaben-Zuordnung', 'Richtig Schreiben']  class_years: [2]  authors: ['Martina Knipp']  kind: mindItem \n",
      " school_type: ['Grundschule']  title: Prüfen - Üben - Prüfen mit der Deutschfahrschule 2  publisher: Auer  subtitle: Rechtschreibung  id: 50464e88b92d2a47a4c938ed  issue: ['In einem Vor- und einem Führerscheintest überprüfen die Schülerinnen und Schüler ihren Lernstand. Dabei werden die Phänomene [ck], [nd], Doppelkonsonanten und [tz] behandelt. Um die Motivation aufrechtzuerhalten, ist die Vorlage für einen Führerschein beigelegt, der den Kindern nach der Bearbeitung ausgestellt werden kann.']  tags: ['Kennzeichnung der kurzen Vokale', 'Laut-Buchstaben-Zuordnung', 'Richtig Schreiben', 'Doppelkonsonanten', 'Lösung zur Selbstkontrolle für SuS', 'Wörter mit tz/z', 'Wörter mit ck/k', 'Rechtschreibung', 'Auslautverhärtung']  class_years: [2]  authors: ['Martina Knipp']  kind: mindItem \n",
      " school_type: ['Grundschule']  title: Differenziertes Lesetraining: Texte kürzen  publisher: Persen  subtitle:   id: 50464e88b92d2a47a4c938ee  issue: ['Text kürzen, den Unterschied zwischen Information und Redundanz erkennen und zu Lesekompetenz gelangen']  tags: ['Lösung zur Selbstkontrolle für SuS', 'Leseverstehen', 'Lesekompetenz', 'Leseförderung']  class_years: [3, 4]  authors: ['Edmund Wild']  kind: mindItem \n",
      " school_type: ['Grundschule']  title: Differenziertes Lesetraining: Texte kürzen  publisher: Persen  subtitle:   id: 50464e88b92d2a47a4c938ef  issue: ['Text kürzen, den Unterschied zwischen Information und Redundanz erkennen und zu Lesekompetenz gelangen']  tags: ['Lösung zur Selbstkontrolle für SuS', 'Leseverstehen', 'Lesekompetenz', 'Leseförderung']  class_years: [3, 4]  authors: ['Edmund Wild']  kind: mindItem \n",
      " school_type: ['Grundschule']  title: Differenziertes Lesetraining: Texte kürzen  publisher: Persen  subtitle:   id: 50464e88b92d2a47a4c938f1  issue: ['Text kürzen, den Unterschied zwischen Information und Redundanz erkennen und zu Lesekompetenz gelangen']  tags: ['Lösung zur Selbstkontrolle für SuS', 'Lesekompetenz', 'Leseverstehen', 'Leseförderung']  class_years: [3, 4]  authors: ['Edmund Wild']  kind: mindItem \n",
      " school_type: ['Grundschule']  title: Differenziertes Lesetraining: Textzeilen ordnen  publisher: Persen  subtitle:   id: 50464e88b92d2a47a4c938f2  issue: ['Mit Fabeltext an das Thema Textzeilenordnung heranführen und textlogischen Zusammenhänge vermitteln']  tags: ['Lösung zur Selbstkontrolle für SuS', 'Leseverstehen', 'Lesekompetenz', 'Leseförderung']  class_years: [3, 4]  authors: ['Edmund Wild']  kind: mindItem \n",
      " school_type: ['Grundschule']  title: Differenziertes Lesetraining: Textzeilen ordnen  publisher: Persen  subtitle:   id: 50464e88b92d2a47a4c938f3  issue: ['Mit Fabeltext an das Thema Textzeilenordnung heranführen und textlogischen Zusammenhänge vermitteln']  tags: ['Lösung zur Selbstkontrolle für SuS', 'Lesekompetenz', 'Leseförderung', 'Leseverstehen']  class_years: [3, 4]  authors: ['Edmund Wild']  kind: mindItem \n",
      " school_type: ['Grundschule']  title: Differenziertes Lesetraining: Textzeilen ordnen  publisher: Persen  subtitle:   id: 50464e88b92d2a47a4c938f5  issue: ['Mit Fabeltext an das Thema Textzeilenordnung heranführen und textlogischen Zusammenhänge vermitteln']  tags: ['Lösung zur Selbstkontrolle für SuS', 'Leseverstehen', 'Leseförderung', 'Lesekompetenz']  class_years: [3, 4]  authors: ['Edmund Wild']  kind: mindItem \n",
      " school_type: ['Grundschule']  title: Differenziertes Lesetraining: Aussagen prüfen  publisher: Persen  subtitle:   id: 50464e88b92d2a47a4c938f6  issue: ['Vermittlung an Hand einer Geschichte, wie Schüler Aussagen prüfen können und dadurch komplexe Schlussfolgerungen ziehen']  tags: ['Lösung zur Selbstkontrolle für SuS', 'Lesekompetenz', 'Leseförderung', 'Leseverstehen']  class_years: [3, 4]  authors: ['Edmund Wild']  kind: mindItem \n",
      " school_type: ['Grundschule']  title: Differenziertes Lesetraining: Aussagen prüfen  publisher: Persen  subtitle:   id: 50464e88b92d2a47a4c938f8  issue: ['Vermittlung an Hand einer Fabel, wie Schüler Aussagen prüfen können und dadurch komplexe Schlussfolgerungen ziehen']  tags: ['Leseverstehen', 'Leseförderung', 'Lesekompetenz', 'Lösung zur Selbstkontrolle für SuS']  class_years: [3, 4]  authors: ['Edmund Wild']  kind: mindItem \n",
      " school_type: ['Gymnasium']  title: Klassenarbeiten Deutsch 5  publisher: Auer  subtitle: Texte schreiben und verstehen  id: 50464e88b92d2a47a4c938f9  issue: ['Die Schülerinnen und Schüler schreiben auf Basis eines Märchenausschnitts das Märchen weiter. Merkmale der Gattung werden ebenso erfragt. Ein Lösungsvorschlag ist enthalten.']  tags: ['Schreiben', 'Schreibprozesse initiieren', 'Lesekompetenz', 'Gattungsmerkmale', 'Märchen', 'Schreibverfahren', 'Kreatives Schreiben', 'Literarische Texte als Schreibanregung']  class_years: [5]  authors: ['Verena Euler', 'Andreas Reul']  kind: mindItem \n",
      " school_type: ['Gymnasium']  title: Klassenarbeiten Deutsch 5  publisher: Auer  subtitle: Texte schreiben und verstehen  id: 50464e88b92d2a47a4c938fa  issue: ['Die Klassenarbeit thematisiert das Verstehen von Märchen und Sagen. Die Schülerinnen und Schüler beantworten inhaltliche Fragen zum Text sowie zu den Merkmalen der Gattung. Lösungsvorschläge sind enthalten.']  tags: ['Märchen', 'Analyse fiktionaler Texte', 'Leseverstehen', 'Lesekompetenz', 'Epik', 'Lesen', 'Erschließung von Texten']  class_years: [5]  authors: ['Verena Euler', 'Andreas Reul']  kind: mindItem \n",
      " school_type: ['Grundschule']  title: Differenziertes Lesetraining: Logicals  publisher: Persen  subtitle:   id: 50464e88b92d2a47a4c938fb  issue: ['Leseinhalte prüfen und bewerten, Textanalyse durchführen und Informationen beim Lesen strukturieren']  tags: ['Lösung zur Selbstkontrolle für SuS', 'Lesekompetenz', 'Leseförderung', 'Leseverstehen']  class_years: [3, 4]  authors: ['Edmund Wild']  kind: mindItem \n",
      " school_type: ['Grundschule']  title: Differenziertes Lesetraining: Logicals  publisher: Persen  subtitle:   id: 50464e88b92d2a47a4c938fc  issue: ['Leseinhalte prüfen und bewerten, Textanalyse durchführen und Informationen beim Lesen strukturieren']  tags: ['Lösung zur Selbstkontrolle für SuS', 'Lesekompetenz', 'Leseförderung', 'Leseverstehen']  class_years: [3, 4]  authors: ['Edmund Wild']  kind: mindItem \n",
      " school_type: ['Grundschule']  title: Differenziertes Lesetraining: Logicals  publisher: Persen  subtitle:   id: 50464e88b92d2a47a4c938fe  issue: ['Leseinhalte prüfen und bewerten, Textanalyse durchführen und Informationen beim Lesen strukturieren']  tags: ['Lösung zur Selbstkontrolle für SuS', 'Leseverstehen', 'Lesekompetenz', 'Leseförderung']  class_years: [3, 4]  authors: ['Edmund Wild']  kind: mindItem \n",
      " school_type: ['Grundschule']  title: Prüfen - Üben - Prüfen mit der Deutschfahrschule 2  publisher: Auer  subtitle: Lesekompetenz- Wörter, Sätze, kleine Texte  id: 50464e88b92d2a47a4c938ff  issue: ['In dem Führerscheintest überprüfen die Schülerinnen und Schüler das Lesen von Wörtern, Sätzen und kurzen Texten. Dabei sollen in Sätzen unsinnige Wörter (\"Stolperwörter\") durchgestrichen sowie inhaltliche Fragen zu einem Text bzw. zu einzelnen Sätzen beantwortet werden. ']  tags: ['Lesen', 'Erschließung von Texten', 'Lösung für Lehrer', 'Leseführerschein', 'Leseverstehen', 'Leseförderung', 'Lesekompetenz']  class_years: [2]  authors: ['Martina Knipp']  kind: mindItem \n",
      " school_type: ['Grundschule']  title: Prüfen - Üben - Prüfen mit der Deutschfahrschule 2  publisher: Auer  subtitle: Lesekompetenz- Wörter, Sätze, kleine Texte  id: 50464e88b92d2a47a4c93900  issue: ['Die Schülerinnen und Schüler trainieren das Lesen kurzer Texte und beantworten dazu inhaltliche Fragen. Ein Lösungsteil ist enthalten.']  tags: ['Lösung für Lehrer', 'Leseführerschein', 'Lesekompetenz', 'Leseverstehen', 'Leseförderung', 'Lesen', 'Erschließung von Texten']  class_years: [2]  authors: ['Martina Knipp']  kind: mindItem \n",
      "got 100 documents\n"
     ]
    }
   ],
   "source": [
    "worker.process_document_data()"
   ]
  },
  {
   "cell_type": "code",
   "execution_count": 5,
   "metadata": {
    "collapsed": false
   },
   "outputs": [
    {
     "data": {
      "text/plain": [
       "100"
      ]
     },
     "execution_count": 5,
     "metadata": {},
     "output_type": "execute_result"
    }
   ],
   "source": [
    "len(worker.documents)"
   ]
  },
  {
   "cell_type": "code",
   "execution_count": 6,
   "metadata": {
    "collapsed": true
   },
   "outputs": [],
   "source": [
    "docs = worker.documents"
   ]
  },
  {
   "cell_type": "code",
   "execution_count": 7,
   "metadata": {
    "collapsed": false
   },
   "outputs": [],
   "source": [
    "tag_list = worker.get_document_tags()"
   ]
  },
  {
   "cell_type": "code",
   "execution_count": 8,
   "metadata": {
    "collapsed": false
   },
   "outputs": [],
   "source": [
    "schools = worker.get_school_types()"
   ]
  },
  {
   "cell_type": "code",
   "execution_count": 9,
   "metadata": {
    "collapsed": false
   },
   "outputs": [
    {
     "name": "stdout",
     "output_type": "stream",
     "text": [
      " school_type: ['Grundschule']  title: Dehnung mit h  publisher: Auer  subtitle: Übungen zur Behebung eines Rechtschreibproblems  id: 50464e87b92d2a47a4c938a3  issue: ['Schülerinnen und Schüler üben das Rechtschreibphänomen \"Dehungs-h\" anhand eines Gitterrätsels. ']  tags: ['Rechtschreibung', 'Wortschatz', 'Dehnungs-h', 'Richtig Schreiben', 'Laut-Buchstaben-Zuordnung', 'Kennzeichnung der langen Vokale']  class_years: [1, 2, 3, 4]  authors: ['Sibylle Schüller']  kind: mindItem \n"
     ]
    }
   ],
   "source": [
    "print(docs[33])"
   ]
  },
  {
   "cell_type": "code",
   "execution_count": 10,
   "metadata": {
    "collapsed": false
   },
   "outputs": [
    {
     "data": {
      "text/plain": [
       "{'Förderschule': 3, 'Grundschule': 2, 'Gymnasium': 1}"
      ]
     },
     "execution_count": 10,
     "metadata": {},
     "output_type": "execute_result"
    }
   ],
   "source": [
    "schools"
   ]
  },
  {
   "cell_type": "code",
   "execution_count": 11,
   "metadata": {
    "collapsed": false
   },
   "outputs": [],
   "source": [
    "doc_matrix = worker.build_document_matrix()"
   ]
  },
  {
   "cell_type": "code",
   "execution_count": 12,
   "metadata": {
    "collapsed": false
   },
   "outputs": [
    {
     "data": {
      "text/plain": [
       "[{'class_year': 10,\n",
       "  'id': '50464e87b92d2a47a4c93852',\n",
       "  'school': 1,\n",
       "  'tags': 'Sprachliche Strukturen und Begriffe auf der Satzebene Sprache und Sprachgebrauch untersuchen Lösung für Lehrer Adverbiale Bestimmungen Satzglieder Der einfache Satz Satzglieder: Angaben'},\n",
       " {'class_year': 10,\n",
       "  'id': '50464e87b92d2a47a4c93853',\n",
       "  'school': 1,\n",
       "  'tags': 'Sprache und Sprachgebrauch untersuchen Lösung für Lehrer Prädikat Satzglieder Sprachliche Strukturen und Begriffe auf der Satzebene Der einfache Satz'},\n",
       " {'class_year': 10,\n",
       "  'id': '50464e87b92d2a47a4c93854',\n",
       "  'school': 1,\n",
       "  'tags': 'Sprache und Sprachgebrauch untersuchen Lösung für Lehrer Objekte Satzglieder Sprachliche Strukturen und Begriffe auf der Satzebene Der einfache Satz Satzglieder: Ergänzungen'},\n",
       " {'class_year': 3,\n",
       "  'id': '50464e87b92d2a47a4c9385a',\n",
       "  'school': 2,\n",
       "  'tags': 'Lösung für Lehrer Adjektive Wortarten Stationenlernen Grammatik Sprache und Sprachgebrauch untersuchen Sprachliche Strukturen und Begriffe auf der Wortebene Wortarten Adjektiv'},\n",
       " {'class_year': 10,\n",
       "  'id': '50464e87b92d2a47a4c9385d',\n",
       "  'school': 1,\n",
       "  'tags': 'Präpositionen und Konjunktionen Wortarten Sprache und Sprachgebrauch untersuchen Wortarten Konjunktion und Subjunktion'},\n",
       " {'class_year': 10,\n",
       "  'id': '50464e87b92d2a47a4c9385e',\n",
       "  'school': 1,\n",
       "  'tags': 'Promomen Wortarten Grammatik Sprache und Sprachgebrauch untersuchen Wortarten Pronomen'},\n",
       " {'class_year': 10,\n",
       "  'id': '50464e87b92d2a47a4c9385f',\n",
       "  'school': 1,\n",
       "  'tags': 'Nomen und Adjektive Wortarten Grammatik Sprache und Sprachgebrauch untersuchen Wortarten Substantiv Adjektiv'},\n",
       " {'class_year': 10,\n",
       "  'id': '50464e87b92d2a47a4c93860',\n",
       "  'school': 1,\n",
       "  'tags': 'Sprache und Sprachgebrauch untersuchen Adverbien Wortarten Grammatik Wortarten Adverb'},\n",
       " {'class_year': 10,\n",
       "  'id': '50464e87b92d2a47a4c93861',\n",
       "  'school': 1,\n",
       "  'tags': 'Verben Wortarten Grammatik Sprache und Sprachgebrauch untersuchen Wortarten Verb'},\n",
       " {'class_year': 8,\n",
       "  'id': '50464e87b92d2a47a4c93863',\n",
       "  'school': 1,\n",
       "  'tags': 'Non-Fiktionale Texte'},\n",
       " {'class_year': 8,\n",
       "  'id': '50464e87b92d2a47a4c93868',\n",
       "  'school': 1,\n",
       "  'tags': 'Kreatives Schreiben Schreibverfahren Kreativ schreiben Schreiben nach visuellen Vorlagen'},\n",
       " {'class_year': 1,\n",
       "  'id': '50464e87b92d2a47a4c9386e',\n",
       "  'school': 2,\n",
       "  'tags': 'Wortbildung Zuhören Reden Sprachbewusstsein'},\n",
       " {'class_year': 2,\n",
       "  'id': '50464e87b92d2a47a4c93875',\n",
       "  'school': 2,\n",
       "  'tags': 'DaZ/DaF Material Pluralformen Nomen Wortschatz Artikel Präpositionen'},\n",
       " {'class_year': 8,\n",
       "  'id': '50464e87b92d2a47a4c9387e',\n",
       "  'school': 1,\n",
       "  'tags': 'Schreibverfahren pragmatisches Schreiben Schreiben Lösung für Lehrer Sprache Berichte schreiben Berichten'},\n",
       " {'class_year': 8,\n",
       "  'id': '50464e87b92d2a47a4c93883',\n",
       "  'school': 1,\n",
       "  'tags': 'Schreibverfahren Schreiben Produktion von Sachtexten Berichte schreiben pragmatisches Schreiben Berichten'},\n",
       " {'class_year': 8,\n",
       "  'id': '50464e87b92d2a47a4c93884',\n",
       "  'school': 1,\n",
       "  'tags': 'Schreibverfahren pragmatisches Schreiben Schreiben Lösung für Lehrer Produktion von Sachtexten Berichte schreiben Berichten'},\n",
       " {'class_year': 8,\n",
       "  'id': '50464e87b92d2a47a4c93885',\n",
       "  'school': 1,\n",
       "  'tags': 'pragmatisches Schreiben Schreiben Schreibverfahren Lösung für Lehrer Produktion von Sachtexten Berichte schreiben Berichten'},\n",
       " {'class_year': 5,\n",
       "  'id': '50464e87b92d2a47a4c9388b',\n",
       "  'school': 1,\n",
       "  'tags': 'Verb Wortarten Sprache und Sprachgebrauch untersuchen Lösung zur Selbstkontrolle für SuS Zeitformen Tempus Futur I'},\n",
       " {'class_year': 5,\n",
       "  'id': '50464e87b92d2a47a4c9388d',\n",
       "  'school': 1,\n",
       "  'tags': 'Wortarten Sprache und Sprachgebrauch untersuchen Lösung zur Selbstkontrolle für SuS Tempus Präteritum Verb'},\n",
       " {'class_year': 5,\n",
       "  'id': '50464e87b92d2a47a4c9388f',\n",
       "  'school': 1,\n",
       "  'tags': 'Kommasetzung Wörtliche Rede Zeichensetzung Satzarten Lösung zur Selbstkontrolle für SuS Richtig Schreiben Interpunktion'},\n",
       " {'class_year': 5,\n",
       "  'id': '50464e87b92d2a47a4c93890',\n",
       "  'school': 1,\n",
       "  'tags': 'Lösung zur Selbstkontrolle für SuS Wörtliche Rede Zeichensetzung Richtig Schreiben Interpunktion Anführungszeichen'},\n",
       " {'class_year': 5,\n",
       "  'id': '50464e87b92d2a47a4c93891',\n",
       "  'school': 1,\n",
       "  'tags': 'Lösung zur Selbstkontrolle für SuS Kommasetzung Zeichensetzung Richtig Schreiben Interpunktion Kennzeichnung des Schlusses von Ganzsätzen Gliederung innerhalb von Ganzsätzen'},\n",
       " {'class_year': 5,\n",
       "  'id': '50464e87b92d2a47a4c93894',\n",
       "  'school': 1,\n",
       "  'tags': 'Lösung zur Selbstkontrolle für SuS Satzarten Satzzeichen Richtig Schreiben Interpunktion Gliederung innerhalb von Ganzsätzen Kennzeichnung des Schlusses von Ganzsätzen'},\n",
       " {'class_year': 8,\n",
       "  'id': '50464e87b92d2a47a4c93895',\n",
       "  'school': 1,\n",
       "  'tags': 'Lesen Journalistische Texte erkennen und produzieren Produktion von Sachtexten Lesen und Medien Suchen von Informationen in Medien'},\n",
       " {'class_year': 2,\n",
       "  'id': '50464e87b92d2a47a4c93896',\n",
       "  'school': 2,\n",
       "  'tags': 'DaZ/DaF Material Wortschatz Nomen Präpositionen Artikel'},\n",
       " {'class_year': 10,\n",
       "  'id': '50464e87b92d2a47a4c93897',\n",
       "  'school': 1,\n",
       "  'tags': 'Sprachliche Strukturen und Begriffe auf der Satzebene Sprache und Sprachgebrauch untersuchen Subjekt Satzglieder Der einfache Satz Satzglieder: Ergänzungen'},\n",
       " {'class_year': 10,\n",
       "  'id': '50464e87b92d2a47a4c9389a',\n",
       "  'school': 1,\n",
       "  'tags': 'pragmatisches Schreiben Schreibverfahren Schreiben Lösung für Lehrer Erörterung Argumentieren'},\n",
       " {'class_year': 10,\n",
       "  'id': '50464e87b92d2a47a4c9389b',\n",
       "  'school': 1,\n",
       "  'tags': 'pragmatisches Schreiben Schreiben Schreibverfahren Lösung für Lehrer Lesekompetenz Schreibprozesse initiieren Erörterung Argumentieren'},\n",
       " {'class_year': 4,\n",
       "  'id': '50464e87b92d2a47a4c9389d',\n",
       "  'school': 3,\n",
       "  'tags': 'Lesekompetenz Bild-Text-Zuordnung Methoden im Unterricht Leseförderung'},\n",
       " {'class_year': 4,\n",
       "  'id': '50464e87b92d2a47a4c9389e',\n",
       "  'school': 3,\n",
       "  'tags': 'Leseförderung Bild-Text-Zuordnung Lesekompetenz'},\n",
       " {'class_year': 4,\n",
       "  'id': '50464e87b92d2a47a4c9389f',\n",
       "  'school': 3,\n",
       "  'tags': 'Leseförderung Bildbeschreibung Lesekompetenz'},\n",
       " {'class_year': 4,\n",
       "  'id': '50464e87b92d2a47a4c938a0',\n",
       "  'school': 3,\n",
       "  'tags': 'Leseförderung Bild-Text-Zuordnung Lesekompetenz'},\n",
       " {'class_year': 4,\n",
       "  'id': '50464e87b92d2a47a4c938a1',\n",
       "  'school': 3,\n",
       "  'tags': 'Lesekompetenz Leseförderung Methoden im Unterricht'},\n",
       " {'class_year': 4,\n",
       "  'id': '50464e87b92d2a47a4c938a3',\n",
       "  'school': 2,\n",
       "  'tags': 'Rechtschreibung Wortschatz Dehnungs-h Richtig Schreiben Laut-Buchstaben-Zuordnung Kennzeichnung der langen Vokale'},\n",
       " {'class_year': 4,\n",
       "  'id': '50464e87b92d2a47a4c938a6',\n",
       "  'school': 2,\n",
       "  'tags': 'Richtig Schreiben Laut-Buchstaben-Zuordnung Kennzeichnung der langen Vokale'},\n",
       " {'class_year': 4,\n",
       "  'id': '50464e87b92d2a47a4c938a7',\n",
       "  'school': 2,\n",
       "  'tags': 'Wortschatz Rechtschreibung Dehnungs-h Richtig Schreiben Laut-Buchstaben-Zuordnung Kennzeichnung der langen Vokale'},\n",
       " {'class_year': 6,\n",
       "  'id': '50464e87b92d2a47a4c938ac',\n",
       "  'school': 1,\n",
       "  'tags': 'Lösung für Lehrer Sprechen und Zuhören Non-Fiktionale Texte Zuhören Hörkompetenz Zuhören'},\n",
       " {'class_year': 10,\n",
       "  'id': '50464e87b92d2a47a4c938b0',\n",
       "  'school': 1,\n",
       "  'tags': 'Funktionales Schreiben Schreibverfahren Schreiben Schreiben Erörternd schreiben Argumentieren'},\n",
       " {'class_year': 5,\n",
       "  'id': '50464e87b92d2a47a4c938b1',\n",
       "  'school': 1,\n",
       "  'tags': 'Richtig Schreiben Groß- und Kleinschreibung Grundlagen Groß- und Kleinschreibung'},\n",
       " {'class_year': 5,\n",
       "  'id': '50464e87b92d2a47a4c938b2',\n",
       "  'school': 1,\n",
       "  'tags': 'Anregung und Unterstützung von Rechtschreiblernen Grundlagen Richtig Schreiben Lösung zur Selbstkontrolle für SuS Silbentrennung Rechtschreibung Laut-Buchstaben-Zuordnung'},\n",
       " {'class_year': 5,\n",
       "  'id': '50464e87b92d2a47a4c938b3',\n",
       "  'school': 1,\n",
       "  'tags': 'Grundlagen Richtig Schreiben Lösung zur Selbstkontrolle für SuS Silbentrennung Rechtschreibung Anregung und Unterstützung von Rechtschreiblernen Laut-Buchstaben-Zuordnung'},\n",
       " {'class_year': 5,\n",
       "  'id': '50464e87b92d2a47a4c938b4',\n",
       "  'school': 1,\n",
       "  'tags': 'Lösung zur Selbstkontrolle für SuS Konsonanten Rechtschreibung Richtig Schreiben Laut-Buchstaben-Zuordnung Besonderheiten bei [s] Auslautverhärtung'},\n",
       " {'class_year': 5,\n",
       "  'id': '50464e87b92d2a47a4c938b5',\n",
       "  'school': 1,\n",
       "  'tags': 'Rechtschreibung Kurzer Vokal Langer Vokal Lösung zur Selbstkontrolle für SuS Richtig Schreiben Laut-Buchstaben-Zuordnung Kennzeichnung der kurzen Vokale Kennzeichnung der langen Vokale'},\n",
       " {'class_year': 5,\n",
       "  'id': '50464e87b92d2a47a4c938b6',\n",
       "  'school': 1,\n",
       "  'tags': 'Lösung zur Selbstkontrolle für SuS Kurzer Vokal Rechtschreibung Richtig Schreiben Laut-Buchstaben-Zuordnung Kennzeichnung der kurzen Vokale Kennzeichnung der langen Vokale'},\n",
       " {'class_year': 5,\n",
       "  'id': '50464e87b92d2a47a4c938b7',\n",
       "  'school': 1,\n",
       "  'tags': 'Lösung zur Selbstkontrolle für SuS S-Laute Rechtschreibung Richtig Schreiben Laut-Buchstaben-Zuordnung Kennzeichnung der kurzen Vokale Besonderheiten bei [s]'},\n",
       " {'class_year': 5,\n",
       "  'id': '50464e87b92d2a47a4c938ba',\n",
       "  'school': 1,\n",
       "  'tags': 'Lösung zur Selbstkontrolle für SuS Wortfamilien Wortfelder Sprache und Sprachgebrauch untersuchen Wortschatzarbeit Wortfeld'},\n",
       " {'class_year': 4,\n",
       "  'id': '50464e87b92d2a47a4c938bb',\n",
       "  'school': 2,\n",
       "  'tags': 'Non-Fiktionale Texte Lesen Umgang mit Texten'},\n",
       " {'class_year': 4,\n",
       "  'id': '50464e87b92d2a47a4c938bc',\n",
       "  'school': 2,\n",
       "  'tags': 'Non-Fiktionale Texte Lesen Umgang mit Texten'},\n",
       " {'class_year': 4,\n",
       "  'id': '50464e87b92d2a47a4c938bd',\n",
       "  'school': 2,\n",
       "  'tags': 'Non-Fiktionale Texte Umgang mit Texten Lesekompetenz Leseverstehen Lösung zur Selbstkontrolle für SuS'},\n",
       " {'class_year': 4,\n",
       "  'id': '50464e87b92d2a47a4c938be',\n",
       "  'school': 2,\n",
       "  'tags': 'Lesekompetenz Umgang mit Texten Leseverstehen Lesetest Lösung zur Selbstkontrolle für SuS'},\n",
       " {'class_year': 4,\n",
       "  'id': '50464e87b92d2a47a4c938c0',\n",
       "  'school': 2,\n",
       "  'tags': 'Umgang mit Texten Lesekompetenz Lesetest Leseverstehen Non-Fiktionale Texte'},\n",
       " {'class_year': 4,\n",
       "  'id': '50464e87b92d2a47a4c938c1',\n",
       "  'school': 2,\n",
       "  'tags': 'Lesen Lösung für Lehrer Lesen Lesetest Leseverstehen Lesekompetenz Erschließung von Texten'},\n",
       " {'class_year': 4,\n",
       "  'id': '50464e87b92d2a47a4c938c2',\n",
       "  'school': 2,\n",
       "  'tags': 'Lesetest Lesen Lösung für Lehrer Lesen Leseverstehen Lesekompetenz Erschließung von Texten'},\n",
       " {'class_year': 4,\n",
       "  'id': '50464e87b92d2a47a4c938c4',\n",
       "  'school': 2,\n",
       "  'tags': 'Lösung für Lehrer Lesen Erschließung von Texten Lesen Lesetest Leseverstehen Lesekompetenz'},\n",
       " {'class_year': 5,\n",
       "  'id': '50464e87b92d2a47a4c938c5',\n",
       "  'school': 1,\n",
       "  'tags': 'Lösung für Lehrer Diktat Wortarten Sprache und Sprachgebrauch untersuchen Wortarten Adjektiv Verb'},\n",
       " {'class_year': 5,\n",
       "  'id': '50464e87b92d2a47a4c938c6',\n",
       "  'school': 1,\n",
       "  'tags': 'Sprache und Sprachgebrauch untersuchen Nutzung von Arbeitstechniken Richtig Schreiben Lösung für Lehrer Verben Nomen und Adjektive Wortarten Wortarten'},\n",
       " {'class_year': 4,\n",
       "  'id': '50464e87b92d2a47a4c938ca',\n",
       "  'school': 2,\n",
       "  'tags': 'Literarische Gattungen Kurzgeschichte Epische Kurzformen Literatur Leseverstehen Leseförderung Umgang mit Texten'},\n",
       " {'class_year': 4,\n",
       "  'id': '50464e87b92d2a47a4c938cb',\n",
       "  'school': 2,\n",
       "  'tags': 'Epische Kurzformen Literarische Gattungen Literatur Lesen Leseförderung Märchen Umgang mit Texten'},\n",
       " {'class_year': 4,\n",
       "  'id': '50464e87b92d2a47a4c938cc',\n",
       "  'school': 2,\n",
       "  'tags': 'Märchen Leseförderung Lesen Erschließung von Texten Lösung zur Selbstkontrolle für SuS Lesekompetenz Leseverstehen'},\n",
       " {'class_year': 4,\n",
       "  'id': '50464e87b92d2a47a4c938ce',\n",
       "  'school': 2,\n",
       "  'tags': 'Erschließung von Texten Lösung zur Selbstkontrolle für SuS Leseförderung Lesen Lesekompetenz Leseverstehen'},\n",
       " {'class_year': 4,\n",
       "  'id': '50464e87b92d2a47a4c938cf',\n",
       "  'school': 2,\n",
       "  'tags': 'Erschließung von Texten Lesen Leseverstehen Lösung zur Selbstkontrolle für SuS Lesetest Leseförderung Bildergeschichte'},\n",
       " {'class_year': 4,\n",
       "  'id': '50464e87b92d2a47a4c938d0',\n",
       "  'school': 2,\n",
       "  'tags': 'Klassifizierung Visuelle Medien Medien Leseverstehen Leseförderung Bildergeschichte'},\n",
       " {'class_year': 4,\n",
       "  'id': '50464e87b92d2a47a4c938d1',\n",
       "  'school': 2,\n",
       "  'tags': 'Lösung zur Selbstkontrolle für SuS Leseförderung Leseverstehen Bildergeschichte Lesen Erschließung von Texten'},\n",
       " {'class_year': 4,\n",
       "  'id': '50464e87b92d2a47a4c938d3',\n",
       "  'school': 2,\n",
       "  'tags': 'Medien Klassifizierung Visuelle Medien Mündliches Erzählen Leseförderung Bildergeschichte'},\n",
       " {'class_year': 4,\n",
       "  'id': '50464e87b92d2a47a4c938d4',\n",
       "  'school': 2,\n",
       "  'tags': 'Erschließung von Texten Lesen Lösung zur Selbstkontrolle für SuS Lesekompetenz Leseförderung Wortfelder Wortschatz'},\n",
       " {'class_year': 4,\n",
       "  'id': '50464e87b92d2a47a4c938d5',\n",
       "  'school': 2,\n",
       "  'tags': 'Lesen Lösung zur Selbstkontrolle für SuS Lesekompetenz Wortfelder Leseförderung Wortschatz Erschließung von Texten'},\n",
       " {'class_year': 4,\n",
       "  'id': '50464e87b92d2a47a4c938d7',\n",
       "  'school': 2,\n",
       "  'tags': 'Erschließung von Texten Wortfelder Lesen Lösung zur Selbstkontrolle für SuS Lesekompetenz Leseförderung Wortschatz'},\n",
       " {'class_year': 2,\n",
       "  'id': '50464e87b92d2a47a4c938d8',\n",
       "  'school': 2,\n",
       "  'tags': 'Sprachliche Strukturen und Begriffe auf der Wortebene Sprache und Sprachgebrauch untersuchen Lösung für Lehrer Artikel Wortarten Unbestimmte Artikel Wortarten Artikel'},\n",
       " {'class_year': 2,\n",
       "  'id': '50464e87b92d2a47a4c938d9',\n",
       "  'school': 2,\n",
       "  'tags': 'Sprachliche Strukturen und Begriffe auf der Wortebene Sprache und Sprachgebrauch untersuchen Wortarten Lösung für Lehrer Bestimmte Artikel Artikel Wortarten Artikel'},\n",
       " {'class_year': 2,\n",
       "  'id': '50464e87b92d2a47a4c938da',\n",
       "  'school': 2,\n",
       "  'tags': 'Wortarten Sprachliche Strukturen und Begriffe auf der Wortebene Sprache und Sprachgebrauch untersuchen Artikel Artikel'},\n",
       " {'class_year': 2,\n",
       "  'id': '50464e87b92d2a47a4c938db',\n",
       "  'school': 2,\n",
       "  'tags': 'Grundlagen Sprache und Sprachgebrauch untersuchen Methoden im Unterricht Leseführerschein Anregung und Unterstützung von Sprachreflexion'},\n",
       " {'class_year': 2,\n",
       "  'id': '50464e87b92d2a47a4c938dc',\n",
       "  'school': 2,\n",
       "  'tags': 'Sprache und Sprachgebrauch untersuchen Grundlagen Anregung und Unterstützung von Sprachreflexion'},\n",
       " {'class_year': 4,\n",
       "  'id': '50464e87b92d2a47a4c938df',\n",
       "  'school': 2,\n",
       "  'tags': 'Textverständnis Lesekompetenz'},\n",
       " {'class_year': 4,\n",
       "  'id': '50464e87b92d2a47a4c938e0',\n",
       "  'school': 2,\n",
       "  'tags': 'Textverständnis Lesekompetenz'},\n",
       " {'class_year': 4,\n",
       "  'id': '50464e87b92d2a47a4c938e2',\n",
       "  'school': 2,\n",
       "  'tags': 'Lösung zur Selbstkontrolle für SuS Leseverstehen Lesekompetenz Leseförderung'},\n",
       " {'class_year': 4,\n",
       "  'id': '50464e87b92d2a47a4c938e3',\n",
       "  'school': 2,\n",
       "  'tags': 'Lösung zur Selbstkontrolle für SuS Leseverstehen Leseförderung Lesekompetenz'},\n",
       " {'class_year': 4,\n",
       "  'id': '50464e87b92d2a47a4c938e4',\n",
       "  'school': 2,\n",
       "  'tags': 'Lösung zur Selbstkontrolle für SuS Lesekompetenz Leseverstehen Leseförderung'},\n",
       " {'class_year': 4,\n",
       "  'id': '50464e87b92d2a47a4c938e6',\n",
       "  'school': 2,\n",
       "  'tags': 'Lösung zur Selbstkontrolle für SuS Lesekompetenz Leseverstehen Leseförderung'},\n",
       " {'class_year': 2,\n",
       "  'id': '50464e87b92d2a47a4c938e7',\n",
       "  'school': 2,\n",
       "  'tags': 'Richtig Schreiben Laut-Buchstaben-Zuordnung Kennzeichnung der kurzen Vokale Leseförderung Lösung zur Selbstkontrolle für SuS Rechtschreibung Auslautverhärtung'},\n",
       " {'class_year': 2,\n",
       "  'id': '50464e87b92d2a47a4c938e8',\n",
       "  'school': 2,\n",
       "  'tags': 'Laut-Buchstaben-Zuordnung Richtig Schreiben Lösung für Lehrer Reime Rechtschreibung Doppelkonsonanten Kennzeichnung der kurzen Vokale'},\n",
       " {'class_year': 2,\n",
       "  'id': '50464e87b92d2a47a4c938e9',\n",
       "  'school': 2,\n",
       "  'tags': 'Kennzeichnung der kurzen Vokale Laut-Buchstaben-Zuordnung Richtig Schreiben Lösung für Lehrer Reime Rechtschreibung Doppelkonsonanten'},\n",
       " {'class_year': 2,\n",
       "  'id': '50464e87b92d2a47a4c938ea',\n",
       "  'school': 2,\n",
       "  'tags': 'Auslautverhärtung Laut-Buchstaben-Zuordnung Richtig Schreiben'},\n",
       " {'class_year': 2,\n",
       "  'id': '50464e88b92d2a47a4c938eb',\n",
       "  'school': 2,\n",
       "  'tags': 'Kennzeichnung der kurzen Vokale Laut-Buchstaben-Zuordnung Richtig Schreiben'},\n",
       " {'class_year': 2,\n",
       "  'id': '50464e88b92d2a47a4c938ec',\n",
       "  'school': 2,\n",
       "  'tags': 'Kennzeichnung der kurzen Vokale Auslautverhärtung Laut-Buchstaben-Zuordnung Richtig Schreiben'},\n",
       " {'class_year': 2,\n",
       "  'id': '50464e88b92d2a47a4c938ed',\n",
       "  'school': 2,\n",
       "  'tags': 'Kennzeichnung der kurzen Vokale Laut-Buchstaben-Zuordnung Richtig Schreiben Doppelkonsonanten Lösung zur Selbstkontrolle für SuS Wörter mit tz/z Wörter mit ck/k Rechtschreibung Auslautverhärtung'},\n",
       " {'class_year': 4,\n",
       "  'id': '50464e88b92d2a47a4c938ee',\n",
       "  'school': 2,\n",
       "  'tags': 'Lösung zur Selbstkontrolle für SuS Leseverstehen Lesekompetenz Leseförderung'},\n",
       " {'class_year': 4,\n",
       "  'id': '50464e88b92d2a47a4c938ef',\n",
       "  'school': 2,\n",
       "  'tags': 'Lösung zur Selbstkontrolle für SuS Leseverstehen Lesekompetenz Leseförderung'},\n",
       " {'class_year': 4,\n",
       "  'id': '50464e88b92d2a47a4c938f1',\n",
       "  'school': 2,\n",
       "  'tags': 'Lösung zur Selbstkontrolle für SuS Lesekompetenz Leseverstehen Leseförderung'},\n",
       " {'class_year': 4,\n",
       "  'id': '50464e88b92d2a47a4c938f2',\n",
       "  'school': 2,\n",
       "  'tags': 'Lösung zur Selbstkontrolle für SuS Leseverstehen Lesekompetenz Leseförderung'},\n",
       " {'class_year': 4,\n",
       "  'id': '50464e88b92d2a47a4c938f3',\n",
       "  'school': 2,\n",
       "  'tags': 'Lösung zur Selbstkontrolle für SuS Lesekompetenz Leseförderung Leseverstehen'},\n",
       " {'class_year': 4,\n",
       "  'id': '50464e88b92d2a47a4c938f5',\n",
       "  'school': 2,\n",
       "  'tags': 'Lösung zur Selbstkontrolle für SuS Leseverstehen Leseförderung Lesekompetenz'},\n",
       " {'class_year': 4,\n",
       "  'id': '50464e88b92d2a47a4c938f6',\n",
       "  'school': 2,\n",
       "  'tags': 'Lösung zur Selbstkontrolle für SuS Lesekompetenz Leseförderung Leseverstehen'},\n",
       " {'class_year': 4,\n",
       "  'id': '50464e88b92d2a47a4c938f8',\n",
       "  'school': 2,\n",
       "  'tags': 'Leseverstehen Leseförderung Lesekompetenz Lösung zur Selbstkontrolle für SuS'},\n",
       " {'class_year': 5,\n",
       "  'id': '50464e88b92d2a47a4c938f9',\n",
       "  'school': 1,\n",
       "  'tags': 'Schreiben Schreibprozesse initiieren Lesekompetenz Gattungsmerkmale Märchen Schreibverfahren Kreatives Schreiben Literarische Texte als Schreibanregung'},\n",
       " {'class_year': 5,\n",
       "  'id': '50464e88b92d2a47a4c938fa',\n",
       "  'school': 1,\n",
       "  'tags': 'Märchen Analyse fiktionaler Texte Leseverstehen Lesekompetenz Epik Lesen Erschließung von Texten'},\n",
       " {'class_year': 4,\n",
       "  'id': '50464e88b92d2a47a4c938fb',\n",
       "  'school': 2,\n",
       "  'tags': 'Lösung zur Selbstkontrolle für SuS Lesekompetenz Leseförderung Leseverstehen'},\n",
       " {'class_year': 4,\n",
       "  'id': '50464e88b92d2a47a4c938fc',\n",
       "  'school': 2,\n",
       "  'tags': 'Lösung zur Selbstkontrolle für SuS Lesekompetenz Leseförderung Leseverstehen'},\n",
       " {'class_year': 4,\n",
       "  'id': '50464e88b92d2a47a4c938fe',\n",
       "  'school': 2,\n",
       "  'tags': 'Lösung zur Selbstkontrolle für SuS Leseverstehen Lesekompetenz Leseförderung'},\n",
       " {'class_year': 2,\n",
       "  'id': '50464e88b92d2a47a4c938ff',\n",
       "  'school': 2,\n",
       "  'tags': 'Lesen Erschließung von Texten Lösung für Lehrer Leseführerschein Leseverstehen Leseförderung Lesekompetenz'},\n",
       " {'class_year': 2,\n",
       "  'id': '50464e88b92d2a47a4c93900',\n",
       "  'school': 2,\n",
       "  'tags': 'Lösung für Lehrer Leseführerschein Lesekompetenz Leseverstehen Leseförderung Lesen Erschließung von Texten'}]"
      ]
     },
     "execution_count": 12,
     "metadata": {},
     "output_type": "execute_result"
    }
   ],
   "source": [
    "doc_matrix"
   ]
  },
  {
   "cell_type": "code",
   "execution_count": null,
   "metadata": {
    "collapsed": true
   },
   "outputs": [],
   "source": []
  },
  {
   "cell_type": "code",
   "execution_count": null,
   "metadata": {
    "collapsed": true
   },
   "outputs": [],
   "source": []
  },
  {
   "cell_type": "code",
   "execution_count": null,
   "metadata": {
    "collapsed": true
   },
   "outputs": [],
   "source": []
  },
  {
   "cell_type": "code",
   "execution_count": null,
   "metadata": {
    "collapsed": true
   },
   "outputs": [],
   "source": []
  },
  {
   "cell_type": "code",
   "execution_count": null,
   "metadata": {
    "collapsed": true
   },
   "outputs": [],
   "source": []
  },
  {
   "cell_type": "code",
   "execution_count": null,
   "metadata": {
    "collapsed": true
   },
   "outputs": [],
   "source": []
  },
  {
   "cell_type": "code",
   "execution_count": null,
   "metadata": {
    "collapsed": true
   },
   "outputs": [],
   "source": []
  },
  {
   "cell_type": "code",
   "execution_count": null,
   "metadata": {
    "collapsed": false
   },
   "outputs": [],
   "source": []
  },
  {
   "cell_type": "code",
   "execution_count": null,
   "metadata": {
    "collapsed": true
   },
   "outputs": [],
   "source": []
  },
  {
   "cell_type": "code",
   "execution_count": null,
   "metadata": {
    "collapsed": true
   },
   "outputs": [],
   "source": []
  },
  {
   "cell_type": "code",
   "execution_count": null,
   "metadata": {
    "collapsed": true
   },
   "outputs": [],
   "source": []
  },
  {
   "cell_type": "code",
   "execution_count": null,
   "metadata": {
    "collapsed": true
   },
   "outputs": [],
   "source": []
  },
  {
   "cell_type": "code",
   "execution_count": null,
   "metadata": {
    "collapsed": false
   },
   "outputs": [],
   "source": []
  },
  {
   "cell_type": "code",
   "execution_count": null,
   "metadata": {
    "collapsed": true
   },
   "outputs": [],
   "source": []
  },
  {
   "cell_type": "code",
   "execution_count": null,
   "metadata": {
    "collapsed": true
   },
   "outputs": [],
   "source": []
  },
  {
   "cell_type": "code",
   "execution_count": null,
   "metadata": {
    "collapsed": true
   },
   "outputs": [],
   "source": []
  },
  {
   "cell_type": "code",
   "execution_count": null,
   "metadata": {
    "collapsed": true
   },
   "outputs": [],
   "source": []
  },
  {
   "cell_type": "code",
   "execution_count": null,
   "metadata": {
    "collapsed": true
   },
   "outputs": [],
   "source": []
  },
  {
   "cell_type": "code",
   "execution_count": null,
   "metadata": {
    "collapsed": true
   },
   "outputs": [],
   "source": []
  },
  {
   "cell_type": "code",
   "execution_count": null,
   "metadata": {
    "collapsed": true
   },
   "outputs": [],
   "source": []
  },
  {
   "cell_type": "code",
   "execution_count": null,
   "metadata": {
    "collapsed": true
   },
   "outputs": [],
   "source": []
  },
  {
   "cell_type": "code",
   "execution_count": null,
   "metadata": {
    "collapsed": true
   },
   "outputs": [],
   "source": []
  },
  {
   "cell_type": "code",
   "execution_count": null,
   "metadata": {
    "collapsed": true
   },
   "outputs": [],
   "source": []
  },
  {
   "cell_type": "code",
   "execution_count": null,
   "metadata": {
    "collapsed": true
   },
   "outputs": [],
   "source": []
  },
  {
   "cell_type": "code",
   "execution_count": null,
   "metadata": {
    "collapsed": true
   },
   "outputs": [],
   "source": []
  },
  {
   "cell_type": "code",
   "execution_count": null,
   "metadata": {
    "collapsed": true
   },
   "outputs": [],
   "source": []
  },
  {
   "cell_type": "code",
   "execution_count": null,
   "metadata": {
    "collapsed": true
   },
   "outputs": [],
   "source": []
  },
  {
   "cell_type": "code",
   "execution_count": null,
   "metadata": {
    "collapsed": true
   },
   "outputs": [],
   "source": []
  },
  {
   "cell_type": "code",
   "execution_count": null,
   "metadata": {
    "collapsed": true
   },
   "outputs": [],
   "source": []
  },
  {
   "cell_type": "code",
   "execution_count": null,
   "metadata": {
    "collapsed": true
   },
   "outputs": [],
   "source": []
  },
  {
   "cell_type": "code",
   "execution_count": null,
   "metadata": {
    "collapsed": true
   },
   "outputs": [],
   "source": []
  },
  {
   "cell_type": "code",
   "execution_count": null,
   "metadata": {
    "collapsed": true
   },
   "outputs": [],
   "source": []
  },
  {
   "cell_type": "code",
   "execution_count": null,
   "metadata": {
    "collapsed": true
   },
   "outputs": [],
   "source": []
  },
  {
   "cell_type": "code",
   "execution_count": null,
   "metadata": {
    "collapsed": true
   },
   "outputs": [],
   "source": []
  },
  {
   "cell_type": "code",
   "execution_count": null,
   "metadata": {
    "collapsed": true
   },
   "outputs": [],
   "source": []
  },
  {
   "cell_type": "code",
   "execution_count": null,
   "metadata": {
    "collapsed": true
   },
   "outputs": [],
   "source": []
  },
  {
   "cell_type": "code",
   "execution_count": null,
   "metadata": {
    "collapsed": true
   },
   "outputs": [],
   "source": []
  },
  {
   "cell_type": "code",
   "execution_count": null,
   "metadata": {
    "collapsed": true
   },
   "outputs": [],
   "source": []
  },
  {
   "cell_type": "code",
   "execution_count": null,
   "metadata": {
    "collapsed": true
   },
   "outputs": [],
   "source": []
  },
  {
   "cell_type": "code",
   "execution_count": null,
   "metadata": {
    "collapsed": true
   },
   "outputs": [],
   "source": []
  },
  {
   "cell_type": "code",
   "execution_count": null,
   "metadata": {
    "collapsed": true
   },
   "outputs": [],
   "source": []
  },
  {
   "cell_type": "code",
   "execution_count": null,
   "metadata": {
    "collapsed": true
   },
   "outputs": [],
   "source": []
  },
  {
   "cell_type": "code",
   "execution_count": null,
   "metadata": {
    "collapsed": true
   },
   "outputs": [],
   "source": []
  },
  {
   "cell_type": "code",
   "execution_count": null,
   "metadata": {
    "collapsed": true
   },
   "outputs": [],
   "source": []
  },
  {
   "cell_type": "code",
   "execution_count": null,
   "metadata": {
    "collapsed": true
   },
   "outputs": [],
   "source": []
  },
  {
   "cell_type": "code",
   "execution_count": null,
   "metadata": {
    "collapsed": true
   },
   "outputs": [],
   "source": []
  },
  {
   "cell_type": "code",
   "execution_count": null,
   "metadata": {
    "collapsed": true
   },
   "outputs": [],
   "source": []
  },
  {
   "cell_type": "code",
   "execution_count": null,
   "metadata": {
    "collapsed": true
   },
   "outputs": [],
   "source": []
  },
  {
   "cell_type": "code",
   "execution_count": null,
   "metadata": {
    "collapsed": true
   },
   "outputs": [],
   "source": []
  },
  {
   "cell_type": "code",
   "execution_count": null,
   "metadata": {
    "collapsed": true
   },
   "outputs": [],
   "source": []
  },
  {
   "cell_type": "code",
   "execution_count": null,
   "metadata": {
    "collapsed": true
   },
   "outputs": [],
   "source": []
  },
  {
   "cell_type": "code",
   "execution_count": null,
   "metadata": {
    "collapsed": false
   },
   "outputs": [],
   "source": []
  },
  {
   "cell_type": "code",
   "execution_count": null,
   "metadata": {
    "collapsed": false
   },
   "outputs": [],
   "source": []
  },
  {
   "cell_type": "code",
   "execution_count": null,
   "metadata": {
    "collapsed": true
   },
   "outputs": [],
   "source": []
  },
  {
   "cell_type": "code",
   "execution_count": null,
   "metadata": {
    "collapsed": false
   },
   "outputs": [],
   "source": []
  },
  {
   "cell_type": "code",
   "execution_count": null,
   "metadata": {
    "collapsed": false
   },
   "outputs": [],
   "source": []
  },
  {
   "cell_type": "code",
   "execution_count": null,
   "metadata": {
    "collapsed": false
   },
   "outputs": [],
   "source": []
  },
  {
   "cell_type": "code",
   "execution_count": null,
   "metadata": {
    "collapsed": false
   },
   "outputs": [],
   "source": []
  },
  {
   "cell_type": "code",
   "execution_count": null,
   "metadata": {
    "collapsed": false
   },
   "outputs": [],
   "source": []
  },
  {
   "cell_type": "code",
   "execution_count": null,
   "metadata": {
    "collapsed": false
   },
   "outputs": [],
   "source": []
  },
  {
   "cell_type": "code",
   "execution_count": null,
   "metadata": {
    "collapsed": false
   },
   "outputs": [],
   "source": []
  },
  {
   "cell_type": "code",
   "execution_count": null,
   "metadata": {
    "collapsed": false
   },
   "outputs": [],
   "source": []
  },
  {
   "cell_type": "code",
   "execution_count": null,
   "metadata": {
    "collapsed": false
   },
   "outputs": [],
   "source": []
  }
 ],
 "metadata": {
  "kernelspec": {
   "display_name": "Python 3",
   "language": "python",
   "name": "python3"
  },
  "language_info": {
   "codemirror_mode": {
    "name": "ipython",
    "version": 3
   },
   "file_extension": ".py",
   "mimetype": "text/x-python",
   "name": "python",
   "nbconvert_exporter": "python",
   "pygments_lexer": "ipython3",
   "version": "3.4.3"
  }
 },
 "nbformat": 4,
 "nbformat_minor": 0
}
